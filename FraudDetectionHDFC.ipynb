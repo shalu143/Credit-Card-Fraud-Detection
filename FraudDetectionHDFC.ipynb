{
 "cells": [
  {
   "cell_type": "code",
   "execution_count": 1,
   "id": "6462f2c2",
   "metadata": {},
   "outputs": [],
   "source": [
    "# Importing Libraries\n",
    "import pandas as pd\n",
    "import numpy as np\n",
    "import matplotlib.pyplot as plt\n",
    "%matplotlib inline\n",
    "import seaborn as sns\n",
    "\n",
    "\n",
    "from sklearn.model_selection import train_test_split\n",
    "from sklearn import metrics\n",
    "from sklearn.preprocessing import StandardScaler\n",
    "from sklearn.preprocessing import PowerTransformer\n",
    "\n",
    "from sklearn.model_selection import KFold\n",
    "from sklearn.model_selection import GridSearchCV\n",
    "from sklearn.linear_model import LogisticRegression\n",
    "from sklearn.tree import DecisionTreeClassifier\n",
    "from xgboost import XGBClassifier\n",
    "\n",
    "from sklearn.metrics import roc_curve, roc_auc_score\n",
    "from sklearn.metrics import f1_score, classification_report\n",
    "\n",
    "from sklearn.ensemble import RandomForestClassifier\n",
    "from sklearn.preprocessing import OneHotEncoder"
   ]
  },
  {
   "cell_type": "code",
   "execution_count": 2,
   "id": "2644f290",
   "metadata": {},
   "outputs": [],
   "source": [
    "df = pd.read_csv(r\"C:\\Users\\Acer\\Desktop\\HDFC_Internship\\DATA\\Fraud_Data_Final.csv\")"
   ]
  },
  {
   "cell_type": "code",
   "execution_count": 3,
   "id": "ce4b42f6",
   "metadata": {},
   "outputs": [
    {
     "data": {
      "text/plain": [
       "(73385, 9)"
      ]
     },
     "execution_count": 3,
     "metadata": {},
     "output_type": "execute_result"
    }
   ],
   "source": [
    "df.shape"
   ]
  },
  {
   "cell_type": "code",
   "execution_count": 4,
   "id": "26db45ef",
   "metadata": {},
   "outputs": [
    {
     "data": {
      "text/plain": [
       "660465"
      ]
     },
     "execution_count": 4,
     "metadata": {},
     "output_type": "execute_result"
    }
   ],
   "source": [
    "df.size"
   ]
  },
  {
   "cell_type": "code",
   "execution_count": 5,
   "id": "b3c609f5",
   "metadata": {},
   "outputs": [
    {
     "data": {
      "text/html": [
       "<div>\n",
       "<style scoped>\n",
       "    .dataframe tbody tr th:only-of-type {\n",
       "        vertical-align: middle;\n",
       "    }\n",
       "\n",
       "    .dataframe tbody tr th {\n",
       "        vertical-align: top;\n",
       "    }\n",
       "\n",
       "    .dataframe thead th {\n",
       "        text-align: right;\n",
       "    }\n",
       "</style>\n",
       "<table border=\"1\" class=\"dataframe\">\n",
       "  <thead>\n",
       "    <tr style=\"text-align: right;\">\n",
       "      <th></th>\n",
       "      <th>SERIAL NUMBER</th>\n",
       "      <th>TRANSACTION_ID</th>\n",
       "      <th>DATETIME</th>\n",
       "      <th>CUSTOMER_ID</th>\n",
       "      <th>TYPE of TRANSACTION</th>\n",
       "      <th>TRASCATION AMOUNT</th>\n",
       "      <th>TIME_SECONDS</th>\n",
       "      <th>DAYS_SINCE_FIRST_TRANSACTION</th>\n",
       "      <th>FRAUD</th>\n",
       "    </tr>\n",
       "  </thead>\n",
       "  <tbody>\n",
       "    <tr>\n",
       "      <th>0</th>\n",
       "      <td>0</td>\n",
       "      <td>1653444</td>\n",
       "      <td>2018-09-20 11:49:41</td>\n",
       "      <td>0</td>\n",
       "      <td>Hotels</td>\n",
       "      <td>88.11</td>\n",
       "      <td>14903381</td>\n",
       "      <td>172</td>\n",
       "      <td>0</td>\n",
       "    </tr>\n",
       "    <tr>\n",
       "      <th>1</th>\n",
       "      <td>1</td>\n",
       "      <td>1657926</td>\n",
       "      <td>2018-09-20 20:21:57</td>\n",
       "      <td>0</td>\n",
       "      <td>Grocery</td>\n",
       "      <td>78.25</td>\n",
       "      <td>14934117</td>\n",
       "      <td>172</td>\n",
       "      <td>0</td>\n",
       "    </tr>\n",
       "    <tr>\n",
       "      <th>2</th>\n",
       "      <td>2</td>\n",
       "      <td>1174679</td>\n",
       "      <td>2018-08-01 12:11:36</td>\n",
       "      <td>0</td>\n",
       "      <td>Airways</td>\n",
       "      <td>62.28</td>\n",
       "      <td>10584696</td>\n",
       "      <td>122</td>\n",
       "      <td>0</td>\n",
       "    </tr>\n",
       "    <tr>\n",
       "      <th>3</th>\n",
       "      <td>3</td>\n",
       "      <td>1175894</td>\n",
       "      <td>2018-08-01 13:58:40</td>\n",
       "      <td>0</td>\n",
       "      <td>Airways</td>\n",
       "      <td>80.16</td>\n",
       "      <td>10591120</td>\n",
       "      <td>122</td>\n",
       "      <td>0</td>\n",
       "    </tr>\n",
       "    <tr>\n",
       "      <th>4</th>\n",
       "      <td>4</td>\n",
       "      <td>758479</td>\n",
       "      <td>2018-06-19 4:18:11</td>\n",
       "      <td>0</td>\n",
       "      <td>Insulation</td>\n",
       "      <td>90.07</td>\n",
       "      <td>6841091</td>\n",
       "      <td>79</td>\n",
       "      <td>0</td>\n",
       "    </tr>\n",
       "  </tbody>\n",
       "</table>\n",
       "</div>"
      ],
      "text/plain": [
       "   SERIAL NUMBER  TRANSACTION_ID             DATETIME  CUSTOMER_ID  \\\n",
       "0              0         1653444  2018-09-20 11:49:41            0   \n",
       "1              1         1657926  2018-09-20 20:21:57            0   \n",
       "2              2         1174679  2018-08-01 12:11:36            0   \n",
       "3              3         1175894  2018-08-01 13:58:40            0   \n",
       "4              4          758479   2018-06-19 4:18:11            0   \n",
       "\n",
       "  TYPE of TRANSACTION  TRASCATION AMOUNT  TIME_SECONDS  \\\n",
       "0              Hotels              88.11      14903381   \n",
       "1             Grocery              78.25      14934117   \n",
       "2             Airways              62.28      10584696   \n",
       "3             Airways              80.16      10591120   \n",
       "4          Insulation              90.07       6841091   \n",
       "\n",
       "   DAYS_SINCE_FIRST_TRANSACTION  FRAUD  \n",
       "0                           172      0  \n",
       "1                           172      0  \n",
       "2                           122      0  \n",
       "3                           122      0  \n",
       "4                            79      0  "
      ]
     },
     "execution_count": 5,
     "metadata": {},
     "output_type": "execute_result"
    }
   ],
   "source": [
    "df.head()"
   ]
  },
  {
   "cell_type": "code",
   "execution_count": 6,
   "id": "5850ba03",
   "metadata": {},
   "outputs": [
    {
     "data": {
      "text/html": [
       "<div>\n",
       "<style scoped>\n",
       "    .dataframe tbody tr th:only-of-type {\n",
       "        vertical-align: middle;\n",
       "    }\n",
       "\n",
       "    .dataframe tbody tr th {\n",
       "        vertical-align: top;\n",
       "    }\n",
       "\n",
       "    .dataframe thead th {\n",
       "        text-align: right;\n",
       "    }\n",
       "</style>\n",
       "<table border=\"1\" class=\"dataframe\">\n",
       "  <thead>\n",
       "    <tr style=\"text-align: right;\">\n",
       "      <th></th>\n",
       "      <th>SERIAL NUMBER</th>\n",
       "      <th>TRANSACTION_ID</th>\n",
       "      <th>DATETIME</th>\n",
       "      <th>CUSTOMER_ID</th>\n",
       "      <th>TYPE of TRANSACTION</th>\n",
       "      <th>TRASCATION AMOUNT</th>\n",
       "      <th>TIME_SECONDS</th>\n",
       "      <th>DAYS_SINCE_FIRST_TRANSACTION</th>\n",
       "      <th>FRAUD</th>\n",
       "    </tr>\n",
       "  </thead>\n",
       "  <tbody>\n",
       "    <tr>\n",
       "      <th>73380</th>\n",
       "      <td>38095</td>\n",
       "      <td>903947</td>\n",
       "      <td>2018-07-04 7:55:16</td>\n",
       "      <td>2015</td>\n",
       "      <td>Retail</td>\n",
       "      <td>63.03</td>\n",
       "      <td>8150116</td>\n",
       "      <td>94</td>\n",
       "      <td>0</td>\n",
       "    </tr>\n",
       "    <tr>\n",
       "      <th>73381</th>\n",
       "      <td>38096</td>\n",
       "      <td>243562</td>\n",
       "      <td>2018-04-26 10:24:24</td>\n",
       "      <td>2015</td>\n",
       "      <td>Retail</td>\n",
       "      <td>45.23</td>\n",
       "      <td>2197464</td>\n",
       "      <td>25</td>\n",
       "      <td>0</td>\n",
       "    </tr>\n",
       "    <tr>\n",
       "      <th>73382</th>\n",
       "      <td>38098</td>\n",
       "      <td>773468</td>\n",
       "      <td>2018-06-20 13:49:15</td>\n",
       "      <td>2015</td>\n",
       "      <td>Retail</td>\n",
       "      <td>31.59</td>\n",
       "      <td>6961755</td>\n",
       "      <td>80</td>\n",
       "      <td>0</td>\n",
       "    </tr>\n",
       "    <tr>\n",
       "      <th>73383</th>\n",
       "      <td>38100</td>\n",
       "      <td>1177522</td>\n",
       "      <td>2018-08-01 16:44:45</td>\n",
       "      <td>2016</td>\n",
       "      <td>Retail</td>\n",
       "      <td>27.61</td>\n",
       "      <td>10601085</td>\n",
       "      <td>122</td>\n",
       "      <td>0</td>\n",
       "    </tr>\n",
       "    <tr>\n",
       "      <th>73384</th>\n",
       "      <td>38101</td>\n",
       "      <td>948456</td>\n",
       "      <td>2018-07-08 17:53:44</td>\n",
       "      <td>2016</td>\n",
       "      <td>Retail</td>\n",
       "      <td>11.41</td>\n",
       "      <td>8531624</td>\n",
       "      <td>98</td>\n",
       "      <td>0</td>\n",
       "    </tr>\n",
       "  </tbody>\n",
       "</table>\n",
       "</div>"
      ],
      "text/plain": [
       "       SERIAL NUMBER  TRANSACTION_ID             DATETIME  CUSTOMER_ID  \\\n",
       "73380          38095          903947   2018-07-04 7:55:16         2015   \n",
       "73381          38096          243562  2018-04-26 10:24:24         2015   \n",
       "73382          38098          773468  2018-06-20 13:49:15         2015   \n",
       "73383          38100         1177522  2018-08-01 16:44:45         2016   \n",
       "73384          38101          948456  2018-07-08 17:53:44         2016   \n",
       "\n",
       "      TYPE of TRANSACTION  TRASCATION AMOUNT  TIME_SECONDS  \\\n",
       "73380              Retail              63.03       8150116   \n",
       "73381              Retail              45.23       2197464   \n",
       "73382              Retail              31.59       6961755   \n",
       "73383              Retail              27.61      10601085   \n",
       "73384              Retail              11.41       8531624   \n",
       "\n",
       "       DAYS_SINCE_FIRST_TRANSACTION  FRAUD  \n",
       "73380                            94      0  \n",
       "73381                            25      0  \n",
       "73382                            80      0  \n",
       "73383                           122      0  \n",
       "73384                            98      0  "
      ]
     },
     "execution_count": 6,
     "metadata": {},
     "output_type": "execute_result"
    }
   ],
   "source": [
    "df.tail()"
   ]
  },
  {
   "cell_type": "code",
   "execution_count": 7,
   "id": "23f0dd8b",
   "metadata": {},
   "outputs": [
    {
     "data": {
      "text/html": [
       "<div>\n",
       "<style scoped>\n",
       "    .dataframe tbody tr th:only-of-type {\n",
       "        vertical-align: middle;\n",
       "    }\n",
       "\n",
       "    .dataframe tbody tr th {\n",
       "        vertical-align: top;\n",
       "    }\n",
       "\n",
       "    .dataframe thead th {\n",
       "        text-align: right;\n",
       "    }\n",
       "</style>\n",
       "<table border=\"1\" class=\"dataframe\">\n",
       "  <thead>\n",
       "    <tr style=\"text-align: right;\">\n",
       "      <th></th>\n",
       "      <th>SERIAL NUMBER</th>\n",
       "      <th>TRANSACTION_ID</th>\n",
       "      <th>DATETIME</th>\n",
       "      <th>CUSTOMER_ID</th>\n",
       "      <th>TYPE of TRANSACTION</th>\n",
       "      <th>TRASCATION AMOUNT</th>\n",
       "      <th>TIME_SECONDS</th>\n",
       "      <th>DAYS_SINCE_FIRST_TRANSACTION</th>\n",
       "      <th>FRAUD</th>\n",
       "    </tr>\n",
       "  </thead>\n",
       "  <tbody>\n",
       "    <tr>\n",
       "      <th>count</th>\n",
       "      <td>73385.000000</td>\n",
       "      <td>7.338500e+04</td>\n",
       "      <td>73385</td>\n",
       "      <td>73385.000000</td>\n",
       "      <td>73385</td>\n",
       "      <td>73385.000000</td>\n",
       "      <td>7.338500e+04</td>\n",
       "      <td>73385.000000</td>\n",
       "      <td>73385.000000</td>\n",
       "    </tr>\n",
       "    <tr>\n",
       "      <th>unique</th>\n",
       "      <td>NaN</td>\n",
       "      <td>NaN</td>\n",
       "      <td>70904</td>\n",
       "      <td>NaN</td>\n",
       "      <td>10</td>\n",
       "      <td>NaN</td>\n",
       "      <td>NaN</td>\n",
       "      <td>NaN</td>\n",
       "      <td>NaN</td>\n",
       "    </tr>\n",
       "    <tr>\n",
       "      <th>top</th>\n",
       "      <td>NaN</td>\n",
       "      <td>NaN</td>\n",
       "      <td>2018-04-05 13:03:35</td>\n",
       "      <td>NaN</td>\n",
       "      <td>Insulation</td>\n",
       "      <td>NaN</td>\n",
       "      <td>NaN</td>\n",
       "      <td>NaN</td>\n",
       "      <td>NaN</td>\n",
       "    </tr>\n",
       "    <tr>\n",
       "      <th>freq</th>\n",
       "      <td>NaN</td>\n",
       "      <td>NaN</td>\n",
       "      <td>4</td>\n",
       "      <td>NaN</td>\n",
       "      <td>9512</td>\n",
       "      <td>NaN</td>\n",
       "      <td>NaN</td>\n",
       "      <td>NaN</td>\n",
       "      <td>NaN</td>\n",
       "    </tr>\n",
       "    <tr>\n",
       "      <th>mean</th>\n",
       "      <td>41048.878204</td>\n",
       "      <td>8.233976e+05</td>\n",
       "      <td>NaN</td>\n",
       "      <td>2173.954514</td>\n",
       "      <td>NaN</td>\n",
       "      <td>55.177761</td>\n",
       "      <td>7.419868e+06</td>\n",
       "      <td>85.383307</td>\n",
       "      <td>0.008939</td>\n",
       "    </tr>\n",
       "    <tr>\n",
       "      <th>std</th>\n",
       "      <td>26492.483939</td>\n",
       "      <td>5.479239e+05</td>\n",
       "      <td>NaN</td>\n",
       "      <td>1409.347516</td>\n",
       "      <td>NaN</td>\n",
       "      <td>43.472514</td>\n",
       "      <td>4.939476e+06</td>\n",
       "      <td>57.169018</td>\n",
       "      <td>0.094124</td>\n",
       "    </tr>\n",
       "    <tr>\n",
       "      <th>min</th>\n",
       "      <td>0.000000</td>\n",
       "      <td>6.295000e+03</td>\n",
       "      <td>NaN</td>\n",
       "      <td>0.000000</td>\n",
       "      <td>NaN</td>\n",
       "      <td>0.000000</td>\n",
       "      <td>5.153000e+04</td>\n",
       "      <td>0.000000</td>\n",
       "      <td>0.000000</td>\n",
       "    </tr>\n",
       "    <tr>\n",
       "      <th>25%</th>\n",
       "      <td>18346.000000</td>\n",
       "      <td>4.632880e+05</td>\n",
       "      <td>NaN</td>\n",
       "      <td>967.000000</td>\n",
       "      <td>NaN</td>\n",
       "      <td>21.790000</td>\n",
       "      <td>4.177458e+06</td>\n",
       "      <td>48.000000</td>\n",
       "      <td>0.000000</td>\n",
       "    </tr>\n",
       "    <tr>\n",
       "      <th>50%</th>\n",
       "      <td>36692.000000</td>\n",
       "      <td>7.594650e+05</td>\n",
       "      <td>NaN</td>\n",
       "      <td>1941.000000</td>\n",
       "      <td>NaN</td>\n",
       "      <td>46.030000</td>\n",
       "      <td>6.850855e+06</td>\n",
       "      <td>79.000000</td>\n",
       "      <td>0.000000</td>\n",
       "    </tr>\n",
       "    <tr>\n",
       "      <th>75%</th>\n",
       "      <td>63533.000000</td>\n",
       "      <td>1.347494e+06</td>\n",
       "      <td>NaN</td>\n",
       "      <td>3334.000000</td>\n",
       "      <td>NaN</td>\n",
       "      <td>78.990000</td>\n",
       "      <td>1.214317e+07</td>\n",
       "      <td>140.000000</td>\n",
       "      <td>0.000000</td>\n",
       "    </tr>\n",
       "    <tr>\n",
       "      <th>max</th>\n",
       "      <td>93756.000000</td>\n",
       "      <td>1.754143e+06</td>\n",
       "      <td>NaN</td>\n",
       "      <td>4998.000000</td>\n",
       "      <td>NaN</td>\n",
       "      <td>1108.850000</td>\n",
       "      <td>1.581077e+07</td>\n",
       "      <td>182.000000</td>\n",
       "      <td>1.000000</td>\n",
       "    </tr>\n",
       "  </tbody>\n",
       "</table>\n",
       "</div>"
      ],
      "text/plain": [
       "        SERIAL NUMBER  TRANSACTION_ID             DATETIME   CUSTOMER_ID  \\\n",
       "count    73385.000000    7.338500e+04                73385  73385.000000   \n",
       "unique            NaN             NaN                70904           NaN   \n",
       "top               NaN             NaN  2018-04-05 13:03:35           NaN   \n",
       "freq              NaN             NaN                    4           NaN   \n",
       "mean     41048.878204    8.233976e+05                  NaN   2173.954514   \n",
       "std      26492.483939    5.479239e+05                  NaN   1409.347516   \n",
       "min          0.000000    6.295000e+03                  NaN      0.000000   \n",
       "25%      18346.000000    4.632880e+05                  NaN    967.000000   \n",
       "50%      36692.000000    7.594650e+05                  NaN   1941.000000   \n",
       "75%      63533.000000    1.347494e+06                  NaN   3334.000000   \n",
       "max      93756.000000    1.754143e+06                  NaN   4998.000000   \n",
       "\n",
       "       TYPE of TRANSACTION  TRASCATION AMOUNT  TIME_SECONDS  \\\n",
       "count                73385       73385.000000  7.338500e+04   \n",
       "unique                  10                NaN           NaN   \n",
       "top             Insulation                NaN           NaN   \n",
       "freq                  9512                NaN           NaN   \n",
       "mean                   NaN          55.177761  7.419868e+06   \n",
       "std                    NaN          43.472514  4.939476e+06   \n",
       "min                    NaN           0.000000  5.153000e+04   \n",
       "25%                    NaN          21.790000  4.177458e+06   \n",
       "50%                    NaN          46.030000  6.850855e+06   \n",
       "75%                    NaN          78.990000  1.214317e+07   \n",
       "max                    NaN        1108.850000  1.581077e+07   \n",
       "\n",
       "        DAYS_SINCE_FIRST_TRANSACTION         FRAUD  \n",
       "count                   73385.000000  73385.000000  \n",
       "unique                           NaN           NaN  \n",
       "top                              NaN           NaN  \n",
       "freq                             NaN           NaN  \n",
       "mean                       85.383307      0.008939  \n",
       "std                        57.169018      0.094124  \n",
       "min                         0.000000      0.000000  \n",
       "25%                        48.000000      0.000000  \n",
       "50%                        79.000000      0.000000  \n",
       "75%                       140.000000      0.000000  \n",
       "max                       182.000000      1.000000  "
      ]
     },
     "execution_count": 7,
     "metadata": {},
     "output_type": "execute_result"
    }
   ],
   "source": [
    "df.describe(include='all')"
   ]
  },
  {
   "cell_type": "code",
   "execution_count": 8,
   "id": "3ba58fd1",
   "metadata": {},
   "outputs": [
    {
     "name": "stdout",
     "output_type": "stream",
     "text": [
      "<class 'pandas.core.frame.DataFrame'>\n",
      "RangeIndex: 73385 entries, 0 to 73384\n",
      "Data columns (total 9 columns):\n",
      " #   Column                        Non-Null Count  Dtype  \n",
      "---  ------                        --------------  -----  \n",
      " 0   SERIAL NUMBER                 73385 non-null  int64  \n",
      " 1   TRANSACTION_ID                73385 non-null  int64  \n",
      " 2   DATETIME                      73385 non-null  object \n",
      " 3   CUSTOMER_ID                   73385 non-null  int64  \n",
      " 4   TYPE of TRANSACTION           73385 non-null  object \n",
      " 5   TRASCATION AMOUNT             73385 non-null  float64\n",
      " 6   TIME_SECONDS                  73385 non-null  int64  \n",
      " 7   DAYS_SINCE_FIRST_TRANSACTION  73385 non-null  int64  \n",
      " 8   FRAUD                         73385 non-null  int64  \n",
      "dtypes: float64(1), int64(6), object(2)\n",
      "memory usage: 5.0+ MB\n"
     ]
    }
   ],
   "source": [
    "df.info()"
   ]
  },
  {
   "cell_type": "code",
   "execution_count": 9,
   "id": "267b9e34",
   "metadata": {
    "scrolled": false
   },
   "outputs": [
    {
     "data": {
      "text/plain": [
       "SERIAL NUMBER                   0\n",
       "TRANSACTION_ID                  0\n",
       "DATETIME                        0\n",
       "CUSTOMER_ID                     0\n",
       "TYPE of TRANSACTION             0\n",
       "TRASCATION AMOUNT               0\n",
       "TIME_SECONDS                    0\n",
       "DAYS_SINCE_FIRST_TRANSACTION    0\n",
       "FRAUD                           0\n",
       "dtype: int64"
      ]
     },
     "execution_count": 9,
     "metadata": {},
     "output_type": "execute_result"
    }
   ],
   "source": [
    "df.isnull().sum()"
   ]
  },
  {
   "cell_type": "code",
   "execution_count": 10,
   "id": "7c00590d",
   "metadata": {
    "scrolled": true
   },
   "outputs": [
    {
     "data": {
      "text/plain": [
       "int64      6\n",
       "object     2\n",
       "float64    1\n",
       "dtype: int64"
      ]
     },
     "execution_count": 10,
     "metadata": {},
     "output_type": "execute_result"
    }
   ],
   "source": [
    "df.dtypes.value_counts()"
   ]
  },
  {
   "cell_type": "code",
   "execution_count": 11,
   "id": "674d9296",
   "metadata": {},
   "outputs": [],
   "source": [
    "df = df.drop([\"SERIAL NUMBER\",\"TRANSACTION_ID\"], axis = 1)"
   ]
  },
  {
   "cell_type": "code",
   "execution_count": 12,
   "id": "568f9388",
   "metadata": {
    "scrolled": false
   },
   "outputs": [
    {
     "data": {
      "text/plain": [
       "0    0.991061\n",
       "1    0.008939\n",
       "Name: FRAUD, dtype: float64"
      ]
     },
     "execution_count": 12,
     "metadata": {},
     "output_type": "execute_result"
    }
   ],
   "source": [
    "df['FRAUD'].value_counts(normalize=True)"
   ]
  },
  {
   "cell_type": "code",
   "execution_count": 13,
   "id": "7c46f3d7",
   "metadata": {
    "scrolled": true
   },
   "outputs": [
    {
     "data": {
      "text/plain": [
       "10"
      ]
     },
     "execution_count": 13,
     "metadata": {},
     "output_type": "execute_result"
    }
   ],
   "source": [
    "df['TYPE of TRANSACTION'].value_counts().count()"
   ]
  },
  {
   "cell_type": "code",
   "execution_count": 14,
   "id": "e03f37b2",
   "metadata": {
    "scrolled": true
   },
   "outputs": [
    {
     "data": {
      "text/plain": [
       "Insulation     9512\n",
       "Food           9211\n",
       "Electronics    7931\n",
       "Clothing       7394\n",
       "Grocery        7115\n",
       "Retail         7000\n",
       "Footwear       6621\n",
       "Airways        6584\n",
       "Hotels         6086\n",
       "Rental Car     5931\n",
       "Name: TYPE of TRANSACTION, dtype: int64"
      ]
     },
     "execution_count": 14,
     "metadata": {},
     "output_type": "execute_result"
    }
   ],
   "source": [
    "df['TYPE of TRANSACTION'].value_counts()"
   ]
  },
  {
   "cell_type": "code",
   "execution_count": 15,
   "id": "758c8092",
   "metadata": {
    "scrolled": true
   },
   "outputs": [
    {
     "data": {
      "text/plain": [
       "Food           107\n",
       "Insulation      91\n",
       "Electronics     77\n",
       "Retail          73\n",
       "Airways         66\n",
       "Hotels          65\n",
       "Grocery         63\n",
       "Footwear        51\n",
       "Rental Car      42\n",
       "Clothing        21\n",
       "Name: TYPE of TRANSACTION, dtype: int64"
      ]
     },
     "execution_count": 15,
     "metadata": {},
     "output_type": "execute_result"
    }
   ],
   "source": [
    "df['TYPE of TRANSACTION'][df[\"FRAUD\"] == 1].value_counts()"
   ]
  },
  {
   "cell_type": "code",
   "execution_count": 16,
   "id": "c0b6b9fb",
   "metadata": {},
   "outputs": [
    {
     "data": {
      "text/plain": [
       "Insulation     9421\n",
       "Food           9104\n",
       "Electronics    7854\n",
       "Clothing       7373\n",
       "Grocery        7052\n",
       "Retail         6927\n",
       "Footwear       6570\n",
       "Airways        6518\n",
       "Hotels         6021\n",
       "Rental Car     5889\n",
       "Name: TYPE of TRANSACTION, dtype: int64"
      ]
     },
     "execution_count": 16,
     "metadata": {},
     "output_type": "execute_result"
    }
   ],
   "source": [
    "df['TYPE of TRANSACTION'][df[\"FRAUD\"] == 0].value_counts()"
   ]
  },
  {
   "cell_type": "code",
   "execution_count": 17,
   "id": "f844625f",
   "metadata": {},
   "outputs": [
    {
     "data": {
      "text/plain": [
       "3456"
      ]
     },
     "execution_count": 17,
     "metadata": {},
     "output_type": "execute_result"
    }
   ],
   "source": [
    "df['CUSTOMER_ID'].value_counts().count()"
   ]
  },
  {
   "cell_type": "code",
   "execution_count": 18,
   "id": "9cd0b09f",
   "metadata": {
    "scrolled": true
   },
   "outputs": [
    {
     "data": {
      "text/plain": [
       "1848    57\n",
       "571     57\n",
       "1157    57\n",
       "98      56\n",
       "1881    55\n",
       "        ..\n",
       "2288     1\n",
       "2145     1\n",
       "4917     1\n",
       "2023     1\n",
       "1896     1\n",
       "Name: CUSTOMER_ID, Length: 3456, dtype: int64"
      ]
     },
     "execution_count": 18,
     "metadata": {},
     "output_type": "execute_result"
    }
   ],
   "source": [
    "df['CUSTOMER_ID'].value_counts()"
   ]
  },
  {
   "cell_type": "code",
   "execution_count": 19,
   "id": "dc584814",
   "metadata": {
    "scrolled": true
   },
   "outputs": [
    {
     "data": {
      "text/plain": [
       "1692    5\n",
       "613     5\n",
       "701     5\n",
       "1085    5\n",
       "1743    5\n",
       "       ..\n",
       "1719    1\n",
       "1708    1\n",
       "1706    1\n",
       "1693    1\n",
       "1992    1\n",
       "Name: CUSTOMER_ID, Length: 536, dtype: int64"
      ]
     },
     "execution_count": 19,
     "metadata": {},
     "output_type": "execute_result"
    }
   ],
   "source": [
    "df['CUSTOMER_ID'][df[\"FRAUD\"] == 1].value_counts()"
   ]
  },
  {
   "cell_type": "code",
   "execution_count": 20,
   "id": "b2126751",
   "metadata": {},
   "outputs": [
    {
     "data": {
      "text/plain": [
       "571     57\n",
       "1848    57\n",
       "1157    57\n",
       "98      56\n",
       "1881    55\n",
       "        ..\n",
       "2357     1\n",
       "2288     1\n",
       "2145     1\n",
       "4917     1\n",
       "1896     1\n",
       "Name: CUSTOMER_ID, Length: 3455, dtype: int64"
      ]
     },
     "execution_count": 20,
     "metadata": {},
     "output_type": "execute_result"
    }
   ],
   "source": [
    "df['CUSTOMER_ID'][df[\"FRAUD\"] == 0].value_counts()"
   ]
  },
  {
   "cell_type": "code",
   "execution_count": 21,
   "id": "ae10791d",
   "metadata": {
    "scrolled": false
   },
   "outputs": [
    {
     "data": {
      "text/plain": [
       "Food           0.163110\n",
       "Insulation     0.138720\n",
       "Electronics    0.117378\n",
       "Retail         0.111280\n",
       "Airways        0.100610\n",
       "Hotels         0.099085\n",
       "Grocery        0.096037\n",
       "Footwear       0.077744\n",
       "Rental Car     0.064024\n",
       "Clothing       0.032012\n",
       "Name: TYPE of TRANSACTION, dtype: float64"
      ]
     },
     "execution_count": 21,
     "metadata": {},
     "output_type": "execute_result"
    }
   ],
   "source": [
    "df[\"TYPE of TRANSACTION\"][df[\"FRAUD\"] == 1].value_counts(normalize=True)"
   ]
  },
  {
   "cell_type": "code",
   "execution_count": 22,
   "id": "98bba009",
   "metadata": {
    "scrolled": true
   },
   "outputs": [
    {
     "data": {
      "text/plain": [
       "Insulation     0.129536\n",
       "Food           0.125177\n",
       "Electronics    0.107990\n",
       "Clothing       0.101376\n",
       "Grocery        0.096963\n",
       "Retail         0.095244\n",
       "Footwear       0.090335\n",
       "Airways        0.089620\n",
       "Hotels         0.082787\n",
       "Rental Car     0.080972\n",
       "Name: TYPE of TRANSACTION, dtype: float64"
      ]
     },
     "execution_count": 22,
     "metadata": {},
     "output_type": "execute_result"
    }
   ],
   "source": [
    "df[\"TYPE of TRANSACTION\"][df[\"FRAUD\"] == 0].value_counts(normalize=True)"
   ]
  },
  {
   "cell_type": "code",
   "execution_count": 24,
   "id": "ddedeeec",
   "metadata": {},
   "outputs": [
    {
     "data": {
      "text/html": [
       "<div>\n",
       "<style scoped>\n",
       "    .dataframe tbody tr th:only-of-type {\n",
       "        vertical-align: middle;\n",
       "    }\n",
       "\n",
       "    .dataframe tbody tr th {\n",
       "        vertical-align: top;\n",
       "    }\n",
       "\n",
       "    .dataframe thead th {\n",
       "        text-align: right;\n",
       "    }\n",
       "</style>\n",
       "<table border=\"1\" class=\"dataframe\">\n",
       "  <thead>\n",
       "    <tr style=\"text-align: right;\">\n",
       "      <th></th>\n",
       "      <th>DATETIME</th>\n",
       "      <th>CUSTOMER_ID</th>\n",
       "      <th>TYPE of TRANSACTION</th>\n",
       "      <th>TRASCATION AMOUNT</th>\n",
       "      <th>TIME_SECONDS</th>\n",
       "      <th>DAYS_SINCE_FIRST_TRANSACTION</th>\n",
       "      <th>FRAUD</th>\n",
       "    </tr>\n",
       "  </thead>\n",
       "  <tbody>\n",
       "    <tr>\n",
       "      <th>0</th>\n",
       "      <td>2018-09-20 11:49:41</td>\n",
       "      <td>0</td>\n",
       "      <td>Hotels</td>\n",
       "      <td>88.11</td>\n",
       "      <td>14903381</td>\n",
       "      <td>172</td>\n",
       "      <td>0</td>\n",
       "    </tr>\n",
       "    <tr>\n",
       "      <th>1</th>\n",
       "      <td>2018-09-20 20:21:57</td>\n",
       "      <td>0</td>\n",
       "      <td>Grocery</td>\n",
       "      <td>78.25</td>\n",
       "      <td>14934117</td>\n",
       "      <td>172</td>\n",
       "      <td>0</td>\n",
       "    </tr>\n",
       "    <tr>\n",
       "      <th>2</th>\n",
       "      <td>2018-08-01 12:11:36</td>\n",
       "      <td>0</td>\n",
       "      <td>Airways</td>\n",
       "      <td>62.28</td>\n",
       "      <td>10584696</td>\n",
       "      <td>122</td>\n",
       "      <td>0</td>\n",
       "    </tr>\n",
       "    <tr>\n",
       "      <th>3</th>\n",
       "      <td>2018-08-01 13:58:40</td>\n",
       "      <td>0</td>\n",
       "      <td>Airways</td>\n",
       "      <td>80.16</td>\n",
       "      <td>10591120</td>\n",
       "      <td>122</td>\n",
       "      <td>0</td>\n",
       "    </tr>\n",
       "    <tr>\n",
       "      <th>4</th>\n",
       "      <td>2018-06-19 4:18:11</td>\n",
       "      <td>0</td>\n",
       "      <td>Insulation</td>\n",
       "      <td>90.07</td>\n",
       "      <td>6841091</td>\n",
       "      <td>79</td>\n",
       "      <td>0</td>\n",
       "    </tr>\n",
       "  </tbody>\n",
       "</table>\n",
       "</div>"
      ],
      "text/plain": [
       "              DATETIME  CUSTOMER_ID TYPE of TRANSACTION  TRASCATION AMOUNT  \\\n",
       "0  2018-09-20 11:49:41            0              Hotels              88.11   \n",
       "1  2018-09-20 20:21:57            0             Grocery              78.25   \n",
       "2  2018-08-01 12:11:36            0             Airways              62.28   \n",
       "3  2018-08-01 13:58:40            0             Airways              80.16   \n",
       "4   2018-06-19 4:18:11            0          Insulation              90.07   \n",
       "\n",
       "   TIME_SECONDS  DAYS_SINCE_FIRST_TRANSACTION  FRAUD  \n",
       "0      14903381                           172      0  \n",
       "1      14934117                           172      0  \n",
       "2      10584696                           122      0  \n",
       "3      10591120                           122      0  \n",
       "4       6841091                            79      0  "
      ]
     },
     "execution_count": 24,
     "metadata": {},
     "output_type": "execute_result"
    }
   ],
   "source": [
    "df.head()"
   ]
  },
  {
   "cell_type": "code",
   "execution_count": 25,
   "id": "2d34d8e1",
   "metadata": {},
   "outputs": [
    {
     "data": {
      "text/plain": [
       "(99.11, 0.89)"
      ]
     },
     "execution_count": 25,
     "metadata": {},
     "output_type": "execute_result"
    }
   ],
   "source": [
    "classes=df['FRAUD'].value_counts()\n",
    "normal_share=round(classes[0]/df['FRAUD'].count()*100,2)\n",
    "fraud_share=round(classes[1]/df['FRAUD'].count()*100, 2)\n",
    "normal_share, fraud_share"
   ]
  },
  {
   "cell_type": "code",
   "execution_count": 26,
   "id": "d477ea26",
   "metadata": {},
   "outputs": [
    {
     "data": {
      "text/plain": [
       "0    72729\n",
       "1      656\n",
       "Name: FRAUD, dtype: int64"
      ]
     },
     "execution_count": 26,
     "metadata": {},
     "output_type": "execute_result"
    }
   ],
   "source": [
    "classes"
   ]
  },
  {
   "cell_type": "code",
   "execution_count": 153,
   "id": "6078f67c",
   "metadata": {},
   "outputs": [
    {
     "data": {
      "text/html": [
       "<div>\n",
       "<style scoped>\n",
       "    .dataframe tbody tr th:only-of-type {\n",
       "        vertical-align: middle;\n",
       "    }\n",
       "\n",
       "    .dataframe tbody tr th {\n",
       "        vertical-align: top;\n",
       "    }\n",
       "\n",
       "    .dataframe thead th {\n",
       "        text-align: right;\n",
       "    }\n",
       "</style>\n",
       "<table border=\"1\" class=\"dataframe\">\n",
       "  <thead>\n",
       "    <tr style=\"text-align: right;\">\n",
       "      <th></th>\n",
       "      <th>FRAUD</th>\n",
       "      <th>Percentage</th>\n",
       "    </tr>\n",
       "  </thead>\n",
       "  <tbody>\n",
       "    <tr>\n",
       "      <th>0</th>\n",
       "      <td>Non-Fraudulent</td>\n",
       "      <td>99.11</td>\n",
       "    </tr>\n",
       "    <tr>\n",
       "      <th>1</th>\n",
       "      <td>Fraudulent</td>\n",
       "      <td>0.89</td>\n",
       "    </tr>\n",
       "  </tbody>\n",
       "</table>\n",
       "</div>"
      ],
      "text/plain": [
       "            FRAUD  Percentage\n",
       "0  Non-Fraudulent       99.11\n",
       "1      Fraudulent        0.89"
      ]
     },
     "execution_count": 153,
     "metadata": {},
     "output_type": "execute_result"
    }
   ],
   "source": [
    "df_fraud_percentage"
   ]
  },
  {
   "cell_type": "code",
   "execution_count": 27,
   "id": "3ca740c5",
   "metadata": {},
   "outputs": [
    {
     "data": {
      "image/png": "[encoded data removed]",
      "text/plain": [
       "<Figure size 720x360 with 2 Axes>"
      ]
     },
     "metadata": {
      "needs_background": "light"
     },
     "output_type": "display_data"
    }
   ],
   "source": [
    "# bar plot for the number and percentage of fraudulent vs non-fraudulent transcations\n",
    "plt.figure(figsize=(10,5))\n",
    "\n",
    "plt.subplot(1,2,1)\n",
    "sns.countplot(x = df[\"FRAUD\"])\n",
    "plt.ylabel(\"Number of transaction\")\n",
    "plt.xlabel(\"Class\")\n",
    "plt.title(\"Credit Card Fraud Class - data unbalance\")\n",
    "\n",
    "plt.subplot(1,2,2)\n",
    "fraud_percentage = {'FRAUD':['Non-Fraudulent', 'Fraudulent'], 'Percentage':[normal_share, fraud_share]} \n",
    "df_fraud_percentage = pd.DataFrame(fraud_percentage) \n",
    "sns.barplot(x=df_fraud_percentage['FRAUD'], y=df_fraud_percentage['Percentage'])\n",
    "plt.title('Percentage of fraudulent vs non-fraudulent transcations')\n",
    "\n",
    "plt.show()"
   ]
  },
  {
   "cell_type": "code",
   "execution_count": 28,
   "id": "0c3c3813",
   "metadata": {},
   "outputs": [],
   "source": [
    "# counts = df['CUSTOMER_ID'][df[\"FRAUD\"] == 0].value_counts()\n",
    "\n",
    "# df= df[~df['CUSTOMER_ID'].isin(counts[counts > 5].index)]"
   ]
  },
  {
   "cell_type": "code",
   "execution_count": 30,
   "id": "a78f223a",
   "metadata": {},
   "outputs": [
    {
     "data": {
      "text/plain": [
       "(99.11, 0.89)"
      ]
     },
     "execution_count": 30,
     "metadata": {},
     "output_type": "execute_result"
    }
   ],
   "source": [
    "classes=df['FRAUD'].value_counts()\n",
    "normal_share=round(classes[0]/df['FRAUD'].count()*100,2)\n",
    "fraud_share=round(classes[1]/df['FRAUD'].count()*100, 2)\n",
    "normal_share, fraud_share"
   ]
  },
  {
   "cell_type": "code",
   "execution_count": 31,
   "id": "d6a3ec72",
   "metadata": {
    "scrolled": false
   },
   "outputs": [],
   "source": [
    "# drop unnecessary columns\n",
    "# df = df.drop(\"SERIAL NUMBER\", axis = 1)\n",
    "df = df.drop(\"TIME_SECONDS\", axis = 1)"
   ]
  },
  {
   "cell_type": "code",
   "execution_count": 32,
   "id": "97052460",
   "metadata": {},
   "outputs": [
    {
     "data": {
      "image/png": "[encoded data removed]",
      "text/plain": [
       "<Figure size 432x288 with 1 Axes>"
      ]
     },
     "metadata": {
      "needs_background": "light"
     },
     "output_type": "display_data"
    },
    {
     "data": {
      "image/png": "[encoded data removed]",
      "text/plain": [
       "<Figure size 432x288 with 1 Axes>"
      ]
     },
     "metadata": {
      "needs_background": "light"
     },
     "output_type": "display_data"
    }
   ],
   "source": [
    "features = [ 'TRASCATION AMOUNT', 'DAYS_SINCE_FIRST_TRANSACTION']\n",
    "\n",
    "for f in features:\n",
    "    sns.scatterplot(x = df[f], y = df[\"FRAUD\"])\n",
    "    title = f + \" FRUAD scatter plot\"\n",
    "    plt.title(title)\n",
    "    plt.show()\n",
    "    "
   ]
  },
  {
   "cell_type": "code",
   "execution_count": 33,
   "id": "9de00ef8",
   "metadata": {
    "scrolled": true
   },
   "outputs": [
    {
     "data": {
      "image/png": "[encoded data removed]",
      "text/plain": [
       "<Figure size 864x288 with 2 Axes>"
      ]
     },
     "metadata": {
      "needs_background": "light"
     },
     "output_type": "display_data"
    },
    {
     "data": {
      "image/png": "[encoded data removed]",
      "text/plain": [
       "<Figure size 864x288 with 2 Axes>"
      ]
     },
     "metadata": {
      "needs_background": "light"
     },
     "output_type": "display_data"
    }
   ],
   "source": [
    "features = ['TRASCATION AMOUNT', 'DAYS_SINCE_FIRST_TRANSACTION']\n",
    "\n",
    "for f in features:\n",
    "    fig, (ax1, ax2) = plt.subplots(2, 1, sharex=True, figsize=(12,4))\n",
    "\n",
    "    ax1.hist(df[f][df[\"FRAUD\"] == 1], bins = 50)\n",
    "    ax1.set_title('Fraudulent')\n",
    "\n",
    "    ax2.hist(df[f][df[\"FRAUD\"] == 0], bins = 50)\n",
    "    ax2.set_title('Genuine')\n",
    "\n",
    "    plt.xlabel(f)\n",
    "    plt.ylabel('Number of Transactions')\n",
    "    plt.show()"
   ]
  },
  {
   "cell_type": "code",
   "execution_count": 34,
   "id": "ca321065",
   "metadata": {
    "scrolled": true
   },
   "outputs": [
    {
     "data": {
      "image/png": "[encoded data removed]",
      "text/plain": [
       "<Figure size 432x288 with 1 Axes>"
      ]
     },
     "metadata": {
      "needs_background": "light"
     },
     "output_type": "display_data"
    },
    {
     "data": {
      "image/png": "[encoded data removed]",
      "text/plain": [
       "<Figure size 432x288 with 1 Axes>"
      ]
     },
     "metadata": {
      "needs_background": "light"
     },
     "output_type": "display_data"
    }
   ],
   "source": [
    "#Boxplot for the features, in order to visualiza the outliers.\n",
    "\n",
    "features = ['TRASCATION AMOUNT', 'DAYS_SINCE_FIRST_TRANSACTION']\n",
    "for f in features:\n",
    "    sns.boxplot(x=df['FRAUD'], y=df[f])\n",
    "    plt.show()\n",
    "    "
   ]
  },
  {
   "cell_type": "code",
   "execution_count": 36,
   "id": "f7dd7869",
   "metadata": {
    "scrolled": true
   },
   "outputs": [
    {
     "data": {
      "text/plain": [
       "<Figure size 432x288 with 0 Axes>"
      ]
     },
     "metadata": {},
     "output_type": "display_data"
    },
    {
     "data": {
      "image/png": "[encoded data removed]",
      "text/plain": [
       "<Figure size 720x360 with 2 Axes>"
      ]
     },
     "metadata": {
      "needs_background": "light"
     },
     "output_type": "display_data"
    }
   ],
   "source": [
    "# Plotting all the variable in displot to visualise the distribution\n",
    "var = ['TRASCATION AMOUNT','DAYS_SINCE_FIRST_TRANSACTION']\n",
    "\n",
    "\n",
    "i = 0\n",
    "t0 = df.loc[df['FRAUD'] == 0]\n",
    "t1 = df.loc[df['FRAUD'] == 1]\n",
    "\n",
    "plt.figure()\n",
    "fig, ax = plt.subplots(1,2,figsize=(10,5))\n",
    "\n",
    "for feature in var:\n",
    "    i += 1\n",
    "    plt.subplot(1,2,i)\n",
    "    sns.kdeplot(t0[feature], bw_method=0.5,label=\"0\")\n",
    "    sns.kdeplot(t1[feature], bw_method=0.5,label=\"1\")\n",
    "    plt.xlabel(feature, fontsize=12)\n",
    "    locs, labels = plt.xticks()\n",
    "    plt.tick_params(axis='both', which='major', labelsize=12)\n",
    "plt.show();"
   ]
  },
  {
   "cell_type": "code",
   "execution_count": 54,
   "id": "5fc6ac5f",
   "metadata": {},
   "outputs": [
    {
     "data": {
      "text/html": [
       "<div>\n",
       "<style scoped>\n",
       "    .dataframe tbody tr th:only-of-type {\n",
       "        vertical-align: middle;\n",
       "    }\n",
       "\n",
       "    .dataframe tbody tr th {\n",
       "        vertical-align: top;\n",
       "    }\n",
       "\n",
       "    .dataframe thead th {\n",
       "        text-align: right;\n",
       "    }\n",
       "</style>\n",
       "<table border=\"1\" class=\"dataframe\">\n",
       "  <thead>\n",
       "    <tr style=\"text-align: right;\">\n",
       "      <th></th>\n",
       "      <th>DATETIME</th>\n",
       "      <th>CUSTOMER_ID</th>\n",
       "      <th>TRASCATION AMOUNT</th>\n",
       "      <th>DAYS_SINCE_FIRST_TRANSACTION</th>\n",
       "      <th>FRAUD</th>\n",
       "      <th>Airways</th>\n",
       "      <th>Clothing</th>\n",
       "      <th>Electronics</th>\n",
       "      <th>Food</th>\n",
       "      <th>Footwear</th>\n",
       "      <th>Grocery</th>\n",
       "      <th>Hotels</th>\n",
       "      <th>Insulation</th>\n",
       "      <th>Rental Car</th>\n",
       "      <th>Retail</th>\n",
       "    </tr>\n",
       "  </thead>\n",
       "  <tbody>\n",
       "    <tr>\n",
       "      <th>0</th>\n",
       "      <td>2018-09-20 11:49:41</td>\n",
       "      <td>0</td>\n",
       "      <td>88.11</td>\n",
       "      <td>172</td>\n",
       "      <td>0</td>\n",
       "      <td>0</td>\n",
       "      <td>0</td>\n",
       "      <td>0</td>\n",
       "      <td>0</td>\n",
       "      <td>0</td>\n",
       "      <td>0</td>\n",
       "      <td>1</td>\n",
       "      <td>0</td>\n",
       "      <td>0</td>\n",
       "      <td>0</td>\n",
       "    </tr>\n",
       "    <tr>\n",
       "      <th>1</th>\n",
       "      <td>2018-09-20 20:21:57</td>\n",
       "      <td>0</td>\n",
       "      <td>78.25</td>\n",
       "      <td>172</td>\n",
       "      <td>0</td>\n",
       "      <td>0</td>\n",
       "      <td>0</td>\n",
       "      <td>0</td>\n",
       "      <td>0</td>\n",
       "      <td>0</td>\n",
       "      <td>1</td>\n",
       "      <td>0</td>\n",
       "      <td>0</td>\n",
       "      <td>0</td>\n",
       "      <td>0</td>\n",
       "    </tr>\n",
       "    <tr>\n",
       "      <th>2</th>\n",
       "      <td>2018-08-01 12:11:36</td>\n",
       "      <td>0</td>\n",
       "      <td>62.28</td>\n",
       "      <td>122</td>\n",
       "      <td>0</td>\n",
       "      <td>1</td>\n",
       "      <td>0</td>\n",
       "      <td>0</td>\n",
       "      <td>0</td>\n",
       "      <td>0</td>\n",
       "      <td>0</td>\n",
       "      <td>0</td>\n",
       "      <td>0</td>\n",
       "      <td>0</td>\n",
       "      <td>0</td>\n",
       "    </tr>\n",
       "    <tr>\n",
       "      <th>3</th>\n",
       "      <td>2018-08-01 13:58:40</td>\n",
       "      <td>0</td>\n",
       "      <td>80.16</td>\n",
       "      <td>122</td>\n",
       "      <td>0</td>\n",
       "      <td>1</td>\n",
       "      <td>0</td>\n",
       "      <td>0</td>\n",
       "      <td>0</td>\n",
       "      <td>0</td>\n",
       "      <td>0</td>\n",
       "      <td>0</td>\n",
       "      <td>0</td>\n",
       "      <td>0</td>\n",
       "      <td>0</td>\n",
       "    </tr>\n",
       "    <tr>\n",
       "      <th>4</th>\n",
       "      <td>2018-06-19 4:18:11</td>\n",
       "      <td>0</td>\n",
       "      <td>90.07</td>\n",
       "      <td>79</td>\n",
       "      <td>0</td>\n",
       "      <td>0</td>\n",
       "      <td>0</td>\n",
       "      <td>0</td>\n",
       "      <td>0</td>\n",
       "      <td>0</td>\n",
       "      <td>0</td>\n",
       "      <td>0</td>\n",
       "      <td>1</td>\n",
       "      <td>0</td>\n",
       "      <td>0</td>\n",
       "    </tr>\n",
       "  </tbody>\n",
       "</table>\n",
       "</div>"
      ],
      "text/plain": [
       "              DATETIME  CUSTOMER_ID  TRASCATION AMOUNT  \\\n",
       "0  2018-09-20 11:49:41            0              88.11   \n",
       "1  2018-09-20 20:21:57            0              78.25   \n",
       "2  2018-08-01 12:11:36            0              62.28   \n",
       "3  2018-08-01 13:58:40            0              80.16   \n",
       "4   2018-06-19 4:18:11            0              90.07   \n",
       "\n",
       "   DAYS_SINCE_FIRST_TRANSACTION  FRAUD  Airways  Clothing  Electronics  Food  \\\n",
       "0                           172      0        0         0            0     0   \n",
       "1                           172      0        0         0            0     0   \n",
       "2                           122      0        1         0            0     0   \n",
       "3                           122      0        1         0            0     0   \n",
       "4                            79      0        0         0            0     0   \n",
       "\n",
       "   Footwear  Grocery  Hotels  Insulation  Rental Car  Retail  \n",
       "0         0        0       1           0           0       0  \n",
       "1         0        1       0           0           0       0  \n",
       "2         0        0       0           0           0       0  \n",
       "3         0        0       0           0           0       0  \n",
       "4         0        0       0           1           0       0  "
      ]
     },
     "execution_count": 54,
     "metadata": {},
     "output_type": "execute_result"
    }
   ],
   "source": [
    "# generate binary values using get_dummies\n",
    "# features = [\"TYPE of TRANSACTION\",\"quarter\",\"weekday_name\",\"month_name\"]\n",
    "df_dum = pd.get_dummies(df, columns=[\"TYPE of TRANSACTION\"],prefix='', prefix_sep='')\n",
    "\n",
    "df_dum.head()"
   ]
  },
  {
   "cell_type": "code",
   "execution_count": 55,
   "id": "c5af5014",
   "metadata": {
    "scrolled": true
   },
   "outputs": [
    {
     "data": {
      "text/html": [
       "<div>\n",
       "<style scoped>\n",
       "    .dataframe tbody tr th:only-of-type {\n",
       "        vertical-align: middle;\n",
       "    }\n",
       "\n",
       "    .dataframe tbody tr th {\n",
       "        vertical-align: top;\n",
       "    }\n",
       "\n",
       "    .dataframe thead th {\n",
       "        text-align: right;\n",
       "    }\n",
       "</style>\n",
       "<table border=\"1\" class=\"dataframe\">\n",
       "  <thead>\n",
       "    <tr style=\"text-align: right;\">\n",
       "      <th></th>\n",
       "      <th>DATETIME</th>\n",
       "      <th>CUSTOMER_ID</th>\n",
       "      <th>TYPE of TRANSACTION</th>\n",
       "      <th>TRASCATION AMOUNT</th>\n",
       "      <th>DAYS_SINCE_FIRST_TRANSACTION</th>\n",
       "      <th>FRAUD</th>\n",
       "    </tr>\n",
       "  </thead>\n",
       "  <tbody>\n",
       "    <tr>\n",
       "      <th>0</th>\n",
       "      <td>2018-09-20 11:49:41</td>\n",
       "      <td>0</td>\n",
       "      <td>Hotels</td>\n",
       "      <td>88.11</td>\n",
       "      <td>172</td>\n",
       "      <td>0</td>\n",
       "    </tr>\n",
       "    <tr>\n",
       "      <th>1</th>\n",
       "      <td>2018-09-20 20:21:57</td>\n",
       "      <td>0</td>\n",
       "      <td>Grocery</td>\n",
       "      <td>78.25</td>\n",
       "      <td>172</td>\n",
       "      <td>0</td>\n",
       "    </tr>\n",
       "    <tr>\n",
       "      <th>2</th>\n",
       "      <td>2018-08-01 12:11:36</td>\n",
       "      <td>0</td>\n",
       "      <td>Airways</td>\n",
       "      <td>62.28</td>\n",
       "      <td>122</td>\n",
       "      <td>0</td>\n",
       "    </tr>\n",
       "    <tr>\n",
       "      <th>3</th>\n",
       "      <td>2018-08-01 13:58:40</td>\n",
       "      <td>0</td>\n",
       "      <td>Airways</td>\n",
       "      <td>80.16</td>\n",
       "      <td>122</td>\n",
       "      <td>0</td>\n",
       "    </tr>\n",
       "    <tr>\n",
       "      <th>4</th>\n",
       "      <td>2018-06-19 4:18:11</td>\n",
       "      <td>0</td>\n",
       "      <td>Insulation</td>\n",
       "      <td>90.07</td>\n",
       "      <td>79</td>\n",
       "      <td>0</td>\n",
       "    </tr>\n",
       "  </tbody>\n",
       "</table>\n",
       "</div>"
      ],
      "text/plain": [
       "              DATETIME  CUSTOMER_ID TYPE of TRANSACTION  TRASCATION AMOUNT  \\\n",
       "0  2018-09-20 11:49:41            0              Hotels              88.11   \n",
       "1  2018-09-20 20:21:57            0             Grocery              78.25   \n",
       "2  2018-08-01 12:11:36            0             Airways              62.28   \n",
       "3  2018-08-01 13:58:40            0             Airways              80.16   \n",
       "4   2018-06-19 4:18:11            0          Insulation              90.07   \n",
       "\n",
       "   DAYS_SINCE_FIRST_TRANSACTION  FRAUD  \n",
       "0                           172      0  \n",
       "1                           172      0  \n",
       "2                           122      0  \n",
       "3                           122      0  \n",
       "4                            79      0  "
      ]
     },
     "execution_count": 55,
     "metadata": {},
     "output_type": "execute_result"
    }
   ],
   "source": [
    "df.head()"
   ]
  },
  {
   "cell_type": "code",
   "execution_count": 56,
   "id": "ec30c622",
   "metadata": {},
   "outputs": [
    {
     "data": {
      "text/plain": [
       "<AxesSubplot:>"
      ]
     },
     "execution_count": 56,
     "metadata": {},
     "output_type": "execute_result"
    },
    {
     "data": {
      "image/png": "[encoded data removed]",
      "text/plain": [
       "<Figure size 1152x360 with 2 Axes>"
      ]
     },
     "metadata": {
      "needs_background": "light"
     },
     "output_type": "display_data"
    }
   ],
   "source": [
    "mask = np.triu(np.ones_like(df.corr(), dtype=bool))\n",
    "plt.figure(figsize = (16,5))\n",
    "sns.heatmap(df.corr(),cmap='RdYlGn_r',annot=True, mask=mask)"
   ]
  },
  {
   "cell_type": "code",
   "execution_count": 142,
   "id": "089d76d1",
   "metadata": {
    "scrolled": true
   },
   "outputs": [
    {
     "data": {
      "image/png": "[encoded data removed]",
      "text/plain": [
       "<Figure size 864x288 with 2 Axes>"
      ]
     },
     "metadata": {
      "needs_background": "light"
     },
     "output_type": "display_data"
    }
   ],
   "source": [
    "# features = [\"TYPE of TRANSACTION\", \"month_name\",\"quarter\",\"time\",\"weekday_name\"]\n",
    "features = [\"TYPE of TRANSACTION\"]\n",
    "for f in features:\n",
    "    \n",
    "    fig, (ax1, ax2) = plt.subplots(2, 1, sharex=True, figsize=(12,4))\n",
    "    \n",
    "    Feature = df[f][df[\"FRAUD\"] == 1].value_counts(normalize=True).index\n",
    "    perc = 100*df[f][df[\"FRAUD\"] == 1].value_counts(normalize=True).values\n",
    "\n",
    "    ax1 = sns.barplot(data=pd.DataFrame({'Feature':Feature, 'Percent':perc}), x='Feature', y='Percent',ax=ax1)\n",
    "\n",
    "    Feature = df[f][df[\"FRAUD\"] == 0].value_counts(normalize=True).index\n",
    "    perc = 100*df[f][df[\"FRAUD\"] == 0].value_counts(normalize=True).values\n",
    "    \n",
    "    ax2 = sns.barplot(data=pd.DataFrame({'Feature':Feature, 'Percent':perc}), x='Feature', y='Percent',ax=ax2)\n",
    "    \n",
    "    \n",
    "    ax2.set(ylabel=None)\n",
    "    ax1.set(xlabel=None)\n",
    "    ax1.set(ylabel=None)\n",
    "    \n",
    "    plt.xlabel(f)\n",
    "    plt.ylabel(\"Percent\")\n",
    "    locs, labels = plt.xticks()\n",
    "    plt.setp(labels, rotation=45)\n",
    "    plt.show()"
   ]
  },
  {
   "cell_type": "markdown",
   "id": "c415af8e",
   "metadata": {},
   "source": [
    "vif to check multicollinearity"
   ]
  },
  {
   "cell_type": "code",
   "execution_count": 60,
   "id": "f2bdd776",
   "metadata": {},
   "outputs": [],
   "source": [
    "# load statmodels functions\n",
    "from statsmodels.stats.outliers_influence import variance_inflation_factor\n",
    "from statsmodels.tools.tools import add_constant\n",
    "\n",
    "# compute the vif for all given features \n",
    "def compute_vif(considered_features):\n",
    "    \n",
    "    X = df[considered_features]\n",
    "    # the calculation of variance inflation requires a constant\n",
    "    X = X.copy()\n",
    "    X[\"intercept\"] = 1\n",
    "\n",
    "    \n",
    "    # create dataframe to store vif values\n",
    "    vif = pd.DataFrame()\n",
    "    vif[\"Variable\"] = X.columns\n",
    "    vif[\"VIF\"] = [variance_inflation_factor(X.values, i) for i in range(X.shape[1])]\n",
    "    vif = vif[vif['Variable']!='intercept']\n",
    "    return vif"
   ]
  },
  {
   "cell_type": "code",
   "execution_count": 61,
   "id": "c4b3296f",
   "metadata": {
    "scrolled": true
   },
   "outputs": [
    {
     "data": {
      "text/html": [
       "<div>\n",
       "<style scoped>\n",
       "    .dataframe tbody tr th:only-of-type {\n",
       "        vertical-align: middle;\n",
       "    }\n",
       "\n",
       "    .dataframe tbody tr th {\n",
       "        vertical-align: top;\n",
       "    }\n",
       "\n",
       "    .dataframe thead th {\n",
       "        text-align: right;\n",
       "    }\n",
       "</style>\n",
       "<table border=\"1\" class=\"dataframe\">\n",
       "  <thead>\n",
       "    <tr style=\"text-align: right;\">\n",
       "      <th></th>\n",
       "      <th>Variable</th>\n",
       "      <th>VIF</th>\n",
       "    </tr>\n",
       "  </thead>\n",
       "  <tbody>\n",
       "    <tr>\n",
       "      <th>0</th>\n",
       "      <td>CUSTOMER_ID</td>\n",
       "      <td>1.001538</td>\n",
       "    </tr>\n",
       "    <tr>\n",
       "      <th>2</th>\n",
       "      <td>DAYS_SINCE_FIRST_TRANSACTION</td>\n",
       "      <td>1.001412</td>\n",
       "    </tr>\n",
       "    <tr>\n",
       "      <th>1</th>\n",
       "      <td>TRASCATION AMOUNT</td>\n",
       "      <td>1.000138</td>\n",
       "    </tr>\n",
       "  </tbody>\n",
       "</table>\n",
       "</div>"
      ],
      "text/plain": [
       "                       Variable       VIF\n",
       "0                   CUSTOMER_ID  1.001538\n",
       "2  DAYS_SINCE_FIRST_TRANSACTION  1.001412\n",
       "1             TRASCATION AMOUNT  1.000138"
      ]
     },
     "execution_count": 61,
     "metadata": {},
     "output_type": "execute_result"
    }
   ],
   "source": [
    "# # features to consider removing\n",
    "# considered_features = [\"TYPE of TRANSACTION\", \"month\", \"quarter\",\"dayofweek\",\"time\",\"weekday_name\"]\n",
    "considered_features = ['CUSTOMER_ID','TRASCATION AMOUNT','DAYS_SINCE_FIRST_TRANSACTION']\n",
    "\n",
    "\n",
    "# compute vif \n",
    "compute_vif(considered_features).sort_values('VIF', ascending=False)"
   ]
  },
  {
   "cell_type": "markdown",
   "id": "61545ac4",
   "metadata": {},
   "source": [
    "Splitting the data into test and train"
   ]
  },
  {
   "cell_type": "code",
   "execution_count": 62,
   "id": "1fae3c45",
   "metadata": {},
   "outputs": [
    {
     "data": {
      "text/html": [
       "<div>\n",
       "<style scoped>\n",
       "    .dataframe tbody tr th:only-of-type {\n",
       "        vertical-align: middle;\n",
       "    }\n",
       "\n",
       "    .dataframe tbody tr th {\n",
       "        vertical-align: top;\n",
       "    }\n",
       "\n",
       "    .dataframe thead th {\n",
       "        text-align: right;\n",
       "    }\n",
       "</style>\n",
       "<table border=\"1\" class=\"dataframe\">\n",
       "  <thead>\n",
       "    <tr style=\"text-align: right;\">\n",
       "      <th></th>\n",
       "      <th>DATETIME</th>\n",
       "      <th>CUSTOMER_ID</th>\n",
       "      <th>TYPE of TRANSACTION</th>\n",
       "      <th>TRASCATION AMOUNT</th>\n",
       "      <th>DAYS_SINCE_FIRST_TRANSACTION</th>\n",
       "      <th>FRAUD</th>\n",
       "    </tr>\n",
       "  </thead>\n",
       "  <tbody>\n",
       "    <tr>\n",
       "      <th>0</th>\n",
       "      <td>2018-09-20 11:49:41</td>\n",
       "      <td>0</td>\n",
       "      <td>Hotels</td>\n",
       "      <td>88.11</td>\n",
       "      <td>172</td>\n",
       "      <td>0</td>\n",
       "    </tr>\n",
       "    <tr>\n",
       "      <th>1</th>\n",
       "      <td>2018-09-20 20:21:57</td>\n",
       "      <td>0</td>\n",
       "      <td>Grocery</td>\n",
       "      <td>78.25</td>\n",
       "      <td>172</td>\n",
       "      <td>0</td>\n",
       "    </tr>\n",
       "    <tr>\n",
       "      <th>2</th>\n",
       "      <td>2018-08-01 12:11:36</td>\n",
       "      <td>0</td>\n",
       "      <td>Airways</td>\n",
       "      <td>62.28</td>\n",
       "      <td>122</td>\n",
       "      <td>0</td>\n",
       "    </tr>\n",
       "    <tr>\n",
       "      <th>3</th>\n",
       "      <td>2018-08-01 13:58:40</td>\n",
       "      <td>0</td>\n",
       "      <td>Airways</td>\n",
       "      <td>80.16</td>\n",
       "      <td>122</td>\n",
       "      <td>0</td>\n",
       "    </tr>\n",
       "    <tr>\n",
       "      <th>4</th>\n",
       "      <td>2018-06-19 4:18:11</td>\n",
       "      <td>0</td>\n",
       "      <td>Insulation</td>\n",
       "      <td>90.07</td>\n",
       "      <td>79</td>\n",
       "      <td>0</td>\n",
       "    </tr>\n",
       "  </tbody>\n",
       "</table>\n",
       "</div>"
      ],
      "text/plain": [
       "              DATETIME  CUSTOMER_ID TYPE of TRANSACTION  TRASCATION AMOUNT  \\\n",
       "0  2018-09-20 11:49:41            0              Hotels              88.11   \n",
       "1  2018-09-20 20:21:57            0             Grocery              78.25   \n",
       "2  2018-08-01 12:11:36            0             Airways              62.28   \n",
       "3  2018-08-01 13:58:40            0             Airways              80.16   \n",
       "4   2018-06-19 4:18:11            0          Insulation              90.07   \n",
       "\n",
       "   DAYS_SINCE_FIRST_TRANSACTION  FRAUD  \n",
       "0                           172      0  \n",
       "1                           172      0  \n",
       "2                           122      0  \n",
       "3                           122      0  \n",
       "4                            79      0  "
      ]
     },
     "execution_count": 62,
     "metadata": {},
     "output_type": "execute_result"
    }
   ],
   "source": [
    "df.head()"
   ]
  },
  {
   "cell_type": "code",
   "execution_count": 63,
   "id": "97598533",
   "metadata": {},
   "outputs": [],
   "source": [
    "#drop date columns \n",
    "# df_dum = df_le.drop([\"DATETIME\",\"date\",\"weekday_name\"],axis=1)\n",
    "df_dum = df_dum.drop([\"DATETIME\"],axis=1)"
   ]
  },
  {
   "cell_type": "code",
   "execution_count": 64,
   "id": "3d0b2ec1",
   "metadata": {},
   "outputs": [
    {
     "data": {
      "text/html": [
       "<div>\n",
       "<style scoped>\n",
       "    .dataframe tbody tr th:only-of-type {\n",
       "        vertical-align: middle;\n",
       "    }\n",
       "\n",
       "    .dataframe tbody tr th {\n",
       "        vertical-align: top;\n",
       "    }\n",
       "\n",
       "    .dataframe thead th {\n",
       "        text-align: right;\n",
       "    }\n",
       "</style>\n",
       "<table border=\"1\" class=\"dataframe\">\n",
       "  <thead>\n",
       "    <tr style=\"text-align: right;\">\n",
       "      <th></th>\n",
       "      <th>CUSTOMER_ID</th>\n",
       "      <th>TRASCATION AMOUNT</th>\n",
       "      <th>DAYS_SINCE_FIRST_TRANSACTION</th>\n",
       "      <th>FRAUD</th>\n",
       "      <th>Airways</th>\n",
       "      <th>Clothing</th>\n",
       "      <th>Electronics</th>\n",
       "      <th>Food</th>\n",
       "      <th>Footwear</th>\n",
       "      <th>Grocery</th>\n",
       "      <th>Hotels</th>\n",
       "      <th>Insulation</th>\n",
       "      <th>Rental Car</th>\n",
       "      <th>Retail</th>\n",
       "    </tr>\n",
       "  </thead>\n",
       "  <tbody>\n",
       "    <tr>\n",
       "      <th>0</th>\n",
       "      <td>0</td>\n",
       "      <td>88.11</td>\n",
       "      <td>172</td>\n",
       "      <td>0</td>\n",
       "      <td>0</td>\n",
       "      <td>0</td>\n",
       "      <td>0</td>\n",
       "      <td>0</td>\n",
       "      <td>0</td>\n",
       "      <td>0</td>\n",
       "      <td>1</td>\n",
       "      <td>0</td>\n",
       "      <td>0</td>\n",
       "      <td>0</td>\n",
       "    </tr>\n",
       "    <tr>\n",
       "      <th>1</th>\n",
       "      <td>0</td>\n",
       "      <td>78.25</td>\n",
       "      <td>172</td>\n",
       "      <td>0</td>\n",
       "      <td>0</td>\n",
       "      <td>0</td>\n",
       "      <td>0</td>\n",
       "      <td>0</td>\n",
       "      <td>0</td>\n",
       "      <td>1</td>\n",
       "      <td>0</td>\n",
       "      <td>0</td>\n",
       "      <td>0</td>\n",
       "      <td>0</td>\n",
       "    </tr>\n",
       "    <tr>\n",
       "      <th>2</th>\n",
       "      <td>0</td>\n",
       "      <td>62.28</td>\n",
       "      <td>122</td>\n",
       "      <td>0</td>\n",
       "      <td>1</td>\n",
       "      <td>0</td>\n",
       "      <td>0</td>\n",
       "      <td>0</td>\n",
       "      <td>0</td>\n",
       "      <td>0</td>\n",
       "      <td>0</td>\n",
       "      <td>0</td>\n",
       "      <td>0</td>\n",
       "      <td>0</td>\n",
       "    </tr>\n",
       "    <tr>\n",
       "      <th>3</th>\n",
       "      <td>0</td>\n",
       "      <td>80.16</td>\n",
       "      <td>122</td>\n",
       "      <td>0</td>\n",
       "      <td>1</td>\n",
       "      <td>0</td>\n",
       "      <td>0</td>\n",
       "      <td>0</td>\n",
       "      <td>0</td>\n",
       "      <td>0</td>\n",
       "      <td>0</td>\n",
       "      <td>0</td>\n",
       "      <td>0</td>\n",
       "      <td>0</td>\n",
       "    </tr>\n",
       "    <tr>\n",
       "      <th>4</th>\n",
       "      <td>0</td>\n",
       "      <td>90.07</td>\n",
       "      <td>79</td>\n",
       "      <td>0</td>\n",
       "      <td>0</td>\n",
       "      <td>0</td>\n",
       "      <td>0</td>\n",
       "      <td>0</td>\n",
       "      <td>0</td>\n",
       "      <td>0</td>\n",
       "      <td>0</td>\n",
       "      <td>1</td>\n",
       "      <td>0</td>\n",
       "      <td>0</td>\n",
       "    </tr>\n",
       "  </tbody>\n",
       "</table>\n",
       "</div>"
      ],
      "text/plain": [
       "   CUSTOMER_ID  TRASCATION AMOUNT  DAYS_SINCE_FIRST_TRANSACTION  FRAUD  \\\n",
       "0            0              88.11                           172      0   \n",
       "1            0              78.25                           172      0   \n",
       "2            0              62.28                           122      0   \n",
       "3            0              80.16                           122      0   \n",
       "4            0              90.07                            79      0   \n",
       "\n",
       "   Airways  Clothing  Electronics  Food  Footwear  Grocery  Hotels  \\\n",
       "0        0         0            0     0         0        0       1   \n",
       "1        0         0            0     0         0        1       0   \n",
       "2        1         0            0     0         0        0       0   \n",
       "3        1         0            0     0         0        0       0   \n",
       "4        0         0            0     0         0        0       0   \n",
       "\n",
       "   Insulation  Rental Car  Retail  \n",
       "0           0           0       0  \n",
       "1           0           0       0  \n",
       "2           0           0       0  \n",
       "3           0           0       0  \n",
       "4           1           0       0  "
      ]
     },
     "execution_count": 64,
     "metadata": {},
     "output_type": "execute_result"
    }
   ],
   "source": [
    "df_dum.head()"
   ]
  },
  {
   "cell_type": "code",
   "execution_count": 65,
   "id": "05296f83",
   "metadata": {},
   "outputs": [],
   "source": [
    "y= df_dum[\"FRAUD\"]\n",
    "X = df_dum.drop(\"FRAUD\", axis = 1)"
   ]
  },
  {
   "cell_type": "code",
   "execution_count": 66,
   "id": "d9fa08cd",
   "metadata": {},
   "outputs": [
    {
     "data": {
      "text/html": [
       "<div>\n",
       "<style scoped>\n",
       "    .dataframe tbody tr th:only-of-type {\n",
       "        vertical-align: middle;\n",
       "    }\n",
       "\n",
       "    .dataframe tbody tr th {\n",
       "        vertical-align: top;\n",
       "    }\n",
       "\n",
       "    .dataframe thead th {\n",
       "        text-align: right;\n",
       "    }\n",
       "</style>\n",
       "<table border=\"1\" class=\"dataframe\">\n",
       "  <thead>\n",
       "    <tr style=\"text-align: right;\">\n",
       "      <th></th>\n",
       "      <th>CUSTOMER_ID</th>\n",
       "      <th>TRASCATION AMOUNT</th>\n",
       "      <th>DAYS_SINCE_FIRST_TRANSACTION</th>\n",
       "      <th>Airways</th>\n",
       "      <th>Clothing</th>\n",
       "      <th>Electronics</th>\n",
       "      <th>Food</th>\n",
       "      <th>Footwear</th>\n",
       "      <th>Grocery</th>\n",
       "      <th>Hotels</th>\n",
       "      <th>Insulation</th>\n",
       "      <th>Rental Car</th>\n",
       "      <th>Retail</th>\n",
       "    </tr>\n",
       "  </thead>\n",
       "  <tbody>\n",
       "    <tr>\n",
       "      <th>0</th>\n",
       "      <td>0</td>\n",
       "      <td>88.11</td>\n",
       "      <td>172</td>\n",
       "      <td>0</td>\n",
       "      <td>0</td>\n",
       "      <td>0</td>\n",
       "      <td>0</td>\n",
       "      <td>0</td>\n",
       "      <td>0</td>\n",
       "      <td>1</td>\n",
       "      <td>0</td>\n",
       "      <td>0</td>\n",
       "      <td>0</td>\n",
       "    </tr>\n",
       "    <tr>\n",
       "      <th>1</th>\n",
       "      <td>0</td>\n",
       "      <td>78.25</td>\n",
       "      <td>172</td>\n",
       "      <td>0</td>\n",
       "      <td>0</td>\n",
       "      <td>0</td>\n",
       "      <td>0</td>\n",
       "      <td>0</td>\n",
       "      <td>1</td>\n",
       "      <td>0</td>\n",
       "      <td>0</td>\n",
       "      <td>0</td>\n",
       "      <td>0</td>\n",
       "    </tr>\n",
       "    <tr>\n",
       "      <th>2</th>\n",
       "      <td>0</td>\n",
       "      <td>62.28</td>\n",
       "      <td>122</td>\n",
       "      <td>1</td>\n",
       "      <td>0</td>\n",
       "      <td>0</td>\n",
       "      <td>0</td>\n",
       "      <td>0</td>\n",
       "      <td>0</td>\n",
       "      <td>0</td>\n",
       "      <td>0</td>\n",
       "      <td>0</td>\n",
       "      <td>0</td>\n",
       "    </tr>\n",
       "    <tr>\n",
       "      <th>3</th>\n",
       "      <td>0</td>\n",
       "      <td>80.16</td>\n",
       "      <td>122</td>\n",
       "      <td>1</td>\n",
       "      <td>0</td>\n",
       "      <td>0</td>\n",
       "      <td>0</td>\n",
       "      <td>0</td>\n",
       "      <td>0</td>\n",
       "      <td>0</td>\n",
       "      <td>0</td>\n",
       "      <td>0</td>\n",
       "      <td>0</td>\n",
       "    </tr>\n",
       "    <tr>\n",
       "      <th>4</th>\n",
       "      <td>0</td>\n",
       "      <td>90.07</td>\n",
       "      <td>79</td>\n",
       "      <td>0</td>\n",
       "      <td>0</td>\n",
       "      <td>0</td>\n",
       "      <td>0</td>\n",
       "      <td>0</td>\n",
       "      <td>0</td>\n",
       "      <td>0</td>\n",
       "      <td>1</td>\n",
       "      <td>0</td>\n",
       "      <td>0</td>\n",
       "    </tr>\n",
       "  </tbody>\n",
       "</table>\n",
       "</div>"
      ],
      "text/plain": [
       "   CUSTOMER_ID  TRASCATION AMOUNT  DAYS_SINCE_FIRST_TRANSACTION  Airways  \\\n",
       "0            0              88.11                           172        0   \n",
       "1            0              78.25                           172        0   \n",
       "2            0              62.28                           122        1   \n",
       "3            0              80.16                           122        1   \n",
       "4            0              90.07                            79        0   \n",
       "\n",
       "   Clothing  Electronics  Food  Footwear  Grocery  Hotels  Insulation  \\\n",
       "0         0            0     0         0        0       1           0   \n",
       "1         0            0     0         0        1       0           0   \n",
       "2         0            0     0         0        0       0           0   \n",
       "3         0            0     0         0        0       0           0   \n",
       "4         0            0     0         0        0       0           1   \n",
       "\n",
       "   Rental Car  Retail  \n",
       "0           0       0  \n",
       "1           0       0  \n",
       "2           0       0  \n",
       "3           0       0  \n",
       "4           0       0  "
      ]
     },
     "execution_count": 66,
     "metadata": {},
     "output_type": "execute_result"
    }
   ],
   "source": [
    "X.head()"
   ]
  },
  {
   "cell_type": "code",
   "execution_count": 67,
   "id": "5aa3b3ac",
   "metadata": {
    "scrolled": true
   },
   "outputs": [],
   "source": [
    "# from sklearn.preprocessing import MinMaxScaler\n",
    "# cols_to_norm = ['TRASCATION AMOUNT','DAYS_SINCE_FIRST_TRANSACTION']\n",
    "\n",
    "# scaler = MinMaxScaler()\n",
    "# X[cols_to_norm] = scaler.fit_transform(X[cols_to_norm])"
   ]
  },
  {
   "cell_type": "code",
   "execution_count": 68,
   "id": "4610d8ad",
   "metadata": {},
   "outputs": [],
   "source": [
    "# PCA or not\n",
    "X_scaled = X"
   ]
  },
  {
   "cell_type": "code",
   "execution_count": 69,
   "id": "9e0e2965",
   "metadata": {},
   "outputs": [],
   "source": [
    "X_scaled_df = pd.DataFrame(X_scaled, index=X.index, columns=X.columns)"
   ]
  },
  {
   "cell_type": "code",
   "execution_count": 70,
   "id": "6d80af5c",
   "metadata": {},
   "outputs": [
    {
     "data": {
      "text/html": [
       "<div>\n",
       "<style scoped>\n",
       "    .dataframe tbody tr th:only-of-type {\n",
       "        vertical-align: middle;\n",
       "    }\n",
       "\n",
       "    .dataframe tbody tr th {\n",
       "        vertical-align: top;\n",
       "    }\n",
       "\n",
       "    .dataframe thead th {\n",
       "        text-align: right;\n",
       "    }\n",
       "</style>\n",
       "<table border=\"1\" class=\"dataframe\">\n",
       "  <thead>\n",
       "    <tr style=\"text-align: right;\">\n",
       "      <th></th>\n",
       "      <th>CUSTOMER_ID</th>\n",
       "      <th>TRASCATION AMOUNT</th>\n",
       "      <th>DAYS_SINCE_FIRST_TRANSACTION</th>\n",
       "      <th>Airways</th>\n",
       "      <th>Clothing</th>\n",
       "      <th>Electronics</th>\n",
       "      <th>Food</th>\n",
       "      <th>Footwear</th>\n",
       "      <th>Grocery</th>\n",
       "      <th>Hotels</th>\n",
       "      <th>Insulation</th>\n",
       "      <th>Rental Car</th>\n",
       "      <th>Retail</th>\n",
       "    </tr>\n",
       "  </thead>\n",
       "  <tbody>\n",
       "    <tr>\n",
       "      <th>0</th>\n",
       "      <td>0</td>\n",
       "      <td>88.11</td>\n",
       "      <td>172</td>\n",
       "      <td>0</td>\n",
       "      <td>0</td>\n",
       "      <td>0</td>\n",
       "      <td>0</td>\n",
       "      <td>0</td>\n",
       "      <td>0</td>\n",
       "      <td>1</td>\n",
       "      <td>0</td>\n",
       "      <td>0</td>\n",
       "      <td>0</td>\n",
       "    </tr>\n",
       "    <tr>\n",
       "      <th>1</th>\n",
       "      <td>0</td>\n",
       "      <td>78.25</td>\n",
       "      <td>172</td>\n",
       "      <td>0</td>\n",
       "      <td>0</td>\n",
       "      <td>0</td>\n",
       "      <td>0</td>\n",
       "      <td>0</td>\n",
       "      <td>1</td>\n",
       "      <td>0</td>\n",
       "      <td>0</td>\n",
       "      <td>0</td>\n",
       "      <td>0</td>\n",
       "    </tr>\n",
       "    <tr>\n",
       "      <th>2</th>\n",
       "      <td>0</td>\n",
       "      <td>62.28</td>\n",
       "      <td>122</td>\n",
       "      <td>1</td>\n",
       "      <td>0</td>\n",
       "      <td>0</td>\n",
       "      <td>0</td>\n",
       "      <td>0</td>\n",
       "      <td>0</td>\n",
       "      <td>0</td>\n",
       "      <td>0</td>\n",
       "      <td>0</td>\n",
       "      <td>0</td>\n",
       "    </tr>\n",
       "    <tr>\n",
       "      <th>3</th>\n",
       "      <td>0</td>\n",
       "      <td>80.16</td>\n",
       "      <td>122</td>\n",
       "      <td>1</td>\n",
       "      <td>0</td>\n",
       "      <td>0</td>\n",
       "      <td>0</td>\n",
       "      <td>0</td>\n",
       "      <td>0</td>\n",
       "      <td>0</td>\n",
       "      <td>0</td>\n",
       "      <td>0</td>\n",
       "      <td>0</td>\n",
       "    </tr>\n",
       "    <tr>\n",
       "      <th>4</th>\n",
       "      <td>0</td>\n",
       "      <td>90.07</td>\n",
       "      <td>79</td>\n",
       "      <td>0</td>\n",
       "      <td>0</td>\n",
       "      <td>0</td>\n",
       "      <td>0</td>\n",
       "      <td>0</td>\n",
       "      <td>0</td>\n",
       "      <td>0</td>\n",
       "      <td>1</td>\n",
       "      <td>0</td>\n",
       "      <td>0</td>\n",
       "    </tr>\n",
       "  </tbody>\n",
       "</table>\n",
       "</div>"
      ],
      "text/plain": [
       "   CUSTOMER_ID  TRASCATION AMOUNT  DAYS_SINCE_FIRST_TRANSACTION  Airways  \\\n",
       "0            0              88.11                           172        0   \n",
       "1            0              78.25                           172        0   \n",
       "2            0              62.28                           122        1   \n",
       "3            0              80.16                           122        1   \n",
       "4            0              90.07                            79        0   \n",
       "\n",
       "   Clothing  Electronics  Food  Footwear  Grocery  Hotels  Insulation  \\\n",
       "0         0            0     0         0        0       1           0   \n",
       "1         0            0     0         0        1       0           0   \n",
       "2         0            0     0         0        0       0           0   \n",
       "3         0            0     0         0        0       0           0   \n",
       "4         0            0     0         0        0       0           1   \n",
       "\n",
       "   Rental Car  Retail  \n",
       "0           0       0  \n",
       "1           0       0  \n",
       "2           0       0  \n",
       "3           0       0  \n",
       "4           0       0  "
      ]
     },
     "execution_count": 70,
     "metadata": {},
     "output_type": "execute_result"
    }
   ],
   "source": [
    "X_scaled_df.head()"
   ]
  },
  {
   "cell_type": "code",
   "execution_count": 71,
   "id": "3954bf0b",
   "metadata": {},
   "outputs": [],
   "source": [
    "# Spltting the into 80:20 train test size\n",
    "X_train, X_test, y_train, y_test = train_test_split(X_scaled_df, y, test_size=0.2, random_state = 42, stratify=y)"
   ]
  },
  {
   "cell_type": "code",
   "execution_count": 72,
   "id": "71709828",
   "metadata": {
    "scrolled": true
   },
   "outputs": [
    {
     "data": {
      "text/plain": [
       "0    0.991057\n",
       "1    0.008943\n",
       "Name: FRAUD, dtype: float64"
      ]
     },
     "execution_count": 72,
     "metadata": {},
     "output_type": "execute_result"
    }
   ],
   "source": [
    "y_train.value_counts(normalize=True)"
   ]
  },
  {
   "cell_type": "code",
   "execution_count": 73,
   "id": "eaf359d7",
   "metadata": {},
   "outputs": [
    {
     "data": {
      "text/html": [
       "<div>\n",
       "<style scoped>\n",
       "    .dataframe tbody tr th:only-of-type {\n",
       "        vertical-align: middle;\n",
       "    }\n",
       "\n",
       "    .dataframe tbody tr th {\n",
       "        vertical-align: top;\n",
       "    }\n",
       "\n",
       "    .dataframe thead th {\n",
       "        text-align: right;\n",
       "    }\n",
       "</style>\n",
       "<table border=\"1\" class=\"dataframe\">\n",
       "  <thead>\n",
       "    <tr style=\"text-align: right;\">\n",
       "      <th></th>\n",
       "      <th>CUSTOMER_ID</th>\n",
       "      <th>TRASCATION AMOUNT</th>\n",
       "      <th>DAYS_SINCE_FIRST_TRANSACTION</th>\n",
       "      <th>Airways</th>\n",
       "      <th>Clothing</th>\n",
       "      <th>Electronics</th>\n",
       "      <th>Food</th>\n",
       "      <th>Footwear</th>\n",
       "      <th>Grocery</th>\n",
       "      <th>Hotels</th>\n",
       "      <th>Insulation</th>\n",
       "      <th>Rental Car</th>\n",
       "      <th>Retail</th>\n",
       "    </tr>\n",
       "  </thead>\n",
       "  <tbody>\n",
       "    <tr>\n",
       "      <th>63765</th>\n",
       "      <td>4721</td>\n",
       "      <td>7.57</td>\n",
       "      <td>172</td>\n",
       "      <td>0</td>\n",
       "      <td>0</td>\n",
       "      <td>0</td>\n",
       "      <td>1</td>\n",
       "      <td>0</td>\n",
       "      <td>0</td>\n",
       "      <td>0</td>\n",
       "      <td>0</td>\n",
       "      <td>0</td>\n",
       "      <td>0</td>\n",
       "    </tr>\n",
       "    <tr>\n",
       "      <th>50663</th>\n",
       "      <td>3552</td>\n",
       "      <td>40.74</td>\n",
       "      <td>108</td>\n",
       "      <td>0</td>\n",
       "      <td>0</td>\n",
       "      <td>1</td>\n",
       "      <td>0</td>\n",
       "      <td>0</td>\n",
       "      <td>0</td>\n",
       "      <td>0</td>\n",
       "      <td>0</td>\n",
       "      <td>0</td>\n",
       "      <td>0</td>\n",
       "    </tr>\n",
       "    <tr>\n",
       "      <th>3726</th>\n",
       "      <td>301</td>\n",
       "      <td>32.79</td>\n",
       "      <td>157</td>\n",
       "      <td>0</td>\n",
       "      <td>0</td>\n",
       "      <td>0</td>\n",
       "      <td>0</td>\n",
       "      <td>0</td>\n",
       "      <td>1</td>\n",
       "      <td>0</td>\n",
       "      <td>0</td>\n",
       "      <td>0</td>\n",
       "      <td>0</td>\n",
       "    </tr>\n",
       "    <tr>\n",
       "      <th>39851</th>\n",
       "      <td>2694</td>\n",
       "      <td>20.84</td>\n",
       "      <td>79</td>\n",
       "      <td>0</td>\n",
       "      <td>0</td>\n",
       "      <td>0</td>\n",
       "      <td>0</td>\n",
       "      <td>0</td>\n",
       "      <td>0</td>\n",
       "      <td>0</td>\n",
       "      <td>1</td>\n",
       "      <td>0</td>\n",
       "      <td>0</td>\n",
       "    </tr>\n",
       "    <tr>\n",
       "      <th>14186</th>\n",
       "      <td>894</td>\n",
       "      <td>14.97</td>\n",
       "      <td>9</td>\n",
       "      <td>0</td>\n",
       "      <td>0</td>\n",
       "      <td>0</td>\n",
       "      <td>0</td>\n",
       "      <td>1</td>\n",
       "      <td>0</td>\n",
       "      <td>0</td>\n",
       "      <td>0</td>\n",
       "      <td>0</td>\n",
       "      <td>0</td>\n",
       "    </tr>\n",
       "  </tbody>\n",
       "</table>\n",
       "</div>"
      ],
      "text/plain": [
       "       CUSTOMER_ID  TRASCATION AMOUNT  DAYS_SINCE_FIRST_TRANSACTION  Airways  \\\n",
       "63765         4721               7.57                           172        0   \n",
       "50663         3552              40.74                           108        0   \n",
       "3726           301              32.79                           157        0   \n",
       "39851         2694              20.84                            79        0   \n",
       "14186          894              14.97                             9        0   \n",
       "\n",
       "       Clothing  Electronics  Food  Footwear  Grocery  Hotels  Insulation  \\\n",
       "63765         0            0     1         0        0       0           0   \n",
       "50663         0            1     0         0        0       0           0   \n",
       "3726          0            0     0         0        1       0           0   \n",
       "39851         0            0     0         0        0       0           1   \n",
       "14186         0            0     0         1        0       0           0   \n",
       "\n",
       "       Rental Car  Retail  \n",
       "63765           0       0  \n",
       "50663           0       0  \n",
       "3726            0       0  \n",
       "39851           0       0  \n",
       "14186           0       0  "
      ]
     },
     "execution_count": 73,
     "metadata": {},
     "output_type": "execute_result"
    }
   ],
   "source": [
    "X_train.head()"
   ]
  },
  {
   "cell_type": "markdown",
   "id": "ad79123d",
   "metadata": {},
   "source": [
    "# Model Building with Imbalance data"
   ]
  },
  {
   "cell_type": "code",
   "execution_count": 74,
   "id": "2ae48107",
   "metadata": {},
   "outputs": [],
   "source": [
    "# Creating function to display ROC-AUC score, f1 score and classification report\n",
    "def display_scores(y_test, y_pred):\n",
    "    '''\n",
    "    Display ROC-AUC score, f1 score and classification report of a model.\n",
    "    '''\n",
    "    print(f\"F1 Score: {round(f1_score(y_test, y_pred)*100,2)}%\") \n",
    "    print(f\"Classification Report: \\n {classification_report(y_test, y_pred)}\")"
   ]
  },
  {
   "cell_type": "code",
   "execution_count": 75,
   "id": "2cbc87ba",
   "metadata": {},
   "outputs": [],
   "source": [
    "# ROC Curve function(receiver operating characteristic curve)\n",
    "def draw_roc( actual, probs ):\n",
    "    fpr, tpr, thresholds = metrics.roc_curve( actual, probs,\n",
    "                                              drop_intermediate = False )\n",
    "    auc_score = metrics.roc_auc_score( actual, probs )\n",
    "    plt.figure(figsize=(5, 5))\n",
    "    plt.plot( fpr, tpr, label='ROC curve (area = %0.2f)' % auc_score )\n",
    "    plt.plot([0, 1], [0, 1], 'k--')\n",
    "    plt.xlim([0.0, 1.0])\n",
    "    plt.ylim([0.0, 1.05])\n",
    "    plt.xlabel('False Positive Rate or [1 - True Negative Rate]')\n",
    "    plt.ylabel('True Positive Rate')\n",
    "    plt.title('Receiver operating characteristic example')\n",
    "    plt.legend(loc=\"lower right\")\n",
    "    plt.show()\n",
    "\n",
    "    return None"
   ]
  },
  {
   "cell_type": "markdown",
   "id": "bdc59f2f",
   "metadata": {},
   "source": [
    "## 1.Logistic Regression"
   ]
  },
  {
   "cell_type": "code",
   "execution_count": 143,
   "id": "389a3d85",
   "metadata": {},
   "outputs": [
    {
     "name": "stdout",
     "output_type": "stream",
     "text": [
      "Fitting 5 folds for each of 6 candidates, totalling 30 fits\n",
      "Best ROC AUC score:  0.7005069902664883\n",
      "Best hyperparameters:  {'C': 1}\n"
     ]
    }
   ],
   "source": [
    "# Logistic Regression parameters for K-fold cross vaidation\n",
    "params = {\"C\": [0.01, 0.1, 1, 10, 100, 1000]} # larger C - more prone to overfit\n",
    "folds = KFold(n_splits=5, shuffle=True, random_state=4)\n",
    "\n",
    "\n",
    "#perform cross validation\n",
    "model_cv = GridSearchCV(estimator = LogisticRegression(max_iter=1000),\n",
    "                        param_grid = params, \n",
    "                        scoring= 'roc_auc', \n",
    "                        cv = folds, \n",
    "                        n_jobs=-1,\n",
    "                        verbose = 1,\n",
    "                        return_train_score=True) \n",
    "#perform hyperparameter tuning\n",
    "model_cv.fit(X_train, y_train)\n",
    "#print the evaluation result by choosing a evaluation metric\n",
    "print('Best ROC AUC score: ', model_cv.best_score_)\n",
    "#print the optimum value of hyperparameters\n",
    "print('Best hyperparameters: ', model_cv.best_params_)"
   ]
  },
  {
   "cell_type": "code",
   "execution_count": 77,
   "id": "5708a386",
   "metadata": {
    "scrolled": true
   },
   "outputs": [
    {
     "data": {
      "text/html": [
       "<div>\n",
       "<style scoped>\n",
       "    .dataframe tbody tr th:only-of-type {\n",
       "        vertical-align: middle;\n",
       "    }\n",
       "\n",
       "    .dataframe tbody tr th {\n",
       "        vertical-align: top;\n",
       "    }\n",
       "\n",
       "    .dataframe thead th {\n",
       "        text-align: right;\n",
       "    }\n",
       "</style>\n",
       "<table border=\"1\" class=\"dataframe\">\n",
       "  <thead>\n",
       "    <tr style=\"text-align: right;\">\n",
       "      <th></th>\n",
       "      <th>mean_fit_time</th>\n",
       "      <th>std_fit_time</th>\n",
       "      <th>mean_score_time</th>\n",
       "      <th>std_score_time</th>\n",
       "      <th>param_C</th>\n",
       "      <th>params</th>\n",
       "      <th>split0_test_score</th>\n",
       "      <th>split1_test_score</th>\n",
       "      <th>split2_test_score</th>\n",
       "      <th>split3_test_score</th>\n",
       "      <th>...</th>\n",
       "      <th>mean_test_score</th>\n",
       "      <th>std_test_score</th>\n",
       "      <th>rank_test_score</th>\n",
       "      <th>split0_train_score</th>\n",
       "      <th>split1_train_score</th>\n",
       "      <th>split2_train_score</th>\n",
       "      <th>split3_train_score</th>\n",
       "      <th>split4_train_score</th>\n",
       "      <th>mean_train_score</th>\n",
       "      <th>std_train_score</th>\n",
       "    </tr>\n",
       "  </thead>\n",
       "  <tbody>\n",
       "    <tr>\n",
       "      <th>0</th>\n",
       "      <td>0.733175</td>\n",
       "      <td>0.095339</td>\n",
       "      <td>0.012576</td>\n",
       "      <td>0.006290</td>\n",
       "      <td>0.01</td>\n",
       "      <td>{'C': 0.01}</td>\n",
       "      <td>0.707124</td>\n",
       "      <td>0.673102</td>\n",
       "      <td>0.665176</td>\n",
       "      <td>0.703125</td>\n",
       "      <td>...</td>\n",
       "      <td>0.694730</td>\n",
       "      <td>0.022311</td>\n",
       "      <td>6</td>\n",
       "      <td>0.696022</td>\n",
       "      <td>0.703775</td>\n",
       "      <td>0.705429</td>\n",
       "      <td>0.694625</td>\n",
       "      <td>0.694347</td>\n",
       "      <td>0.698839</td>\n",
       "      <td>0.004768</td>\n",
       "    </tr>\n",
       "    <tr>\n",
       "      <th>1</th>\n",
       "      <td>0.987337</td>\n",
       "      <td>0.168961</td>\n",
       "      <td>0.012728</td>\n",
       "      <td>0.006379</td>\n",
       "      <td>0.1</td>\n",
       "      <td>{'C': 0.1}</td>\n",
       "      <td>0.707175</td>\n",
       "      <td>0.681608</td>\n",
       "      <td>0.671355</td>\n",
       "      <td>0.711498</td>\n",
       "      <td>...</td>\n",
       "      <td>0.700462</td>\n",
       "      <td>0.021364</td>\n",
       "      <td>2</td>\n",
       "      <td>0.709492</td>\n",
       "      <td>0.713267</td>\n",
       "      <td>0.716790</td>\n",
       "      <td>0.701323</td>\n",
       "      <td>0.707473</td>\n",
       "      <td>0.709669</td>\n",
       "      <td>0.005256</td>\n",
       "    </tr>\n",
       "    <tr>\n",
       "      <th>2</th>\n",
       "      <td>0.672776</td>\n",
       "      <td>0.170106</td>\n",
       "      <td>0.003125</td>\n",
       "      <td>0.006250</td>\n",
       "      <td>1</td>\n",
       "      <td>{'C': 1}</td>\n",
       "      <td>0.705007</td>\n",
       "      <td>0.689844</td>\n",
       "      <td>0.652716</td>\n",
       "      <td>0.721516</td>\n",
       "      <td>...</td>\n",
       "      <td>0.700507</td>\n",
       "      <td>0.028088</td>\n",
       "      <td>1</td>\n",
       "      <td>0.712466</td>\n",
       "      <td>0.706010</td>\n",
       "      <td>0.712205</td>\n",
       "      <td>0.708130</td>\n",
       "      <td>0.710660</td>\n",
       "      <td>0.709894</td>\n",
       "      <td>0.002479</td>\n",
       "    </tr>\n",
       "    <tr>\n",
       "      <th>3</th>\n",
       "      <td>0.735958</td>\n",
       "      <td>0.327910</td>\n",
       "      <td>0.017545</td>\n",
       "      <td>0.013131</td>\n",
       "      <td>10</td>\n",
       "      <td>{'C': 10}</td>\n",
       "      <td>0.709581</td>\n",
       "      <td>0.687857</td>\n",
       "      <td>0.652489</td>\n",
       "      <td>0.717355</td>\n",
       "      <td>...</td>\n",
       "      <td>0.698617</td>\n",
       "      <td>0.026283</td>\n",
       "      <td>3</td>\n",
       "      <td>0.711914</td>\n",
       "      <td>0.715641</td>\n",
       "      <td>0.712273</td>\n",
       "      <td>0.700342</td>\n",
       "      <td>0.700159</td>\n",
       "      <td>0.708066</td>\n",
       "      <td>0.006513</td>\n",
       "    </tr>\n",
       "    <tr>\n",
       "      <th>4</th>\n",
       "      <td>0.648674</td>\n",
       "      <td>0.270870</td>\n",
       "      <td>0.014578</td>\n",
       "      <td>0.003336</td>\n",
       "      <td>100</td>\n",
       "      <td>{'C': 100}</td>\n",
       "      <td>0.704423</td>\n",
       "      <td>0.689508</td>\n",
       "      <td>0.649541</td>\n",
       "      <td>0.717402</td>\n",
       "      <td>...</td>\n",
       "      <td>0.695522</td>\n",
       "      <td>0.025134</td>\n",
       "      <td>5</td>\n",
       "      <td>0.712498</td>\n",
       "      <td>0.706015</td>\n",
       "      <td>0.689366</td>\n",
       "      <td>0.700370</td>\n",
       "      <td>0.674530</td>\n",
       "      <td>0.696556</td>\n",
       "      <td>0.013379</td>\n",
       "    </tr>\n",
       "    <tr>\n",
       "      <th>5</th>\n",
       "      <td>0.622084</td>\n",
       "      <td>0.115907</td>\n",
       "      <td>0.011245</td>\n",
       "      <td>0.003883</td>\n",
       "      <td>1000</td>\n",
       "      <td>{'C': 1000}</td>\n",
       "      <td>0.704418</td>\n",
       "      <td>0.688244</td>\n",
       "      <td>0.649546</td>\n",
       "      <td>0.722199</td>\n",
       "      <td>...</td>\n",
       "      <td>0.698040</td>\n",
       "      <td>0.027721</td>\n",
       "      <td>4</td>\n",
       "      <td>0.712491</td>\n",
       "      <td>0.716082</td>\n",
       "      <td>0.689368</td>\n",
       "      <td>0.708535</td>\n",
       "      <td>0.700157</td>\n",
       "      <td>0.705326</td>\n",
       "      <td>0.009578</td>\n",
       "    </tr>\n",
       "  </tbody>\n",
       "</table>\n",
       "<p>6 rows × 21 columns</p>\n",
       "</div>"
      ],
      "text/plain": [
       "   mean_fit_time  std_fit_time  mean_score_time  std_score_time param_C  \\\n",
       "0       0.733175      0.095339         0.012576        0.006290    0.01   \n",
       "1       0.987337      0.168961         0.012728        0.006379     0.1   \n",
       "2       0.672776      0.170106         0.003125        0.006250       1   \n",
       "3       0.735958      0.327910         0.017545        0.013131      10   \n",
       "4       0.648674      0.270870         0.014578        0.003336     100   \n",
       "5       0.622084      0.115907         0.011245        0.003883    1000   \n",
       "\n",
       "        params  split0_test_score  split1_test_score  split2_test_score  \\\n",
       "0  {'C': 0.01}           0.707124           0.673102           0.665176   \n",
       "1   {'C': 0.1}           0.707175           0.681608           0.671355   \n",
       "2     {'C': 1}           0.705007           0.689844           0.652716   \n",
       "3    {'C': 10}           0.709581           0.687857           0.652489   \n",
       "4   {'C': 100}           0.704423           0.689508           0.649541   \n",
       "5  {'C': 1000}           0.704418           0.688244           0.649546   \n",
       "\n",
       "   split3_test_score  ...  mean_test_score  std_test_score  rank_test_score  \\\n",
       "0           0.703125  ...         0.694730        0.022311                6   \n",
       "1           0.711498  ...         0.700462        0.021364                2   \n",
       "2           0.721516  ...         0.700507        0.028088                1   \n",
       "3           0.717355  ...         0.698617        0.026283                3   \n",
       "4           0.717402  ...         0.695522        0.025134                5   \n",
       "5           0.722199  ...         0.698040        0.027721                4   \n",
       "\n",
       "   split0_train_score  split1_train_score  split2_train_score  \\\n",
       "0            0.696022            0.703775            0.705429   \n",
       "1            0.709492            0.713267            0.716790   \n",
       "2            0.712466            0.706010            0.712205   \n",
       "3            0.711914            0.715641            0.712273   \n",
       "4            0.712498            0.706015            0.689366   \n",
       "5            0.712491            0.716082            0.689368   \n",
       "\n",
       "   split3_train_score  split4_train_score  mean_train_score  std_train_score  \n",
       "0            0.694625            0.694347          0.698839         0.004768  \n",
       "1            0.701323            0.707473          0.709669         0.005256  \n",
       "2            0.708130            0.710660          0.709894         0.002479  \n",
       "3            0.700342            0.700159          0.708066         0.006513  \n",
       "4            0.700370            0.674530          0.696556         0.013379  \n",
       "5            0.708535            0.700157          0.705326         0.009578  \n",
       "\n",
       "[6 rows x 21 columns]"
      ]
     },
     "execution_count": 77,
     "metadata": {},
     "output_type": "execute_result"
    }
   ],
   "source": [
    "# cross validation results\n",
    "cv_results = pd.DataFrame(model_cv.cv_results_)\n",
    "cv_results"
   ]
  },
  {
   "cell_type": "code",
   "execution_count": 78,
   "id": "75521c4d",
   "metadata": {
    "scrolled": true
   },
   "outputs": [
    {
     "data": {
      "image/png": "[encoded data removed]",
      "text/plain": [
       "<Figure size 576x432 with 1 Axes>"
      ]
     },
     "metadata": {
      "needs_background": "light"
     },
     "output_type": "display_data"
    }
   ],
   "source": [
    "# plot of C versus train and validation scores\n",
    "\n",
    "plt.figure(figsize=(8, 6))\n",
    "plt.plot(cv_results['param_C'], cv_results['mean_test_score'])\n",
    "plt.plot(cv_results['param_C'], cv_results['mean_train_score'])\n",
    "plt.xlabel('C')\n",
    "plt.ylabel('sensitivity')\n",
    "plt.legend(['test result', 'train result'], loc='upper left')\n",
    "plt.xscale('log')"
   ]
  },
  {
   "cell_type": "code",
   "execution_count": 79,
   "id": "fc0a0b0d",
   "metadata": {
    "scrolled": true
   },
   "outputs": [
    {
     "data": {
      "text/plain": [
       "{'C': 1}"
      ]
     },
     "execution_count": 79,
     "metadata": {},
     "output_type": "execute_result"
    }
   ],
   "source": [
    "model_cv.best_params_"
   ]
  },
  {
   "cell_type": "code",
   "execution_count": 145,
   "id": "5deec244",
   "metadata": {},
   "outputs": [
    {
     "data": {
      "text/html": [
       "<style>#sk-container-id-8 {color: black;background-color: white;}#sk-container-id-8 pre{padding: 0;}#sk-container-id-8 div.sk-toggleable {background-color: white;}#sk-container-id-8 label.sk-toggleable__label {cursor: pointer;display: block;width: 100%;margin-bottom: 0;padding: 0.3em;box-sizing: border-box;text-align: center;}#sk-container-id-8 label.sk-toggleable__label-arrow:before {content: \"▸\";float: left;margin-right: 0.25em;color: #696969;}#sk-container-id-8 label.sk-toggleable__label-arrow:hover:before {color: black;}#sk-container-id-8 div.sk-estimator:hover label.sk-toggleable__label-arrow:before {color: black;}#sk-container-id-8 div.sk-toggleable__content {max-height: 0;max-width: 0;overflow: hidden;text-align: left;background-color: #f0f8ff;}#sk-container-id-8 div.sk-toggleable__content pre {margin: 0.2em;color: black;border-radius: 0.25em;background-color: #f0f8ff;}#sk-container-id-8 input.sk-toggleable__control:checked~div.sk-toggleable__content {max-height: 200px;max-width: 100%;overflow: auto;}#sk-container-id-8 input.sk-toggleable__control:checked~label.sk-toggleable__label-arrow:before {content: \"▾\";}#sk-container-id-8 div.sk-estimator input.sk-toggleable__control:checked~label.sk-toggleable__label {background-color: #d4ebff;}#sk-container-id-8 div.sk-label input.sk-toggleable__control:checked~label.sk-toggleable__label {background-color: #d4ebff;}#sk-container-id-8 input.sk-hidden--visually {border: 0;clip: rect(1px 1px 1px 1px);clip: rect(1px, 1px, 1px, 1px);height: 1px;margin: -1px;overflow: hidden;padding: 0;position: absolute;width: 1px;}#sk-container-id-8 div.sk-estimator {font-family: monospace;background-color: #f0f8ff;border: 1px dotted black;border-radius: 0.25em;box-sizing: border-box;margin-bottom: 0.5em;}#sk-container-id-8 div.sk-estimator:hover {background-color: #d4ebff;}#sk-container-id-8 div.sk-parallel-item::after {content: \"\";width: 100%;border-bottom: 1px solid gray;flex-grow: 1;}#sk-container-id-8 div.sk-label:hover label.sk-toggleable__label {background-color: #d4ebff;}#sk-container-id-8 div.sk-serial::before {content: \"\";position: absolute;border-left: 1px solid gray;box-sizing: border-box;top: 0;bottom: 0;left: 50%;z-index: 0;}#sk-container-id-8 div.sk-serial {display: flex;flex-direction: column;align-items: center;background-color: white;padding-right: 0.2em;padding-left: 0.2em;position: relative;}#sk-container-id-8 div.sk-item {position: relative;z-index: 1;}#sk-container-id-8 div.sk-parallel {display: flex;align-items: stretch;justify-content: center;background-color: white;position: relative;}#sk-container-id-8 div.sk-item::before, #sk-container-id-8 div.sk-parallel-item::before {content: \"\";position: absolute;border-left: 1px solid gray;box-sizing: border-box;top: 0;bottom: 0;left: 50%;z-index: -1;}#sk-container-id-8 div.sk-parallel-item {display: flex;flex-direction: column;z-index: 1;position: relative;background-color: white;}#sk-container-id-8 div.sk-parallel-item:first-child::after {align-self: flex-end;width: 50%;}#sk-container-id-8 div.sk-parallel-item:last-child::after {align-self: flex-start;width: 50%;}#sk-container-id-8 div.sk-parallel-item:only-child::after {width: 0;}#sk-container-id-8 div.sk-dashed-wrapped {border: 1px dashed gray;margin: 0 0.4em 0.5em 0.4em;box-sizing: border-box;padding-bottom: 0.4em;background-color: white;}#sk-container-id-8 div.sk-label label {font-family: monospace;font-weight: bold;display: inline-block;line-height: 1.2em;}#sk-container-id-8 div.sk-label-container {text-align: center;}#sk-container-id-8 div.sk-container {/* jupyter's `normalize.less` sets `[hidden] { display: none; }` but bootstrap.min.css set `[hidden] { display: none !important; }` so we also need the `!important` here to be able to override the default hidden behavior on the sphinx rendered scikit-learn.org. See: https://github.com/scikit-learn/scikit-learn/issues/21755 */display: inline-block !important;position: relative;}#sk-container-id-8 div.sk-text-repr-fallback {display: none;}</style><div id=\"sk-container-id-8\" class=\"sk-top-container\"><div class=\"sk-text-repr-fallback\"><pre>LogisticRegression(C=1, max_iter=1000)</pre><b>In a Jupyter environment, please rerun this cell to show the HTML representation or trust the notebook. <br />On GitHub, the HTML representation is unable to render, please try loading this page with nbviewer.org.</b></div><div class=\"sk-container\" hidden><div class=\"sk-item\"><div class=\"sk-estimator sk-toggleable\"><input class=\"sk-toggleable__control sk-hidden--visually\" id=\"sk-estimator-id-14\" type=\"checkbox\" checked><label for=\"sk-estimator-id-14\" class=\"sk-toggleable__label sk-toggleable__label-arrow\">LogisticRegression</label><div class=\"sk-toggleable__content\"><pre>LogisticRegression(C=1, max_iter=1000)</pre></div></div></div></div></div>"
      ],
      "text/plain": [
       "LogisticRegression(C=1, max_iter=1000)"
      ]
     },
     "execution_count": 145,
     "metadata": {},
     "output_type": "execute_result"
    }
   ],
   "source": [
    "# Instantiating the model\n",
    "log_reg_imb_model = LogisticRegression(C=1,max_iter=1000)\n",
    "\n",
    "# Fitting the model with train data\n",
    "log_reg_imb_model.fit(X_train, y_train)"
   ]
  },
  {
   "cell_type": "code",
   "execution_count": 146,
   "id": "0653a21d",
   "metadata": {},
   "outputs": [],
   "source": [
    "# Predictions on the train set\n",
    "y_train_pred = log_reg_imb_model.predict(X_train)"
   ]
  },
  {
   "cell_type": "code",
   "execution_count": 147,
   "id": "c14d5eca",
   "metadata": {
    "scrolled": true
   },
   "outputs": [
    {
     "name": "stdout",
     "output_type": "stream",
     "text": [
      "F1 Score: 19.9%\n",
      "Classification Report: \n",
      "               precision    recall  f1-score   support\n",
      "\n",
      "           0       0.99      1.00      1.00     58183\n",
      "           1       1.00      0.11      0.20       525\n",
      "\n",
      "    accuracy                           0.99     58708\n",
      "   macro avg       1.00      0.56      0.60     58708\n",
      "weighted avg       0.99      0.99      0.99     58708\n",
      "\n"
     ]
    }
   ],
   "source": [
    "\n",
    "# Printing scores\n",
    "display_scores(y_train, y_train_pred)"
   ]
  },
  {
   "cell_type": "code",
   "execution_count": 148,
   "id": "c150f25b",
   "metadata": {},
   "outputs": [],
   "source": [
    "# Predicted probability\n",
    "y_train_pred_proba = log_reg_imb_model.predict_proba(X_train)[:,1]"
   ]
  },
  {
   "cell_type": "code",
   "execution_count": 149,
   "id": "cb9e4943",
   "metadata": {
    "scrolled": true
   },
   "outputs": [
    {
     "data": {
      "image/png": "[encoded data removed]",
      "text/plain": [
       "<Figure size 360x360 with 1 Axes>"
      ]
     },
     "metadata": {
      "needs_background": "light"
     },
     "output_type": "display_data"
    }
   ],
   "source": [
    "# Plot the ROC curve\n",
    "draw_roc(y_train, y_train_pred_proba)"
   ]
  },
  {
   "cell_type": "code",
   "execution_count": 150,
   "id": "837d66da",
   "metadata": {
    "scrolled": false
   },
   "outputs": [
    {
     "name": "stdout",
     "output_type": "stream",
     "text": [
      "F1 Score: 15.49%\n",
      "Classification Report: \n",
      "               precision    recall  f1-score   support\n",
      "\n",
      "           0       0.99      1.00      1.00     14546\n",
      "           1       1.00      0.08      0.15       131\n",
      "\n",
      "    accuracy                           0.99     14677\n",
      "   macro avg       1.00      0.54      0.58     14677\n",
      "weighted avg       0.99      0.99      0.99     14677\n",
      "\n"
     ]
    }
   ],
   "source": [
    "# Making prediction on the test set\n",
    "y_test_pred = log_reg_imb_model.predict(X_test)\n",
    "display_scores(y_test, y_test_pred)"
   ]
  },
  {
   "cell_type": "code",
   "execution_count": 151,
   "id": "0c535b46",
   "metadata": {},
   "outputs": [],
   "source": [
    "# Predicted probability\n",
    "y_test_pred_proba = log_reg_imb_model.predict_proba(X_test)[:,1]"
   ]
  },
  {
   "cell_type": "code",
   "execution_count": 152,
   "id": "4fb655fb",
   "metadata": {
    "scrolled": true
   },
   "outputs": [
    {
     "data": {
      "image/png": "[encoded data removed]",
      "text/plain": [
       "<Figure size 360x360 with 1 Axes>"
      ]
     },
     "metadata": {
      "needs_background": "light"
     },
     "output_type": "display_data"
    }
   ],
   "source": [
    "# Plot the ROC curve\n",
    "draw_roc(y_test, y_test_pred_proba)"
   ]
  },
  {
   "cell_type": "markdown",
   "id": "bed00450",
   "metadata": {},
   "source": [
    "## 2. Decision Tree"
   ]
  },
  {
   "cell_type": "code",
   "execution_count": 88,
   "id": "8cc0563e",
   "metadata": {},
   "outputs": [
    {
     "name": "stdout",
     "output_type": "stream",
     "text": [
      "Fitting 3 folds for each of 8 candidates, totalling 24 fits\n"
     ]
    },
    {
     "data": {
      "text/html": [
       "<style>#sk-container-id-2 {color: black;background-color: white;}#sk-container-id-2 pre{padding: 0;}#sk-container-id-2 div.sk-toggleable {background-color: white;}#sk-container-id-2 label.sk-toggleable__label {cursor: pointer;display: block;width: 100%;margin-bottom: 0;padding: 0.3em;box-sizing: border-box;text-align: center;}#sk-container-id-2 label.sk-toggleable__label-arrow:before {content: \"▸\";float: left;margin-right: 0.25em;color: #696969;}#sk-container-id-2 label.sk-toggleable__label-arrow:hover:before {color: black;}#sk-container-id-2 div.sk-estimator:hover label.sk-toggleable__label-arrow:before {color: black;}#sk-container-id-2 div.sk-toggleable__content {max-height: 0;max-width: 0;overflow: hidden;text-align: left;background-color: #f0f8ff;}#sk-container-id-2 div.sk-toggleable__content pre {margin: 0.2em;color: black;border-radius: 0.25em;background-color: #f0f8ff;}#sk-container-id-2 input.sk-toggleable__control:checked~div.sk-toggleable__content {max-height: 200px;max-width: 100%;overflow: auto;}#sk-container-id-2 input.sk-toggleable__control:checked~label.sk-toggleable__label-arrow:before {content: \"▾\";}#sk-container-id-2 div.sk-estimator input.sk-toggleable__control:checked~label.sk-toggleable__label {background-color: #d4ebff;}#sk-container-id-2 div.sk-label input.sk-toggleable__control:checked~label.sk-toggleable__label {background-color: #d4ebff;}#sk-container-id-2 input.sk-hidden--visually {border: 0;clip: rect(1px 1px 1px 1px);clip: rect(1px, 1px, 1px, 1px);height: 1px;margin: -1px;overflow: hidden;padding: 0;position: absolute;width: 1px;}#sk-container-id-2 div.sk-estimator {font-family: monospace;background-color: #f0f8ff;border: 1px dotted black;border-radius: 0.25em;box-sizing: border-box;margin-bottom: 0.5em;}#sk-container-id-2 div.sk-estimator:hover {background-color: #d4ebff;}#sk-container-id-2 div.sk-parallel-item::after {content: \"\";width: 100%;border-bottom: 1px solid gray;flex-grow: 1;}#sk-container-id-2 div.sk-label:hover label.sk-toggleable__label {background-color: #d4ebff;}#sk-container-id-2 div.sk-serial::before {content: \"\";position: absolute;border-left: 1px solid gray;box-sizing: border-box;top: 0;bottom: 0;left: 50%;z-index: 0;}#sk-container-id-2 div.sk-serial {display: flex;flex-direction: column;align-items: center;background-color: white;padding-right: 0.2em;padding-left: 0.2em;position: relative;}#sk-container-id-2 div.sk-item {position: relative;z-index: 1;}#sk-container-id-2 div.sk-parallel {display: flex;align-items: stretch;justify-content: center;background-color: white;position: relative;}#sk-container-id-2 div.sk-item::before, #sk-container-id-2 div.sk-parallel-item::before {content: \"\";position: absolute;border-left: 1px solid gray;box-sizing: border-box;top: 0;bottom: 0;left: 50%;z-index: -1;}#sk-container-id-2 div.sk-parallel-item {display: flex;flex-direction: column;z-index: 1;position: relative;background-color: white;}#sk-container-id-2 div.sk-parallel-item:first-child::after {align-self: flex-end;width: 50%;}#sk-container-id-2 div.sk-parallel-item:last-child::after {align-self: flex-start;width: 50%;}#sk-container-id-2 div.sk-parallel-item:only-child::after {width: 0;}#sk-container-id-2 div.sk-dashed-wrapped {border: 1px dashed gray;margin: 0 0.4em 0.5em 0.4em;box-sizing: border-box;padding-bottom: 0.4em;background-color: white;}#sk-container-id-2 div.sk-label label {font-family: monospace;font-weight: bold;display: inline-block;line-height: 1.2em;}#sk-container-id-2 div.sk-label-container {text-align: center;}#sk-container-id-2 div.sk-container {/* jupyter's `normalize.less` sets `[hidden] { display: none; }` but bootstrap.min.css set `[hidden] { display: none !important; }` so we also need the `!important` here to be able to override the default hidden behavior on the sphinx rendered scikit-learn.org. See: https://github.com/scikit-learn/scikit-learn/issues/21755 */display: inline-block !important;position: relative;}#sk-container-id-2 div.sk-text-repr-fallback {display: none;}</style><div id=\"sk-container-id-2\" class=\"sk-top-container\"><div class=\"sk-text-repr-fallback\"><pre>GridSearchCV(cv=3, estimator=DecisionTreeClassifier(), n_jobs=-1,\n",
       "             param_grid={&#x27;max_depth&#x27;: range(5, 15, 5),\n",
       "                         &#x27;min_samples_leaf&#x27;: range(50, 150, 50),\n",
       "                         &#x27;min_samples_split&#x27;: range(50, 150, 50)},\n",
       "             scoring=&#x27;roc_auc&#x27;, verbose=1)</pre><b>In a Jupyter environment, please rerun this cell to show the HTML representation or trust the notebook. <br />On GitHub, the HTML representation is unable to render, please try loading this page with nbviewer.org.</b></div><div class=\"sk-container\" hidden><div class=\"sk-item sk-dashed-wrapped\"><div class=\"sk-label-container\"><div class=\"sk-label sk-toggleable\"><input class=\"sk-toggleable__control sk-hidden--visually\" id=\"sk-estimator-id-2\" type=\"checkbox\" ><label for=\"sk-estimator-id-2\" class=\"sk-toggleable__label sk-toggleable__label-arrow\">GridSearchCV</label><div class=\"sk-toggleable__content\"><pre>GridSearchCV(cv=3, estimator=DecisionTreeClassifier(), n_jobs=-1,\n",
       "             param_grid={&#x27;max_depth&#x27;: range(5, 15, 5),\n",
       "                         &#x27;min_samples_leaf&#x27;: range(50, 150, 50),\n",
       "                         &#x27;min_samples_split&#x27;: range(50, 150, 50)},\n",
       "             scoring=&#x27;roc_auc&#x27;, verbose=1)</pre></div></div></div><div class=\"sk-parallel\"><div class=\"sk-parallel-item\"><div class=\"sk-item\"><div class=\"sk-label-container\"><div class=\"sk-label sk-toggleable\"><input class=\"sk-toggleable__control sk-hidden--visually\" id=\"sk-estimator-id-3\" type=\"checkbox\" ><label for=\"sk-estimator-id-3\" class=\"sk-toggleable__label sk-toggleable__label-arrow\">estimator: DecisionTreeClassifier</label><div class=\"sk-toggleable__content\"><pre>DecisionTreeClassifier()</pre></div></div></div><div class=\"sk-serial\"><div class=\"sk-item\"><div class=\"sk-estimator sk-toggleable\"><input class=\"sk-toggleable__control sk-hidden--visually\" id=\"sk-estimator-id-4\" type=\"checkbox\" ><label for=\"sk-estimator-id-4\" class=\"sk-toggleable__label sk-toggleable__label-arrow\">DecisionTreeClassifier</label><div class=\"sk-toggleable__content\"><pre>DecisionTreeClassifier()</pre></div></div></div></div></div></div></div></div></div></div>"
      ],
      "text/plain": [
       "GridSearchCV(cv=3, estimator=DecisionTreeClassifier(), n_jobs=-1,\n",
       "             param_grid={'max_depth': range(5, 15, 5),\n",
       "                         'min_samples_leaf': range(50, 150, 50),\n",
       "                         'min_samples_split': range(50, 150, 50)},\n",
       "             scoring='roc_auc', verbose=1)"
      ]
     },
     "execution_count": 88,
     "metadata": {},
     "output_type": "execute_result"
    }
   ],
   "source": [
    "# Create the parameter grid \n",
    "param_grid = {\n",
    "    'max_depth': range(5, 15, 5),\n",
    "    'min_samples_leaf': range(50, 150, 50),\n",
    "    'min_samples_split': range(50, 150, 50),\n",
    "}\n",
    "\n",
    "\n",
    "# Instantiate the grid search model\n",
    "dtree = DecisionTreeClassifier()\n",
    "\n",
    "grid_search = GridSearchCV(estimator = dtree, \n",
    "                           param_grid = param_grid, \n",
    "                           scoring= 'roc_auc',\n",
    "                           cv = 3, \n",
    "                           n_jobs=-1,\n",
    "                           verbose = 1)\n",
    "\n",
    "# Fit the grid search to the data\n",
    "grid_search.fit(X_train,y_train)"
   ]
  },
  {
   "cell_type": "code",
   "execution_count": 89,
   "id": "3597db4c",
   "metadata": {},
   "outputs": [
    {
     "data": {
      "text/html": [
       "<div>\n",
       "<style scoped>\n",
       "    .dataframe tbody tr th:only-of-type {\n",
       "        vertical-align: middle;\n",
       "    }\n",
       "\n",
       "    .dataframe tbody tr th {\n",
       "        vertical-align: top;\n",
       "    }\n",
       "\n",
       "    .dataframe thead th {\n",
       "        text-align: right;\n",
       "    }\n",
       "</style>\n",
       "<table border=\"1\" class=\"dataframe\">\n",
       "  <thead>\n",
       "    <tr style=\"text-align: right;\">\n",
       "      <th></th>\n",
       "      <th>mean_fit_time</th>\n",
       "      <th>std_fit_time</th>\n",
       "      <th>mean_score_time</th>\n",
       "      <th>std_score_time</th>\n",
       "      <th>param_max_depth</th>\n",
       "      <th>param_min_samples_leaf</th>\n",
       "      <th>param_min_samples_split</th>\n",
       "      <th>params</th>\n",
       "      <th>split0_test_score</th>\n",
       "      <th>split1_test_score</th>\n",
       "      <th>split2_test_score</th>\n",
       "      <th>mean_test_score</th>\n",
       "      <th>std_test_score</th>\n",
       "      <th>rank_test_score</th>\n",
       "    </tr>\n",
       "  </thead>\n",
       "  <tbody>\n",
       "    <tr>\n",
       "      <th>0</th>\n",
       "      <td>0.140205</td>\n",
       "      <td>0.007058</td>\n",
       "      <td>0.040812</td>\n",
       "      <td>0.020635</td>\n",
       "      <td>5</td>\n",
       "      <td>50</td>\n",
       "      <td>50</td>\n",
       "      <td>{'max_depth': 5, 'min_samples_leaf': 50, 'min_...</td>\n",
       "      <td>0.689389</td>\n",
       "      <td>0.647562</td>\n",
       "      <td>0.694251</td>\n",
       "      <td>0.677067</td>\n",
       "      <td>0.020958</td>\n",
       "      <td>3</td>\n",
       "    </tr>\n",
       "    <tr>\n",
       "      <th>1</th>\n",
       "      <td>0.149878</td>\n",
       "      <td>0.011732</td>\n",
       "      <td>0.011775</td>\n",
       "      <td>0.005439</td>\n",
       "      <td>5</td>\n",
       "      <td>50</td>\n",
       "      <td>100</td>\n",
       "      <td>{'max_depth': 5, 'min_samples_leaf': 50, 'min_...</td>\n",
       "      <td>0.689389</td>\n",
       "      <td>0.647562</td>\n",
       "      <td>0.694251</td>\n",
       "      <td>0.677067</td>\n",
       "      <td>0.020958</td>\n",
       "      <td>3</td>\n",
       "    </tr>\n",
       "    <tr>\n",
       "      <th>2</th>\n",
       "      <td>0.129700</td>\n",
       "      <td>0.010355</td>\n",
       "      <td>0.026932</td>\n",
       "      <td>0.014915</td>\n",
       "      <td>5</td>\n",
       "      <td>100</td>\n",
       "      <td>50</td>\n",
       "      <td>{'max_depth': 5, 'min_samples_leaf': 100, 'min...</td>\n",
       "      <td>0.695212</td>\n",
       "      <td>0.657797</td>\n",
       "      <td>0.690550</td>\n",
       "      <td>0.681186</td>\n",
       "      <td>0.016648</td>\n",
       "      <td>1</td>\n",
       "    </tr>\n",
       "    <tr>\n",
       "      <th>3</th>\n",
       "      <td>0.161761</td>\n",
       "      <td>0.028971</td>\n",
       "      <td>0.016279</td>\n",
       "      <td>0.003273</td>\n",
       "      <td>5</td>\n",
       "      <td>100</td>\n",
       "      <td>100</td>\n",
       "      <td>{'max_depth': 5, 'min_samples_leaf': 100, 'min...</td>\n",
       "      <td>0.695212</td>\n",
       "      <td>0.657797</td>\n",
       "      <td>0.690550</td>\n",
       "      <td>0.681186</td>\n",
       "      <td>0.016648</td>\n",
       "      <td>1</td>\n",
       "    </tr>\n",
       "    <tr>\n",
       "      <th>4</th>\n",
       "      <td>0.267790</td>\n",
       "      <td>0.007712</td>\n",
       "      <td>0.026202</td>\n",
       "      <td>0.003335</td>\n",
       "      <td>10</td>\n",
       "      <td>50</td>\n",
       "      <td>50</td>\n",
       "      <td>{'max_depth': 10, 'min_samples_leaf': 50, 'min...</td>\n",
       "      <td>0.662418</td>\n",
       "      <td>0.642262</td>\n",
       "      <td>0.662179</td>\n",
       "      <td>0.655619</td>\n",
       "      <td>0.009446</td>\n",
       "      <td>7</td>\n",
       "    </tr>\n",
       "    <tr>\n",
       "      <th>5</th>\n",
       "      <td>0.230628</td>\n",
       "      <td>0.007308</td>\n",
       "      <td>0.015601</td>\n",
       "      <td>0.005672</td>\n",
       "      <td>10</td>\n",
       "      <td>50</td>\n",
       "      <td>100</td>\n",
       "      <td>{'max_depth': 10, 'min_samples_leaf': 50, 'min...</td>\n",
       "      <td>0.662537</td>\n",
       "      <td>0.640651</td>\n",
       "      <td>0.662179</td>\n",
       "      <td>0.655122</td>\n",
       "      <td>0.010234</td>\n",
       "      <td>8</td>\n",
       "    </tr>\n",
       "    <tr>\n",
       "      <th>6</th>\n",
       "      <td>0.233430</td>\n",
       "      <td>0.019605</td>\n",
       "      <td>0.014815</td>\n",
       "      <td>0.001150</td>\n",
       "      <td>10</td>\n",
       "      <td>100</td>\n",
       "      <td>50</td>\n",
       "      <td>{'max_depth': 10, 'min_samples_leaf': 100, 'mi...</td>\n",
       "      <td>0.687512</td>\n",
       "      <td>0.645518</td>\n",
       "      <td>0.680147</td>\n",
       "      <td>0.671059</td>\n",
       "      <td>0.018309</td>\n",
       "      <td>5</td>\n",
       "    </tr>\n",
       "    <tr>\n",
       "      <th>7</th>\n",
       "      <td>0.203421</td>\n",
       "      <td>0.003431</td>\n",
       "      <td>0.010541</td>\n",
       "      <td>0.007455</td>\n",
       "      <td>10</td>\n",
       "      <td>100</td>\n",
       "      <td>100</td>\n",
       "      <td>{'max_depth': 10, 'min_samples_leaf': 100, 'mi...</td>\n",
       "      <td>0.683100</td>\n",
       "      <td>0.645518</td>\n",
       "      <td>0.680612</td>\n",
       "      <td>0.669743</td>\n",
       "      <td>0.017160</td>\n",
       "      <td>6</td>\n",
       "    </tr>\n",
       "  </tbody>\n",
       "</table>\n",
       "</div>"
      ],
      "text/plain": [
       "   mean_fit_time  std_fit_time  mean_score_time  std_score_time  \\\n",
       "0       0.140205      0.007058         0.040812        0.020635   \n",
       "1       0.149878      0.011732         0.011775        0.005439   \n",
       "2       0.129700      0.010355         0.026932        0.014915   \n",
       "3       0.161761      0.028971         0.016279        0.003273   \n",
       "4       0.267790      0.007712         0.026202        0.003335   \n",
       "5       0.230628      0.007308         0.015601        0.005672   \n",
       "6       0.233430      0.019605         0.014815        0.001150   \n",
       "7       0.203421      0.003431         0.010541        0.007455   \n",
       "\n",
       "  param_max_depth param_min_samples_leaf param_min_samples_split  \\\n",
       "0               5                     50                      50   \n",
       "1               5                     50                     100   \n",
       "2               5                    100                      50   \n",
       "3               5                    100                     100   \n",
       "4              10                     50                      50   \n",
       "5              10                     50                     100   \n",
       "6              10                    100                      50   \n",
       "7              10                    100                     100   \n",
       "\n",
       "                                              params  split0_test_score  \\\n",
       "0  {'max_depth': 5, 'min_samples_leaf': 50, 'min_...           0.689389   \n",
       "1  {'max_depth': 5, 'min_samples_leaf': 50, 'min_...           0.689389   \n",
       "2  {'max_depth': 5, 'min_samples_leaf': 100, 'min...           0.695212   \n",
       "3  {'max_depth': 5, 'min_samples_leaf': 100, 'min...           0.695212   \n",
       "4  {'max_depth': 10, 'min_samples_leaf': 50, 'min...           0.662418   \n",
       "5  {'max_depth': 10, 'min_samples_leaf': 50, 'min...           0.662537   \n",
       "6  {'max_depth': 10, 'min_samples_leaf': 100, 'mi...           0.687512   \n",
       "7  {'max_depth': 10, 'min_samples_leaf': 100, 'mi...           0.683100   \n",
       "\n",
       "   split1_test_score  split2_test_score  mean_test_score  std_test_score  \\\n",
       "0           0.647562           0.694251         0.677067        0.020958   \n",
       "1           0.647562           0.694251         0.677067        0.020958   \n",
       "2           0.657797           0.690550         0.681186        0.016648   \n",
       "3           0.657797           0.690550         0.681186        0.016648   \n",
       "4           0.642262           0.662179         0.655619        0.009446   \n",
       "5           0.640651           0.662179         0.655122        0.010234   \n",
       "6           0.645518           0.680147         0.671059        0.018309   \n",
       "7           0.645518           0.680612         0.669743        0.017160   \n",
       "\n",
       "   rank_test_score  \n",
       "0                3  \n",
       "1                3  \n",
       "2                1  \n",
       "3                1  \n",
       "4                7  \n",
       "5                8  \n",
       "6                5  \n",
       "7                6  "
      ]
     },
     "execution_count": 89,
     "metadata": {},
     "output_type": "execute_result"
    }
   ],
   "source": [
    "# cv results\n",
    "cv_results = pd.DataFrame(grid_search.cv_results_)\n",
    "cv_results"
   ]
  },
  {
   "cell_type": "code",
   "execution_count": 90,
   "id": "5d265789",
   "metadata": {},
   "outputs": [
    {
     "name": "stdout",
     "output_type": "stream",
     "text": [
      "Best roc auc score :  0.6811862125201142\n",
      "DecisionTreeClassifier(max_depth=5, min_samples_leaf=100, min_samples_split=50)\n"
     ]
    }
   ],
   "source": [
    "# Printing the optimal score and hyperparameters\n",
    "print(\"Best roc auc score : \", grid_search.best_score_)\n",
    "print(grid_search.best_estimator_)"
   ]
  },
  {
   "cell_type": "code",
   "execution_count": 91,
   "id": "d0f14bac",
   "metadata": {},
   "outputs": [
    {
     "data": {
      "text/html": [
       "<style>#sk-container-id-3 {color: black;background-color: white;}#sk-container-id-3 pre{padding: 0;}#sk-container-id-3 div.sk-toggleable {background-color: white;}#sk-container-id-3 label.sk-toggleable__label {cursor: pointer;display: block;width: 100%;margin-bottom: 0;padding: 0.3em;box-sizing: border-box;text-align: center;}#sk-container-id-3 label.sk-toggleable__label-arrow:before {content: \"▸\";float: left;margin-right: 0.25em;color: #696969;}#sk-container-id-3 label.sk-toggleable__label-arrow:hover:before {color: black;}#sk-container-id-3 div.sk-estimator:hover label.sk-toggleable__label-arrow:before {color: black;}#sk-container-id-3 div.sk-toggleable__content {max-height: 0;max-width: 0;overflow: hidden;text-align: left;background-color: #f0f8ff;}#sk-container-id-3 div.sk-toggleable__content pre {margin: 0.2em;color: black;border-radius: 0.25em;background-color: #f0f8ff;}#sk-container-id-3 input.sk-toggleable__control:checked~div.sk-toggleable__content {max-height: 200px;max-width: 100%;overflow: auto;}#sk-container-id-3 input.sk-toggleable__control:checked~label.sk-toggleable__label-arrow:before {content: \"▾\";}#sk-container-id-3 div.sk-estimator input.sk-toggleable__control:checked~label.sk-toggleable__label {background-color: #d4ebff;}#sk-container-id-3 div.sk-label input.sk-toggleable__control:checked~label.sk-toggleable__label {background-color: #d4ebff;}#sk-container-id-3 input.sk-hidden--visually {border: 0;clip: rect(1px 1px 1px 1px);clip: rect(1px, 1px, 1px, 1px);height: 1px;margin: -1px;overflow: hidden;padding: 0;position: absolute;width: 1px;}#sk-container-id-3 div.sk-estimator {font-family: monospace;background-color: #f0f8ff;border: 1px dotted black;border-radius: 0.25em;box-sizing: border-box;margin-bottom: 0.5em;}#sk-container-id-3 div.sk-estimator:hover {background-color: #d4ebff;}#sk-container-id-3 div.sk-parallel-item::after {content: \"\";width: 100%;border-bottom: 1px solid gray;flex-grow: 1;}#sk-container-id-3 div.sk-label:hover label.sk-toggleable__label {background-color: #d4ebff;}#sk-container-id-3 div.sk-serial::before {content: \"\";position: absolute;border-left: 1px solid gray;box-sizing: border-box;top: 0;bottom: 0;left: 50%;z-index: 0;}#sk-container-id-3 div.sk-serial {display: flex;flex-direction: column;align-items: center;background-color: white;padding-right: 0.2em;padding-left: 0.2em;position: relative;}#sk-container-id-3 div.sk-item {position: relative;z-index: 1;}#sk-container-id-3 div.sk-parallel {display: flex;align-items: stretch;justify-content: center;background-color: white;position: relative;}#sk-container-id-3 div.sk-item::before, #sk-container-id-3 div.sk-parallel-item::before {content: \"\";position: absolute;border-left: 1px solid gray;box-sizing: border-box;top: 0;bottom: 0;left: 50%;z-index: -1;}#sk-container-id-3 div.sk-parallel-item {display: flex;flex-direction: column;z-index: 1;position: relative;background-color: white;}#sk-container-id-3 div.sk-parallel-item:first-child::after {align-self: flex-end;width: 50%;}#sk-container-id-3 div.sk-parallel-item:last-child::after {align-self: flex-start;width: 50%;}#sk-container-id-3 div.sk-parallel-item:only-child::after {width: 0;}#sk-container-id-3 div.sk-dashed-wrapped {border: 1px dashed gray;margin: 0 0.4em 0.5em 0.4em;box-sizing: border-box;padding-bottom: 0.4em;background-color: white;}#sk-container-id-3 div.sk-label label {font-family: monospace;font-weight: bold;display: inline-block;line-height: 1.2em;}#sk-container-id-3 div.sk-label-container {text-align: center;}#sk-container-id-3 div.sk-container {/* jupyter's `normalize.less` sets `[hidden] { display: none; }` but bootstrap.min.css set `[hidden] { display: none !important; }` so we also need the `!important` here to be able to override the default hidden behavior on the sphinx rendered scikit-learn.org. See: https://github.com/scikit-learn/scikit-learn/issues/21755 */display: inline-block !important;position: relative;}#sk-container-id-3 div.sk-text-repr-fallback {display: none;}</style><div id=\"sk-container-id-3\" class=\"sk-top-container\"><div class=\"sk-text-repr-fallback\"><pre>DecisionTreeClassifier(max_depth=5, min_samples_leaf=100, min_samples_split=50,\n",
       "                       random_state=100)</pre><b>In a Jupyter environment, please rerun this cell to show the HTML representation or trust the notebook. <br />On GitHub, the HTML representation is unable to render, please try loading this page with nbviewer.org.</b></div><div class=\"sk-container\" hidden><div class=\"sk-item\"><div class=\"sk-estimator sk-toggleable\"><input class=\"sk-toggleable__control sk-hidden--visually\" id=\"sk-estimator-id-5\" type=\"checkbox\" checked><label for=\"sk-estimator-id-5\" class=\"sk-toggleable__label sk-toggleable__label-arrow\">DecisionTreeClassifier</label><div class=\"sk-toggleable__content\"><pre>DecisionTreeClassifier(max_depth=5, min_samples_leaf=100, min_samples_split=50,\n",
       "                       random_state=100)</pre></div></div></div></div></div>"
      ],
      "text/plain": [
       "DecisionTreeClassifier(max_depth=5, min_samples_leaf=100, min_samples_split=50,\n",
       "                       random_state=100)"
      ]
     },
     "execution_count": 91,
     "metadata": {},
     "output_type": "execute_result"
    }
   ],
   "source": [
    "\n",
    "# Model with optimal hyperparameters\n",
    "dt_imb_model = DecisionTreeClassifier(criterion = \"gini\", \n",
    "                                  random_state = 100,\n",
    "                                  max_depth=5, \n",
    "                                  min_samples_leaf=100,\n",
    "                                  min_samples_split=50)\n",
    "dt_imb_model.fit(X_train, y_train)"
   ]
  },
  {
   "cell_type": "code",
   "execution_count": 92,
   "id": "6f2c0378",
   "metadata": {},
   "outputs": [
    {
     "name": "stdout",
     "output_type": "stream",
     "text": [
      "F1 Score: 38.96%\n",
      "Classification Report: \n",
      "               precision    recall  f1-score   support\n",
      "\n",
      "           0       0.99      1.00      1.00     58183\n",
      "           1       1.00      0.24      0.39       525\n",
      "\n",
      "    accuracy                           0.99     58708\n",
      "   macro avg       1.00      0.62      0.69     58708\n",
      "weighted avg       0.99      0.99      0.99     58708\n",
      "\n"
     ]
    }
   ],
   "source": [
    "y_train_pred = dt_imb_model.predict(X_train)\n",
    "display_scores(y_train, y_train_pred)"
   ]
  },
  {
   "cell_type": "code",
   "execution_count": 93,
   "id": "b0a4335c",
   "metadata": {},
   "outputs": [
    {
     "data": {
      "image/png": "[encoded data removed]",
      "text/plain": [
       "<Figure size 360x360 with 1 Axes>"
      ]
     },
     "metadata": {
      "needs_background": "light"
     },
     "output_type": "display_data"
    }
   ],
   "source": [
    "# Predicted probability\n",
    "y_train_pred_proba = dt_imb_model.predict_proba(X_train)[:,1]\n",
    "\n",
    "# Plot the ROC curve\n",
    "draw_roc(y_train, y_train_pred_proba)"
   ]
  },
  {
   "cell_type": "code",
   "execution_count": 94,
   "id": "bc51e9cf",
   "metadata": {},
   "outputs": [
    {
     "name": "stdout",
     "output_type": "stream",
     "text": [
      "F1 Score: 37.27%\n",
      "Classification Report: \n",
      "               precision    recall  f1-score   support\n",
      "\n",
      "           0       0.99      1.00      1.00     14546\n",
      "           1       1.00      0.23      0.37       131\n",
      "\n",
      "    accuracy                           0.99     14677\n",
      "   macro avg       1.00      0.61      0.68     14677\n",
      "weighted avg       0.99      0.99      0.99     14677\n",
      "\n"
     ]
    }
   ],
   "source": [
    "y_test_pred = dt_imb_model.predict(X_test)\n",
    "display_scores(y_test, y_test_pred)\n"
   ]
  },
  {
   "cell_type": "code",
   "execution_count": 95,
   "id": "ebe53451",
   "metadata": {
    "scrolled": false
   },
   "outputs": [
    {
     "data": {
      "image/png": "[encoded data removed]",
      "text/plain": [
       "<Figure size 360x360 with 1 Axes>"
      ]
     },
     "metadata": {
      "needs_background": "light"
     },
     "output_type": "display_data"
    }
   ],
   "source": [
    "# Predicted probability\n",
    "y_test_pred_proba = dt_imb_model.predict_proba(X_test)[:,1]\n",
    "\n",
    "# Plot the ROC curve\n",
    "draw_roc(y_test, y_test_pred_proba)"
   ]
  },
  {
   "cell_type": "markdown",
   "id": "e456805e",
   "metadata": {},
   "source": [
    "## 3. XGBoost"
   ]
  },
  {
   "cell_type": "code",
   "execution_count": 96,
   "id": "88a34120",
   "metadata": {},
   "outputs": [
    {
     "name": "stdout",
     "output_type": "stream",
     "text": [
      "Fitting 3 folds for each of 6 candidates, totalling 18 fits\n"
     ]
    },
    {
     "data": {
      "text/html": [
       "<style>#sk-container-id-4 {color: black;background-color: white;}#sk-container-id-4 pre{padding: 0;}#sk-container-id-4 div.sk-toggleable {background-color: white;}#sk-container-id-4 label.sk-toggleable__label {cursor: pointer;display: block;width: 100%;margin-bottom: 0;padding: 0.3em;box-sizing: border-box;text-align: center;}#sk-container-id-4 label.sk-toggleable__label-arrow:before {content: \"▸\";float: left;margin-right: 0.25em;color: #696969;}#sk-container-id-4 label.sk-toggleable__label-arrow:hover:before {color: black;}#sk-container-id-4 div.sk-estimator:hover label.sk-toggleable__label-arrow:before {color: black;}#sk-container-id-4 div.sk-toggleable__content {max-height: 0;max-width: 0;overflow: hidden;text-align: left;background-color: #f0f8ff;}#sk-container-id-4 div.sk-toggleable__content pre {margin: 0.2em;color: black;border-radius: 0.25em;background-color: #f0f8ff;}#sk-container-id-4 input.sk-toggleable__control:checked~div.sk-toggleable__content {max-height: 200px;max-width: 100%;overflow: auto;}#sk-container-id-4 input.sk-toggleable__control:checked~label.sk-toggleable__label-arrow:before {content: \"▾\";}#sk-container-id-4 div.sk-estimator input.sk-toggleable__control:checked~label.sk-toggleable__label {background-color: #d4ebff;}#sk-container-id-4 div.sk-label input.sk-toggleable__control:checked~label.sk-toggleable__label {background-color: #d4ebff;}#sk-container-id-4 input.sk-hidden--visually {border: 0;clip: rect(1px 1px 1px 1px);clip: rect(1px, 1px, 1px, 1px);height: 1px;margin: -1px;overflow: hidden;padding: 0;position: absolute;width: 1px;}#sk-container-id-4 div.sk-estimator {font-family: monospace;background-color: #f0f8ff;border: 1px dotted black;border-radius: 0.25em;box-sizing: border-box;margin-bottom: 0.5em;}#sk-container-id-4 div.sk-estimator:hover {background-color: #d4ebff;}#sk-container-id-4 div.sk-parallel-item::after {content: \"\";width: 100%;border-bottom: 1px solid gray;flex-grow: 1;}#sk-container-id-4 div.sk-label:hover label.sk-toggleable__label {background-color: #d4ebff;}#sk-container-id-4 div.sk-serial::before {content: \"\";position: absolute;border-left: 1px solid gray;box-sizing: border-box;top: 0;bottom: 0;left: 50%;z-index: 0;}#sk-container-id-4 div.sk-serial {display: flex;flex-direction: column;align-items: center;background-color: white;padding-right: 0.2em;padding-left: 0.2em;position: relative;}#sk-container-id-4 div.sk-item {position: relative;z-index: 1;}#sk-container-id-4 div.sk-parallel {display: flex;align-items: stretch;justify-content: center;background-color: white;position: relative;}#sk-container-id-4 div.sk-item::before, #sk-container-id-4 div.sk-parallel-item::before {content: \"\";position: absolute;border-left: 1px solid gray;box-sizing: border-box;top: 0;bottom: 0;left: 50%;z-index: -1;}#sk-container-id-4 div.sk-parallel-item {display: flex;flex-direction: column;z-index: 1;position: relative;background-color: white;}#sk-container-id-4 div.sk-parallel-item:first-child::after {align-self: flex-end;width: 50%;}#sk-container-id-4 div.sk-parallel-item:last-child::after {align-self: flex-start;width: 50%;}#sk-container-id-4 div.sk-parallel-item:only-child::after {width: 0;}#sk-container-id-4 div.sk-dashed-wrapped {border: 1px dashed gray;margin: 0 0.4em 0.5em 0.4em;box-sizing: border-box;padding-bottom: 0.4em;background-color: white;}#sk-container-id-4 div.sk-label label {font-family: monospace;font-weight: bold;display: inline-block;line-height: 1.2em;}#sk-container-id-4 div.sk-label-container {text-align: center;}#sk-container-id-4 div.sk-container {/* jupyter's `normalize.less` sets `[hidden] { display: none; }` but bootstrap.min.css set `[hidden] { display: none !important; }` so we also need the `!important` here to be able to override the default hidden behavior on the sphinx rendered scikit-learn.org. See: https://github.com/scikit-learn/scikit-learn/issues/21755 */display: inline-block !important;position: relative;}#sk-container-id-4 div.sk-text-repr-fallback {display: none;}</style><div id=\"sk-container-id-4\" class=\"sk-top-container\"><div class=\"sk-text-repr-fallback\"><pre>GridSearchCV(cv=3,\n",
       "             estimator=XGBClassifier(base_score=None, booster=None,\n",
       "                                     callbacks=None, colsample_bylevel=None,\n",
       "                                     colsample_bynode=None,\n",
       "                                     colsample_bytree=None,\n",
       "                                     early_stopping_rounds=None,\n",
       "                                     enable_categorical=False, eval_metric=None,\n",
       "                                     gamma=None, gpu_id=None, grow_policy=None,\n",
       "                                     importance_type=None,\n",
       "                                     interaction_constraints=None,\n",
       "                                     learning_rate=None, max_bin=None,\n",
       "                                     max_ca...one,\n",
       "                                     max_delta_step=None, max_depth=2,\n",
       "                                     max_leaves=None, min_child_weight=None,\n",
       "                                     missing=nan, monotone_constraints=None,\n",
       "                                     n_estimators=200, n_jobs=None,\n",
       "                                     num_parallel_tree=None, predictor=None,\n",
       "                                     random_state=None, reg_alpha=None,\n",
       "                                     reg_lambda=None, ...),\n",
       "             param_grid={&#x27;learning_rate&#x27;: [0.2, 0.6],\n",
       "                         &#x27;subsample&#x27;: [0.3, 0.6, 0.9]},\n",
       "             return_train_score=True, scoring=&#x27;roc_auc&#x27;, verbose=1)</pre><b>In a Jupyter environment, please rerun this cell to show the HTML representation or trust the notebook. <br />On GitHub, the HTML representation is unable to render, please try loading this page with nbviewer.org.</b></div><div class=\"sk-container\" hidden><div class=\"sk-item sk-dashed-wrapped\"><div class=\"sk-label-container\"><div class=\"sk-label sk-toggleable\"><input class=\"sk-toggleable__control sk-hidden--visually\" id=\"sk-estimator-id-6\" type=\"checkbox\" ><label for=\"sk-estimator-id-6\" class=\"sk-toggleable__label sk-toggleable__label-arrow\">GridSearchCV</label><div class=\"sk-toggleable__content\"><pre>GridSearchCV(cv=3,\n",
       "             estimator=XGBClassifier(base_score=None, booster=None,\n",
       "                                     callbacks=None, colsample_bylevel=None,\n",
       "                                     colsample_bynode=None,\n",
       "                                     colsample_bytree=None,\n",
       "                                     early_stopping_rounds=None,\n",
       "                                     enable_categorical=False, eval_metric=None,\n",
       "                                     gamma=None, gpu_id=None, grow_policy=None,\n",
       "                                     importance_type=None,\n",
       "                                     interaction_constraints=None,\n",
       "                                     learning_rate=None, max_bin=None,\n",
       "                                     max_ca...one,\n",
       "                                     max_delta_step=None, max_depth=2,\n",
       "                                     max_leaves=None, min_child_weight=None,\n",
       "                                     missing=nan, monotone_constraints=None,\n",
       "                                     n_estimators=200, n_jobs=None,\n",
       "                                     num_parallel_tree=None, predictor=None,\n",
       "                                     random_state=None, reg_alpha=None,\n",
       "                                     reg_lambda=None, ...),\n",
       "             param_grid={&#x27;learning_rate&#x27;: [0.2, 0.6],\n",
       "                         &#x27;subsample&#x27;: [0.3, 0.6, 0.9]},\n",
       "             return_train_score=True, scoring=&#x27;roc_auc&#x27;, verbose=1)</pre></div></div></div><div class=\"sk-parallel\"><div class=\"sk-parallel-item\"><div class=\"sk-item\"><div class=\"sk-label-container\"><div class=\"sk-label sk-toggleable\"><input class=\"sk-toggleable__control sk-hidden--visually\" id=\"sk-estimator-id-7\" type=\"checkbox\" ><label for=\"sk-estimator-id-7\" class=\"sk-toggleable__label sk-toggleable__label-arrow\">estimator: XGBClassifier</label><div class=\"sk-toggleable__content\"><pre>XGBClassifier(base_score=None, booster=None, callbacks=None,\n",
       "              colsample_bylevel=None, colsample_bynode=None,\n",
       "              colsample_bytree=None, early_stopping_rounds=None,\n",
       "              enable_categorical=False, eval_metric=None, gamma=None,\n",
       "              gpu_id=None, grow_policy=None, importance_type=None,\n",
       "              interaction_constraints=None, learning_rate=None, max_bin=None,\n",
       "              max_cat_to_onehot=None, max_delta_step=None, max_depth=2,\n",
       "              max_leaves=None, min_child_weight=None, missing=nan,\n",
       "              monotone_constraints=None, n_estimators=200, n_jobs=None,\n",
       "              num_parallel_tree=None, predictor=None, random_state=None,\n",
       "              reg_alpha=None, reg_lambda=None, ...)</pre></div></div></div><div class=\"sk-serial\"><div class=\"sk-item\"><div class=\"sk-estimator sk-toggleable\"><input class=\"sk-toggleable__control sk-hidden--visually\" id=\"sk-estimator-id-8\" type=\"checkbox\" ><label for=\"sk-estimator-id-8\" class=\"sk-toggleable__label sk-toggleable__label-arrow\">XGBClassifier</label><div class=\"sk-toggleable__content\"><pre>XGBClassifier(base_score=None, booster=None, callbacks=None,\n",
       "              colsample_bylevel=None, colsample_bynode=None,\n",
       "              colsample_bytree=None, early_stopping_rounds=None,\n",
       "              enable_categorical=False, eval_metric=None, gamma=None,\n",
       "              gpu_id=None, grow_policy=None, importance_type=None,\n",
       "              interaction_constraints=None, learning_rate=None, max_bin=None,\n",
       "              max_cat_to_onehot=None, max_delta_step=None, max_depth=2,\n",
       "              max_leaves=None, min_child_weight=None, missing=nan,\n",
       "              monotone_constraints=None, n_estimators=200, n_jobs=None,\n",
       "              num_parallel_tree=None, predictor=None, random_state=None,\n",
       "              reg_alpha=None, reg_lambda=None, ...)</pre></div></div></div></div></div></div></div></div></div></div>"
      ],
      "text/plain": [
       "GridSearchCV(cv=3,\n",
       "             estimator=XGBClassifier(base_score=None, booster=None,\n",
       "                                     callbacks=None, colsample_bylevel=None,\n",
       "                                     colsample_bynode=None,\n",
       "                                     colsample_bytree=None,\n",
       "                                     early_stopping_rounds=None,\n",
       "                                     enable_categorical=False, eval_metric=None,\n",
       "                                     gamma=None, gpu_id=None, grow_policy=None,\n",
       "                                     importance_type=None,\n",
       "                                     interaction_constraints=None,\n",
       "                                     learning_rate=None, max_bin=None,\n",
       "                                     max_ca...one,\n",
       "                                     max_delta_step=None, max_depth=2,\n",
       "                                     max_leaves=None, min_child_weight=None,\n",
       "                                     missing=nan, monotone_constraints=None,\n",
       "                                     n_estimators=200, n_jobs=None,\n",
       "                                     num_parallel_tree=None, predictor=None,\n",
       "                                     random_state=None, reg_alpha=None,\n",
       "                                     reg_lambda=None, ...),\n",
       "             param_grid={'learning_rate': [0.2, 0.6],\n",
       "                         'subsample': [0.3, 0.6, 0.9]},\n",
       "             return_train_score=True, scoring='roc_auc', verbose=1)"
      ]
     },
     "execution_count": 96,
     "metadata": {},
     "output_type": "execute_result"
    }
   ],
   "source": [
    "# creating a KFold object \n",
    "folds = 3\n",
    "\n",
    "# specify range of hyperparameters\n",
    "param_grid = {'learning_rate': [0.2, 0.6], \n",
    "             'subsample': [0.3, 0.6, 0.9]}          \n",
    "\n",
    "\n",
    "# specify model\n",
    "xgb_model = XGBClassifier(max_depth=2, n_estimators=200)\n",
    "\n",
    "# set up GridSearchCV()\n",
    "model_cv = GridSearchCV(estimator = xgb_model, \n",
    "                        param_grid = param_grid, \n",
    "                        scoring= 'roc_auc', \n",
    "                        cv = folds, \n",
    "                        verbose = 1,\n",
    "                        return_train_score=True)      \n",
    "\n",
    "# fit the model\n",
    "model_cv.fit(X_train, y_train)"
   ]
  },
  {
   "cell_type": "code",
   "execution_count": 97,
   "id": "26569c38",
   "metadata": {},
   "outputs": [
    {
     "data": {
      "text/html": [
       "<div>\n",
       "<style scoped>\n",
       "    .dataframe tbody tr th:only-of-type {\n",
       "        vertical-align: middle;\n",
       "    }\n",
       "\n",
       "    .dataframe tbody tr th {\n",
       "        vertical-align: top;\n",
       "    }\n",
       "\n",
       "    .dataframe thead th {\n",
       "        text-align: right;\n",
       "    }\n",
       "</style>\n",
       "<table border=\"1\" class=\"dataframe\">\n",
       "  <thead>\n",
       "    <tr style=\"text-align: right;\">\n",
       "      <th></th>\n",
       "      <th>mean_fit_time</th>\n",
       "      <th>std_fit_time</th>\n",
       "      <th>mean_score_time</th>\n",
       "      <th>std_score_time</th>\n",
       "      <th>param_learning_rate</th>\n",
       "      <th>param_subsample</th>\n",
       "      <th>params</th>\n",
       "      <th>split0_test_score</th>\n",
       "      <th>split1_test_score</th>\n",
       "      <th>split2_test_score</th>\n",
       "      <th>mean_test_score</th>\n",
       "      <th>std_test_score</th>\n",
       "      <th>rank_test_score</th>\n",
       "      <th>split0_train_score</th>\n",
       "      <th>split1_train_score</th>\n",
       "      <th>split2_train_score</th>\n",
       "      <th>mean_train_score</th>\n",
       "      <th>std_train_score</th>\n",
       "    </tr>\n",
       "  </thead>\n",
       "  <tbody>\n",
       "    <tr>\n",
       "      <th>0</th>\n",
       "      <td>2.316719</td>\n",
       "      <td>0.231934</td>\n",
       "      <td>0.033861</td>\n",
       "      <td>0.002735</td>\n",
       "      <td>0.2</td>\n",
       "      <td>0.3</td>\n",
       "      <td>{'learning_rate': 0.2, 'subsample': 0.3}</td>\n",
       "      <td>0.717483</td>\n",
       "      <td>0.677575</td>\n",
       "      <td>0.714849</td>\n",
       "      <td>0.703302</td>\n",
       "      <td>0.018224</td>\n",
       "      <td>6</td>\n",
       "      <td>0.844314</td>\n",
       "      <td>0.855754</td>\n",
       "      <td>0.843057</td>\n",
       "      <td>0.847708</td>\n",
       "      <td>0.005712</td>\n",
       "    </tr>\n",
       "    <tr>\n",
       "      <th>1</th>\n",
       "      <td>2.657717</td>\n",
       "      <td>0.167171</td>\n",
       "      <td>0.036163</td>\n",
       "      <td>0.002611</td>\n",
       "      <td>0.2</td>\n",
       "      <td>0.6</td>\n",
       "      <td>{'learning_rate': 0.2, 'subsample': 0.6}</td>\n",
       "      <td>0.736211</td>\n",
       "      <td>0.679441</td>\n",
       "      <td>0.722890</td>\n",
       "      <td>0.712847</td>\n",
       "      <td>0.024240</td>\n",
       "      <td>1</td>\n",
       "      <td>0.864650</td>\n",
       "      <td>0.878795</td>\n",
       "      <td>0.866863</td>\n",
       "      <td>0.870103</td>\n",
       "      <td>0.006212</td>\n",
       "    </tr>\n",
       "    <tr>\n",
       "      <th>2</th>\n",
       "      <td>2.664152</td>\n",
       "      <td>0.107027</td>\n",
       "      <td>0.040609</td>\n",
       "      <td>0.000382</td>\n",
       "      <td>0.2</td>\n",
       "      <td>0.9</td>\n",
       "      <td>{'learning_rate': 0.2, 'subsample': 0.9}</td>\n",
       "      <td>0.732285</td>\n",
       "      <td>0.682235</td>\n",
       "      <td>0.717349</td>\n",
       "      <td>0.710623</td>\n",
       "      <td>0.020979</td>\n",
       "      <td>3</td>\n",
       "      <td>0.867817</td>\n",
       "      <td>0.886459</td>\n",
       "      <td>0.873102</td>\n",
       "      <td>0.875793</td>\n",
       "      <td>0.007845</td>\n",
       "    </tr>\n",
       "    <tr>\n",
       "      <th>3</th>\n",
       "      <td>2.268439</td>\n",
       "      <td>0.004083</td>\n",
       "      <td>0.042339</td>\n",
       "      <td>0.005393</td>\n",
       "      <td>0.6</td>\n",
       "      <td>0.3</td>\n",
       "      <td>{'learning_rate': 0.6, 'subsample': 0.3}</td>\n",
       "      <td>0.706568</td>\n",
       "      <td>0.685767</td>\n",
       "      <td>0.719847</td>\n",
       "      <td>0.704061</td>\n",
       "      <td>0.014025</td>\n",
       "      <td>5</td>\n",
       "      <td>0.865192</td>\n",
       "      <td>0.886557</td>\n",
       "      <td>0.873258</td>\n",
       "      <td>0.875002</td>\n",
       "      <td>0.008809</td>\n",
       "    </tr>\n",
       "    <tr>\n",
       "      <th>4</th>\n",
       "      <td>2.391680</td>\n",
       "      <td>0.051423</td>\n",
       "      <td>0.030823</td>\n",
       "      <td>0.005729</td>\n",
       "      <td>0.6</td>\n",
       "      <td>0.6</td>\n",
       "      <td>{'learning_rate': 0.6, 'subsample': 0.6}</td>\n",
       "      <td>0.739220</td>\n",
       "      <td>0.661291</td>\n",
       "      <td>0.716365</td>\n",
       "      <td>0.705625</td>\n",
       "      <td>0.032708</td>\n",
       "      <td>4</td>\n",
       "      <td>0.909833</td>\n",
       "      <td>0.921007</td>\n",
       "      <td>0.913585</td>\n",
       "      <td>0.914808</td>\n",
       "      <td>0.004643</td>\n",
       "    </tr>\n",
       "    <tr>\n",
       "      <th>5</th>\n",
       "      <td>2.411474</td>\n",
       "      <td>0.044454</td>\n",
       "      <td>0.036307</td>\n",
       "      <td>0.005230</td>\n",
       "      <td>0.6</td>\n",
       "      <td>0.9</td>\n",
       "      <td>{'learning_rate': 0.6, 'subsample': 0.9}</td>\n",
       "      <td>0.753703</td>\n",
       "      <td>0.661589</td>\n",
       "      <td>0.717337</td>\n",
       "      <td>0.710876</td>\n",
       "      <td>0.037882</td>\n",
       "      <td>2</td>\n",
       "      <td>0.924196</td>\n",
       "      <td>0.936259</td>\n",
       "      <td>0.926024</td>\n",
       "      <td>0.928826</td>\n",
       "      <td>0.005308</td>\n",
       "    </tr>\n",
       "  </tbody>\n",
       "</table>\n",
       "</div>"
      ],
      "text/plain": [
       "   mean_fit_time  std_fit_time  mean_score_time  std_score_time  \\\n",
       "0       2.316719      0.231934         0.033861        0.002735   \n",
       "1       2.657717      0.167171         0.036163        0.002611   \n",
       "2       2.664152      0.107027         0.040609        0.000382   \n",
       "3       2.268439      0.004083         0.042339        0.005393   \n",
       "4       2.391680      0.051423         0.030823        0.005729   \n",
       "5       2.411474      0.044454         0.036307        0.005230   \n",
       "\n",
       "  param_learning_rate param_subsample  \\\n",
       "0                 0.2             0.3   \n",
       "1                 0.2             0.6   \n",
       "2                 0.2             0.9   \n",
       "3                 0.6             0.3   \n",
       "4                 0.6             0.6   \n",
       "5                 0.6             0.9   \n",
       "\n",
       "                                     params  split0_test_score  \\\n",
       "0  {'learning_rate': 0.2, 'subsample': 0.3}           0.717483   \n",
       "1  {'learning_rate': 0.2, 'subsample': 0.6}           0.736211   \n",
       "2  {'learning_rate': 0.2, 'subsample': 0.9}           0.732285   \n",
       "3  {'learning_rate': 0.6, 'subsample': 0.3}           0.706568   \n",
       "4  {'learning_rate': 0.6, 'subsample': 0.6}           0.739220   \n",
       "5  {'learning_rate': 0.6, 'subsample': 0.9}           0.753703   \n",
       "\n",
       "   split1_test_score  split2_test_score  mean_test_score  std_test_score  \\\n",
       "0           0.677575           0.714849         0.703302        0.018224   \n",
       "1           0.679441           0.722890         0.712847        0.024240   \n",
       "2           0.682235           0.717349         0.710623        0.020979   \n",
       "3           0.685767           0.719847         0.704061        0.014025   \n",
       "4           0.661291           0.716365         0.705625        0.032708   \n",
       "5           0.661589           0.717337         0.710876        0.037882   \n",
       "\n",
       "   rank_test_score  split0_train_score  split1_train_score  \\\n",
       "0                6            0.844314            0.855754   \n",
       "1                1            0.864650            0.878795   \n",
       "2                3            0.867817            0.886459   \n",
       "3                5            0.865192            0.886557   \n",
       "4                4            0.909833            0.921007   \n",
       "5                2            0.924196            0.936259   \n",
       "\n",
       "   split2_train_score  mean_train_score  std_train_score  \n",
       "0            0.843057          0.847708         0.005712  \n",
       "1            0.866863          0.870103         0.006212  \n",
       "2            0.873102          0.875793         0.007845  \n",
       "3            0.873258          0.875002         0.008809  \n",
       "4            0.913585          0.914808         0.004643  \n",
       "5            0.926024          0.928826         0.005308  "
      ]
     },
     "execution_count": 97,
     "metadata": {},
     "output_type": "execute_result"
    }
   ],
   "source": [
    "# cv results\n",
    "cv_results = pd.DataFrame(model_cv.cv_results_)\n",
    "cv_results\n"
   ]
  },
  {
   "cell_type": "code",
   "execution_count": 98,
   "id": "e2d9968c",
   "metadata": {},
   "outputs": [
    {
     "name": "stdout",
     "output_type": "stream",
     "text": [
      "Best roc auc score :  0.7128473865782455\n",
      "XGBClassifier(base_score=0.5, booster='gbtree', callbacks=None,\n",
      "              colsample_bylevel=1, colsample_bynode=1, colsample_bytree=1,\n",
      "              early_stopping_rounds=None, enable_categorical=False,\n",
      "              eval_metric=None, gamma=0, gpu_id=-1, grow_policy='depthwise',\n",
      "              importance_type=None, interaction_constraints='',\n",
      "              learning_rate=0.2, max_bin=256, max_cat_to_onehot=4,\n",
      "              max_delta_step=0, max_depth=2, max_leaves=0, min_child_weight=1,\n",
      "              missing=nan, monotone_constraints='()', n_estimators=200,\n",
      "              n_jobs=0, num_parallel_tree=1, predictor='auto', random_state=0,\n",
      "              reg_alpha=0, reg_lambda=1, ...)\n"
     ]
    }
   ],
   "source": [
    "# Printing the optimal score and hyperparameters\n",
    "print(\"Best roc auc score : \", model_cv.best_score_)\n",
    "print(model_cv.best_estimator_)"
   ]
  },
  {
   "cell_type": "code",
   "execution_count": 99,
   "id": "8435686c",
   "metadata": {},
   "outputs": [
    {
     "data": {
      "text/plain": [
       "{'learning_rate': 0.2, 'subsample': 0.6}"
      ]
     },
     "execution_count": 99,
     "metadata": {},
     "output_type": "execute_result"
    }
   ],
   "source": [
    "# Printing best params\n",
    "model_cv.best_params_"
   ]
  },
  {
   "cell_type": "code",
   "execution_count": 100,
   "id": "fe81bfb3",
   "metadata": {
    "scrolled": true
   },
   "outputs": [
    {
     "name": "stdout",
     "output_type": "stream",
     "text": [
      "[08:57:24] WARNING: C:/Users/Administrator/workspace/xgboost-win64_release_1.6.0/src/learner.cc:627: \n",
      "Parameters: { \"params\" } might not be used.\n",
      "\n",
      "  This could be a false alarm, with some parameters getting used by language bindings but\n",
      "  then being mistakenly passed down to XGBoost core, or some parameter actually being used\n",
      "  but getting flagged wrongly here. Please open an issue if you find any such cases.\n",
      "\n",
      "\n"
     ]
    },
    {
     "data": {
      "text/html": [
       "<style>#sk-container-id-5 {color: black;background-color: white;}#sk-container-id-5 pre{padding: 0;}#sk-container-id-5 div.sk-toggleable {background-color: white;}#sk-container-id-5 label.sk-toggleable__label {cursor: pointer;display: block;width: 100%;margin-bottom: 0;padding: 0.3em;box-sizing: border-box;text-align: center;}#sk-container-id-5 label.sk-toggleable__label-arrow:before {content: \"▸\";float: left;margin-right: 0.25em;color: #696969;}#sk-container-id-5 label.sk-toggleable__label-arrow:hover:before {color: black;}#sk-container-id-5 div.sk-estimator:hover label.sk-toggleable__label-arrow:before {color: black;}#sk-container-id-5 div.sk-toggleable__content {max-height: 0;max-width: 0;overflow: hidden;text-align: left;background-color: #f0f8ff;}#sk-container-id-5 div.sk-toggleable__content pre {margin: 0.2em;color: black;border-radius: 0.25em;background-color: #f0f8ff;}#sk-container-id-5 input.sk-toggleable__control:checked~div.sk-toggleable__content {max-height: 200px;max-width: 100%;overflow: auto;}#sk-container-id-5 input.sk-toggleable__control:checked~label.sk-toggleable__label-arrow:before {content: \"▾\";}#sk-container-id-5 div.sk-estimator input.sk-toggleable__control:checked~label.sk-toggleable__label {background-color: #d4ebff;}#sk-container-id-5 div.sk-label input.sk-toggleable__control:checked~label.sk-toggleable__label {background-color: #d4ebff;}#sk-container-id-5 input.sk-hidden--visually {border: 0;clip: rect(1px 1px 1px 1px);clip: rect(1px, 1px, 1px, 1px);height: 1px;margin: -1px;overflow: hidden;padding: 0;position: absolute;width: 1px;}#sk-container-id-5 div.sk-estimator {font-family: monospace;background-color: #f0f8ff;border: 1px dotted black;border-radius: 0.25em;box-sizing: border-box;margin-bottom: 0.5em;}#sk-container-id-5 div.sk-estimator:hover {background-color: #d4ebff;}#sk-container-id-5 div.sk-parallel-item::after {content: \"\";width: 100%;border-bottom: 1px solid gray;flex-grow: 1;}#sk-container-id-5 div.sk-label:hover label.sk-toggleable__label {background-color: #d4ebff;}#sk-container-id-5 div.sk-serial::before {content: \"\";position: absolute;border-left: 1px solid gray;box-sizing: border-box;top: 0;bottom: 0;left: 50%;z-index: 0;}#sk-container-id-5 div.sk-serial {display: flex;flex-direction: column;align-items: center;background-color: white;padding-right: 0.2em;padding-left: 0.2em;position: relative;}#sk-container-id-5 div.sk-item {position: relative;z-index: 1;}#sk-container-id-5 div.sk-parallel {display: flex;align-items: stretch;justify-content: center;background-color: white;position: relative;}#sk-container-id-5 div.sk-item::before, #sk-container-id-5 div.sk-parallel-item::before {content: \"\";position: absolute;border-left: 1px solid gray;box-sizing: border-box;top: 0;bottom: 0;left: 50%;z-index: -1;}#sk-container-id-5 div.sk-parallel-item {display: flex;flex-direction: column;z-index: 1;position: relative;background-color: white;}#sk-container-id-5 div.sk-parallel-item:first-child::after {align-self: flex-end;width: 50%;}#sk-container-id-5 div.sk-parallel-item:last-child::after {align-self: flex-start;width: 50%;}#sk-container-id-5 div.sk-parallel-item:only-child::after {width: 0;}#sk-container-id-5 div.sk-dashed-wrapped {border: 1px dashed gray;margin: 0 0.4em 0.5em 0.4em;box-sizing: border-box;padding-bottom: 0.4em;background-color: white;}#sk-container-id-5 div.sk-label label {font-family: monospace;font-weight: bold;display: inline-block;line-height: 1.2em;}#sk-container-id-5 div.sk-label-container {text-align: center;}#sk-container-id-5 div.sk-container {/* jupyter's `normalize.less` sets `[hidden] { display: none; }` but bootstrap.min.css set `[hidden] { display: none !important; }` so we also need the `!important` here to be able to override the default hidden behavior on the sphinx rendered scikit-learn.org. See: https://github.com/scikit-learn/scikit-learn/issues/21755 */display: inline-block !important;position: relative;}#sk-container-id-5 div.sk-text-repr-fallback {display: none;}</style><div id=\"sk-container-id-5\" class=\"sk-top-container\"><div class=\"sk-text-repr-fallback\"><pre>XGBClassifier(base_score=0.5, booster=&#x27;gbtree&#x27;, callbacks=None,\n",
       "              colsample_bylevel=1, colsample_bynode=1, colsample_bytree=1,\n",
       "              early_stopping_rounds=None, enable_categorical=False,\n",
       "              eval_metric=None, gamma=0, gpu_id=-1, grow_policy=&#x27;depthwise&#x27;,\n",
       "              importance_type=None, interaction_constraints=&#x27;&#x27;,\n",
       "              learning_rate=0.300000012, max_bin=256, max_cat_to_onehot=4,\n",
       "              max_delta_step=0, max_depth=6, max_leaves=0, min_child_weight=1,\n",
       "              missing=nan, monotone_constraints=&#x27;()&#x27;, n_estimators=100,\n",
       "              n_jobs=0, num_parallel_tree=1,\n",
       "              params={&#x27;learning_rate&#x27;: 0.2, &#x27;max_depth&#x27;: 2, &#x27;n_estimators&#x27;: 200,\n",
       "                      &#x27;objective&#x27;: &#x27;binary:logistic&#x27;, &#x27;subsample&#x27;: 0.6},\n",
       "              predictor=&#x27;auto&#x27;, random_state=0, reg_alpha=0, ...)</pre><b>In a Jupyter environment, please rerun this cell to show the HTML representation or trust the notebook. <br />On GitHub, the HTML representation is unable to render, please try loading this page with nbviewer.org.</b></div><div class=\"sk-container\" hidden><div class=\"sk-item\"><div class=\"sk-estimator sk-toggleable\"><input class=\"sk-toggleable__control sk-hidden--visually\" id=\"sk-estimator-id-9\" type=\"checkbox\" checked><label for=\"sk-estimator-id-9\" class=\"sk-toggleable__label sk-toggleable__label-arrow\">XGBClassifier</label><div class=\"sk-toggleable__content\"><pre>XGBClassifier(base_score=0.5, booster=&#x27;gbtree&#x27;, callbacks=None,\n",
       "              colsample_bylevel=1, colsample_bynode=1, colsample_bytree=1,\n",
       "              early_stopping_rounds=None, enable_categorical=False,\n",
       "              eval_metric=None, gamma=0, gpu_id=-1, grow_policy=&#x27;depthwise&#x27;,\n",
       "              importance_type=None, interaction_constraints=&#x27;&#x27;,\n",
       "              learning_rate=0.300000012, max_bin=256, max_cat_to_onehot=4,\n",
       "              max_delta_step=0, max_depth=6, max_leaves=0, min_child_weight=1,\n",
       "              missing=nan, monotone_constraints=&#x27;()&#x27;, n_estimators=100,\n",
       "              n_jobs=0, num_parallel_tree=1,\n",
       "              params={&#x27;learning_rate&#x27;: 0.2, &#x27;max_depth&#x27;: 2, &#x27;n_estimators&#x27;: 200,\n",
       "                      &#x27;objective&#x27;: &#x27;binary:logistic&#x27;, &#x27;subsample&#x27;: 0.6},\n",
       "              predictor=&#x27;auto&#x27;, random_state=0, reg_alpha=0, ...)</pre></div></div></div></div></div>"
      ],
      "text/plain": [
       "XGBClassifier(base_score=0.5, booster='gbtree', callbacks=None,\n",
       "              colsample_bylevel=1, colsample_bynode=1, colsample_bytree=1,\n",
       "              early_stopping_rounds=None, enable_categorical=False,\n",
       "              eval_metric=None, gamma=0, gpu_id=-1, grow_policy='depthwise',\n",
       "              importance_type=None, interaction_constraints='',\n",
       "              learning_rate=0.300000012, max_bin=256, max_cat_to_onehot=4,\n",
       "              max_delta_step=0, max_depth=6, max_leaves=0, min_child_weight=1,\n",
       "              missing=nan, monotone_constraints='()', n_estimators=100,\n",
       "              n_jobs=0, num_parallel_tree=1,\n",
       "              params={'learning_rate': 0.2, 'max_depth': 2, 'n_estimators': 200,\n",
       "                      'objective': 'binary:logistic', 'subsample': 0.6},\n",
       "              predictor='auto', random_state=0, reg_alpha=0, ...)"
      ]
     },
     "execution_count": 100,
     "metadata": {},
     "output_type": "execute_result"
    }
   ],
   "source": [
    "# Printing best params\n",
    "params = {'learning_rate': 0.2,\n",
    "          'max_depth': 2, \n",
    "          'n_estimators':200,\n",
    "          'subsample':0.6,\n",
    "          'objective':'binary:logistic'}\n",
    "\n",
    "# fit model on training data\n",
    "xgb_imb_model = XGBClassifier(params = params)\n",
    "xgb_imb_model.fit(X_train, y_train)"
   ]
  },
  {
   "cell_type": "code",
   "execution_count": 101,
   "id": "aff928d0",
   "metadata": {},
   "outputs": [
    {
     "name": "stdout",
     "output_type": "stream",
     "text": [
      "F1 Score: 43.75%\n",
      "Classification Report: \n",
      "               precision    recall  f1-score   support\n",
      "\n",
      "           0       0.99      1.00      1.00     58183\n",
      "           1       1.00      0.28      0.44       525\n",
      "\n",
      "    accuracy                           0.99     58708\n",
      "   macro avg       1.00      0.64      0.72     58708\n",
      "weighted avg       0.99      0.99      0.99     58708\n",
      "\n"
     ]
    }
   ],
   "source": [
    "# Predictions on the train set\n",
    "y_train_pred = xgb_imb_model.predict(X_train)\n",
    "\n",
    "display_scores(y_train, y_train_pred)"
   ]
  },
  {
   "cell_type": "code",
   "execution_count": 102,
   "id": "49eeb1f4",
   "metadata": {},
   "outputs": [
    {
     "data": {
      "image/png": "[encoded data removed]",
      "text/plain": [
       "<Figure size 360x360 with 1 Axes>"
      ]
     },
     "metadata": {
      "needs_background": "light"
     },
     "output_type": "display_data"
    }
   ],
   "source": [
    "# Predicted probability\n",
    "y_train_pred_proba_imb_xgb = xgb_imb_model.predict_proba(X_train)[:,1]\n",
    "\n",
    "# Plot the ROC curve\n",
    "draw_roc(y_train, y_train_pred_proba_imb_xgb)"
   ]
  },
  {
   "cell_type": "code",
   "execution_count": 103,
   "id": "bb467db5",
   "metadata": {},
   "outputs": [
    {
     "name": "stdout",
     "output_type": "stream",
     "text": [
      "F1 Score: 37.04%\n",
      "Classification Report: \n",
      "               precision    recall  f1-score   support\n",
      "\n",
      "           0       0.99      1.00      1.00     14546\n",
      "           1       0.97      0.23      0.37       131\n",
      "\n",
      "    accuracy                           0.99     14677\n",
      "   macro avg       0.98      0.61      0.68     14677\n",
      "weighted avg       0.99      0.99      0.99     14677\n",
      "\n"
     ]
    }
   ],
   "source": [
    "# Predictions on the test set\n",
    "y_test_pred = xgb_imb_model.predict(X_test)\n",
    "display_scores(y_test, y_test_pred)"
   ]
  },
  {
   "cell_type": "code",
   "execution_count": 104,
   "id": "382d140d",
   "metadata": {
    "scrolled": false
   },
   "outputs": [
    {
     "data": {
      "image/png": "[encoded data removed]",
      "text/plain": [
       "<Figure size 360x360 with 1 Axes>"
      ]
     },
     "metadata": {
      "needs_background": "light"
     },
     "output_type": "display_data"
    }
   ],
   "source": [
    "#### Predicted probability\n",
    "y_test_pred_proba = xgb_imb_model.predict_proba(X_test)[:,1]\n",
    "\n",
    "# Plot the ROC curve\n",
    "draw_roc(y_test, y_test_pred_proba)"
   ]
  },
  {
   "cell_type": "markdown",
   "id": "7e6265d0",
   "metadata": {},
   "source": [
    "## 4. Random Forest Classifier"
   ]
  },
  {
   "cell_type": "code",
   "execution_count": 105,
   "id": "d56705aa",
   "metadata": {},
   "outputs": [
    {
     "name": "stdout",
     "output_type": "stream",
     "text": [
      "Fitting 3 folds for each of 8 candidates, totalling 24 fits\n"
     ]
    },
    {
     "data": {
      "text/html": [
       "<style>#sk-container-id-6 {color: black;background-color: white;}#sk-container-id-6 pre{padding: 0;}#sk-container-id-6 div.sk-toggleable {background-color: white;}#sk-container-id-6 label.sk-toggleable__label {cursor: pointer;display: block;width: 100%;margin-bottom: 0;padding: 0.3em;box-sizing: border-box;text-align: center;}#sk-container-id-6 label.sk-toggleable__label-arrow:before {content: \"▸\";float: left;margin-right: 0.25em;color: #696969;}#sk-container-id-6 label.sk-toggleable__label-arrow:hover:before {color: black;}#sk-container-id-6 div.sk-estimator:hover label.sk-toggleable__label-arrow:before {color: black;}#sk-container-id-6 div.sk-toggleable__content {max-height: 0;max-width: 0;overflow: hidden;text-align: left;background-color: #f0f8ff;}#sk-container-id-6 div.sk-toggleable__content pre {margin: 0.2em;color: black;border-radius: 0.25em;background-color: #f0f8ff;}#sk-container-id-6 input.sk-toggleable__control:checked~div.sk-toggleable__content {max-height: 200px;max-width: 100%;overflow: auto;}#sk-container-id-6 input.sk-toggleable__control:checked~label.sk-toggleable__label-arrow:before {content: \"▾\";}#sk-container-id-6 div.sk-estimator input.sk-toggleable__control:checked~label.sk-toggleable__label {background-color: #d4ebff;}#sk-container-id-6 div.sk-label input.sk-toggleable__control:checked~label.sk-toggleable__label {background-color: #d4ebff;}#sk-container-id-6 input.sk-hidden--visually {border: 0;clip: rect(1px 1px 1px 1px);clip: rect(1px, 1px, 1px, 1px);height: 1px;margin: -1px;overflow: hidden;padding: 0;position: absolute;width: 1px;}#sk-container-id-6 div.sk-estimator {font-family: monospace;background-color: #f0f8ff;border: 1px dotted black;border-radius: 0.25em;box-sizing: border-box;margin-bottom: 0.5em;}#sk-container-id-6 div.sk-estimator:hover {background-color: #d4ebff;}#sk-container-id-6 div.sk-parallel-item::after {content: \"\";width: 100%;border-bottom: 1px solid gray;flex-grow: 1;}#sk-container-id-6 div.sk-label:hover label.sk-toggleable__label {background-color: #d4ebff;}#sk-container-id-6 div.sk-serial::before {content: \"\";position: absolute;border-left: 1px solid gray;box-sizing: border-box;top: 0;bottom: 0;left: 50%;z-index: 0;}#sk-container-id-6 div.sk-serial {display: flex;flex-direction: column;align-items: center;background-color: white;padding-right: 0.2em;padding-left: 0.2em;position: relative;}#sk-container-id-6 div.sk-item {position: relative;z-index: 1;}#sk-container-id-6 div.sk-parallel {display: flex;align-items: stretch;justify-content: center;background-color: white;position: relative;}#sk-container-id-6 div.sk-item::before, #sk-container-id-6 div.sk-parallel-item::before {content: \"\";position: absolute;border-left: 1px solid gray;box-sizing: border-box;top: 0;bottom: 0;left: 50%;z-index: -1;}#sk-container-id-6 div.sk-parallel-item {display: flex;flex-direction: column;z-index: 1;position: relative;background-color: white;}#sk-container-id-6 div.sk-parallel-item:first-child::after {align-self: flex-end;width: 50%;}#sk-container-id-6 div.sk-parallel-item:last-child::after {align-self: flex-start;width: 50%;}#sk-container-id-6 div.sk-parallel-item:only-child::after {width: 0;}#sk-container-id-6 div.sk-dashed-wrapped {border: 1px dashed gray;margin: 0 0.4em 0.5em 0.4em;box-sizing: border-box;padding-bottom: 0.4em;background-color: white;}#sk-container-id-6 div.sk-label label {font-family: monospace;font-weight: bold;display: inline-block;line-height: 1.2em;}#sk-container-id-6 div.sk-label-container {text-align: center;}#sk-container-id-6 div.sk-container {/* jupyter's `normalize.less` sets `[hidden] { display: none; }` but bootstrap.min.css set `[hidden] { display: none !important; }` so we also need the `!important` here to be able to override the default hidden behavior on the sphinx rendered scikit-learn.org. See: https://github.com/scikit-learn/scikit-learn/issues/21755 */display: inline-block !important;position: relative;}#sk-container-id-6 div.sk-text-repr-fallback {display: none;}</style><div id=\"sk-container-id-6\" class=\"sk-top-container\"><div class=\"sk-text-repr-fallback\"><pre>GridSearchCV(cv=3, estimator=RandomForestClassifier(), n_jobs=-1,\n",
       "             param_grid={&#x27;max_depth&#x27;: range(5, 15, 5),\n",
       "                         &#x27;min_samples_leaf&#x27;: range(50, 150, 50),\n",
       "                         &#x27;min_samples_split&#x27;: range(50, 150, 50)},\n",
       "             scoring=&#x27;roc_auc&#x27;, verbose=1)</pre><b>In a Jupyter environment, please rerun this cell to show the HTML representation or trust the notebook. <br />On GitHub, the HTML representation is unable to render, please try loading this page with nbviewer.org.</b></div><div class=\"sk-container\" hidden><div class=\"sk-item sk-dashed-wrapped\"><div class=\"sk-label-container\"><div class=\"sk-label sk-toggleable\"><input class=\"sk-toggleable__control sk-hidden--visually\" id=\"sk-estimator-id-10\" type=\"checkbox\" ><label for=\"sk-estimator-id-10\" class=\"sk-toggleable__label sk-toggleable__label-arrow\">GridSearchCV</label><div class=\"sk-toggleable__content\"><pre>GridSearchCV(cv=3, estimator=RandomForestClassifier(), n_jobs=-1,\n",
       "             param_grid={&#x27;max_depth&#x27;: range(5, 15, 5),\n",
       "                         &#x27;min_samples_leaf&#x27;: range(50, 150, 50),\n",
       "                         &#x27;min_samples_split&#x27;: range(50, 150, 50)},\n",
       "             scoring=&#x27;roc_auc&#x27;, verbose=1)</pre></div></div></div><div class=\"sk-parallel\"><div class=\"sk-parallel-item\"><div class=\"sk-item\"><div class=\"sk-label-container\"><div class=\"sk-label sk-toggleable\"><input class=\"sk-toggleable__control sk-hidden--visually\" id=\"sk-estimator-id-11\" type=\"checkbox\" ><label for=\"sk-estimator-id-11\" class=\"sk-toggleable__label sk-toggleable__label-arrow\">estimator: RandomForestClassifier</label><div class=\"sk-toggleable__content\"><pre>RandomForestClassifier()</pre></div></div></div><div class=\"sk-serial\"><div class=\"sk-item\"><div class=\"sk-estimator sk-toggleable\"><input class=\"sk-toggleable__control sk-hidden--visually\" id=\"sk-estimator-id-12\" type=\"checkbox\" ><label for=\"sk-estimator-id-12\" class=\"sk-toggleable__label sk-toggleable__label-arrow\">RandomForestClassifier</label><div class=\"sk-toggleable__content\"><pre>RandomForestClassifier()</pre></div></div></div></div></div></div></div></div></div></div>"
      ],
      "text/plain": [
       "GridSearchCV(cv=3, estimator=RandomForestClassifier(), n_jobs=-1,\n",
       "             param_grid={'max_depth': range(5, 15, 5),\n",
       "                         'min_samples_leaf': range(50, 150, 50),\n",
       "                         'min_samples_split': range(50, 150, 50)},\n",
       "             scoring='roc_auc', verbose=1)"
      ]
     },
     "execution_count": 105,
     "metadata": {},
     "output_type": "execute_result"
    }
   ],
   "source": [
    "# Create the parameter grid \n",
    "param_grid = {\n",
    "    'max_depth': range(5, 15, 5),\n",
    "    'min_samples_leaf': range(50, 150, 50),\n",
    "    'min_samples_split': range(50, 150, 50),\n",
    "}\n",
    "\n",
    "\n",
    "# Instantiate the grid search model\n",
    "rf_model = RandomForestClassifier()\n",
    "\n",
    "grid_search = GridSearchCV(estimator = rf_model, \n",
    "                           param_grid = param_grid, \n",
    "                           scoring= 'roc_auc',\n",
    "                           cv = 3, \n",
    "                           n_jobs=-1,\n",
    "                           verbose = 1)\n",
    "\n",
    "# Fit the grid search to the data\n",
    "grid_search.fit(X_train, y_train)"
   ]
  },
  {
   "cell_type": "code",
   "execution_count": 106,
   "id": "288028de",
   "metadata": {},
   "outputs": [
    {
     "name": "stdout",
     "output_type": "stream",
     "text": [
      "Best roc auc score :  0.7138362346392112\n",
      "RandomForestClassifier(max_depth=5, min_samples_leaf=50, min_samples_split=100)\n"
     ]
    }
   ],
   "source": [
    "# Printing the optimal roc score and hyperparameters\n",
    "print(\"Best roc auc score : \", grid_search.best_score_)\n",
    "print(grid_search.best_estimator_)"
   ]
  },
  {
   "cell_type": "code",
   "execution_count": 107,
   "id": "d1fb07ca",
   "metadata": {},
   "outputs": [
    {
     "data": {
      "text/html": [
       "<style>#sk-container-id-7 {color: black;background-color: white;}#sk-container-id-7 pre{padding: 0;}#sk-container-id-7 div.sk-toggleable {background-color: white;}#sk-container-id-7 label.sk-toggleable__label {cursor: pointer;display: block;width: 100%;margin-bottom: 0;padding: 0.3em;box-sizing: border-box;text-align: center;}#sk-container-id-7 label.sk-toggleable__label-arrow:before {content: \"▸\";float: left;margin-right: 0.25em;color: #696969;}#sk-container-id-7 label.sk-toggleable__label-arrow:hover:before {color: black;}#sk-container-id-7 div.sk-estimator:hover label.sk-toggleable__label-arrow:before {color: black;}#sk-container-id-7 div.sk-toggleable__content {max-height: 0;max-width: 0;overflow: hidden;text-align: left;background-color: #f0f8ff;}#sk-container-id-7 div.sk-toggleable__content pre {margin: 0.2em;color: black;border-radius: 0.25em;background-color: #f0f8ff;}#sk-container-id-7 input.sk-toggleable__control:checked~div.sk-toggleable__content {max-height: 200px;max-width: 100%;overflow: auto;}#sk-container-id-7 input.sk-toggleable__control:checked~label.sk-toggleable__label-arrow:before {content: \"▾\";}#sk-container-id-7 div.sk-estimator input.sk-toggleable__control:checked~label.sk-toggleable__label {background-color: #d4ebff;}#sk-container-id-7 div.sk-label input.sk-toggleable__control:checked~label.sk-toggleable__label {background-color: #d4ebff;}#sk-container-id-7 input.sk-hidden--visually {border: 0;clip: rect(1px 1px 1px 1px);clip: rect(1px, 1px, 1px, 1px);height: 1px;margin: -1px;overflow: hidden;padding: 0;position: absolute;width: 1px;}#sk-container-id-7 div.sk-estimator {font-family: monospace;background-color: #f0f8ff;border: 1px dotted black;border-radius: 0.25em;box-sizing: border-box;margin-bottom: 0.5em;}#sk-container-id-7 div.sk-estimator:hover {background-color: #d4ebff;}#sk-container-id-7 div.sk-parallel-item::after {content: \"\";width: 100%;border-bottom: 1px solid gray;flex-grow: 1;}#sk-container-id-7 div.sk-label:hover label.sk-toggleable__label {background-color: #d4ebff;}#sk-container-id-7 div.sk-serial::before {content: \"\";position: absolute;border-left: 1px solid gray;box-sizing: border-box;top: 0;bottom: 0;left: 50%;z-index: 0;}#sk-container-id-7 div.sk-serial {display: flex;flex-direction: column;align-items: center;background-color: white;padding-right: 0.2em;padding-left: 0.2em;position: relative;}#sk-container-id-7 div.sk-item {position: relative;z-index: 1;}#sk-container-id-7 div.sk-parallel {display: flex;align-items: stretch;justify-content: center;background-color: white;position: relative;}#sk-container-id-7 div.sk-item::before, #sk-container-id-7 div.sk-parallel-item::before {content: \"\";position: absolute;border-left: 1px solid gray;box-sizing: border-box;top: 0;bottom: 0;left: 50%;z-index: -1;}#sk-container-id-7 div.sk-parallel-item {display: flex;flex-direction: column;z-index: 1;position: relative;background-color: white;}#sk-container-id-7 div.sk-parallel-item:first-child::after {align-self: flex-end;width: 50%;}#sk-container-id-7 div.sk-parallel-item:last-child::after {align-self: flex-start;width: 50%;}#sk-container-id-7 div.sk-parallel-item:only-child::after {width: 0;}#sk-container-id-7 div.sk-dashed-wrapped {border: 1px dashed gray;margin: 0 0.4em 0.5em 0.4em;box-sizing: border-box;padding-bottom: 0.4em;background-color: white;}#sk-container-id-7 div.sk-label label {font-family: monospace;font-weight: bold;display: inline-block;line-height: 1.2em;}#sk-container-id-7 div.sk-label-container {text-align: center;}#sk-container-id-7 div.sk-container {/* jupyter's `normalize.less` sets `[hidden] { display: none; }` but bootstrap.min.css set `[hidden] { display: none !important; }` so we also need the `!important` here to be able to override the default hidden behavior on the sphinx rendered scikit-learn.org. See: https://github.com/scikit-learn/scikit-learn/issues/21755 */display: inline-block !important;position: relative;}#sk-container-id-7 div.sk-text-repr-fallback {display: none;}</style><div id=\"sk-container-id-7\" class=\"sk-top-container\"><div class=\"sk-text-repr-fallback\"><pre>RandomForestClassifier(max_depth=10, min_samples_leaf=50, min_samples_split=100,\n",
       "                       random_state=100)</pre><b>In a Jupyter environment, please rerun this cell to show the HTML representation or trust the notebook. <br />On GitHub, the HTML representation is unable to render, please try loading this page with nbviewer.org.</b></div><div class=\"sk-container\" hidden><div class=\"sk-item\"><div class=\"sk-estimator sk-toggleable\"><input class=\"sk-toggleable__control sk-hidden--visually\" id=\"sk-estimator-id-13\" type=\"checkbox\" checked><label for=\"sk-estimator-id-13\" class=\"sk-toggleable__label sk-toggleable__label-arrow\">RandomForestClassifier</label><div class=\"sk-toggleable__content\"><pre>RandomForestClassifier(max_depth=10, min_samples_leaf=50, min_samples_split=100,\n",
       "                       random_state=100)</pre></div></div></div></div></div>"
      ],
      "text/plain": [
       "RandomForestClassifier(max_depth=10, min_samples_leaf=50, min_samples_split=100,\n",
       "                       random_state=100)"
      ]
     },
     "execution_count": 107,
     "metadata": {},
     "output_type": "execute_result"
    }
   ],
   "source": [
    "# Model with optimal hyperparameters\n",
    "rf_imb_model = RandomForestClassifier(criterion = \"gini\", \n",
    "                                  random_state = 100,\n",
    "                                  max_depth=10, \n",
    "                                  min_samples_leaf=50,\n",
    "                                  min_samples_split=100)\n",
    "\n",
    "rf_imb_model.fit(X_train, y_train)"
   ]
  },
  {
   "cell_type": "code",
   "execution_count": 108,
   "id": "8a52021e",
   "metadata": {
    "scrolled": true
   },
   "outputs": [
    {
     "name": "stdout",
     "output_type": "stream",
     "text": [
      "F1 Score: 38.21%\n",
      "Classification Report: \n",
      "               precision    recall  f1-score   support\n",
      "\n",
      "           0       0.99      1.00      1.00     58183\n",
      "           1       1.00      0.24      0.38       525\n",
      "\n",
      "    accuracy                           0.99     58708\n",
      "   macro avg       1.00      0.62      0.69     58708\n",
      "weighted avg       0.99      0.99      0.99     58708\n",
      "\n"
     ]
    }
   ],
   "source": [
    "# Predictions on the train set\n",
    "\n",
    "y_train_pred = rf_imb_model.predict(X_train)\n",
    "display_scores(y_train, y_train_pred)"
   ]
  },
  {
   "cell_type": "code",
   "execution_count": 109,
   "id": "ba3a0a54",
   "metadata": {
    "scrolled": true
   },
   "outputs": [
    {
     "data": {
      "image/png": "[encoded data removed]",
      "text/plain": [
       "<Figure size 360x360 with 1 Axes>"
      ]
     },
     "metadata": {
      "needs_background": "light"
     },
     "output_type": "display_data"
    }
   ],
   "source": [
    "# Predicted probability\n",
    "y_train_pred_proba_rf = rf_imb_model.predict_proba(X_train)[:,1]\n",
    "\n",
    "# Plot the ROC curve\n",
    "draw_roc(y_train, y_train_pred_proba_rf)"
   ]
  },
  {
   "cell_type": "code",
   "execution_count": 110,
   "id": "e0724435",
   "metadata": {},
   "outputs": [
    {
     "name": "stdout",
     "output_type": "stream",
     "text": [
      "F1 Score: 37.27%\n",
      "Classification Report: \n",
      "               precision    recall  f1-score   support\n",
      "\n",
      "           0       0.99      1.00      1.00     14546\n",
      "           1       1.00      0.23      0.37       131\n",
      "\n",
      "    accuracy                           0.99     14677\n",
      "   macro avg       1.00      0.61      0.68     14677\n",
      "weighted avg       0.99      0.99      0.99     14677\n",
      "\n"
     ]
    }
   ],
   "source": [
    "# Predictions on the test set\n",
    "y_test_pred = rf_imb_model.predict(X_test)\n",
    "display_scores(y_test, y_test_pred)"
   ]
  },
  {
   "cell_type": "code",
   "execution_count": 111,
   "id": "0f5981b2",
   "metadata": {
    "scrolled": true
   },
   "outputs": [
    {
     "data": {
      "image/png": "[encoded data removed]",
      "text/plain": [
       "<Figure size 360x360 with 1 Axes>"
      ]
     },
     "metadata": {
      "needs_background": "light"
     },
     "output_type": "display_data"
    }
   ],
   "source": [
    "# Predicted probability\n",
    "y_test_pred_proba = rf_imb_model.predict_proba(X_test)[:,1]\n",
    "# Plot the ROC curve\n",
    "draw_roc(y_test, y_test_pred_proba)"
   ]
  }
 ],
 "metadata": {
  "kernelspec": {
   "display_name": "Python 3 (ipykernel)",
   "language": "python",
   "name": "python3"
  },
  "language_info": {
   "codemirror_mode": {
    "name": "ipython",
    "version": 3
   },
   "file_extension": ".py",
   "mimetype": "text/x-python",
   "name": "python",
   "nbconvert_exporter": "python",
   "pygments_lexer": "ipython3",
   "version": "3.9.12"
  }
 },
 "nbformat": 4,
 "nbformat_minor": 5
}
