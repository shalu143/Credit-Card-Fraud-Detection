{
 "cells": [
  {
   "cell_type": "code",
   "execution_count": 1,
   "id": "6462f2c2",
   "metadata": {},
   "outputs": [],
   "source": [
    "# Importing Libraries\n",
    "import pandas as pd\n",
    "import numpy as np\n",
    "import matplotlib.pyplot as plt\n",
    "%matplotlib inline\n",
    "import seaborn as sns\n",
    "\n",
    "\n",
    "from sklearn.model_selection import train_test_split\n",
    "from sklearn import metrics\n",
    "from sklearn.preprocessing import StandardScaler\n",
    "from sklearn.preprocessing import PowerTransformer\n",
    "\n",
    "from sklearn.model_selection import KFold\n",
    "from sklearn.model_selection import GridSearchCV\n",
    "from sklearn.linear_model import LogisticRegression\n",
    "from sklearn.tree import DecisionTreeClassifier\n",
    "from xgboost import XGBClassifier\n",
    "\n",
    "from sklearn.metrics import roc_curve, roc_auc_score\n",
    "from sklearn.metrics import f1_score, classification_report\n",
    "\n",
    "from sklearn.ensemble import RandomForestClassifier\n",
    "from sklearn.preprocessing import OneHotEncoder"
   ]
  },
  {
   "cell_type": "code",
   "execution_count": 2,
   "id": "2644f290",
   "metadata": {},
   "outputs": [],
   "source": [
    "df1 = pd.read_csv(r\"C:\\Users\\Acer\\Desktop\\HDFC_Internship\\DATA\\Fraud_Data_Final.csv\")"
   ]
  },
  {
   "cell_type": "code",
   "execution_count": 3,
   "id": "ce4b42f6",
   "metadata": {},
   "outputs": [
    {
     "data": {
      "text/plain": [
       "(73385, 9)"
      ]
     },
     "execution_count": 3,
     "metadata": {},
     "output_type": "execute_result"
    }
   ],
   "source": [
    "df1.shape"
   ]
  },
  {
   "cell_type": "code",
   "execution_count": 4,
   "id": "26db45ef",
   "metadata": {},
   "outputs": [
    {
     "data": {
      "text/plain": [
       "660465"
      ]
     },
     "execution_count": 4,
     "metadata": {},
     "output_type": "execute_result"
    }
   ],
   "source": [
    "df1.size"
   ]
  },
  {
   "cell_type": "code",
   "execution_count": 5,
   "id": "b3c609f5",
   "metadata": {},
   "outputs": [
    {
     "data": {
      "text/html": [
       "<div>\n",
       "<style scoped>\n",
       "    .dataframe tbody tr th:only-of-type {\n",
       "        vertical-align: middle;\n",
       "    }\n",
       "\n",
       "    .dataframe tbody tr th {\n",
       "        vertical-align: top;\n",
       "    }\n",
       "\n",
       "    .dataframe thead th {\n",
       "        text-align: right;\n",
       "    }\n",
       "</style>\n",
       "<table border=\"1\" class=\"dataframe\">\n",
       "  <thead>\n",
       "    <tr style=\"text-align: right;\">\n",
       "      <th></th>\n",
       "      <th>SERIAL NUMBER</th>\n",
       "      <th>TRANSACTION_ID</th>\n",
       "      <th>DATETIME</th>\n",
       "      <th>CUSTOMER_ID</th>\n",
       "      <th>TYPE of TRANSACTION</th>\n",
       "      <th>TRASCATION AMOUNT</th>\n",
       "      <th>TIME_SECONDS</th>\n",
       "      <th>DAYS_SINCE_FIRST_TRANSACTION</th>\n",
       "      <th>FRAUD</th>\n",
       "    </tr>\n",
       "  </thead>\n",
       "  <tbody>\n",
       "    <tr>\n",
       "      <th>0</th>\n",
       "      <td>0</td>\n",
       "      <td>1653444</td>\n",
       "      <td>2018-09-20 11:49:41</td>\n",
       "      <td>0</td>\n",
       "      <td>Hotels</td>\n",
       "      <td>88.11</td>\n",
       "      <td>14903381</td>\n",
       "      <td>172</td>\n",
       "      <td>0</td>\n",
       "    </tr>\n",
       "    <tr>\n",
       "      <th>1</th>\n",
       "      <td>1</td>\n",
       "      <td>1657926</td>\n",
       "      <td>2018-09-20 20:21:57</td>\n",
       "      <td>0</td>\n",
       "      <td>Grocery</td>\n",
       "      <td>78.25</td>\n",
       "      <td>14934117</td>\n",
       "      <td>172</td>\n",
       "      <td>0</td>\n",
       "    </tr>\n",
       "    <tr>\n",
       "      <th>2</th>\n",
       "      <td>2</td>\n",
       "      <td>1174679</td>\n",
       "      <td>2018-08-01 12:11:36</td>\n",
       "      <td>0</td>\n",
       "      <td>Airways</td>\n",
       "      <td>62.28</td>\n",
       "      <td>10584696</td>\n",
       "      <td>122</td>\n",
       "      <td>0</td>\n",
       "    </tr>\n",
       "    <tr>\n",
       "      <th>3</th>\n",
       "      <td>3</td>\n",
       "      <td>1175894</td>\n",
       "      <td>2018-08-01 13:58:40</td>\n",
       "      <td>0</td>\n",
       "      <td>Airways</td>\n",
       "      <td>80.16</td>\n",
       "      <td>10591120</td>\n",
       "      <td>122</td>\n",
       "      <td>0</td>\n",
       "    </tr>\n",
       "    <tr>\n",
       "      <th>4</th>\n",
       "      <td>4</td>\n",
       "      <td>758479</td>\n",
       "      <td>2018-06-19 4:18:11</td>\n",
       "      <td>0</td>\n",
       "      <td>Insulation</td>\n",
       "      <td>90.07</td>\n",
       "      <td>6841091</td>\n",
       "      <td>79</td>\n",
       "      <td>0</td>\n",
       "    </tr>\n",
       "  </tbody>\n",
       "</table>\n",
       "</div>"
      ],
      "text/plain": [
       "   SERIAL NUMBER  TRANSACTION_ID             DATETIME  CUSTOMER_ID  \\\n",
       "0              0         1653444  2018-09-20 11:49:41            0   \n",
       "1              1         1657926  2018-09-20 20:21:57            0   \n",
       "2              2         1174679  2018-08-01 12:11:36            0   \n",
       "3              3         1175894  2018-08-01 13:58:40            0   \n",
       "4              4          758479   2018-06-19 4:18:11            0   \n",
       "\n",
       "  TYPE of TRANSACTION  TRASCATION AMOUNT  TIME_SECONDS  \\\n",
       "0              Hotels              88.11      14903381   \n",
       "1             Grocery              78.25      14934117   \n",
       "2             Airways              62.28      10584696   \n",
       "3             Airways              80.16      10591120   \n",
       "4          Insulation              90.07       6841091   \n",
       "\n",
       "   DAYS_SINCE_FIRST_TRANSACTION  FRAUD  \n",
       "0                           172      0  \n",
       "1                           172      0  \n",
       "2                           122      0  \n",
       "3                           122      0  \n",
       "4                            79      0  "
      ]
     },
     "execution_count": 5,
     "metadata": {},
     "output_type": "execute_result"
    }
   ],
   "source": [
    "df1.head()"
   ]
  },
  {
   "cell_type": "code",
   "execution_count": 6,
   "id": "5850ba03",
   "metadata": {},
   "outputs": [
    {
     "data": {
      "text/html": [
       "<div>\n",
       "<style scoped>\n",
       "    .dataframe tbody tr th:only-of-type {\n",
       "        vertical-align: middle;\n",
       "    }\n",
       "\n",
       "    .dataframe tbody tr th {\n",
       "        vertical-align: top;\n",
       "    }\n",
       "\n",
       "    .dataframe thead th {\n",
       "        text-align: right;\n",
       "    }\n",
       "</style>\n",
       "<table border=\"1\" class=\"dataframe\">\n",
       "  <thead>\n",
       "    <tr style=\"text-align: right;\">\n",
       "      <th></th>\n",
       "      <th>SERIAL NUMBER</th>\n",
       "      <th>TRANSACTION_ID</th>\n",
       "      <th>DATETIME</th>\n",
       "      <th>CUSTOMER_ID</th>\n",
       "      <th>TYPE of TRANSACTION</th>\n",
       "      <th>TRASCATION AMOUNT</th>\n",
       "      <th>TIME_SECONDS</th>\n",
       "      <th>DAYS_SINCE_FIRST_TRANSACTION</th>\n",
       "      <th>FRAUD</th>\n",
       "    </tr>\n",
       "  </thead>\n",
       "  <tbody>\n",
       "    <tr>\n",
       "      <th>73380</th>\n",
       "      <td>38095</td>\n",
       "      <td>903947</td>\n",
       "      <td>2018-07-04 7:55:16</td>\n",
       "      <td>2015</td>\n",
       "      <td>Retail</td>\n",
       "      <td>63.03</td>\n",
       "      <td>8150116</td>\n",
       "      <td>94</td>\n",
       "      <td>0</td>\n",
       "    </tr>\n",
       "    <tr>\n",
       "      <th>73381</th>\n",
       "      <td>38096</td>\n",
       "      <td>243562</td>\n",
       "      <td>2018-04-26 10:24:24</td>\n",
       "      <td>2015</td>\n",
       "      <td>Retail</td>\n",
       "      <td>45.23</td>\n",
       "      <td>2197464</td>\n",
       "      <td>25</td>\n",
       "      <td>0</td>\n",
       "    </tr>\n",
       "    <tr>\n",
       "      <th>73382</th>\n",
       "      <td>38098</td>\n",
       "      <td>773468</td>\n",
       "      <td>2018-06-20 13:49:15</td>\n",
       "      <td>2015</td>\n",
       "      <td>Retail</td>\n",
       "      <td>31.59</td>\n",
       "      <td>6961755</td>\n",
       "      <td>80</td>\n",
       "      <td>0</td>\n",
       "    </tr>\n",
       "    <tr>\n",
       "      <th>73383</th>\n",
       "      <td>38100</td>\n",
       "      <td>1177522</td>\n",
       "      <td>2018-08-01 16:44:45</td>\n",
       "      <td>2016</td>\n",
       "      <td>Retail</td>\n",
       "      <td>27.61</td>\n",
       "      <td>10601085</td>\n",
       "      <td>122</td>\n",
       "      <td>0</td>\n",
       "    </tr>\n",
       "    <tr>\n",
       "      <th>73384</th>\n",
       "      <td>38101</td>\n",
       "      <td>948456</td>\n",
       "      <td>2018-07-08 17:53:44</td>\n",
       "      <td>2016</td>\n",
       "      <td>Retail</td>\n",
       "      <td>11.41</td>\n",
       "      <td>8531624</td>\n",
       "      <td>98</td>\n",
       "      <td>0</td>\n",
       "    </tr>\n",
       "  </tbody>\n",
       "</table>\n",
       "</div>"
      ],
      "text/plain": [
       "       SERIAL NUMBER  TRANSACTION_ID             DATETIME  CUSTOMER_ID  \\\n",
       "73380          38095          903947   2018-07-04 7:55:16         2015   \n",
       "73381          38096          243562  2018-04-26 10:24:24         2015   \n",
       "73382          38098          773468  2018-06-20 13:49:15         2015   \n",
       "73383          38100         1177522  2018-08-01 16:44:45         2016   \n",
       "73384          38101          948456  2018-07-08 17:53:44         2016   \n",
       "\n",
       "      TYPE of TRANSACTION  TRASCATION AMOUNT  TIME_SECONDS  \\\n",
       "73380              Retail              63.03       8150116   \n",
       "73381              Retail              45.23       2197464   \n",
       "73382              Retail              31.59       6961755   \n",
       "73383              Retail              27.61      10601085   \n",
       "73384              Retail              11.41       8531624   \n",
       "\n",
       "       DAYS_SINCE_FIRST_TRANSACTION  FRAUD  \n",
       "73380                            94      0  \n",
       "73381                            25      0  \n",
       "73382                            80      0  \n",
       "73383                           122      0  \n",
       "73384                            98      0  "
      ]
     },
     "execution_count": 6,
     "metadata": {},
     "output_type": "execute_result"
    }
   ],
   "source": [
    "df1.tail()"
   ]
  },
  {
   "cell_type": "code",
   "execution_count": 7,
   "id": "23f0dd8b",
   "metadata": {},
   "outputs": [
    {
     "data": {
      "text/html": [
       "<div>\n",
       "<style scoped>\n",
       "    .dataframe tbody tr th:only-of-type {\n",
       "        vertical-align: middle;\n",
       "    }\n",
       "\n",
       "    .dataframe tbody tr th {\n",
       "        vertical-align: top;\n",
       "    }\n",
       "\n",
       "    .dataframe thead th {\n",
       "        text-align: right;\n",
       "    }\n",
       "</style>\n",
       "<table border=\"1\" class=\"dataframe\">\n",
       "  <thead>\n",
       "    <tr style=\"text-align: right;\">\n",
       "      <th></th>\n",
       "      <th>SERIAL NUMBER</th>\n",
       "      <th>TRANSACTION_ID</th>\n",
       "      <th>DATETIME</th>\n",
       "      <th>CUSTOMER_ID</th>\n",
       "      <th>TYPE of TRANSACTION</th>\n",
       "      <th>TRASCATION AMOUNT</th>\n",
       "      <th>TIME_SECONDS</th>\n",
       "      <th>DAYS_SINCE_FIRST_TRANSACTION</th>\n",
       "      <th>FRAUD</th>\n",
       "    </tr>\n",
       "  </thead>\n",
       "  <tbody>\n",
       "    <tr>\n",
       "      <th>count</th>\n",
       "      <td>73385.000000</td>\n",
       "      <td>7.338500e+04</td>\n",
       "      <td>73385</td>\n",
       "      <td>73385.000000</td>\n",
       "      <td>73385</td>\n",
       "      <td>73385.000000</td>\n",
       "      <td>7.338500e+04</td>\n",
       "      <td>73385.000000</td>\n",
       "      <td>73385.000000</td>\n",
       "    </tr>\n",
       "    <tr>\n",
       "      <th>unique</th>\n",
       "      <td>NaN</td>\n",
       "      <td>NaN</td>\n",
       "      <td>70904</td>\n",
       "      <td>NaN</td>\n",
       "      <td>10</td>\n",
       "      <td>NaN</td>\n",
       "      <td>NaN</td>\n",
       "      <td>NaN</td>\n",
       "      <td>NaN</td>\n",
       "    </tr>\n",
       "    <tr>\n",
       "      <th>top</th>\n",
       "      <td>NaN</td>\n",
       "      <td>NaN</td>\n",
       "      <td>2018-04-05 13:03:35</td>\n",
       "      <td>NaN</td>\n",
       "      <td>Insulation</td>\n",
       "      <td>NaN</td>\n",
       "      <td>NaN</td>\n",
       "      <td>NaN</td>\n",
       "      <td>NaN</td>\n",
       "    </tr>\n",
       "    <tr>\n",
       "      <th>freq</th>\n",
       "      <td>NaN</td>\n",
       "      <td>NaN</td>\n",
       "      <td>4</td>\n",
       "      <td>NaN</td>\n",
       "      <td>9512</td>\n",
       "      <td>NaN</td>\n",
       "      <td>NaN</td>\n",
       "      <td>NaN</td>\n",
       "      <td>NaN</td>\n",
       "    </tr>\n",
       "    <tr>\n",
       "      <th>mean</th>\n",
       "      <td>41048.878204</td>\n",
       "      <td>8.233976e+05</td>\n",
       "      <td>NaN</td>\n",
       "      <td>2173.954514</td>\n",
       "      <td>NaN</td>\n",
       "      <td>55.177761</td>\n",
       "      <td>7.419868e+06</td>\n",
       "      <td>85.383307</td>\n",
       "      <td>0.008939</td>\n",
       "    </tr>\n",
       "    <tr>\n",
       "      <th>std</th>\n",
       "      <td>26492.483939</td>\n",
       "      <td>5.479239e+05</td>\n",
       "      <td>NaN</td>\n",
       "      <td>1409.347516</td>\n",
       "      <td>NaN</td>\n",
       "      <td>43.472514</td>\n",
       "      <td>4.939476e+06</td>\n",
       "      <td>57.169018</td>\n",
       "      <td>0.094124</td>\n",
       "    </tr>\n",
       "    <tr>\n",
       "      <th>min</th>\n",
       "      <td>0.000000</td>\n",
       "      <td>6.295000e+03</td>\n",
       "      <td>NaN</td>\n",
       "      <td>0.000000</td>\n",
       "      <td>NaN</td>\n",
       "      <td>0.000000</td>\n",
       "      <td>5.153000e+04</td>\n",
       "      <td>0.000000</td>\n",
       "      <td>0.000000</td>\n",
       "    </tr>\n",
       "    <tr>\n",
       "      <th>25%</th>\n",
       "      <td>18346.000000</td>\n",
       "      <td>4.632880e+05</td>\n",
       "      <td>NaN</td>\n",
       "      <td>967.000000</td>\n",
       "      <td>NaN</td>\n",
       "      <td>21.790000</td>\n",
       "      <td>4.177458e+06</td>\n",
       "      <td>48.000000</td>\n",
       "      <td>0.000000</td>\n",
       "    </tr>\n",
       "    <tr>\n",
       "      <th>50%</th>\n",
       "      <td>36692.000000</td>\n",
       "      <td>7.594650e+05</td>\n",
       "      <td>NaN</td>\n",
       "      <td>1941.000000</td>\n",
       "      <td>NaN</td>\n",
       "      <td>46.030000</td>\n",
       "      <td>6.850855e+06</td>\n",
       "      <td>79.000000</td>\n",
       "      <td>0.000000</td>\n",
       "    </tr>\n",
       "    <tr>\n",
       "      <th>75%</th>\n",
       "      <td>63533.000000</td>\n",
       "      <td>1.347494e+06</td>\n",
       "      <td>NaN</td>\n",
       "      <td>3334.000000</td>\n",
       "      <td>NaN</td>\n",
       "      <td>78.990000</td>\n",
       "      <td>1.214317e+07</td>\n",
       "      <td>140.000000</td>\n",
       "      <td>0.000000</td>\n",
       "    </tr>\n",
       "    <tr>\n",
       "      <th>max</th>\n",
       "      <td>93756.000000</td>\n",
       "      <td>1.754143e+06</td>\n",
       "      <td>NaN</td>\n",
       "      <td>4998.000000</td>\n",
       "      <td>NaN</td>\n",
       "      <td>1108.850000</td>\n",
       "      <td>1.581077e+07</td>\n",
       "      <td>182.000000</td>\n",
       "      <td>1.000000</td>\n",
       "    </tr>\n",
       "  </tbody>\n",
       "</table>\n",
       "</div>"
      ],
      "text/plain": [
       "        SERIAL NUMBER  TRANSACTION_ID             DATETIME   CUSTOMER_ID  \\\n",
       "count    73385.000000    7.338500e+04                73385  73385.000000   \n",
       "unique            NaN             NaN                70904           NaN   \n",
       "top               NaN             NaN  2018-04-05 13:03:35           NaN   \n",
       "freq              NaN             NaN                    4           NaN   \n",
       "mean     41048.878204    8.233976e+05                  NaN   2173.954514   \n",
       "std      26492.483939    5.479239e+05                  NaN   1409.347516   \n",
       "min          0.000000    6.295000e+03                  NaN      0.000000   \n",
       "25%      18346.000000    4.632880e+05                  NaN    967.000000   \n",
       "50%      36692.000000    7.594650e+05                  NaN   1941.000000   \n",
       "75%      63533.000000    1.347494e+06                  NaN   3334.000000   \n",
       "max      93756.000000    1.754143e+06                  NaN   4998.000000   \n",
       "\n",
       "       TYPE of TRANSACTION  TRASCATION AMOUNT  TIME_SECONDS  \\\n",
       "count                73385       73385.000000  7.338500e+04   \n",
       "unique                  10                NaN           NaN   \n",
       "top             Insulation                NaN           NaN   \n",
       "freq                  9512                NaN           NaN   \n",
       "mean                   NaN          55.177761  7.419868e+06   \n",
       "std                    NaN          43.472514  4.939476e+06   \n",
       "min                    NaN           0.000000  5.153000e+04   \n",
       "25%                    NaN          21.790000  4.177458e+06   \n",
       "50%                    NaN          46.030000  6.850855e+06   \n",
       "75%                    NaN          78.990000  1.214317e+07   \n",
       "max                    NaN        1108.850000  1.581077e+07   \n",
       "\n",
       "        DAYS_SINCE_FIRST_TRANSACTION         FRAUD  \n",
       "count                   73385.000000  73385.000000  \n",
       "unique                           NaN           NaN  \n",
       "top                              NaN           NaN  \n",
       "freq                             NaN           NaN  \n",
       "mean                       85.383307      0.008939  \n",
       "std                        57.169018      0.094124  \n",
       "min                         0.000000      0.000000  \n",
       "25%                        48.000000      0.000000  \n",
       "50%                        79.000000      0.000000  \n",
       "75%                       140.000000      0.000000  \n",
       "max                       182.000000      1.000000  "
      ]
     },
     "execution_count": 7,
     "metadata": {},
     "output_type": "execute_result"
    }
   ],
   "source": [
    "df1.describe(include='all')"
   ]
  },
  {
   "cell_type": "code",
   "execution_count": 8,
   "id": "3ba58fd1",
   "metadata": {},
   "outputs": [
    {
     "name": "stdout",
     "output_type": "stream",
     "text": [
      "<class 'pandas.core.frame.DataFrame'>\n",
      "RangeIndex: 73385 entries, 0 to 73384\n",
      "Data columns (total 9 columns):\n",
      " #   Column                        Non-Null Count  Dtype  \n",
      "---  ------                        --------------  -----  \n",
      " 0   SERIAL NUMBER                 73385 non-null  int64  \n",
      " 1   TRANSACTION_ID                73385 non-null  int64  \n",
      " 2   DATETIME                      73385 non-null  object \n",
      " 3   CUSTOMER_ID                   73385 non-null  int64  \n",
      " 4   TYPE of TRANSACTION           73385 non-null  object \n",
      " 5   TRASCATION AMOUNT             73385 non-null  float64\n",
      " 6   TIME_SECONDS                  73385 non-null  int64  \n",
      " 7   DAYS_SINCE_FIRST_TRANSACTION  73385 non-null  int64  \n",
      " 8   FRAUD                         73385 non-null  int64  \n",
      "dtypes: float64(1), int64(6), object(2)\n",
      "memory usage: 5.0+ MB\n"
     ]
    }
   ],
   "source": [
    "df1.info()"
   ]
  },
  {
   "cell_type": "code",
   "execution_count": 9,
   "id": "267b9e34",
   "metadata": {
    "scrolled": false
   },
   "outputs": [
    {
     "data": {
      "text/plain": [
       "SERIAL NUMBER                   0\n",
       "TRANSACTION_ID                  0\n",
       "DATETIME                        0\n",
       "CUSTOMER_ID                     0\n",
       "TYPE of TRANSACTION             0\n",
       "TRASCATION AMOUNT               0\n",
       "TIME_SECONDS                    0\n",
       "DAYS_SINCE_FIRST_TRANSACTION    0\n",
       "FRAUD                           0\n",
       "dtype: int64"
      ]
     },
     "execution_count": 9,
     "metadata": {},
     "output_type": "execute_result"
    }
   ],
   "source": [
    "df1.isnull().sum()"
   ]
  },
  {
   "cell_type": "code",
   "execution_count": 10,
   "id": "7c00590d",
   "metadata": {
    "scrolled": true
   },
   "outputs": [
    {
     "data": {
      "text/plain": [
       "int64      6\n",
       "object     2\n",
       "float64    1\n",
       "dtype: int64"
      ]
     },
     "execution_count": 10,
     "metadata": {},
     "output_type": "execute_result"
    }
   ],
   "source": [
    "df1.dtypes.value_counts()"
   ]
  },
  {
   "cell_type": "code",
   "execution_count": 11,
   "id": "674d9296",
   "metadata": {},
   "outputs": [],
   "source": [
    "df1 = df1.drop([\"SERIAL NUMBER\",\"TRANSACTION_ID\"], axis = 1)"
   ]
  },
  {
   "cell_type": "code",
   "execution_count": 12,
   "id": "568f9388",
   "metadata": {
    "scrolled": false
   },
   "outputs": [
    {
     "data": {
      "text/plain": [
       "0    0.991061\n",
       "1    0.008939\n",
       "Name: FRAUD, dtype: float64"
      ]
     },
     "execution_count": 12,
     "metadata": {},
     "output_type": "execute_result"
    }
   ],
   "source": [
    "df1['FRAUD'].value_counts(normalize=True)"
   ]
  },
  {
   "cell_type": "code",
   "execution_count": 13,
   "id": "7c46f3d7",
   "metadata": {
    "scrolled": true
   },
   "outputs": [
    {
     "data": {
      "text/plain": [
       "10"
      ]
     },
     "execution_count": 13,
     "metadata": {},
     "output_type": "execute_result"
    }
   ],
   "source": [
    "df1['TYPE of TRANSACTION'].value_counts().count()"
   ]
  },
  {
   "cell_type": "code",
   "execution_count": 14,
   "id": "e03f37b2",
   "metadata": {
    "scrolled": true
   },
   "outputs": [
    {
     "data": {
      "text/plain": [
       "Insulation     9512\n",
       "Food           9211\n",
       "Electronics    7931\n",
       "Clothing       7394\n",
       "Grocery        7115\n",
       "Retail         7000\n",
       "Footwear       6621\n",
       "Airways        6584\n",
       "Hotels         6086\n",
       "Rental Car     5931\n",
       "Name: TYPE of TRANSACTION, dtype: int64"
      ]
     },
     "execution_count": 14,
     "metadata": {},
     "output_type": "execute_result"
    }
   ],
   "source": [
    "df1['TYPE of TRANSACTION'].value_counts()"
   ]
  },
  {
   "cell_type": "code",
   "execution_count": 15,
   "id": "758c8092",
   "metadata": {
    "scrolled": true
   },
   "outputs": [
    {
     "data": {
      "text/plain": [
       "Food           107\n",
       "Insulation      91\n",
       "Electronics     77\n",
       "Retail          73\n",
       "Airways         66\n",
       "Hotels          65\n",
       "Grocery         63\n",
       "Footwear        51\n",
       "Rental Car      42\n",
       "Clothing        21\n",
       "Name: TYPE of TRANSACTION, dtype: int64"
      ]
     },
     "execution_count": 15,
     "metadata": {},
     "output_type": "execute_result"
    }
   ],
   "source": [
    "df1['TYPE of TRANSACTION'][df1[\"FRAUD\"] == 1].value_counts()"
   ]
  },
  {
   "cell_type": "code",
   "execution_count": 16,
   "id": "c0b6b9fb",
   "metadata": {},
   "outputs": [
    {
     "data": {
      "text/plain": [
       "Insulation     9421\n",
       "Food           9104\n",
       "Electronics    7854\n",
       "Clothing       7373\n",
       "Grocery        7052\n",
       "Retail         6927\n",
       "Footwear       6570\n",
       "Airways        6518\n",
       "Hotels         6021\n",
       "Rental Car     5889\n",
       "Name: TYPE of TRANSACTION, dtype: int64"
      ]
     },
     "execution_count": 16,
     "metadata": {},
     "output_type": "execute_result"
    }
   ],
   "source": [
    "df1['TYPE of TRANSACTION'][df1[\"FRAUD\"] == 0].value_counts()"
   ]
  },
  {
   "cell_type": "code",
   "execution_count": 17,
   "id": "f844625f",
   "metadata": {},
   "outputs": [
    {
     "data": {
      "text/plain": [
       "3456"
      ]
     },
     "execution_count": 17,
     "metadata": {},
     "output_type": "execute_result"
    }
   ],
   "source": [
    "df1['CUSTOMER_ID'].value_counts().count()"
   ]
  },
  {
   "cell_type": "code",
   "execution_count": 18,
   "id": "9cd0b09f",
   "metadata": {
    "scrolled": true
   },
   "outputs": [
    {
     "data": {
      "text/plain": [
       "1848    57\n",
       "571     57\n",
       "1157    57\n",
       "98      56\n",
       "1881    55\n",
       "        ..\n",
       "2288     1\n",
       "2145     1\n",
       "4917     1\n",
       "2023     1\n",
       "1896     1\n",
       "Name: CUSTOMER_ID, Length: 3456, dtype: int64"
      ]
     },
     "execution_count": 18,
     "metadata": {},
     "output_type": "execute_result"
    }
   ],
   "source": [
    "df1['CUSTOMER_ID'].value_counts()"
   ]
  },
  {
   "cell_type": "code",
   "execution_count": 19,
   "id": "dc584814",
   "metadata": {
    "scrolled": true
   },
   "outputs": [
    {
     "data": {
      "text/plain": [
       "1692    5\n",
       "613     5\n",
       "701     5\n",
       "1085    5\n",
       "1743    5\n",
       "       ..\n",
       "1719    1\n",
       "1708    1\n",
       "1706    1\n",
       "1693    1\n",
       "1992    1\n",
       "Name: CUSTOMER_ID, Length: 536, dtype: int64"
      ]
     },
     "execution_count": 19,
     "metadata": {},
     "output_type": "execute_result"
    }
   ],
   "source": [
    "df1['CUSTOMER_ID'][df1[\"FRAUD\"] == 1].value_counts()"
   ]
  },
  {
   "cell_type": "code",
   "execution_count": 20,
   "id": "b2126751",
   "metadata": {},
   "outputs": [
    {
     "data": {
      "text/plain": [
       "571     57\n",
       "1848    57\n",
       "1157    57\n",
       "98      56\n",
       "1881    55\n",
       "        ..\n",
       "2357     1\n",
       "2288     1\n",
       "2145     1\n",
       "4917     1\n",
       "1896     1\n",
       "Name: CUSTOMER_ID, Length: 3455, dtype: int64"
      ]
     },
     "execution_count": 20,
     "metadata": {},
     "output_type": "execute_result"
    }
   ],
   "source": [
    "df1['CUSTOMER_ID'][df1[\"FRAUD\"] == 0].value_counts()"
   ]
  },
  {
   "cell_type": "code",
   "execution_count": 21,
   "id": "ae10791d",
   "metadata": {
    "scrolled": false
   },
   "outputs": [
    {
     "data": {
      "text/plain": [
       "Food           0.163110\n",
       "Insulation     0.138720\n",
       "Electronics    0.117378\n",
       "Retail         0.111280\n",
       "Airways        0.100610\n",
       "Hotels         0.099085\n",
       "Grocery        0.096037\n",
       "Footwear       0.077744\n",
       "Rental Car     0.064024\n",
       "Clothing       0.032012\n",
       "Name: TYPE of TRANSACTION, dtype: float64"
      ]
     },
     "execution_count": 21,
     "metadata": {},
     "output_type": "execute_result"
    }
   ],
   "source": [
    "df1[\"TYPE of TRANSACTION\"][df1[\"FRAUD\"] == 1].value_counts(normalize=True)"
   ]
  },
  {
   "cell_type": "code",
   "execution_count": 22,
   "id": "98bba009",
   "metadata": {
    "scrolled": true
   },
   "outputs": [
    {
     "data": {
      "text/plain": [
       "Insulation     0.129536\n",
       "Food           0.125177\n",
       "Electronics    0.107990\n",
       "Clothing       0.101376\n",
       "Grocery        0.096963\n",
       "Retail         0.095244\n",
       "Footwear       0.090335\n",
       "Airways        0.089620\n",
       "Hotels         0.082787\n",
       "Rental Car     0.080972\n",
       "Name: TYPE of TRANSACTION, dtype: float64"
      ]
     },
     "execution_count": 22,
     "metadata": {},
     "output_type": "execute_result"
    }
   ],
   "source": [
    "df1[\"TYPE of TRANSACTION\"][df1[\"FRAUD\"] == 0].value_counts(normalize=True)"
   ]
  },
  {
   "cell_type": "code",
   "execution_count": 23,
   "id": "ddedeeec",
   "metadata": {},
   "outputs": [
    {
     "data": {
      "text/html": [
       "<div>\n",
       "<style scoped>\n",
       "    .dataframe tbody tr th:only-of-type {\n",
       "        vertical-align: middle;\n",
       "    }\n",
       "\n",
       "    .dataframe tbody tr th {\n",
       "        vertical-align: top;\n",
       "    }\n",
       "\n",
       "    .dataframe thead th {\n",
       "        text-align: right;\n",
       "    }\n",
       "</style>\n",
       "<table border=\"1\" class=\"dataframe\">\n",
       "  <thead>\n",
       "    <tr style=\"text-align: right;\">\n",
       "      <th></th>\n",
       "      <th>DATETIME</th>\n",
       "      <th>CUSTOMER_ID</th>\n",
       "      <th>TYPE of TRANSACTION</th>\n",
       "      <th>TRASCATION AMOUNT</th>\n",
       "      <th>TIME_SECONDS</th>\n",
       "      <th>DAYS_SINCE_FIRST_TRANSACTION</th>\n",
       "      <th>FRAUD</th>\n",
       "    </tr>\n",
       "  </thead>\n",
       "  <tbody>\n",
       "    <tr>\n",
       "      <th>0</th>\n",
       "      <td>2018-09-20 11:49:41</td>\n",
       "      <td>0</td>\n",
       "      <td>Hotels</td>\n",
       "      <td>88.11</td>\n",
       "      <td>14903381</td>\n",
       "      <td>172</td>\n",
       "      <td>0</td>\n",
       "    </tr>\n",
       "    <tr>\n",
       "      <th>1</th>\n",
       "      <td>2018-09-20 20:21:57</td>\n",
       "      <td>0</td>\n",
       "      <td>Grocery</td>\n",
       "      <td>78.25</td>\n",
       "      <td>14934117</td>\n",
       "      <td>172</td>\n",
       "      <td>0</td>\n",
       "    </tr>\n",
       "    <tr>\n",
       "      <th>2</th>\n",
       "      <td>2018-08-01 12:11:36</td>\n",
       "      <td>0</td>\n",
       "      <td>Airways</td>\n",
       "      <td>62.28</td>\n",
       "      <td>10584696</td>\n",
       "      <td>122</td>\n",
       "      <td>0</td>\n",
       "    </tr>\n",
       "    <tr>\n",
       "      <th>3</th>\n",
       "      <td>2018-08-01 13:58:40</td>\n",
       "      <td>0</td>\n",
       "      <td>Airways</td>\n",
       "      <td>80.16</td>\n",
       "      <td>10591120</td>\n",
       "      <td>122</td>\n",
       "      <td>0</td>\n",
       "    </tr>\n",
       "    <tr>\n",
       "      <th>4</th>\n",
       "      <td>2018-06-19 4:18:11</td>\n",
       "      <td>0</td>\n",
       "      <td>Insulation</td>\n",
       "      <td>90.07</td>\n",
       "      <td>6841091</td>\n",
       "      <td>79</td>\n",
       "      <td>0</td>\n",
       "    </tr>\n",
       "  </tbody>\n",
       "</table>\n",
       "</div>"
      ],
      "text/plain": [
       "              DATETIME  CUSTOMER_ID TYPE of TRANSACTION  TRASCATION AMOUNT  \\\n",
       "0  2018-09-20 11:49:41            0              Hotels              88.11   \n",
       "1  2018-09-20 20:21:57            0             Grocery              78.25   \n",
       "2  2018-08-01 12:11:36            0             Airways              62.28   \n",
       "3  2018-08-01 13:58:40            0             Airways              80.16   \n",
       "4   2018-06-19 4:18:11            0          Insulation              90.07   \n",
       "\n",
       "   TIME_SECONDS  DAYS_SINCE_FIRST_TRANSACTION  FRAUD  \n",
       "0      14903381                           172      0  \n",
       "1      14934117                           172      0  \n",
       "2      10584696                           122      0  \n",
       "3      10591120                           122      0  \n",
       "4       6841091                            79      0  "
      ]
     },
     "execution_count": 23,
     "metadata": {},
     "output_type": "execute_result"
    }
   ],
   "source": [
    "df1.head()"
   ]
  },
  {
   "cell_type": "code",
   "execution_count": 24,
   "id": "2d34d8e1",
   "metadata": {},
   "outputs": [
    {
     "data": {
      "text/plain": [
       "(99.11, 0.89)"
      ]
     },
     "execution_count": 24,
     "metadata": {},
     "output_type": "execute_result"
    }
   ],
   "source": [
    "classes=df1['FRAUD'].value_counts()\n",
    "normal_share=round(classes[0]/df1['FRAUD'].count()*100,2)\n",
    "fraud_share=round(classes[1]/df1['FRAUD'].count()*100, 2)\n",
    "normal_share, fraud_share"
   ]
  },
  {
   "cell_type": "code",
   "execution_count": 25,
   "id": "d477ea26",
   "metadata": {},
   "outputs": [
    {
     "data": {
      "text/plain": [
       "0    72729\n",
       "1      656\n",
       "Name: FRAUD, dtype: int64"
      ]
     },
     "execution_count": 25,
     "metadata": {},
     "output_type": "execute_result"
    }
   ],
   "source": [
    "classes"
   ]
  },
  {
   "cell_type": "code",
   "execution_count": 26,
   "id": "3ca740c5",
   "metadata": {
    "scrolled": true
   },
   "outputs": [
    {
     "data": {
      "image/png": "[encoded data removed]",
      "text/plain": [
       "<Figure size 720x360 with 2 Axes>"
      ]
     },
     "metadata": {
      "needs_background": "light"
     },
     "output_type": "display_data"
    }
   ],
   "source": [
    "# bar plot for the number and percentage of fraudulent vs non-fraudulent transcations\n",
    "plt.figure(figsize=(10,5))\n",
    "\n",
    "plt.subplot(1,2,1)\n",
    "sns.countplot(x = df1[\"FRAUD\"])\n",
    "plt.ylabel(\"Number of transaction\")\n",
    "plt.xlabel(\"Class\")\n",
    "plt.title(\"Credit Card Fraud Class - data unbalance\")\n",
    "\n",
    "plt.subplot(1,2,2)\n",
    "fraud_percentage = {'FRAUD':['Non-Fraudulent', 'Fraudulent'], 'Percentage':[normal_share, fraud_share]} \n",
    "df_fraud_percentage = pd.DataFrame(fraud_percentage) \n",
    "sns.barplot(x=df_fraud_percentage['FRAUD'], y=df_fraud_percentage['Percentage'])\n",
    "plt.title('Percentage of fraudulent vs non-fraudulent transcations')\n",
    "\n",
    "plt.show()"
   ]
  },
  {
   "cell_type": "code",
   "execution_count": 27,
   "id": "1fbda31f",
   "metadata": {},
   "outputs": [],
   "source": [
    "counts = df1['CUSTOMER_ID'][df1[\"FRAUD\"] == 0].value_counts()\n",
    "\n",
    "df= df1[    (df1['CUSTOMER_ID'].isin(counts[counts > 5].index)) | (df1[\"FRAUD\"] == 1)   ]\n",
    "\n",
    "# df = df1"
   ]
  },
  {
   "cell_type": "code",
   "execution_count": 28,
   "id": "a78f223a",
   "metadata": {},
   "outputs": [
    {
     "data": {
      "text/plain": [
       "(99.1, 0.9)"
      ]
     },
     "execution_count": 28,
     "metadata": {},
     "output_type": "execute_result"
    }
   ],
   "source": [
    "classes=df['FRAUD'].value_counts()\n",
    "normal_share=round(classes[0]/df['FRAUD'].count()*100,2)\n",
    "fraud_share=round(classes[1]/df['FRAUD'].count()*100, 2)\n",
    "normal_share, fraud_share"
   ]
  },
  {
   "cell_type": "code",
   "execution_count": 29,
   "id": "cdd224a9",
   "metadata": {
    "scrolled": true
   },
   "outputs": [
    {
     "data": {
      "text/plain": [
       "0    71846\n",
       "1      656\n",
       "Name: FRAUD, dtype: int64"
      ]
     },
     "execution_count": 29,
     "metadata": {},
     "output_type": "execute_result"
    }
   ],
   "source": [
    "df[\"FRAUD\"].value_counts()"
   ]
  },
  {
   "cell_type": "code",
   "execution_count": 30,
   "id": "f7d10bf8",
   "metadata": {},
   "outputs": [
    {
     "data": {
      "text/plain": [
       "0    72729\n",
       "1      656\n",
       "Name: FRAUD, dtype: int64"
      ]
     },
     "execution_count": 30,
     "metadata": {},
     "output_type": "execute_result"
    }
   ],
   "source": [
    "df1[\"FRAUD\"].value_counts()"
   ]
  },
  {
   "cell_type": "code",
   "execution_count": 31,
   "id": "d6a3ec72",
   "metadata": {
    "scrolled": false
   },
   "outputs": [],
   "source": [
    "# drop unnecessary columns\n",
    "# df = df.drop(\"SERIAL NUMBER\", axis = 1)\n",
    "df = df.drop(\"TIME_SECONDS\", axis = 1)"
   ]
  },
  {
   "cell_type": "code",
   "execution_count": 32,
   "id": "97052460",
   "metadata": {},
   "outputs": [
    {
     "data": {
      "image/png": "[encoded data removed]",
      "text/plain": [
       "<Figure size 432x288 with 1 Axes>"
      ]
     },
     "metadata": {
      "needs_background": "light"
     },
     "output_type": "display_data"
    },
    {
     "data": {
      "image/png": "[encoded data removed]",
      "text/plain": [
       "<Figure size 432x288 with 1 Axes>"
      ]
     },
     "metadata": {
      "needs_background": "light"
     },
     "output_type": "display_data"
    }
   ],
   "source": [
    "features = [ 'TRASCATION AMOUNT', 'DAYS_SINCE_FIRST_TRANSACTION']\n",
    "\n",
    "for f in features:\n",
    "    sns.scatterplot(x = df[f], y = df[\"FRAUD\"])\n",
    "    title = f + \" FRUAD scatter plot\"\n",
    "    plt.title(title)\n",
    "    plt.show()\n",
    "    "
   ]
  },
  {
   "cell_type": "code",
   "execution_count": 33,
   "id": "9de00ef8",
   "metadata": {
    "scrolled": true
   },
   "outputs": [
    {
     "data": {
      "image/png": "[encoded data removed]",
      "text/plain": [
       "<Figure size 864x288 with 2 Axes>"
      ]
     },
     "metadata": {
      "needs_background": "light"
     },
     "output_type": "display_data"
    },
    {
     "data": {
      "image/png": "[encoded data removed]",
      "text/plain": [
       "<Figure size 864x288 with 2 Axes>"
      ]
     },
     "metadata": {
      "needs_background": "light"
     },
     "output_type": "display_data"
    }
   ],
   "source": [
    "features = ['TRASCATION AMOUNT', 'DAYS_SINCE_FIRST_TRANSACTION']\n",
    "\n",
    "for f in features:\n",
    "    fig, (ax1, ax2) = plt.subplots(2, 1, sharex=True, figsize=(12,4))\n",
    "\n",
    "    ax1.hist(df[f][df[\"FRAUD\"] == 1], bins = 50)\n",
    "    ax1.set_title('Fraudulent')\n",
    "\n",
    "    ax2.hist(df[f][df[\"FRAUD\"] == 0], bins = 50)\n",
    "    ax2.set_title('Genuine')\n",
    "\n",
    "    plt.xlabel(f)\n",
    "    plt.ylabel('Number of Transactions')\n",
    "    plt.show()"
   ]
  },
  {
   "cell_type": "code",
   "execution_count": 34,
   "id": "ca321065",
   "metadata": {
    "scrolled": true
   },
   "outputs": [
    {
     "data": {
      "image/png": "[encoded data removed]",
      "text/plain": [
       "<Figure size 432x288 with 1 Axes>"
      ]
     },
     "metadata": {
      "needs_background": "light"
     },
     "output_type": "display_data"
    },
    {
     "data": {
      "image/png": "[encoded data removed]",
      "text/plain": [
       "<Figure size 432x288 with 1 Axes>"
      ]
     },
     "metadata": {
      "needs_background": "light"
     },
     "output_type": "display_data"
    }
   ],
   "source": [
    "#Boxplot for the features, in order to visualiza the outliers.\n",
    "\n",
    "features = ['TRASCATION AMOUNT', 'DAYS_SINCE_FIRST_TRANSACTION']\n",
    "for f in features:\n",
    "    sns.boxplot(x=df['FRAUD'], y=df[f])\n",
    "    plt.show()\n",
    "    "
   ]
  },
  {
   "cell_type": "code",
   "execution_count": 35,
   "id": "f7dd7869",
   "metadata": {
    "scrolled": true
   },
   "outputs": [
    {
     "data": {
      "text/plain": [
       "<Figure size 432x288 with 0 Axes>"
      ]
     },
     "metadata": {},
     "output_type": "display_data"
    },
    {
     "data": {
      "image/png": "[encoded data removed]",
      "text/plain": [
       "<Figure size 720x360 with 2 Axes>"
      ]
     },
     "metadata": {
      "needs_background": "light"
     },
     "output_type": "display_data"
    }
   ],
   "source": [
    "# Plotting all the variable in displot to visualise the distribution\n",
    "var = ['TRASCATION AMOUNT','DAYS_SINCE_FIRST_TRANSACTION']\n",
    "\n",
    "\n",
    "i = 0\n",
    "t0 = df.loc[df['FRAUD'] == 0]\n",
    "t1 = df.loc[df['FRAUD'] == 1]\n",
    "\n",
    "plt.figure()\n",
    "fig, ax = plt.subplots(1,2,figsize=(10,5))\n",
    "\n",
    "for feature in var:\n",
    "    i += 1\n",
    "    plt.subplot(1,2,i)\n",
    "    sns.kdeplot(t0[feature], bw_method=0.5,label=\"0\")\n",
    "    sns.kdeplot(t1[feature], bw_method=0.5,label=\"1\")\n",
    "    plt.xlabel(feature, fontsize=12)\n",
    "    locs, labels = plt.xticks()\n",
    "    plt.tick_params(axis='both', which='major', labelsize=12)\n",
    "plt.show();"
   ]
  },
  {
   "cell_type": "code",
   "execution_count": 36,
   "id": "5fc6ac5f",
   "metadata": {},
   "outputs": [
    {
     "data": {
      "text/html": [
       "<div>\n",
       "<style scoped>\n",
       "    .dataframe tbody tr th:only-of-type {\n",
       "        vertical-align: middle;\n",
       "    }\n",
       "\n",
       "    .dataframe tbody tr th {\n",
       "        vertical-align: top;\n",
       "    }\n",
       "\n",
       "    .dataframe thead th {\n",
       "        text-align: right;\n",
       "    }\n",
       "</style>\n",
       "<table border=\"1\" class=\"dataframe\">\n",
       "  <thead>\n",
       "    <tr style=\"text-align: right;\">\n",
       "      <th></th>\n",
       "      <th>DATETIME</th>\n",
       "      <th>CUSTOMER_ID</th>\n",
       "      <th>TRASCATION AMOUNT</th>\n",
       "      <th>DAYS_SINCE_FIRST_TRANSACTION</th>\n",
       "      <th>FRAUD</th>\n",
       "      <th>Airways</th>\n",
       "      <th>Clothing</th>\n",
       "      <th>Electronics</th>\n",
       "      <th>Food</th>\n",
       "      <th>Footwear</th>\n",
       "      <th>Grocery</th>\n",
       "      <th>Hotels</th>\n",
       "      <th>Insulation</th>\n",
       "      <th>Rental Car</th>\n",
       "      <th>Retail</th>\n",
       "    </tr>\n",
       "  </thead>\n",
       "  <tbody>\n",
       "    <tr>\n",
       "      <th>0</th>\n",
       "      <td>2018-09-20 11:49:41</td>\n",
       "      <td>0</td>\n",
       "      <td>88.11</td>\n",
       "      <td>172</td>\n",
       "      <td>0</td>\n",
       "      <td>0</td>\n",
       "      <td>0</td>\n",
       "      <td>0</td>\n",
       "      <td>0</td>\n",
       "      <td>0</td>\n",
       "      <td>0</td>\n",
       "      <td>1</td>\n",
       "      <td>0</td>\n",
       "      <td>0</td>\n",
       "      <td>0</td>\n",
       "    </tr>\n",
       "    <tr>\n",
       "      <th>1</th>\n",
       "      <td>2018-09-20 20:21:57</td>\n",
       "      <td>0</td>\n",
       "      <td>78.25</td>\n",
       "      <td>172</td>\n",
       "      <td>0</td>\n",
       "      <td>0</td>\n",
       "      <td>0</td>\n",
       "      <td>0</td>\n",
       "      <td>0</td>\n",
       "      <td>0</td>\n",
       "      <td>1</td>\n",
       "      <td>0</td>\n",
       "      <td>0</td>\n",
       "      <td>0</td>\n",
       "      <td>0</td>\n",
       "    </tr>\n",
       "    <tr>\n",
       "      <th>2</th>\n",
       "      <td>2018-08-01 12:11:36</td>\n",
       "      <td>0</td>\n",
       "      <td>62.28</td>\n",
       "      <td>122</td>\n",
       "      <td>0</td>\n",
       "      <td>1</td>\n",
       "      <td>0</td>\n",
       "      <td>0</td>\n",
       "      <td>0</td>\n",
       "      <td>0</td>\n",
       "      <td>0</td>\n",
       "      <td>0</td>\n",
       "      <td>0</td>\n",
       "      <td>0</td>\n",
       "      <td>0</td>\n",
       "    </tr>\n",
       "    <tr>\n",
       "      <th>3</th>\n",
       "      <td>2018-08-01 13:58:40</td>\n",
       "      <td>0</td>\n",
       "      <td>80.16</td>\n",
       "      <td>122</td>\n",
       "      <td>0</td>\n",
       "      <td>1</td>\n",
       "      <td>0</td>\n",
       "      <td>0</td>\n",
       "      <td>0</td>\n",
       "      <td>0</td>\n",
       "      <td>0</td>\n",
       "      <td>0</td>\n",
       "      <td>0</td>\n",
       "      <td>0</td>\n",
       "      <td>0</td>\n",
       "    </tr>\n",
       "    <tr>\n",
       "      <th>4</th>\n",
       "      <td>2018-06-19 4:18:11</td>\n",
       "      <td>0</td>\n",
       "      <td>90.07</td>\n",
       "      <td>79</td>\n",
       "      <td>0</td>\n",
       "      <td>0</td>\n",
       "      <td>0</td>\n",
       "      <td>0</td>\n",
       "      <td>0</td>\n",
       "      <td>0</td>\n",
       "      <td>0</td>\n",
       "      <td>0</td>\n",
       "      <td>1</td>\n",
       "      <td>0</td>\n",
       "      <td>0</td>\n",
       "    </tr>\n",
       "  </tbody>\n",
       "</table>\n",
       "</div>"
      ],
      "text/plain": [
       "              DATETIME  CUSTOMER_ID  TRASCATION AMOUNT  \\\n",
       "0  2018-09-20 11:49:41            0              88.11   \n",
       "1  2018-09-20 20:21:57            0              78.25   \n",
       "2  2018-08-01 12:11:36            0              62.28   \n",
       "3  2018-08-01 13:58:40            0              80.16   \n",
       "4   2018-06-19 4:18:11            0              90.07   \n",
       "\n",
       "   DAYS_SINCE_FIRST_TRANSACTION  FRAUD  Airways  Clothing  Electronics  Food  \\\n",
       "0                           172      0        0         0            0     0   \n",
       "1                           172      0        0         0            0     0   \n",
       "2                           122      0        1         0            0     0   \n",
       "3                           122      0        1         0            0     0   \n",
       "4                            79      0        0         0            0     0   \n",
       "\n",
       "   Footwear  Grocery  Hotels  Insulation  Rental Car  Retail  \n",
       "0         0        0       1           0           0       0  \n",
       "1         0        1       0           0           0       0  \n",
       "2         0        0       0           0           0       0  \n",
       "3         0        0       0           0           0       0  \n",
       "4         0        0       0           1           0       0  "
      ]
     },
     "execution_count": 36,
     "metadata": {},
     "output_type": "execute_result"
    }
   ],
   "source": [
    "# generate binary values using get_dummies\n",
    "# features = [\"TYPE of TRANSACTION\",\"quarter\",\"weekday_name\",\"month_name\"]\n",
    "df_dum = pd.get_dummies(df, columns=[\"TYPE of TRANSACTION\"],prefix='', prefix_sep='')\n",
    "\n",
    "df_dum.head()"
   ]
  },
  {
   "cell_type": "code",
   "execution_count": 37,
   "id": "c5af5014",
   "metadata": {
    "scrolled": true
   },
   "outputs": [
    {
     "data": {
      "text/html": [
       "<div>\n",
       "<style scoped>\n",
       "    .dataframe tbody tr th:only-of-type {\n",
       "        vertical-align: middle;\n",
       "    }\n",
       "\n",
       "    .dataframe tbody tr th {\n",
       "        vertical-align: top;\n",
       "    }\n",
       "\n",
       "    .dataframe thead th {\n",
       "        text-align: right;\n",
       "    }\n",
       "</style>\n",
       "<table border=\"1\" class=\"dataframe\">\n",
       "  <thead>\n",
       "    <tr style=\"text-align: right;\">\n",
       "      <th></th>\n",
       "      <th>DATETIME</th>\n",
       "      <th>CUSTOMER_ID</th>\n",
       "      <th>TYPE of TRANSACTION</th>\n",
       "      <th>TRASCATION AMOUNT</th>\n",
       "      <th>DAYS_SINCE_FIRST_TRANSACTION</th>\n",
       "      <th>FRAUD</th>\n",
       "    </tr>\n",
       "  </thead>\n",
       "  <tbody>\n",
       "    <tr>\n",
       "      <th>0</th>\n",
       "      <td>2018-09-20 11:49:41</td>\n",
       "      <td>0</td>\n",
       "      <td>Hotels</td>\n",
       "      <td>88.11</td>\n",
       "      <td>172</td>\n",
       "      <td>0</td>\n",
       "    </tr>\n",
       "    <tr>\n",
       "      <th>1</th>\n",
       "      <td>2018-09-20 20:21:57</td>\n",
       "      <td>0</td>\n",
       "      <td>Grocery</td>\n",
       "      <td>78.25</td>\n",
       "      <td>172</td>\n",
       "      <td>0</td>\n",
       "    </tr>\n",
       "    <tr>\n",
       "      <th>2</th>\n",
       "      <td>2018-08-01 12:11:36</td>\n",
       "      <td>0</td>\n",
       "      <td>Airways</td>\n",
       "      <td>62.28</td>\n",
       "      <td>122</td>\n",
       "      <td>0</td>\n",
       "    </tr>\n",
       "    <tr>\n",
       "      <th>3</th>\n",
       "      <td>2018-08-01 13:58:40</td>\n",
       "      <td>0</td>\n",
       "      <td>Airways</td>\n",
       "      <td>80.16</td>\n",
       "      <td>122</td>\n",
       "      <td>0</td>\n",
       "    </tr>\n",
       "    <tr>\n",
       "      <th>4</th>\n",
       "      <td>2018-06-19 4:18:11</td>\n",
       "      <td>0</td>\n",
       "      <td>Insulation</td>\n",
       "      <td>90.07</td>\n",
       "      <td>79</td>\n",
       "      <td>0</td>\n",
       "    </tr>\n",
       "  </tbody>\n",
       "</table>\n",
       "</div>"
      ],
      "text/plain": [
       "              DATETIME  CUSTOMER_ID TYPE of TRANSACTION  TRASCATION AMOUNT  \\\n",
       "0  2018-09-20 11:49:41            0              Hotels              88.11   \n",
       "1  2018-09-20 20:21:57            0             Grocery              78.25   \n",
       "2  2018-08-01 12:11:36            0             Airways              62.28   \n",
       "3  2018-08-01 13:58:40            0             Airways              80.16   \n",
       "4   2018-06-19 4:18:11            0          Insulation              90.07   \n",
       "\n",
       "   DAYS_SINCE_FIRST_TRANSACTION  FRAUD  \n",
       "0                           172      0  \n",
       "1                           172      0  \n",
       "2                           122      0  \n",
       "3                           122      0  \n",
       "4                            79      0  "
      ]
     },
     "execution_count": 37,
     "metadata": {},
     "output_type": "execute_result"
    }
   ],
   "source": [
    "df.head()"
   ]
  },
  {
   "cell_type": "code",
   "execution_count": 38,
   "id": "ec30c622",
   "metadata": {},
   "outputs": [
    {
     "data": {
      "text/plain": [
       "<AxesSubplot:>"
      ]
     },
     "execution_count": 38,
     "metadata": {},
     "output_type": "execute_result"
    },
    {
     "data": {
      "image/png": "[encoded data removed]",
      "text/plain": [
       "<Figure size 1152x360 with 2 Axes>"
      ]
     },
     "metadata": {
      "needs_background": "light"
     },
     "output_type": "display_data"
    }
   ],
   "source": [
    "mask = np.triu(np.ones_like(df.corr(), dtype=bool))\n",
    "plt.figure(figsize = (16,5))\n",
    "sns.heatmap(df.corr(),cmap='RdYlGn_r',annot=True, mask=mask)"
   ]
  },
  {
   "cell_type": "code",
   "execution_count": 39,
   "id": "089d76d1",
   "metadata": {
    "scrolled": true
   },
   "outputs": [
    {
     "data": {
      "image/png": "[encoded data removed]",
      "text/plain": [
       "<Figure size 864x288 with 2 Axes>"
      ]
     },
     "metadata": {
      "needs_background": "light"
     },
     "output_type": "display_data"
    }
   ],
   "source": [
    "# features = [\"TYPE of TRANSACTION\", \"month_name\",\"quarter\",\"time\",\"weekday_name\"]\n",
    "features = [\"TYPE of TRANSACTION\"]\n",
    "for f in features:\n",
    "    \n",
    "    fig, (ax1, ax2) = plt.subplots(2, 1, sharex=True, figsize=(12,4))\n",
    "    \n",
    "    Feature = df[f][df[\"FRAUD\"] == 1].value_counts(normalize=True).index\n",
    "    perc = 100*df[f][df[\"FRAUD\"] == 1].value_counts(normalize=True).values\n",
    "\n",
    "    ax1 = sns.barplot(data=pd.DataFrame({'Feature':Feature, 'Percent':perc}), x='Feature', y='Percent',ax=ax1)\n",
    "\n",
    "    Feature = df[f][df[\"FRAUD\"] == 0].value_counts(normalize=True).index\n",
    "    perc = 100*df[f][df[\"FRAUD\"] == 0].value_counts(normalize=True).values\n",
    "    \n",
    "    ax2 = sns.barplot(data=pd.DataFrame({'Feature':Feature, 'Percent':perc}), x='Feature', y='Percent',ax=ax2)\n",
    "    \n",
    "    \n",
    "    ax2.set(ylabel=None)\n",
    "    ax1.set(xlabel=None)\n",
    "    ax1.set(ylabel=None)\n",
    "    \n",
    "    plt.xlabel(f)\n",
    "    plt.ylabel(\"Percent\")\n",
    "    locs, labels = plt.xticks()\n",
    "    plt.setp(labels, rotation=45)\n",
    "    plt.show()"
   ]
  },
  {
   "cell_type": "markdown",
   "id": "9606c0be",
   "metadata": {},
   "source": [
    "vif to check multicollinearity"
   ]
  },
  {
   "cell_type": "code",
   "execution_count": 40,
   "id": "f2bdd776",
   "metadata": {},
   "outputs": [],
   "source": [
    "# load statmodels functions\n",
    "from statsmodels.stats.outliers_influence import variance_inflation_factor\n",
    "from statsmodels.tools.tools import add_constant\n",
    "\n",
    "# compute the vif for all given features \n",
    "def compute_vif(considered_features):\n",
    "    \n",
    "    X = df[considered_features]\n",
    "    # the calculation of variance inflation requires a constant\n",
    "    X = X.copy()\n",
    "    X[\"intercept\"] = 1\n",
    "\n",
    "    \n",
    "    # create dataframe to store vif values\n",
    "    vif = pd.DataFrame()\n",
    "    vif[\"Variable\"] = X.columns\n",
    "    vif[\"VIF\"] = [variance_inflation_factor(X.values, i) for i in range(X.shape[1])]\n",
    "    vif = vif[vif['Variable']!='intercept']\n",
    "    return vif"
   ]
  },
  {
   "cell_type": "code",
   "execution_count": 41,
   "id": "c4b3296f",
   "metadata": {
    "scrolled": true
   },
   "outputs": [
    {
     "data": {
      "text/html": [
       "<div>\n",
       "<style scoped>\n",
       "    .dataframe tbody tr th:only-of-type {\n",
       "        vertical-align: middle;\n",
       "    }\n",
       "\n",
       "    .dataframe tbody tr th {\n",
       "        vertical-align: top;\n",
       "    }\n",
       "\n",
       "    .dataframe thead th {\n",
       "        text-align: right;\n",
       "    }\n",
       "</style>\n",
       "<table border=\"1\" class=\"dataframe\">\n",
       "  <thead>\n",
       "    <tr style=\"text-align: right;\">\n",
       "      <th></th>\n",
       "      <th>Variable</th>\n",
       "      <th>VIF</th>\n",
       "    </tr>\n",
       "  </thead>\n",
       "  <tbody>\n",
       "    <tr>\n",
       "      <th>0</th>\n",
       "      <td>CUSTOMER_ID</td>\n",
       "      <td>1.001468</td>\n",
       "    </tr>\n",
       "    <tr>\n",
       "      <th>2</th>\n",
       "      <td>DAYS_SINCE_FIRST_TRANSACTION</td>\n",
       "      <td>1.001371</td>\n",
       "    </tr>\n",
       "    <tr>\n",
       "      <th>1</th>\n",
       "      <td>TRASCATION AMOUNT</td>\n",
       "      <td>1.000119</td>\n",
       "    </tr>\n",
       "  </tbody>\n",
       "</table>\n",
       "</div>"
      ],
      "text/plain": [
       "                       Variable       VIF\n",
       "0                   CUSTOMER_ID  1.001468\n",
       "2  DAYS_SINCE_FIRST_TRANSACTION  1.001371\n",
       "1             TRASCATION AMOUNT  1.000119"
      ]
     },
     "execution_count": 41,
     "metadata": {},
     "output_type": "execute_result"
    }
   ],
   "source": [
    "# # features to consider removing\n",
    "# considered_features = [\"TYPE of TRANSACTION\", \"month\", \"quarter\",\"dayofweek\",\"time\",\"weekday_name\"]\n",
    "considered_features = ['CUSTOMER_ID','TRASCATION AMOUNT','DAYS_SINCE_FIRST_TRANSACTION']\n",
    "\n",
    "\n",
    "# compute vif \n",
    "compute_vif(considered_features).sort_values('VIF', ascending=False)"
   ]
  },
  {
   "cell_type": "markdown",
   "id": "61545ac4",
   "metadata": {},
   "source": [
    "Splitting the data into test and train"
   ]
  },
  {
   "cell_type": "code",
   "execution_count": 42,
   "id": "97598533",
   "metadata": {},
   "outputs": [],
   "source": [
    "#drop date columns \n",
    "# df_dum = df_le.drop([\"DATETIME\",\"date\",\"weekday_name\"],axis=1)\n",
    "df_dum = df_dum.drop([\"DATETIME\"],axis=1)"
   ]
  },
  {
   "cell_type": "code",
   "execution_count": 43,
   "id": "3d0b2ec1",
   "metadata": {
    "scrolled": true
   },
   "outputs": [
    {
     "data": {
      "text/html": [
       "<div>\n",
       "<style scoped>\n",
       "    .dataframe tbody tr th:only-of-type {\n",
       "        vertical-align: middle;\n",
       "    }\n",
       "\n",
       "    .dataframe tbody tr th {\n",
       "        vertical-align: top;\n",
       "    }\n",
       "\n",
       "    .dataframe thead th {\n",
       "        text-align: right;\n",
       "    }\n",
       "</style>\n",
       "<table border=\"1\" class=\"dataframe\">\n",
       "  <thead>\n",
       "    <tr style=\"text-align: right;\">\n",
       "      <th></th>\n",
       "      <th>CUSTOMER_ID</th>\n",
       "      <th>TRASCATION AMOUNT</th>\n",
       "      <th>DAYS_SINCE_FIRST_TRANSACTION</th>\n",
       "      <th>FRAUD</th>\n",
       "      <th>Airways</th>\n",
       "      <th>Clothing</th>\n",
       "      <th>Electronics</th>\n",
       "      <th>Food</th>\n",
       "      <th>Footwear</th>\n",
       "      <th>Grocery</th>\n",
       "      <th>Hotels</th>\n",
       "      <th>Insulation</th>\n",
       "      <th>Rental Car</th>\n",
       "      <th>Retail</th>\n",
       "    </tr>\n",
       "  </thead>\n",
       "  <tbody>\n",
       "    <tr>\n",
       "      <th>0</th>\n",
       "      <td>0</td>\n",
       "      <td>88.11</td>\n",
       "      <td>172</td>\n",
       "      <td>0</td>\n",
       "      <td>0</td>\n",
       "      <td>0</td>\n",
       "      <td>0</td>\n",
       "      <td>0</td>\n",
       "      <td>0</td>\n",
       "      <td>0</td>\n",
       "      <td>1</td>\n",
       "      <td>0</td>\n",
       "      <td>0</td>\n",
       "      <td>0</td>\n",
       "    </tr>\n",
       "    <tr>\n",
       "      <th>1</th>\n",
       "      <td>0</td>\n",
       "      <td>78.25</td>\n",
       "      <td>172</td>\n",
       "      <td>0</td>\n",
       "      <td>0</td>\n",
       "      <td>0</td>\n",
       "      <td>0</td>\n",
       "      <td>0</td>\n",
       "      <td>0</td>\n",
       "      <td>1</td>\n",
       "      <td>0</td>\n",
       "      <td>0</td>\n",
       "      <td>0</td>\n",
       "      <td>0</td>\n",
       "    </tr>\n",
       "    <tr>\n",
       "      <th>2</th>\n",
       "      <td>0</td>\n",
       "      <td>62.28</td>\n",
       "      <td>122</td>\n",
       "      <td>0</td>\n",
       "      <td>1</td>\n",
       "      <td>0</td>\n",
       "      <td>0</td>\n",
       "      <td>0</td>\n",
       "      <td>0</td>\n",
       "      <td>0</td>\n",
       "      <td>0</td>\n",
       "      <td>0</td>\n",
       "      <td>0</td>\n",
       "      <td>0</td>\n",
       "    </tr>\n",
       "    <tr>\n",
       "      <th>3</th>\n",
       "      <td>0</td>\n",
       "      <td>80.16</td>\n",
       "      <td>122</td>\n",
       "      <td>0</td>\n",
       "      <td>1</td>\n",
       "      <td>0</td>\n",
       "      <td>0</td>\n",
       "      <td>0</td>\n",
       "      <td>0</td>\n",
       "      <td>0</td>\n",
       "      <td>0</td>\n",
       "      <td>0</td>\n",
       "      <td>0</td>\n",
       "      <td>0</td>\n",
       "    </tr>\n",
       "    <tr>\n",
       "      <th>4</th>\n",
       "      <td>0</td>\n",
       "      <td>90.07</td>\n",
       "      <td>79</td>\n",
       "      <td>0</td>\n",
       "      <td>0</td>\n",
       "      <td>0</td>\n",
       "      <td>0</td>\n",
       "      <td>0</td>\n",
       "      <td>0</td>\n",
       "      <td>0</td>\n",
       "      <td>0</td>\n",
       "      <td>1</td>\n",
       "      <td>0</td>\n",
       "      <td>0</td>\n",
       "    </tr>\n",
       "  </tbody>\n",
       "</table>\n",
       "</div>"
      ],
      "text/plain": [
       "   CUSTOMER_ID  TRASCATION AMOUNT  DAYS_SINCE_FIRST_TRANSACTION  FRAUD  \\\n",
       "0            0              88.11                           172      0   \n",
       "1            0              78.25                           172      0   \n",
       "2            0              62.28                           122      0   \n",
       "3            0              80.16                           122      0   \n",
       "4            0              90.07                            79      0   \n",
       "\n",
       "   Airways  Clothing  Electronics  Food  Footwear  Grocery  Hotels  \\\n",
       "0        0         0            0     0         0        0       1   \n",
       "1        0         0            0     0         0        1       0   \n",
       "2        1         0            0     0         0        0       0   \n",
       "3        1         0            0     0         0        0       0   \n",
       "4        0         0            0     0         0        0       0   \n",
       "\n",
       "   Insulation  Rental Car  Retail  \n",
       "0           0           0       0  \n",
       "1           0           0       0  \n",
       "2           0           0       0  \n",
       "3           0           0       0  \n",
       "4           1           0       0  "
      ]
     },
     "execution_count": 43,
     "metadata": {},
     "output_type": "execute_result"
    }
   ],
   "source": [
    "df_dum.head()"
   ]
  },
  {
   "cell_type": "code",
   "execution_count": 44,
   "id": "05296f83",
   "metadata": {},
   "outputs": [],
   "source": [
    "y= df_dum[\"FRAUD\"]\n",
    "X = df_dum.drop(\"FRAUD\", axis = 1)"
   ]
  },
  {
   "cell_type": "code",
   "execution_count": 45,
   "id": "d9fa08cd",
   "metadata": {},
   "outputs": [
    {
     "data": {
      "text/html": [
       "<div>\n",
       "<style scoped>\n",
       "    .dataframe tbody tr th:only-of-type {\n",
       "        vertical-align: middle;\n",
       "    }\n",
       "\n",
       "    .dataframe tbody tr th {\n",
       "        vertical-align: top;\n",
       "    }\n",
       "\n",
       "    .dataframe thead th {\n",
       "        text-align: right;\n",
       "    }\n",
       "</style>\n",
       "<table border=\"1\" class=\"dataframe\">\n",
       "  <thead>\n",
       "    <tr style=\"text-align: right;\">\n",
       "      <th></th>\n",
       "      <th>CUSTOMER_ID</th>\n",
       "      <th>TRASCATION AMOUNT</th>\n",
       "      <th>DAYS_SINCE_FIRST_TRANSACTION</th>\n",
       "      <th>Airways</th>\n",
       "      <th>Clothing</th>\n",
       "      <th>Electronics</th>\n",
       "      <th>Food</th>\n",
       "      <th>Footwear</th>\n",
       "      <th>Grocery</th>\n",
       "      <th>Hotels</th>\n",
       "      <th>Insulation</th>\n",
       "      <th>Rental Car</th>\n",
       "      <th>Retail</th>\n",
       "    </tr>\n",
       "  </thead>\n",
       "  <tbody>\n",
       "    <tr>\n",
       "      <th>0</th>\n",
       "      <td>0</td>\n",
       "      <td>88.11</td>\n",
       "      <td>172</td>\n",
       "      <td>0</td>\n",
       "      <td>0</td>\n",
       "      <td>0</td>\n",
       "      <td>0</td>\n",
       "      <td>0</td>\n",
       "      <td>0</td>\n",
       "      <td>1</td>\n",
       "      <td>0</td>\n",
       "      <td>0</td>\n",
       "      <td>0</td>\n",
       "    </tr>\n",
       "    <tr>\n",
       "      <th>1</th>\n",
       "      <td>0</td>\n",
       "      <td>78.25</td>\n",
       "      <td>172</td>\n",
       "      <td>0</td>\n",
       "      <td>0</td>\n",
       "      <td>0</td>\n",
       "      <td>0</td>\n",
       "      <td>0</td>\n",
       "      <td>1</td>\n",
       "      <td>0</td>\n",
       "      <td>0</td>\n",
       "      <td>0</td>\n",
       "      <td>0</td>\n",
       "    </tr>\n",
       "    <tr>\n",
       "      <th>2</th>\n",
       "      <td>0</td>\n",
       "      <td>62.28</td>\n",
       "      <td>122</td>\n",
       "      <td>1</td>\n",
       "      <td>0</td>\n",
       "      <td>0</td>\n",
       "      <td>0</td>\n",
       "      <td>0</td>\n",
       "      <td>0</td>\n",
       "      <td>0</td>\n",
       "      <td>0</td>\n",
       "      <td>0</td>\n",
       "      <td>0</td>\n",
       "    </tr>\n",
       "    <tr>\n",
       "      <th>3</th>\n",
       "      <td>0</td>\n",
       "      <td>80.16</td>\n",
       "      <td>122</td>\n",
       "      <td>1</td>\n",
       "      <td>0</td>\n",
       "      <td>0</td>\n",
       "      <td>0</td>\n",
       "      <td>0</td>\n",
       "      <td>0</td>\n",
       "      <td>0</td>\n",
       "      <td>0</td>\n",
       "      <td>0</td>\n",
       "      <td>0</td>\n",
       "    </tr>\n",
       "    <tr>\n",
       "      <th>4</th>\n",
       "      <td>0</td>\n",
       "      <td>90.07</td>\n",
       "      <td>79</td>\n",
       "      <td>0</td>\n",
       "      <td>0</td>\n",
       "      <td>0</td>\n",
       "      <td>0</td>\n",
       "      <td>0</td>\n",
       "      <td>0</td>\n",
       "      <td>0</td>\n",
       "      <td>1</td>\n",
       "      <td>0</td>\n",
       "      <td>0</td>\n",
       "    </tr>\n",
       "  </tbody>\n",
       "</table>\n",
       "</div>"
      ],
      "text/plain": [
       "   CUSTOMER_ID  TRASCATION AMOUNT  DAYS_SINCE_FIRST_TRANSACTION  Airways  \\\n",
       "0            0              88.11                           172        0   \n",
       "1            0              78.25                           172        0   \n",
       "2            0              62.28                           122        1   \n",
       "3            0              80.16                           122        1   \n",
       "4            0              90.07                            79        0   \n",
       "\n",
       "   Clothing  Electronics  Food  Footwear  Grocery  Hotels  Insulation  \\\n",
       "0         0            0     0         0        0       1           0   \n",
       "1         0            0     0         0        1       0           0   \n",
       "2         0            0     0         0        0       0           0   \n",
       "3         0            0     0         0        0       0           0   \n",
       "4         0            0     0         0        0       0           1   \n",
       "\n",
       "   Rental Car  Retail  \n",
       "0           0       0  \n",
       "1           0       0  \n",
       "2           0       0  \n",
       "3           0       0  \n",
       "4           0       0  "
      ]
     },
     "execution_count": 45,
     "metadata": {},
     "output_type": "execute_result"
    }
   ],
   "source": [
    "X.head()"
   ]
  },
  {
   "cell_type": "code",
   "execution_count": 46,
   "id": "5aa3b3ac",
   "metadata": {
    "scrolled": true
   },
   "outputs": [],
   "source": [
    "# from sklearn.preprocessing import MinMaxScaler\n",
    "# cols_to_norm = ['TRASCATION AMOUNT','DAYS_SINCE_FIRST_TRANSACTION']\n",
    "\n",
    "# scaler = MinMaxScaler()\n",
    "# X[cols_to_norm] = scaler.fit_transform(X[cols_to_norm])"
   ]
  },
  {
   "cell_type": "code",
   "execution_count": 47,
   "id": "4610d8ad",
   "metadata": {},
   "outputs": [],
   "source": [
    "# PCA or not\n",
    "X_scaled = X"
   ]
  },
  {
   "cell_type": "code",
   "execution_count": 48,
   "id": "9e0e2965",
   "metadata": {},
   "outputs": [],
   "source": [
    "X_scaled_df = pd.DataFrame(X_scaled, index=X.index, columns=X.columns)"
   ]
  },
  {
   "cell_type": "code",
   "execution_count": 49,
   "id": "6d80af5c",
   "metadata": {},
   "outputs": [
    {
     "data": {
      "text/html": [
       "<div>\n",
       "<style scoped>\n",
       "    .dataframe tbody tr th:only-of-type {\n",
       "        vertical-align: middle;\n",
       "    }\n",
       "\n",
       "    .dataframe tbody tr th {\n",
       "        vertical-align: top;\n",
       "    }\n",
       "\n",
       "    .dataframe thead th {\n",
       "        text-align: right;\n",
       "    }\n",
       "</style>\n",
       "<table border=\"1\" class=\"dataframe\">\n",
       "  <thead>\n",
       "    <tr style=\"text-align: right;\">\n",
       "      <th></th>\n",
       "      <th>CUSTOMER_ID</th>\n",
       "      <th>TRASCATION AMOUNT</th>\n",
       "      <th>DAYS_SINCE_FIRST_TRANSACTION</th>\n",
       "      <th>Airways</th>\n",
       "      <th>Clothing</th>\n",
       "      <th>Electronics</th>\n",
       "      <th>Food</th>\n",
       "      <th>Footwear</th>\n",
       "      <th>Grocery</th>\n",
       "      <th>Hotels</th>\n",
       "      <th>Insulation</th>\n",
       "      <th>Rental Car</th>\n",
       "      <th>Retail</th>\n",
       "    </tr>\n",
       "  </thead>\n",
       "  <tbody>\n",
       "    <tr>\n",
       "      <th>0</th>\n",
       "      <td>0</td>\n",
       "      <td>88.11</td>\n",
       "      <td>172</td>\n",
       "      <td>0</td>\n",
       "      <td>0</td>\n",
       "      <td>0</td>\n",
       "      <td>0</td>\n",
       "      <td>0</td>\n",
       "      <td>0</td>\n",
       "      <td>1</td>\n",
       "      <td>0</td>\n",
       "      <td>0</td>\n",
       "      <td>0</td>\n",
       "    </tr>\n",
       "    <tr>\n",
       "      <th>1</th>\n",
       "      <td>0</td>\n",
       "      <td>78.25</td>\n",
       "      <td>172</td>\n",
       "      <td>0</td>\n",
       "      <td>0</td>\n",
       "      <td>0</td>\n",
       "      <td>0</td>\n",
       "      <td>0</td>\n",
       "      <td>1</td>\n",
       "      <td>0</td>\n",
       "      <td>0</td>\n",
       "      <td>0</td>\n",
       "      <td>0</td>\n",
       "    </tr>\n",
       "    <tr>\n",
       "      <th>2</th>\n",
       "      <td>0</td>\n",
       "      <td>62.28</td>\n",
       "      <td>122</td>\n",
       "      <td>1</td>\n",
       "      <td>0</td>\n",
       "      <td>0</td>\n",
       "      <td>0</td>\n",
       "      <td>0</td>\n",
       "      <td>0</td>\n",
       "      <td>0</td>\n",
       "      <td>0</td>\n",
       "      <td>0</td>\n",
       "      <td>0</td>\n",
       "    </tr>\n",
       "    <tr>\n",
       "      <th>3</th>\n",
       "      <td>0</td>\n",
       "      <td>80.16</td>\n",
       "      <td>122</td>\n",
       "      <td>1</td>\n",
       "      <td>0</td>\n",
       "      <td>0</td>\n",
       "      <td>0</td>\n",
       "      <td>0</td>\n",
       "      <td>0</td>\n",
       "      <td>0</td>\n",
       "      <td>0</td>\n",
       "      <td>0</td>\n",
       "      <td>0</td>\n",
       "    </tr>\n",
       "    <tr>\n",
       "      <th>4</th>\n",
       "      <td>0</td>\n",
       "      <td>90.07</td>\n",
       "      <td>79</td>\n",
       "      <td>0</td>\n",
       "      <td>0</td>\n",
       "      <td>0</td>\n",
       "      <td>0</td>\n",
       "      <td>0</td>\n",
       "      <td>0</td>\n",
       "      <td>0</td>\n",
       "      <td>1</td>\n",
       "      <td>0</td>\n",
       "      <td>0</td>\n",
       "    </tr>\n",
       "  </tbody>\n",
       "</table>\n",
       "</div>"
      ],
      "text/plain": [
       "   CUSTOMER_ID  TRASCATION AMOUNT  DAYS_SINCE_FIRST_TRANSACTION  Airways  \\\n",
       "0            0              88.11                           172        0   \n",
       "1            0              78.25                           172        0   \n",
       "2            0              62.28                           122        1   \n",
       "3            0              80.16                           122        1   \n",
       "4            0              90.07                            79        0   \n",
       "\n",
       "   Clothing  Electronics  Food  Footwear  Grocery  Hotels  Insulation  \\\n",
       "0         0            0     0         0        0       1           0   \n",
       "1         0            0     0         0        1       0           0   \n",
       "2         0            0     0         0        0       0           0   \n",
       "3         0            0     0         0        0       0           0   \n",
       "4         0            0     0         0        0       0           1   \n",
       "\n",
       "   Rental Car  Retail  \n",
       "0           0       0  \n",
       "1           0       0  \n",
       "2           0       0  \n",
       "3           0       0  \n",
       "4           0       0  "
      ]
     },
     "execution_count": 49,
     "metadata": {},
     "output_type": "execute_result"
    }
   ],
   "source": [
    "X_scaled_df.head()"
   ]
  },
  {
   "cell_type": "code",
   "execution_count": 50,
   "id": "3954bf0b",
   "metadata": {},
   "outputs": [],
   "source": [
    "# Spltting the into 80:20 train test size\n",
    "X_train, X_test, y_train, y_test = train_test_split(X_scaled_df, y, test_size=0.2, random_state = 42, stratify=y)"
   ]
  },
  {
   "cell_type": "code",
   "execution_count": 51,
   "id": "71709828",
   "metadata": {
    "scrolled": true
   },
   "outputs": [
    {
     "data": {
      "text/plain": [
       "0    0.990948\n",
       "1    0.009052\n",
       "Name: FRAUD, dtype: float64"
      ]
     },
     "execution_count": 51,
     "metadata": {},
     "output_type": "execute_result"
    }
   ],
   "source": [
    "y_train.value_counts(normalize=True)"
   ]
  },
  {
   "cell_type": "code",
   "execution_count": 52,
   "id": "eaf359d7",
   "metadata": {},
   "outputs": [
    {
     "data": {
      "text/html": [
       "<div>\n",
       "<style scoped>\n",
       "    .dataframe tbody tr th:only-of-type {\n",
       "        vertical-align: middle;\n",
       "    }\n",
       "\n",
       "    .dataframe tbody tr th {\n",
       "        vertical-align: top;\n",
       "    }\n",
       "\n",
       "    .dataframe thead th {\n",
       "        text-align: right;\n",
       "    }\n",
       "</style>\n",
       "<table border=\"1\" class=\"dataframe\">\n",
       "  <thead>\n",
       "    <tr style=\"text-align: right;\">\n",
       "      <th></th>\n",
       "      <th>CUSTOMER_ID</th>\n",
       "      <th>TRASCATION AMOUNT</th>\n",
       "      <th>DAYS_SINCE_FIRST_TRANSACTION</th>\n",
       "      <th>Airways</th>\n",
       "      <th>Clothing</th>\n",
       "      <th>Electronics</th>\n",
       "      <th>Food</th>\n",
       "      <th>Footwear</th>\n",
       "      <th>Grocery</th>\n",
       "      <th>Hotels</th>\n",
       "      <th>Insulation</th>\n",
       "      <th>Rental Car</th>\n",
       "      <th>Retail</th>\n",
       "    </tr>\n",
       "  </thead>\n",
       "  <tbody>\n",
       "    <tr>\n",
       "      <th>66129</th>\n",
       "      <td>4968</td>\n",
       "      <td>36.43</td>\n",
       "      <td>53</td>\n",
       "      <td>0</td>\n",
       "      <td>0</td>\n",
       "      <td>0</td>\n",
       "      <td>0</td>\n",
       "      <td>0</td>\n",
       "      <td>1</td>\n",
       "      <td>0</td>\n",
       "      <td>0</td>\n",
       "      <td>0</td>\n",
       "      <td>0</td>\n",
       "    </tr>\n",
       "    <tr>\n",
       "      <th>40076</th>\n",
       "      <td>2718</td>\n",
       "      <td>64.12</td>\n",
       "      <td>172</td>\n",
       "      <td>0</td>\n",
       "      <td>0</td>\n",
       "      <td>0</td>\n",
       "      <td>1</td>\n",
       "      <td>0</td>\n",
       "      <td>0</td>\n",
       "      <td>0</td>\n",
       "      <td>0</td>\n",
       "      <td>0</td>\n",
       "      <td>0</td>\n",
       "    </tr>\n",
       "    <tr>\n",
       "      <th>52956</th>\n",
       "      <td>3761</td>\n",
       "      <td>37.78</td>\n",
       "      <td>53</td>\n",
       "      <td>0</td>\n",
       "      <td>0</td>\n",
       "      <td>1</td>\n",
       "      <td>0</td>\n",
       "      <td>0</td>\n",
       "      <td>0</td>\n",
       "      <td>0</td>\n",
       "      <td>0</td>\n",
       "      <td>0</td>\n",
       "      <td>0</td>\n",
       "    </tr>\n",
       "    <tr>\n",
       "      <th>46752</th>\n",
       "      <td>3230</td>\n",
       "      <td>159.47</td>\n",
       "      <td>140</td>\n",
       "      <td>0</td>\n",
       "      <td>0</td>\n",
       "      <td>0</td>\n",
       "      <td>0</td>\n",
       "      <td>0</td>\n",
       "      <td>0</td>\n",
       "      <td>0</td>\n",
       "      <td>0</td>\n",
       "      <td>1</td>\n",
       "      <td>0</td>\n",
       "    </tr>\n",
       "    <tr>\n",
       "      <th>66131</th>\n",
       "      <td>4968</td>\n",
       "      <td>24.55</td>\n",
       "      <td>53</td>\n",
       "      <td>0</td>\n",
       "      <td>0</td>\n",
       "      <td>0</td>\n",
       "      <td>0</td>\n",
       "      <td>0</td>\n",
       "      <td>1</td>\n",
       "      <td>0</td>\n",
       "      <td>0</td>\n",
       "      <td>0</td>\n",
       "      <td>0</td>\n",
       "    </tr>\n",
       "  </tbody>\n",
       "</table>\n",
       "</div>"
      ],
      "text/plain": [
       "       CUSTOMER_ID  TRASCATION AMOUNT  DAYS_SINCE_FIRST_TRANSACTION  Airways  \\\n",
       "66129         4968              36.43                            53        0   \n",
       "40076         2718              64.12                           172        0   \n",
       "52956         3761              37.78                            53        0   \n",
       "46752         3230             159.47                           140        0   \n",
       "66131         4968              24.55                            53        0   \n",
       "\n",
       "       Clothing  Electronics  Food  Footwear  Grocery  Hotels  Insulation  \\\n",
       "66129         0            0     0         0        1       0           0   \n",
       "40076         0            0     1         0        0       0           0   \n",
       "52956         0            1     0         0        0       0           0   \n",
       "46752         0            0     0         0        0       0           0   \n",
       "66131         0            0     0         0        1       0           0   \n",
       "\n",
       "       Rental Car  Retail  \n",
       "66129           0       0  \n",
       "40076           0       0  \n",
       "52956           0       0  \n",
       "46752           1       0  \n",
       "66131           0       0  "
      ]
     },
     "execution_count": 52,
     "metadata": {},
     "output_type": "execute_result"
    }
   ],
   "source": [
    "X_train.head()"
   ]
  },
  {
   "cell_type": "markdown",
   "id": "ad79123d",
   "metadata": {},
   "source": [
    "# Model Building with Imbalance data"
   ]
  },
  {
   "cell_type": "code",
   "execution_count": 53,
   "id": "2ae48107",
   "metadata": {},
   "outputs": [],
   "source": [
    "# Creating function to display ROC-AUC score, f1 score and classification report\n",
    "def display_scores(y_test, y_pred):\n",
    "    '''\n",
    "    Display ROC-AUC score, f1 score and classification report of a model.\n",
    "    '''\n",
    "    print(f\"F1 Score: {round(f1_score(y_test, y_pred)*100,2)}%\") \n",
    "    print(f\"Classification Report: \\n {classification_report(y_test, y_pred)}\")"
   ]
  },
  {
   "cell_type": "code",
   "execution_count": 54,
   "id": "2cbc87ba",
   "metadata": {},
   "outputs": [],
   "source": [
    "# ROC Curve function(receiver operating characteristic curve)\n",
    "def draw_roc( actual, probs ):\n",
    "    fpr, tpr, thresholds = metrics.roc_curve( actual, probs,\n",
    "                                              drop_intermediate = False )\n",
    "    auc_score = metrics.roc_auc_score( actual, probs )\n",
    "    plt.figure(figsize=(5, 5))\n",
    "    plt.plot( fpr, tpr, label='ROC curve (area = %0.2f)' % auc_score )\n",
    "    plt.plot([0, 1], [0, 1], 'k--')\n",
    "    plt.xlim([0.0, 1.0])\n",
    "    plt.ylim([0.0, 1.05])\n",
    "    plt.xlabel('False Positive Rate or [1 - True Negative Rate]')\n",
    "    plt.ylabel('True Positive Rate')\n",
    "    plt.title('Receiver operating characteristic example')\n",
    "    plt.legend(loc=\"lower right\")\n",
    "    plt.show()\n",
    "\n",
    "    return None"
   ]
  },
  {
   "cell_type": "markdown",
   "id": "bdc59f2f",
   "metadata": {},
   "source": [
    "## 1.Logistic Regression"
   ]
  },
  {
   "cell_type": "code",
   "execution_count": 55,
   "id": "389a3d85",
   "metadata": {},
   "outputs": [
    {
     "name": "stdout",
     "output_type": "stream",
     "text": [
      "Fitting 5 folds for each of 6 candidates, totalling 30 fits\n",
      "Best ROC AUC score:  0.6987227402300645\n",
      "Best hyperparameters:  {'C': 0.1}\n"
     ]
    }
   ],
   "source": [
    "# Logistic Regression parameters for K-fold cross vaidation\n",
    "params = {\"C\": [0.01, 0.1, 1, 10, 100, 1000]} # larger C - more prone to overfit\n",
    "folds = KFold(n_splits=5, shuffle=True, random_state=4)\n",
    "\n",
    "\n",
    "#perform cross validation\n",
    "model_cv = GridSearchCV(estimator = LogisticRegression(max_iter=1000),\n",
    "                        param_grid = params, \n",
    "                        scoring= 'roc_auc', \n",
    "                        cv = folds, \n",
    "                        n_jobs=-1,\n",
    "                        verbose = 1,\n",
    "                        return_train_score=True) \n",
    "#perform hyperparameter tuning\n",
    "model_cv.fit(X_train, y_train)\n",
    "#print the evaluation result by choosing a evaluation metric\n",
    "print('Best ROC AUC score: ', model_cv.best_score_)\n",
    "#print the optimum value of hyperparameters\n",
    "print('Best hyperparameters: ', model_cv.best_params_)"
   ]
  },
  {
   "cell_type": "code",
   "execution_count": 56,
   "id": "5708a386",
   "metadata": {
    "scrolled": true
   },
   "outputs": [
    {
     "data": {
      "text/html": [
       "<div>\n",
       "<style scoped>\n",
       "    .dataframe tbody tr th:only-of-type {\n",
       "        vertical-align: middle;\n",
       "    }\n",
       "\n",
       "    .dataframe tbody tr th {\n",
       "        vertical-align: top;\n",
       "    }\n",
       "\n",
       "    .dataframe thead th {\n",
       "        text-align: right;\n",
       "    }\n",
       "</style>\n",
       "<table border=\"1\" class=\"dataframe\">\n",
       "  <thead>\n",
       "    <tr style=\"text-align: right;\">\n",
       "      <th></th>\n",
       "      <th>mean_fit_time</th>\n",
       "      <th>std_fit_time</th>\n",
       "      <th>mean_score_time</th>\n",
       "      <th>std_score_time</th>\n",
       "      <th>param_C</th>\n",
       "      <th>params</th>\n",
       "      <th>split0_test_score</th>\n",
       "      <th>split1_test_score</th>\n",
       "      <th>split2_test_score</th>\n",
       "      <th>split3_test_score</th>\n",
       "      <th>...</th>\n",
       "      <th>mean_test_score</th>\n",
       "      <th>std_test_score</th>\n",
       "      <th>rank_test_score</th>\n",
       "      <th>split0_train_score</th>\n",
       "      <th>split1_train_score</th>\n",
       "      <th>split2_train_score</th>\n",
       "      <th>split3_train_score</th>\n",
       "      <th>split4_train_score</th>\n",
       "      <th>mean_train_score</th>\n",
       "      <th>std_train_score</th>\n",
       "    </tr>\n",
       "  </thead>\n",
       "  <tbody>\n",
       "    <tr>\n",
       "      <th>0</th>\n",
       "      <td>0.865860</td>\n",
       "      <td>0.158392</td>\n",
       "      <td>0.016756</td>\n",
       "      <td>0.004107</td>\n",
       "      <td>0.01</td>\n",
       "      <td>{'C': 0.01}</td>\n",
       "      <td>0.719510</td>\n",
       "      <td>0.690285</td>\n",
       "      <td>0.683433</td>\n",
       "      <td>0.704300</td>\n",
       "      <td>...</td>\n",
       "      <td>0.695445</td>\n",
       "      <td>0.014673</td>\n",
       "      <td>4</td>\n",
       "      <td>0.690992</td>\n",
       "      <td>0.700497</td>\n",
       "      <td>0.700562</td>\n",
       "      <td>0.696811</td>\n",
       "      <td>0.699586</td>\n",
       "      <td>0.697690</td>\n",
       "      <td>0.003616</td>\n",
       "    </tr>\n",
       "    <tr>\n",
       "      <th>1</th>\n",
       "      <td>1.584738</td>\n",
       "      <td>0.683129</td>\n",
       "      <td>0.019151</td>\n",
       "      <td>0.004345</td>\n",
       "      <td>0.1</td>\n",
       "      <td>{'C': 0.1}</td>\n",
       "      <td>0.726158</td>\n",
       "      <td>0.686804</td>\n",
       "      <td>0.688074</td>\n",
       "      <td>0.708551</td>\n",
       "      <td>...</td>\n",
       "      <td>0.698723</td>\n",
       "      <td>0.016253</td>\n",
       "      <td>1</td>\n",
       "      <td>0.698060</td>\n",
       "      <td>0.709698</td>\n",
       "      <td>0.706795</td>\n",
       "      <td>0.702168</td>\n",
       "      <td>0.704511</td>\n",
       "      <td>0.704247</td>\n",
       "      <td>0.003972</td>\n",
       "    </tr>\n",
       "    <tr>\n",
       "      <th>2</th>\n",
       "      <td>0.987276</td>\n",
       "      <td>0.513751</td>\n",
       "      <td>0.017634</td>\n",
       "      <td>0.002958</td>\n",
       "      <td>1</td>\n",
       "      <td>{'C': 1}</td>\n",
       "      <td>0.729579</td>\n",
       "      <td>0.687913</td>\n",
       "      <td>0.657037</td>\n",
       "      <td>0.716131</td>\n",
       "      <td>...</td>\n",
       "      <td>0.691828</td>\n",
       "      <td>0.027520</td>\n",
       "      <td>5</td>\n",
       "      <td>0.702513</td>\n",
       "      <td>0.714035</td>\n",
       "      <td>0.693478</td>\n",
       "      <td>0.707646</td>\n",
       "      <td>0.688189</td>\n",
       "      <td>0.701172</td>\n",
       "      <td>0.009348</td>\n",
       "    </tr>\n",
       "    <tr>\n",
       "      <th>3</th>\n",
       "      <td>0.786669</td>\n",
       "      <td>0.229815</td>\n",
       "      <td>0.019946</td>\n",
       "      <td>0.004886</td>\n",
       "      <td>10</td>\n",
       "      <td>{'C': 10}</td>\n",
       "      <td>0.726240</td>\n",
       "      <td>0.687863</td>\n",
       "      <td>0.681969</td>\n",
       "      <td>0.705154</td>\n",
       "      <td>...</td>\n",
       "      <td>0.697063</td>\n",
       "      <td>0.016719</td>\n",
       "      <td>3</td>\n",
       "      <td>0.698644</td>\n",
       "      <td>0.714145</td>\n",
       "      <td>0.708377</td>\n",
       "      <td>0.700706</td>\n",
       "      <td>0.704743</td>\n",
       "      <td>0.705323</td>\n",
       "      <td>0.005539</td>\n",
       "    </tr>\n",
       "    <tr>\n",
       "      <th>4</th>\n",
       "      <td>0.714599</td>\n",
       "      <td>0.153144</td>\n",
       "      <td>0.017484</td>\n",
       "      <td>0.000956</td>\n",
       "      <td>100</td>\n",
       "      <td>{'C': 100}</td>\n",
       "      <td>0.726244</td>\n",
       "      <td>0.690298</td>\n",
       "      <td>0.691815</td>\n",
       "      <td>0.694564</td>\n",
       "      <td>...</td>\n",
       "      <td>0.697398</td>\n",
       "      <td>0.014828</td>\n",
       "      <td>2</td>\n",
       "      <td>0.698647</td>\n",
       "      <td>0.707033</td>\n",
       "      <td>0.711394</td>\n",
       "      <td>0.684029</td>\n",
       "      <td>0.704746</td>\n",
       "      <td>0.701170</td>\n",
       "      <td>0.009506</td>\n",
       "    </tr>\n",
       "    <tr>\n",
       "      <th>5</th>\n",
       "      <td>0.502567</td>\n",
       "      <td>0.079605</td>\n",
       "      <td>0.011086</td>\n",
       "      <td>0.002877</td>\n",
       "      <td>1000</td>\n",
       "      <td>{'C': 1000}</td>\n",
       "      <td>0.718057</td>\n",
       "      <td>0.690302</td>\n",
       "      <td>0.656964</td>\n",
       "      <td>0.694562</td>\n",
       "      <td>...</td>\n",
       "      <td>0.688792</td>\n",
       "      <td>0.019633</td>\n",
       "      <td>6</td>\n",
       "      <td>0.676560</td>\n",
       "      <td>0.707026</td>\n",
       "      <td>0.693736</td>\n",
       "      <td>0.684034</td>\n",
       "      <td>0.704749</td>\n",
       "      <td>0.693221</td>\n",
       "      <td>0.011711</td>\n",
       "    </tr>\n",
       "  </tbody>\n",
       "</table>\n",
       "<p>6 rows × 21 columns</p>\n",
       "</div>"
      ],
      "text/plain": [
       "   mean_fit_time  std_fit_time  mean_score_time  std_score_time param_C  \\\n",
       "0       0.865860      0.158392         0.016756        0.004107    0.01   \n",
       "1       1.584738      0.683129         0.019151        0.004345     0.1   \n",
       "2       0.987276      0.513751         0.017634        0.002958       1   \n",
       "3       0.786669      0.229815         0.019946        0.004886      10   \n",
       "4       0.714599      0.153144         0.017484        0.000956     100   \n",
       "5       0.502567      0.079605         0.011086        0.002877    1000   \n",
       "\n",
       "        params  split0_test_score  split1_test_score  split2_test_score  \\\n",
       "0  {'C': 0.01}           0.719510           0.690285           0.683433   \n",
       "1   {'C': 0.1}           0.726158           0.686804           0.688074   \n",
       "2     {'C': 1}           0.729579           0.687913           0.657037   \n",
       "3    {'C': 10}           0.726240           0.687863           0.681969   \n",
       "4   {'C': 100}           0.726244           0.690298           0.691815   \n",
       "5  {'C': 1000}           0.718057           0.690302           0.656964   \n",
       "\n",
       "   split3_test_score  ...  mean_test_score  std_test_score  rank_test_score  \\\n",
       "0           0.704300  ...         0.695445        0.014673                4   \n",
       "1           0.708551  ...         0.698723        0.016253                1   \n",
       "2           0.716131  ...         0.691828        0.027520                5   \n",
       "3           0.705154  ...         0.697063        0.016719                3   \n",
       "4           0.694564  ...         0.697398        0.014828                2   \n",
       "5           0.694562  ...         0.688792        0.019633                6   \n",
       "\n",
       "   split0_train_score  split1_train_score  split2_train_score  \\\n",
       "0            0.690992            0.700497            0.700562   \n",
       "1            0.698060            0.709698            0.706795   \n",
       "2            0.702513            0.714035            0.693478   \n",
       "3            0.698644            0.714145            0.708377   \n",
       "4            0.698647            0.707033            0.711394   \n",
       "5            0.676560            0.707026            0.693736   \n",
       "\n",
       "   split3_train_score  split4_train_score  mean_train_score  std_train_score  \n",
       "0            0.696811            0.699586          0.697690         0.003616  \n",
       "1            0.702168            0.704511          0.704247         0.003972  \n",
       "2            0.707646            0.688189          0.701172         0.009348  \n",
       "3            0.700706            0.704743          0.705323         0.005539  \n",
       "4            0.684029            0.704746          0.701170         0.009506  \n",
       "5            0.684034            0.704749          0.693221         0.011711  \n",
       "\n",
       "[6 rows x 21 columns]"
      ]
     },
     "execution_count": 56,
     "metadata": {},
     "output_type": "execute_result"
    }
   ],
   "source": [
    "# cross validation results\n",
    "cv_results = pd.DataFrame(model_cv.cv_results_)\n",
    "cv_results"
   ]
  },
  {
   "cell_type": "code",
   "execution_count": 57,
   "id": "75521c4d",
   "metadata": {
    "scrolled": true
   },
   "outputs": [
    {
     "data": {
      "image/png": "[encoded data removed]",
      "text/plain": [
       "<Figure size 576x432 with 1 Axes>"
      ]
     },
     "metadata": {
      "needs_background": "light"
     },
     "output_type": "display_data"
    }
   ],
   "source": [
    "# plot of C versus train and validation scores\n",
    "\n",
    "plt.figure(figsize=(8, 6))\n",
    "plt.plot(cv_results['param_C'], cv_results['mean_test_score'])\n",
    "plt.plot(cv_results['param_C'], cv_results['mean_train_score'])\n",
    "plt.xlabel('C')\n",
    "plt.ylabel('sensitivity')\n",
    "plt.legend(['test result', 'train result'], loc='upper left')\n",
    "plt.xscale('log')"
   ]
  },
  {
   "cell_type": "code",
   "execution_count": 58,
   "id": "fc0a0b0d",
   "metadata": {
    "scrolled": true
   },
   "outputs": [
    {
     "data": {
      "text/plain": [
       "{'C': 0.1}"
      ]
     },
     "execution_count": 58,
     "metadata": {},
     "output_type": "execute_result"
    }
   ],
   "source": [
    "model_cv.best_params_"
   ]
  },
  {
   "cell_type": "code",
   "execution_count": 59,
   "id": "5deec244",
   "metadata": {},
   "outputs": [
    {
     "data": {
      "text/html": [
       "<style>#sk-container-id-1 {color: black;background-color: white;}#sk-container-id-1 pre{padding: 0;}#sk-container-id-1 div.sk-toggleable {background-color: white;}#sk-container-id-1 label.sk-toggleable__label {cursor: pointer;display: block;width: 100%;margin-bottom: 0;padding: 0.3em;box-sizing: border-box;text-align: center;}#sk-container-id-1 label.sk-toggleable__label-arrow:before {content: \"▸\";float: left;margin-right: 0.25em;color: #696969;}#sk-container-id-1 label.sk-toggleable__label-arrow:hover:before {color: black;}#sk-container-id-1 div.sk-estimator:hover label.sk-toggleable__label-arrow:before {color: black;}#sk-container-id-1 div.sk-toggleable__content {max-height: 0;max-width: 0;overflow: hidden;text-align: left;background-color: #f0f8ff;}#sk-container-id-1 div.sk-toggleable__content pre {margin: 0.2em;color: black;border-radius: 0.25em;background-color: #f0f8ff;}#sk-container-id-1 input.sk-toggleable__control:checked~div.sk-toggleable__content {max-height: 200px;max-width: 100%;overflow: auto;}#sk-container-id-1 input.sk-toggleable__control:checked~label.sk-toggleable__label-arrow:before {content: \"▾\";}#sk-container-id-1 div.sk-estimator input.sk-toggleable__control:checked~label.sk-toggleable__label {background-color: #d4ebff;}#sk-container-id-1 div.sk-label input.sk-toggleable__control:checked~label.sk-toggleable__label {background-color: #d4ebff;}#sk-container-id-1 input.sk-hidden--visually {border: 0;clip: rect(1px 1px 1px 1px);clip: rect(1px, 1px, 1px, 1px);height: 1px;margin: -1px;overflow: hidden;padding: 0;position: absolute;width: 1px;}#sk-container-id-1 div.sk-estimator {font-family: monospace;background-color: #f0f8ff;border: 1px dotted black;border-radius: 0.25em;box-sizing: border-box;margin-bottom: 0.5em;}#sk-container-id-1 div.sk-estimator:hover {background-color: #d4ebff;}#sk-container-id-1 div.sk-parallel-item::after {content: \"\";width: 100%;border-bottom: 1px solid gray;flex-grow: 1;}#sk-container-id-1 div.sk-label:hover label.sk-toggleable__label {background-color: #d4ebff;}#sk-container-id-1 div.sk-serial::before {content: \"\";position: absolute;border-left: 1px solid gray;box-sizing: border-box;top: 0;bottom: 0;left: 50%;z-index: 0;}#sk-container-id-1 div.sk-serial {display: flex;flex-direction: column;align-items: center;background-color: white;padding-right: 0.2em;padding-left: 0.2em;position: relative;}#sk-container-id-1 div.sk-item {position: relative;z-index: 1;}#sk-container-id-1 div.sk-parallel {display: flex;align-items: stretch;justify-content: center;background-color: white;position: relative;}#sk-container-id-1 div.sk-item::before, #sk-container-id-1 div.sk-parallel-item::before {content: \"\";position: absolute;border-left: 1px solid gray;box-sizing: border-box;top: 0;bottom: 0;left: 50%;z-index: -1;}#sk-container-id-1 div.sk-parallel-item {display: flex;flex-direction: column;z-index: 1;position: relative;background-color: white;}#sk-container-id-1 div.sk-parallel-item:first-child::after {align-self: flex-end;width: 50%;}#sk-container-id-1 div.sk-parallel-item:last-child::after {align-self: flex-start;width: 50%;}#sk-container-id-1 div.sk-parallel-item:only-child::after {width: 0;}#sk-container-id-1 div.sk-dashed-wrapped {border: 1px dashed gray;margin: 0 0.4em 0.5em 0.4em;box-sizing: border-box;padding-bottom: 0.4em;background-color: white;}#sk-container-id-1 div.sk-label label {font-family: monospace;font-weight: bold;display: inline-block;line-height: 1.2em;}#sk-container-id-1 div.sk-label-container {text-align: center;}#sk-container-id-1 div.sk-container {/* jupyter's `normalize.less` sets `[hidden] { display: none; }` but bootstrap.min.css set `[hidden] { display: none !important; }` so we also need the `!important` here to be able to override the default hidden behavior on the sphinx rendered scikit-learn.org. See: https://github.com/scikit-learn/scikit-learn/issues/21755 */display: inline-block !important;position: relative;}#sk-container-id-1 div.sk-text-repr-fallback {display: none;}</style><div id=\"sk-container-id-1\" class=\"sk-top-container\"><div class=\"sk-text-repr-fallback\"><pre>LogisticRegression(C=0.1, max_iter=1000)</pre><b>In a Jupyter environment, please rerun this cell to show the HTML representation or trust the notebook. <br />On GitHub, the HTML representation is unable to render, please try loading this page with nbviewer.org.</b></div><div class=\"sk-container\" hidden><div class=\"sk-item\"><div class=\"sk-estimator sk-toggleable\"><input class=\"sk-toggleable__control sk-hidden--visually\" id=\"sk-estimator-id-1\" type=\"checkbox\" checked><label for=\"sk-estimator-id-1\" class=\"sk-toggleable__label sk-toggleable__label-arrow\">LogisticRegression</label><div class=\"sk-toggleable__content\"><pre>LogisticRegression(C=0.1, max_iter=1000)</pre></div></div></div></div></div>"
      ],
      "text/plain": [
       "LogisticRegression(C=0.1, max_iter=1000)"
      ]
     },
     "execution_count": 59,
     "metadata": {},
     "output_type": "execute_result"
    }
   ],
   "source": [
    "# Instantiating the model\n",
    "log_reg_imb_model = LogisticRegression(C=0.1,max_iter=1000)\n",
    "\n",
    "# Fitting the model with train data\n",
    "log_reg_imb_model.fit(X_train, y_train)"
   ]
  },
  {
   "cell_type": "code",
   "execution_count": 60,
   "id": "0653a21d",
   "metadata": {},
   "outputs": [],
   "source": [
    "# Predictions on the train set\n",
    "y_train_pred = log_reg_imb_model.predict(X_train)"
   ]
  },
  {
   "cell_type": "code",
   "execution_count": 61,
   "id": "c14d5eca",
   "metadata": {
    "scrolled": true
   },
   "outputs": [
    {
     "name": "stdout",
     "output_type": "stream",
     "text": [
      "F1 Score: 18.65%\n",
      "Classification Report: \n",
      "               precision    recall  f1-score   support\n",
      "\n",
      "           0       0.99      1.00      1.00     57476\n",
      "           1       1.00      0.10      0.19       525\n",
      "\n",
      "    accuracy                           0.99     58001\n",
      "   macro avg       1.00      0.55      0.59     58001\n",
      "weighted avg       0.99      0.99      0.99     58001\n",
      "\n"
     ]
    }
   ],
   "source": [
    "\n",
    "# Printing scores\n",
    "display_scores(y_train, y_train_pred)"
   ]
  },
  {
   "cell_type": "code",
   "execution_count": 62,
   "id": "c150f25b",
   "metadata": {},
   "outputs": [],
   "source": [
    "# Predicted probability\n",
    "y_train_pred_proba = log_reg_imb_model.predict_proba(X_train)[:,1]"
   ]
  },
  {
   "cell_type": "code",
   "execution_count": 63,
   "id": "cb9e4943",
   "metadata": {
    "scrolled": true
   },
   "outputs": [
    {
     "data": {
      "image/png": "[encoded data removed]",
      "text/plain": [
       "<Figure size 360x360 with 1 Axes>"
      ]
     },
     "metadata": {
      "needs_background": "light"
     },
     "output_type": "display_data"
    }
   ],
   "source": [
    "# Plot the ROC curve\n",
    "draw_roc(y_train, y_train_pred_proba)"
   ]
  },
  {
   "cell_type": "code",
   "execution_count": 64,
   "id": "837d66da",
   "metadata": {
    "scrolled": false
   },
   "outputs": [
    {
     "name": "stdout",
     "output_type": "stream",
     "text": [
      "F1 Score: 19.31%\n",
      "Classification Report: \n",
      "               precision    recall  f1-score   support\n",
      "\n",
      "           0       0.99      1.00      1.00     14370\n",
      "           1       1.00      0.11      0.19       131\n",
      "\n",
      "    accuracy                           0.99     14501\n",
      "   macro avg       1.00      0.55      0.59     14501\n",
      "weighted avg       0.99      0.99      0.99     14501\n",
      "\n"
     ]
    }
   ],
   "source": [
    "# Making prediction on the test set\n",
    "y_test_pred = log_reg_imb_model.predict(X_test)\n",
    "display_scores(y_test, y_test_pred)"
   ]
  },
  {
   "cell_type": "code",
   "execution_count": 65,
   "id": "0c535b46",
   "metadata": {},
   "outputs": [],
   "source": [
    "# Predicted probability\n",
    "y_test_pred_proba = log_reg_imb_model.predict_proba(X_test)[:,1]"
   ]
  },
  {
   "cell_type": "code",
   "execution_count": 66,
   "id": "4fb655fb",
   "metadata": {
    "scrolled": true
   },
   "outputs": [
    {
     "data": {
      "image/png": "[encoded data removed]",
      "text/plain": [
       "<Figure size 360x360 with 1 Axes>"
      ]
     },
     "metadata": {
      "needs_background": "light"
     },
     "output_type": "display_data"
    }
   ],
   "source": [
    "# Plot the ROC curve\n",
    "draw_roc(y_test, y_test_pred_proba)"
   ]
  },
  {
   "cell_type": "markdown",
   "id": "bed00450",
   "metadata": {},
   "source": [
    "## 2. Decision Tree"
   ]
  },
  {
   "cell_type": "code",
   "execution_count": 67,
   "id": "8cc0563e",
   "metadata": {},
   "outputs": [
    {
     "name": "stdout",
     "output_type": "stream",
     "text": [
      "Fitting 3 folds for each of 8 candidates, totalling 24 fits\n"
     ]
    },
    {
     "data": {
      "text/html": [
       "<style>#sk-container-id-2 {color: black;background-color: white;}#sk-container-id-2 pre{padding: 0;}#sk-container-id-2 div.sk-toggleable {background-color: white;}#sk-container-id-2 label.sk-toggleable__label {cursor: pointer;display: block;width: 100%;margin-bottom: 0;padding: 0.3em;box-sizing: border-box;text-align: center;}#sk-container-id-2 label.sk-toggleable__label-arrow:before {content: \"▸\";float: left;margin-right: 0.25em;color: #696969;}#sk-container-id-2 label.sk-toggleable__label-arrow:hover:before {color: black;}#sk-container-id-2 div.sk-estimator:hover label.sk-toggleable__label-arrow:before {color: black;}#sk-container-id-2 div.sk-toggleable__content {max-height: 0;max-width: 0;overflow: hidden;text-align: left;background-color: #f0f8ff;}#sk-container-id-2 div.sk-toggleable__content pre {margin: 0.2em;color: black;border-radius: 0.25em;background-color: #f0f8ff;}#sk-container-id-2 input.sk-toggleable__control:checked~div.sk-toggleable__content {max-height: 200px;max-width: 100%;overflow: auto;}#sk-container-id-2 input.sk-toggleable__control:checked~label.sk-toggleable__label-arrow:before {content: \"▾\";}#sk-container-id-2 div.sk-estimator input.sk-toggleable__control:checked~label.sk-toggleable__label {background-color: #d4ebff;}#sk-container-id-2 div.sk-label input.sk-toggleable__control:checked~label.sk-toggleable__label {background-color: #d4ebff;}#sk-container-id-2 input.sk-hidden--visually {border: 0;clip: rect(1px 1px 1px 1px);clip: rect(1px, 1px, 1px, 1px);height: 1px;margin: -1px;overflow: hidden;padding: 0;position: absolute;width: 1px;}#sk-container-id-2 div.sk-estimator {font-family: monospace;background-color: #f0f8ff;border: 1px dotted black;border-radius: 0.25em;box-sizing: border-box;margin-bottom: 0.5em;}#sk-container-id-2 div.sk-estimator:hover {background-color: #d4ebff;}#sk-container-id-2 div.sk-parallel-item::after {content: \"\";width: 100%;border-bottom: 1px solid gray;flex-grow: 1;}#sk-container-id-2 div.sk-label:hover label.sk-toggleable__label {background-color: #d4ebff;}#sk-container-id-2 div.sk-serial::before {content: \"\";position: absolute;border-left: 1px solid gray;box-sizing: border-box;top: 0;bottom: 0;left: 50%;z-index: 0;}#sk-container-id-2 div.sk-serial {display: flex;flex-direction: column;align-items: center;background-color: white;padding-right: 0.2em;padding-left: 0.2em;position: relative;}#sk-container-id-2 div.sk-item {position: relative;z-index: 1;}#sk-container-id-2 div.sk-parallel {display: flex;align-items: stretch;justify-content: center;background-color: white;position: relative;}#sk-container-id-2 div.sk-item::before, #sk-container-id-2 div.sk-parallel-item::before {content: \"\";position: absolute;border-left: 1px solid gray;box-sizing: border-box;top: 0;bottom: 0;left: 50%;z-index: -1;}#sk-container-id-2 div.sk-parallel-item {display: flex;flex-direction: column;z-index: 1;position: relative;background-color: white;}#sk-container-id-2 div.sk-parallel-item:first-child::after {align-self: flex-end;width: 50%;}#sk-container-id-2 div.sk-parallel-item:last-child::after {align-self: flex-start;width: 50%;}#sk-container-id-2 div.sk-parallel-item:only-child::after {width: 0;}#sk-container-id-2 div.sk-dashed-wrapped {border: 1px dashed gray;margin: 0 0.4em 0.5em 0.4em;box-sizing: border-box;padding-bottom: 0.4em;background-color: white;}#sk-container-id-2 div.sk-label label {font-family: monospace;font-weight: bold;display: inline-block;line-height: 1.2em;}#sk-container-id-2 div.sk-label-container {text-align: center;}#sk-container-id-2 div.sk-container {/* jupyter's `normalize.less` sets `[hidden] { display: none; }` but bootstrap.min.css set `[hidden] { display: none !important; }` so we also need the `!important` here to be able to override the default hidden behavior on the sphinx rendered scikit-learn.org. See: https://github.com/scikit-learn/scikit-learn/issues/21755 */display: inline-block !important;position: relative;}#sk-container-id-2 div.sk-text-repr-fallback {display: none;}</style><div id=\"sk-container-id-2\" class=\"sk-top-container\"><div class=\"sk-text-repr-fallback\"><pre>GridSearchCV(cv=3, estimator=DecisionTreeClassifier(), n_jobs=-1,\n",
       "             param_grid={&#x27;max_depth&#x27;: range(5, 15, 5),\n",
       "                         &#x27;min_samples_leaf&#x27;: range(50, 150, 50),\n",
       "                         &#x27;min_samples_split&#x27;: range(50, 150, 50)},\n",
       "             scoring=&#x27;roc_auc&#x27;, verbose=1)</pre><b>In a Jupyter environment, please rerun this cell to show the HTML representation or trust the notebook. <br />On GitHub, the HTML representation is unable to render, please try loading this page with nbviewer.org.</b></div><div class=\"sk-container\" hidden><div class=\"sk-item sk-dashed-wrapped\"><div class=\"sk-label-container\"><div class=\"sk-label sk-toggleable\"><input class=\"sk-toggleable__control sk-hidden--visually\" id=\"sk-estimator-id-2\" type=\"checkbox\" ><label for=\"sk-estimator-id-2\" class=\"sk-toggleable__label sk-toggleable__label-arrow\">GridSearchCV</label><div class=\"sk-toggleable__content\"><pre>GridSearchCV(cv=3, estimator=DecisionTreeClassifier(), n_jobs=-1,\n",
       "             param_grid={&#x27;max_depth&#x27;: range(5, 15, 5),\n",
       "                         &#x27;min_samples_leaf&#x27;: range(50, 150, 50),\n",
       "                         &#x27;min_samples_split&#x27;: range(50, 150, 50)},\n",
       "             scoring=&#x27;roc_auc&#x27;, verbose=1)</pre></div></div></div><div class=\"sk-parallel\"><div class=\"sk-parallel-item\"><div class=\"sk-item\"><div class=\"sk-label-container\"><div class=\"sk-label sk-toggleable\"><input class=\"sk-toggleable__control sk-hidden--visually\" id=\"sk-estimator-id-3\" type=\"checkbox\" ><label for=\"sk-estimator-id-3\" class=\"sk-toggleable__label sk-toggleable__label-arrow\">estimator: DecisionTreeClassifier</label><div class=\"sk-toggleable__content\"><pre>DecisionTreeClassifier()</pre></div></div></div><div class=\"sk-serial\"><div class=\"sk-item\"><div class=\"sk-estimator sk-toggleable\"><input class=\"sk-toggleable__control sk-hidden--visually\" id=\"sk-estimator-id-4\" type=\"checkbox\" ><label for=\"sk-estimator-id-4\" class=\"sk-toggleable__label sk-toggleable__label-arrow\">DecisionTreeClassifier</label><div class=\"sk-toggleable__content\"><pre>DecisionTreeClassifier()</pre></div></div></div></div></div></div></div></div></div></div>"
      ],
      "text/plain": [
       "GridSearchCV(cv=3, estimator=DecisionTreeClassifier(), n_jobs=-1,\n",
       "             param_grid={'max_depth': range(5, 15, 5),\n",
       "                         'min_samples_leaf': range(50, 150, 50),\n",
       "                         'min_samples_split': range(50, 150, 50)},\n",
       "             scoring='roc_auc', verbose=1)"
      ]
     },
     "execution_count": 67,
     "metadata": {},
     "output_type": "execute_result"
    }
   ],
   "source": [
    "# Create the parameter grid \n",
    "param_grid = {\n",
    "    'max_depth': range(5, 15, 5),\n",
    "    'min_samples_leaf': range(50, 150, 50),\n",
    "    'min_samples_split': range(50, 150, 50),\n",
    "}\n",
    "\n",
    "\n",
    "# Instantiate the grid search model\n",
    "dtree = DecisionTreeClassifier()\n",
    "\n",
    "grid_search = GridSearchCV(estimator = dtree, \n",
    "                           param_grid = param_grid, \n",
    "                           scoring= 'roc_auc',\n",
    "                           cv = 3, \n",
    "                           n_jobs=-1,\n",
    "                           verbose = 1)\n",
    "\n",
    "# Fit the grid search to the data\n",
    "grid_search.fit(X_train,y_train)"
   ]
  },
  {
   "cell_type": "code",
   "execution_count": 68,
   "id": "3597db4c",
   "metadata": {},
   "outputs": [
    {
     "data": {
      "text/html": [
       "<div>\n",
       "<style scoped>\n",
       "    .dataframe tbody tr th:only-of-type {\n",
       "        vertical-align: middle;\n",
       "    }\n",
       "\n",
       "    .dataframe tbody tr th {\n",
       "        vertical-align: top;\n",
       "    }\n",
       "\n",
       "    .dataframe thead th {\n",
       "        text-align: right;\n",
       "    }\n",
       "</style>\n",
       "<table border=\"1\" class=\"dataframe\">\n",
       "  <thead>\n",
       "    <tr style=\"text-align: right;\">\n",
       "      <th></th>\n",
       "      <th>mean_fit_time</th>\n",
       "      <th>std_fit_time</th>\n",
       "      <th>mean_score_time</th>\n",
       "      <th>std_score_time</th>\n",
       "      <th>param_max_depth</th>\n",
       "      <th>param_min_samples_leaf</th>\n",
       "      <th>param_min_samples_split</th>\n",
       "      <th>params</th>\n",
       "      <th>split0_test_score</th>\n",
       "      <th>split1_test_score</th>\n",
       "      <th>split2_test_score</th>\n",
       "      <th>mean_test_score</th>\n",
       "      <th>std_test_score</th>\n",
       "      <th>rank_test_score</th>\n",
       "    </tr>\n",
       "  </thead>\n",
       "  <tbody>\n",
       "    <tr>\n",
       "      <th>0</th>\n",
       "      <td>0.119715</td>\n",
       "      <td>0.005501</td>\n",
       "      <td>0.014862</td>\n",
       "      <td>0.000940</td>\n",
       "      <td>5</td>\n",
       "      <td>50</td>\n",
       "      <td>50</td>\n",
       "      <td>{'max_depth': 5, 'min_samples_leaf': 50, 'min_...</td>\n",
       "      <td>0.699808</td>\n",
       "      <td>0.671128</td>\n",
       "      <td>0.680222</td>\n",
       "      <td>0.683719</td>\n",
       "      <td>0.011967</td>\n",
       "      <td>1</td>\n",
       "    </tr>\n",
       "    <tr>\n",
       "      <th>1</th>\n",
       "      <td>0.122642</td>\n",
       "      <td>0.011209</td>\n",
       "      <td>0.015626</td>\n",
       "      <td>0.001696</td>\n",
       "      <td>5</td>\n",
       "      <td>50</td>\n",
       "      <td>100</td>\n",
       "      <td>{'max_depth': 5, 'min_samples_leaf': 50, 'min_...</td>\n",
       "      <td>0.699808</td>\n",
       "      <td>0.671128</td>\n",
       "      <td>0.680222</td>\n",
       "      <td>0.683719</td>\n",
       "      <td>0.011967</td>\n",
       "      <td>1</td>\n",
       "    </tr>\n",
       "    <tr>\n",
       "      <th>2</th>\n",
       "      <td>0.134310</td>\n",
       "      <td>0.011054</td>\n",
       "      <td>0.029736</td>\n",
       "      <td>0.010591</td>\n",
       "      <td>5</td>\n",
       "      <td>100</td>\n",
       "      <td>50</td>\n",
       "      <td>{'max_depth': 5, 'min_samples_leaf': 100, 'min...</td>\n",
       "      <td>0.686384</td>\n",
       "      <td>0.672180</td>\n",
       "      <td>0.687288</td>\n",
       "      <td>0.681951</td>\n",
       "      <td>0.006919</td>\n",
       "      <td>3</td>\n",
       "    </tr>\n",
       "    <tr>\n",
       "      <th>3</th>\n",
       "      <td>0.184598</td>\n",
       "      <td>0.025660</td>\n",
       "      <td>0.021613</td>\n",
       "      <td>0.005419</td>\n",
       "      <td>5</td>\n",
       "      <td>100</td>\n",
       "      <td>100</td>\n",
       "      <td>{'max_depth': 5, 'min_samples_leaf': 100, 'min...</td>\n",
       "      <td>0.686384</td>\n",
       "      <td>0.672180</td>\n",
       "      <td>0.687288</td>\n",
       "      <td>0.681951</td>\n",
       "      <td>0.006919</td>\n",
       "      <td>3</td>\n",
       "    </tr>\n",
       "    <tr>\n",
       "      <th>4</th>\n",
       "      <td>0.261999</td>\n",
       "      <td>0.032275</td>\n",
       "      <td>0.013630</td>\n",
       "      <td>0.000470</td>\n",
       "      <td>10</td>\n",
       "      <td>50</td>\n",
       "      <td>50</td>\n",
       "      <td>{'max_depth': 10, 'min_samples_leaf': 50, 'min...</td>\n",
       "      <td>0.696680</td>\n",
       "      <td>0.633688</td>\n",
       "      <td>0.639236</td>\n",
       "      <td>0.656535</td>\n",
       "      <td>0.028478</td>\n",
       "      <td>6</td>\n",
       "    </tr>\n",
       "    <tr>\n",
       "      <th>5</th>\n",
       "      <td>0.229513</td>\n",
       "      <td>0.033985</td>\n",
       "      <td>0.017940</td>\n",
       "      <td>0.003242</td>\n",
       "      <td>10</td>\n",
       "      <td>50</td>\n",
       "      <td>100</td>\n",
       "      <td>{'max_depth': 10, 'min_samples_leaf': 50, 'min...</td>\n",
       "      <td>0.696705</td>\n",
       "      <td>0.633688</td>\n",
       "      <td>0.644549</td>\n",
       "      <td>0.658314</td>\n",
       "      <td>0.027507</td>\n",
       "      <td>5</td>\n",
       "    </tr>\n",
       "    <tr>\n",
       "      <th>6</th>\n",
       "      <td>0.198904</td>\n",
       "      <td>0.004603</td>\n",
       "      <td>0.016395</td>\n",
       "      <td>0.000437</td>\n",
       "      <td>10</td>\n",
       "      <td>100</td>\n",
       "      <td>50</td>\n",
       "      <td>{'max_depth': 10, 'min_samples_leaf': 100, 'mi...</td>\n",
       "      <td>0.654524</td>\n",
       "      <td>0.641639</td>\n",
       "      <td>0.667583</td>\n",
       "      <td>0.654582</td>\n",
       "      <td>0.010591</td>\n",
       "      <td>8</td>\n",
       "    </tr>\n",
       "    <tr>\n",
       "      <th>7</th>\n",
       "      <td>0.191025</td>\n",
       "      <td>0.006126</td>\n",
       "      <td>0.012214</td>\n",
       "      <td>0.002720</td>\n",
       "      <td>10</td>\n",
       "      <td>100</td>\n",
       "      <td>100</td>\n",
       "      <td>{'max_depth': 10, 'min_samples_leaf': 100, 'mi...</td>\n",
       "      <td>0.655958</td>\n",
       "      <td>0.641974</td>\n",
       "      <td>0.667583</td>\n",
       "      <td>0.655171</td>\n",
       "      <td>0.010470</td>\n",
       "      <td>7</td>\n",
       "    </tr>\n",
       "  </tbody>\n",
       "</table>\n",
       "</div>"
      ],
      "text/plain": [
       "   mean_fit_time  std_fit_time  mean_score_time  std_score_time  \\\n",
       "0       0.119715      0.005501         0.014862        0.000940   \n",
       "1       0.122642      0.011209         0.015626        0.001696   \n",
       "2       0.134310      0.011054         0.029736        0.010591   \n",
       "3       0.184598      0.025660         0.021613        0.005419   \n",
       "4       0.261999      0.032275         0.013630        0.000470   \n",
       "5       0.229513      0.033985         0.017940        0.003242   \n",
       "6       0.198904      0.004603         0.016395        0.000437   \n",
       "7       0.191025      0.006126         0.012214        0.002720   \n",
       "\n",
       "  param_max_depth param_min_samples_leaf param_min_samples_split  \\\n",
       "0               5                     50                      50   \n",
       "1               5                     50                     100   \n",
       "2               5                    100                      50   \n",
       "3               5                    100                     100   \n",
       "4              10                     50                      50   \n",
       "5              10                     50                     100   \n",
       "6              10                    100                      50   \n",
       "7              10                    100                     100   \n",
       "\n",
       "                                              params  split0_test_score  \\\n",
       "0  {'max_depth': 5, 'min_samples_leaf': 50, 'min_...           0.699808   \n",
       "1  {'max_depth': 5, 'min_samples_leaf': 50, 'min_...           0.699808   \n",
       "2  {'max_depth': 5, 'min_samples_leaf': 100, 'min...           0.686384   \n",
       "3  {'max_depth': 5, 'min_samples_leaf': 100, 'min...           0.686384   \n",
       "4  {'max_depth': 10, 'min_samples_leaf': 50, 'min...           0.696680   \n",
       "5  {'max_depth': 10, 'min_samples_leaf': 50, 'min...           0.696705   \n",
       "6  {'max_depth': 10, 'min_samples_leaf': 100, 'mi...           0.654524   \n",
       "7  {'max_depth': 10, 'min_samples_leaf': 100, 'mi...           0.655958   \n",
       "\n",
       "   split1_test_score  split2_test_score  mean_test_score  std_test_score  \\\n",
       "0           0.671128           0.680222         0.683719        0.011967   \n",
       "1           0.671128           0.680222         0.683719        0.011967   \n",
       "2           0.672180           0.687288         0.681951        0.006919   \n",
       "3           0.672180           0.687288         0.681951        0.006919   \n",
       "4           0.633688           0.639236         0.656535        0.028478   \n",
       "5           0.633688           0.644549         0.658314        0.027507   \n",
       "6           0.641639           0.667583         0.654582        0.010591   \n",
       "7           0.641974           0.667583         0.655171        0.010470   \n",
       "\n",
       "   rank_test_score  \n",
       "0                1  \n",
       "1                1  \n",
       "2                3  \n",
       "3                3  \n",
       "4                6  \n",
       "5                5  \n",
       "6                8  \n",
       "7                7  "
      ]
     },
     "execution_count": 68,
     "metadata": {},
     "output_type": "execute_result"
    }
   ],
   "source": [
    "# cv results\n",
    "cv_results = pd.DataFrame(grid_search.cv_results_)\n",
    "cv_results"
   ]
  },
  {
   "cell_type": "code",
   "execution_count": 69,
   "id": "5d265789",
   "metadata": {},
   "outputs": [
    {
     "name": "stdout",
     "output_type": "stream",
     "text": [
      "Best roc auc score :  0.6837193052460688\n",
      "DecisionTreeClassifier(max_depth=5, min_samples_leaf=50, min_samples_split=50)\n"
     ]
    }
   ],
   "source": [
    "# Printing the optimal score and hyperparameters\n",
    "print(\"Best roc auc score : \", grid_search.best_score_)\n",
    "print(grid_search.best_estimator_)"
   ]
  },
  {
   "cell_type": "code",
   "execution_count": 70,
   "id": "d0f14bac",
   "metadata": {},
   "outputs": [
    {
     "data": {
      "text/html": [
       "<style>#sk-container-id-3 {color: black;background-color: white;}#sk-container-id-3 pre{padding: 0;}#sk-container-id-3 div.sk-toggleable {background-color: white;}#sk-container-id-3 label.sk-toggleable__label {cursor: pointer;display: block;width: 100%;margin-bottom: 0;padding: 0.3em;box-sizing: border-box;text-align: center;}#sk-container-id-3 label.sk-toggleable__label-arrow:before {content: \"▸\";float: left;margin-right: 0.25em;color: #696969;}#sk-container-id-3 label.sk-toggleable__label-arrow:hover:before {color: black;}#sk-container-id-3 div.sk-estimator:hover label.sk-toggleable__label-arrow:before {color: black;}#sk-container-id-3 div.sk-toggleable__content {max-height: 0;max-width: 0;overflow: hidden;text-align: left;background-color: #f0f8ff;}#sk-container-id-3 div.sk-toggleable__content pre {margin: 0.2em;color: black;border-radius: 0.25em;background-color: #f0f8ff;}#sk-container-id-3 input.sk-toggleable__control:checked~div.sk-toggleable__content {max-height: 200px;max-width: 100%;overflow: auto;}#sk-container-id-3 input.sk-toggleable__control:checked~label.sk-toggleable__label-arrow:before {content: \"▾\";}#sk-container-id-3 div.sk-estimator input.sk-toggleable__control:checked~label.sk-toggleable__label {background-color: #d4ebff;}#sk-container-id-3 div.sk-label input.sk-toggleable__control:checked~label.sk-toggleable__label {background-color: #d4ebff;}#sk-container-id-3 input.sk-hidden--visually {border: 0;clip: rect(1px 1px 1px 1px);clip: rect(1px, 1px, 1px, 1px);height: 1px;margin: -1px;overflow: hidden;padding: 0;position: absolute;width: 1px;}#sk-container-id-3 div.sk-estimator {font-family: monospace;background-color: #f0f8ff;border: 1px dotted black;border-radius: 0.25em;box-sizing: border-box;margin-bottom: 0.5em;}#sk-container-id-3 div.sk-estimator:hover {background-color: #d4ebff;}#sk-container-id-3 div.sk-parallel-item::after {content: \"\";width: 100%;border-bottom: 1px solid gray;flex-grow: 1;}#sk-container-id-3 div.sk-label:hover label.sk-toggleable__label {background-color: #d4ebff;}#sk-container-id-3 div.sk-serial::before {content: \"\";position: absolute;border-left: 1px solid gray;box-sizing: border-box;top: 0;bottom: 0;left: 50%;z-index: 0;}#sk-container-id-3 div.sk-serial {display: flex;flex-direction: column;align-items: center;background-color: white;padding-right: 0.2em;padding-left: 0.2em;position: relative;}#sk-container-id-3 div.sk-item {position: relative;z-index: 1;}#sk-container-id-3 div.sk-parallel {display: flex;align-items: stretch;justify-content: center;background-color: white;position: relative;}#sk-container-id-3 div.sk-item::before, #sk-container-id-3 div.sk-parallel-item::before {content: \"\";position: absolute;border-left: 1px solid gray;box-sizing: border-box;top: 0;bottom: 0;left: 50%;z-index: -1;}#sk-container-id-3 div.sk-parallel-item {display: flex;flex-direction: column;z-index: 1;position: relative;background-color: white;}#sk-container-id-3 div.sk-parallel-item:first-child::after {align-self: flex-end;width: 50%;}#sk-container-id-3 div.sk-parallel-item:last-child::after {align-self: flex-start;width: 50%;}#sk-container-id-3 div.sk-parallel-item:only-child::after {width: 0;}#sk-container-id-3 div.sk-dashed-wrapped {border: 1px dashed gray;margin: 0 0.4em 0.5em 0.4em;box-sizing: border-box;padding-bottom: 0.4em;background-color: white;}#sk-container-id-3 div.sk-label label {font-family: monospace;font-weight: bold;display: inline-block;line-height: 1.2em;}#sk-container-id-3 div.sk-label-container {text-align: center;}#sk-container-id-3 div.sk-container {/* jupyter's `normalize.less` sets `[hidden] { display: none; }` but bootstrap.min.css set `[hidden] { display: none !important; }` so we also need the `!important` here to be able to override the default hidden behavior on the sphinx rendered scikit-learn.org. See: https://github.com/scikit-learn/scikit-learn/issues/21755 */display: inline-block !important;position: relative;}#sk-container-id-3 div.sk-text-repr-fallback {display: none;}</style><div id=\"sk-container-id-3\" class=\"sk-top-container\"><div class=\"sk-text-repr-fallback\"><pre>DecisionTreeClassifier(max_depth=5, min_samples_leaf=50, min_samples_split=50,\n",
       "                       random_state=100)</pre><b>In a Jupyter environment, please rerun this cell to show the HTML representation or trust the notebook. <br />On GitHub, the HTML representation is unable to render, please try loading this page with nbviewer.org.</b></div><div class=\"sk-container\" hidden><div class=\"sk-item\"><div class=\"sk-estimator sk-toggleable\"><input class=\"sk-toggleable__control sk-hidden--visually\" id=\"sk-estimator-id-5\" type=\"checkbox\" checked><label for=\"sk-estimator-id-5\" class=\"sk-toggleable__label sk-toggleable__label-arrow\">DecisionTreeClassifier</label><div class=\"sk-toggleable__content\"><pre>DecisionTreeClassifier(max_depth=5, min_samples_leaf=50, min_samples_split=50,\n",
       "                       random_state=100)</pre></div></div></div></div></div>"
      ],
      "text/plain": [
       "DecisionTreeClassifier(max_depth=5, min_samples_leaf=50, min_samples_split=50,\n",
       "                       random_state=100)"
      ]
     },
     "execution_count": 70,
     "metadata": {},
     "output_type": "execute_result"
    }
   ],
   "source": [
    "\n",
    "# Model with optimal hyperparameters\n",
    "dt_imb_model = DecisionTreeClassifier(criterion = \"gini\", \n",
    "                                  random_state = 100,\n",
    "                                  max_depth=5, \n",
    "                                  min_samples_leaf=50,\n",
    "                                  min_samples_split=50)\n",
    "dt_imb_model.fit(X_train, y_train)"
   ]
  },
  {
   "cell_type": "code",
   "execution_count": 71,
   "id": "6f2c0378",
   "metadata": {},
   "outputs": [
    {
     "name": "stdout",
     "output_type": "stream",
     "text": [
      "F1 Score: 38.71%\n",
      "Classification Report: \n",
      "               precision    recall  f1-score   support\n",
      "\n",
      "           0       0.99      1.00      1.00     57476\n",
      "           1       1.00      0.24      0.39       525\n",
      "\n",
      "    accuracy                           0.99     58001\n",
      "   macro avg       1.00      0.62      0.69     58001\n",
      "weighted avg       0.99      0.99      0.99     58001\n",
      "\n"
     ]
    }
   ],
   "source": [
    "y_train_pred = dt_imb_model.predict(X_train)\n",
    "display_scores(y_train, y_train_pred)"
   ]
  },
  {
   "cell_type": "code",
   "execution_count": 72,
   "id": "b0a4335c",
   "metadata": {},
   "outputs": [
    {
     "data": {
      "image/png": "[encoded data removed]",
      "text/plain": [
       "<Figure size 360x360 with 1 Axes>"
      ]
     },
     "metadata": {
      "needs_background": "light"
     },
     "output_type": "display_data"
    }
   ],
   "source": [
    "# Predicted probability\n",
    "y_train_pred_proba = dt_imb_model.predict_proba(X_train)[:,1]\n",
    "\n",
    "# Plot the ROC curve\n",
    "draw_roc(y_train, y_train_pred_proba)"
   ]
  },
  {
   "cell_type": "code",
   "execution_count": 73,
   "id": "bc51e9cf",
   "metadata": {},
   "outputs": [
    {
     "name": "stdout",
     "output_type": "stream",
     "text": [
      "F1 Score: 38.27%\n",
      "Classification Report: \n",
      "               precision    recall  f1-score   support\n",
      "\n",
      "           0       0.99      1.00      1.00     14370\n",
      "           1       1.00      0.24      0.38       131\n",
      "\n",
      "    accuracy                           0.99     14501\n",
      "   macro avg       1.00      0.62      0.69     14501\n",
      "weighted avg       0.99      0.99      0.99     14501\n",
      "\n"
     ]
    }
   ],
   "source": [
    "y_test_pred = dt_imb_model.predict(X_test)\n",
    "display_scores(y_test, y_test_pred)\n"
   ]
  },
  {
   "cell_type": "code",
   "execution_count": 74,
   "id": "ebe53451",
   "metadata": {
    "scrolled": true
   },
   "outputs": [
    {
     "data": {
      "image/png": "[encoded data removed]",
      "text/plain": [
       "<Figure size 360x360 with 1 Axes>"
      ]
     },
     "metadata": {
      "needs_background": "light"
     },
     "output_type": "display_data"
    }
   ],
   "source": [
    "# Predicted probability\n",
    "y_test_pred_proba = dt_imb_model.predict_proba(X_test)[:,1]\n",
    "\n",
    "# Plot the ROC curve\n",
    "draw_roc(y_test, y_test_pred_proba)"
   ]
  },
  {
   "cell_type": "markdown",
   "id": "e456805e",
   "metadata": {},
   "source": [
    "## 3. XGBoost"
   ]
  },
  {
   "cell_type": "code",
   "execution_count": 75,
   "id": "88a34120",
   "metadata": {},
   "outputs": [
    {
     "name": "stdout",
     "output_type": "stream",
     "text": [
      "Fitting 3 folds for each of 6 candidates, totalling 18 fits\n"
     ]
    },
    {
     "data": {
      "text/html": [
       "<style>#sk-container-id-4 {color: black;background-color: white;}#sk-container-id-4 pre{padding: 0;}#sk-container-id-4 div.sk-toggleable {background-color: white;}#sk-container-id-4 label.sk-toggleable__label {cursor: pointer;display: block;width: 100%;margin-bottom: 0;padding: 0.3em;box-sizing: border-box;text-align: center;}#sk-container-id-4 label.sk-toggleable__label-arrow:before {content: \"▸\";float: left;margin-right: 0.25em;color: #696969;}#sk-container-id-4 label.sk-toggleable__label-arrow:hover:before {color: black;}#sk-container-id-4 div.sk-estimator:hover label.sk-toggleable__label-arrow:before {color: black;}#sk-container-id-4 div.sk-toggleable__content {max-height: 0;max-width: 0;overflow: hidden;text-align: left;background-color: #f0f8ff;}#sk-container-id-4 div.sk-toggleable__content pre {margin: 0.2em;color: black;border-radius: 0.25em;background-color: #f0f8ff;}#sk-container-id-4 input.sk-toggleable__control:checked~div.sk-toggleable__content {max-height: 200px;max-width: 100%;overflow: auto;}#sk-container-id-4 input.sk-toggleable__control:checked~label.sk-toggleable__label-arrow:before {content: \"▾\";}#sk-container-id-4 div.sk-estimator input.sk-toggleable__control:checked~label.sk-toggleable__label {background-color: #d4ebff;}#sk-container-id-4 div.sk-label input.sk-toggleable__control:checked~label.sk-toggleable__label {background-color: #d4ebff;}#sk-container-id-4 input.sk-hidden--visually {border: 0;clip: rect(1px 1px 1px 1px);clip: rect(1px, 1px, 1px, 1px);height: 1px;margin: -1px;overflow: hidden;padding: 0;position: absolute;width: 1px;}#sk-container-id-4 div.sk-estimator {font-family: monospace;background-color: #f0f8ff;border: 1px dotted black;border-radius: 0.25em;box-sizing: border-box;margin-bottom: 0.5em;}#sk-container-id-4 div.sk-estimator:hover {background-color: #d4ebff;}#sk-container-id-4 div.sk-parallel-item::after {content: \"\";width: 100%;border-bottom: 1px solid gray;flex-grow: 1;}#sk-container-id-4 div.sk-label:hover label.sk-toggleable__label {background-color: #d4ebff;}#sk-container-id-4 div.sk-serial::before {content: \"\";position: absolute;border-left: 1px solid gray;box-sizing: border-box;top: 0;bottom: 0;left: 50%;z-index: 0;}#sk-container-id-4 div.sk-serial {display: flex;flex-direction: column;align-items: center;background-color: white;padding-right: 0.2em;padding-left: 0.2em;position: relative;}#sk-container-id-4 div.sk-item {position: relative;z-index: 1;}#sk-container-id-4 div.sk-parallel {display: flex;align-items: stretch;justify-content: center;background-color: white;position: relative;}#sk-container-id-4 div.sk-item::before, #sk-container-id-4 div.sk-parallel-item::before {content: \"\";position: absolute;border-left: 1px solid gray;box-sizing: border-box;top: 0;bottom: 0;left: 50%;z-index: -1;}#sk-container-id-4 div.sk-parallel-item {display: flex;flex-direction: column;z-index: 1;position: relative;background-color: white;}#sk-container-id-4 div.sk-parallel-item:first-child::after {align-self: flex-end;width: 50%;}#sk-container-id-4 div.sk-parallel-item:last-child::after {align-self: flex-start;width: 50%;}#sk-container-id-4 div.sk-parallel-item:only-child::after {width: 0;}#sk-container-id-4 div.sk-dashed-wrapped {border: 1px dashed gray;margin: 0 0.4em 0.5em 0.4em;box-sizing: border-box;padding-bottom: 0.4em;background-color: white;}#sk-container-id-4 div.sk-label label {font-family: monospace;font-weight: bold;display: inline-block;line-height: 1.2em;}#sk-container-id-4 div.sk-label-container {text-align: center;}#sk-container-id-4 div.sk-container {/* jupyter's `normalize.less` sets `[hidden] { display: none; }` but bootstrap.min.css set `[hidden] { display: none !important; }` so we also need the `!important` here to be able to override the default hidden behavior on the sphinx rendered scikit-learn.org. See: https://github.com/scikit-learn/scikit-learn/issues/21755 */display: inline-block !important;position: relative;}#sk-container-id-4 div.sk-text-repr-fallback {display: none;}</style><div id=\"sk-container-id-4\" class=\"sk-top-container\"><div class=\"sk-text-repr-fallback\"><pre>GridSearchCV(cv=3,\n",
       "             estimator=XGBClassifier(base_score=None, booster=None,\n",
       "                                     callbacks=None, colsample_bylevel=None,\n",
       "                                     colsample_bynode=None,\n",
       "                                     colsample_bytree=None,\n",
       "                                     early_stopping_rounds=None,\n",
       "                                     enable_categorical=False, eval_metric=None,\n",
       "                                     gamma=None, gpu_id=None, grow_policy=None,\n",
       "                                     importance_type=None,\n",
       "                                     interaction_constraints=None,\n",
       "                                     learning_rate=None, max_bin=None,\n",
       "                                     max_ca...one,\n",
       "                                     max_delta_step=None, max_depth=2,\n",
       "                                     max_leaves=None, min_child_weight=None,\n",
       "                                     missing=nan, monotone_constraints=None,\n",
       "                                     n_estimators=200, n_jobs=None,\n",
       "                                     num_parallel_tree=None, predictor=None,\n",
       "                                     random_state=None, reg_alpha=None,\n",
       "                                     reg_lambda=None, ...),\n",
       "             param_grid={&#x27;learning_rate&#x27;: [0.2, 0.6],\n",
       "                         &#x27;subsample&#x27;: [0.3, 0.6, 0.9]},\n",
       "             return_train_score=True, scoring=&#x27;roc_auc&#x27;, verbose=1)</pre><b>In a Jupyter environment, please rerun this cell to show the HTML representation or trust the notebook. <br />On GitHub, the HTML representation is unable to render, please try loading this page with nbviewer.org.</b></div><div class=\"sk-container\" hidden><div class=\"sk-item sk-dashed-wrapped\"><div class=\"sk-label-container\"><div class=\"sk-label sk-toggleable\"><input class=\"sk-toggleable__control sk-hidden--visually\" id=\"sk-estimator-id-6\" type=\"checkbox\" ><label for=\"sk-estimator-id-6\" class=\"sk-toggleable__label sk-toggleable__label-arrow\">GridSearchCV</label><div class=\"sk-toggleable__content\"><pre>GridSearchCV(cv=3,\n",
       "             estimator=XGBClassifier(base_score=None, booster=None,\n",
       "                                     callbacks=None, colsample_bylevel=None,\n",
       "                                     colsample_bynode=None,\n",
       "                                     colsample_bytree=None,\n",
       "                                     early_stopping_rounds=None,\n",
       "                                     enable_categorical=False, eval_metric=None,\n",
       "                                     gamma=None, gpu_id=None, grow_policy=None,\n",
       "                                     importance_type=None,\n",
       "                                     interaction_constraints=None,\n",
       "                                     learning_rate=None, max_bin=None,\n",
       "                                     max_ca...one,\n",
       "                                     max_delta_step=None, max_depth=2,\n",
       "                                     max_leaves=None, min_child_weight=None,\n",
       "                                     missing=nan, monotone_constraints=None,\n",
       "                                     n_estimators=200, n_jobs=None,\n",
       "                                     num_parallel_tree=None, predictor=None,\n",
       "                                     random_state=None, reg_alpha=None,\n",
       "                                     reg_lambda=None, ...),\n",
       "             param_grid={&#x27;learning_rate&#x27;: [0.2, 0.6],\n",
       "                         &#x27;subsample&#x27;: [0.3, 0.6, 0.9]},\n",
       "             return_train_score=True, scoring=&#x27;roc_auc&#x27;, verbose=1)</pre></div></div></div><div class=\"sk-parallel\"><div class=\"sk-parallel-item\"><div class=\"sk-item\"><div class=\"sk-label-container\"><div class=\"sk-label sk-toggleable\"><input class=\"sk-toggleable__control sk-hidden--visually\" id=\"sk-estimator-id-7\" type=\"checkbox\" ><label for=\"sk-estimator-id-7\" class=\"sk-toggleable__label sk-toggleable__label-arrow\">estimator: XGBClassifier</label><div class=\"sk-toggleable__content\"><pre>XGBClassifier(base_score=None, booster=None, callbacks=None,\n",
       "              colsample_bylevel=None, colsample_bynode=None,\n",
       "              colsample_bytree=None, early_stopping_rounds=None,\n",
       "              enable_categorical=False, eval_metric=None, gamma=None,\n",
       "              gpu_id=None, grow_policy=None, importance_type=None,\n",
       "              interaction_constraints=None, learning_rate=None, max_bin=None,\n",
       "              max_cat_to_onehot=None, max_delta_step=None, max_depth=2,\n",
       "              max_leaves=None, min_child_weight=None, missing=nan,\n",
       "              monotone_constraints=None, n_estimators=200, n_jobs=None,\n",
       "              num_parallel_tree=None, predictor=None, random_state=None,\n",
       "              reg_alpha=None, reg_lambda=None, ...)</pre></div></div></div><div class=\"sk-serial\"><div class=\"sk-item\"><div class=\"sk-estimator sk-toggleable\"><input class=\"sk-toggleable__control sk-hidden--visually\" id=\"sk-estimator-id-8\" type=\"checkbox\" ><label for=\"sk-estimator-id-8\" class=\"sk-toggleable__label sk-toggleable__label-arrow\">XGBClassifier</label><div class=\"sk-toggleable__content\"><pre>XGBClassifier(base_score=None, booster=None, callbacks=None,\n",
       "              colsample_bylevel=None, colsample_bynode=None,\n",
       "              colsample_bytree=None, early_stopping_rounds=None,\n",
       "              enable_categorical=False, eval_metric=None, gamma=None,\n",
       "              gpu_id=None, grow_policy=None, importance_type=None,\n",
       "              interaction_constraints=None, learning_rate=None, max_bin=None,\n",
       "              max_cat_to_onehot=None, max_delta_step=None, max_depth=2,\n",
       "              max_leaves=None, min_child_weight=None, missing=nan,\n",
       "              monotone_constraints=None, n_estimators=200, n_jobs=None,\n",
       "              num_parallel_tree=None, predictor=None, random_state=None,\n",
       "              reg_alpha=None, reg_lambda=None, ...)</pre></div></div></div></div></div></div></div></div></div></div>"
      ],
      "text/plain": [
       "GridSearchCV(cv=3,\n",
       "             estimator=XGBClassifier(base_score=None, booster=None,\n",
       "                                     callbacks=None, colsample_bylevel=None,\n",
       "                                     colsample_bynode=None,\n",
       "                                     colsample_bytree=None,\n",
       "                                     early_stopping_rounds=None,\n",
       "                                     enable_categorical=False, eval_metric=None,\n",
       "                                     gamma=None, gpu_id=None, grow_policy=None,\n",
       "                                     importance_type=None,\n",
       "                                     interaction_constraints=None,\n",
       "                                     learning_rate=None, max_bin=None,\n",
       "                                     max_ca...one,\n",
       "                                     max_delta_step=None, max_depth=2,\n",
       "                                     max_leaves=None, min_child_weight=None,\n",
       "                                     missing=nan, monotone_constraints=None,\n",
       "                                     n_estimators=200, n_jobs=None,\n",
       "                                     num_parallel_tree=None, predictor=None,\n",
       "                                     random_state=None, reg_alpha=None,\n",
       "                                     reg_lambda=None, ...),\n",
       "             param_grid={'learning_rate': [0.2, 0.6],\n",
       "                         'subsample': [0.3, 0.6, 0.9]},\n",
       "             return_train_score=True, scoring='roc_auc', verbose=1)"
      ]
     },
     "execution_count": 75,
     "metadata": {},
     "output_type": "execute_result"
    }
   ],
   "source": [
    "# creating a KFold object \n",
    "folds = 3\n",
    "\n",
    "# specify range of hyperparameters\n",
    "param_grid = {'learning_rate': [0.2, 0.6], \n",
    "             'subsample': [0.3, 0.6, 0.9]}          \n",
    "\n",
    "\n",
    "# specify model\n",
    "xgb_model = XGBClassifier(max_depth=2, n_estimators=200)\n",
    "\n",
    "# set up GridSearchCV()\n",
    "model_cv = GridSearchCV(estimator = xgb_model, \n",
    "                        param_grid = param_grid, \n",
    "                        scoring= 'roc_auc', \n",
    "                        cv = folds, \n",
    "                        verbose = 1,\n",
    "                        return_train_score=True)      \n",
    "\n",
    "# fit the model\n",
    "model_cv.fit(X_train, y_train)"
   ]
  },
  {
   "cell_type": "code",
   "execution_count": 76,
   "id": "26569c38",
   "metadata": {},
   "outputs": [
    {
     "data": {
      "text/html": [
       "<div>\n",
       "<style scoped>\n",
       "    .dataframe tbody tr th:only-of-type {\n",
       "        vertical-align: middle;\n",
       "    }\n",
       "\n",
       "    .dataframe tbody tr th {\n",
       "        vertical-align: top;\n",
       "    }\n",
       "\n",
       "    .dataframe thead th {\n",
       "        text-align: right;\n",
       "    }\n",
       "</style>\n",
       "<table border=\"1\" class=\"dataframe\">\n",
       "  <thead>\n",
       "    <tr style=\"text-align: right;\">\n",
       "      <th></th>\n",
       "      <th>mean_fit_time</th>\n",
       "      <th>std_fit_time</th>\n",
       "      <th>mean_score_time</th>\n",
       "      <th>std_score_time</th>\n",
       "      <th>param_learning_rate</th>\n",
       "      <th>param_subsample</th>\n",
       "      <th>params</th>\n",
       "      <th>split0_test_score</th>\n",
       "      <th>split1_test_score</th>\n",
       "      <th>split2_test_score</th>\n",
       "      <th>mean_test_score</th>\n",
       "      <th>std_test_score</th>\n",
       "      <th>rank_test_score</th>\n",
       "      <th>split0_train_score</th>\n",
       "      <th>split1_train_score</th>\n",
       "      <th>split2_train_score</th>\n",
       "      <th>mean_train_score</th>\n",
       "      <th>std_train_score</th>\n",
       "    </tr>\n",
       "  </thead>\n",
       "  <tbody>\n",
       "    <tr>\n",
       "      <th>0</th>\n",
       "      <td>1.754314</td>\n",
       "      <td>0.039311</td>\n",
       "      <td>0.028883</td>\n",
       "      <td>0.002514</td>\n",
       "      <td>0.2</td>\n",
       "      <td>0.3</td>\n",
       "      <td>{'learning_rate': 0.2, 'subsample': 0.3}</td>\n",
       "      <td>0.688945</td>\n",
       "      <td>0.655745</td>\n",
       "      <td>0.657325</td>\n",
       "      <td>0.667338</td>\n",
       "      <td>0.015292</td>\n",
       "      <td>4</td>\n",
       "      <td>0.837386</td>\n",
       "      <td>0.855307</td>\n",
       "      <td>0.848394</td>\n",
       "      <td>0.847029</td>\n",
       "      <td>0.007380</td>\n",
       "    </tr>\n",
       "    <tr>\n",
       "      <th>1</th>\n",
       "      <td>2.229350</td>\n",
       "      <td>0.069120</td>\n",
       "      <td>0.033010</td>\n",
       "      <td>0.006146</td>\n",
       "      <td>0.2</td>\n",
       "      <td>0.6</td>\n",
       "      <td>{'learning_rate': 0.2, 'subsample': 0.6}</td>\n",
       "      <td>0.696876</td>\n",
       "      <td>0.652522</td>\n",
       "      <td>0.679992</td>\n",
       "      <td>0.676463</td>\n",
       "      <td>0.018279</td>\n",
       "      <td>2</td>\n",
       "      <td>0.860365</td>\n",
       "      <td>0.873947</td>\n",
       "      <td>0.873031</td>\n",
       "      <td>0.869114</td>\n",
       "      <td>0.006198</td>\n",
       "    </tr>\n",
       "    <tr>\n",
       "      <th>2</th>\n",
       "      <td>2.359791</td>\n",
       "      <td>0.050513</td>\n",
       "      <td>0.032195</td>\n",
       "      <td>0.002393</td>\n",
       "      <td>0.2</td>\n",
       "      <td>0.9</td>\n",
       "      <td>{'learning_rate': 0.2, 'subsample': 0.9}</td>\n",
       "      <td>0.678302</td>\n",
       "      <td>0.663224</td>\n",
       "      <td>0.689326</td>\n",
       "      <td>0.676951</td>\n",
       "      <td>0.010699</td>\n",
       "      <td>1</td>\n",
       "      <td>0.861514</td>\n",
       "      <td>0.885982</td>\n",
       "      <td>0.879451</td>\n",
       "      <td>0.875649</td>\n",
       "      <td>0.010345</td>\n",
       "    </tr>\n",
       "    <tr>\n",
       "      <th>3</th>\n",
       "      <td>2.135914</td>\n",
       "      <td>0.036532</td>\n",
       "      <td>0.031720</td>\n",
       "      <td>0.001888</td>\n",
       "      <td>0.6</td>\n",
       "      <td>0.3</td>\n",
       "      <td>{'learning_rate': 0.6, 'subsample': 0.3}</td>\n",
       "      <td>0.670166</td>\n",
       "      <td>0.625979</td>\n",
       "      <td>0.628313</td>\n",
       "      <td>0.641486</td>\n",
       "      <td>0.020302</td>\n",
       "      <td>6</td>\n",
       "      <td>0.862907</td>\n",
       "      <td>0.867326</td>\n",
       "      <td>0.864057</td>\n",
       "      <td>0.864763</td>\n",
       "      <td>0.001872</td>\n",
       "    </tr>\n",
       "    <tr>\n",
       "      <th>4</th>\n",
       "      <td>2.498220</td>\n",
       "      <td>0.064530</td>\n",
       "      <td>0.031295</td>\n",
       "      <td>0.004149</td>\n",
       "      <td>0.6</td>\n",
       "      <td>0.6</td>\n",
       "      <td>{'learning_rate': 0.6, 'subsample': 0.6}</td>\n",
       "      <td>0.698725</td>\n",
       "      <td>0.682589</td>\n",
       "      <td>0.643789</td>\n",
       "      <td>0.675034</td>\n",
       "      <td>0.023055</td>\n",
       "      <td>3</td>\n",
       "      <td>0.912834</td>\n",
       "      <td>0.918519</td>\n",
       "      <td>0.915816</td>\n",
       "      <td>0.915723</td>\n",
       "      <td>0.002322</td>\n",
       "    </tr>\n",
       "    <tr>\n",
       "      <th>5</th>\n",
       "      <td>2.414456</td>\n",
       "      <td>0.049060</td>\n",
       "      <td>0.033966</td>\n",
       "      <td>0.003458</td>\n",
       "      <td>0.6</td>\n",
       "      <td>0.9</td>\n",
       "      <td>{'learning_rate': 0.6, 'subsample': 0.9}</td>\n",
       "      <td>0.680386</td>\n",
       "      <td>0.659286</td>\n",
       "      <td>0.655676</td>\n",
       "      <td>0.665116</td>\n",
       "      <td>0.010898</td>\n",
       "      <td>5</td>\n",
       "      <td>0.921461</td>\n",
       "      <td>0.931262</td>\n",
       "      <td>0.926317</td>\n",
       "      <td>0.926347</td>\n",
       "      <td>0.004001</td>\n",
       "    </tr>\n",
       "  </tbody>\n",
       "</table>\n",
       "</div>"
      ],
      "text/plain": [
       "   mean_fit_time  std_fit_time  mean_score_time  std_score_time  \\\n",
       "0       1.754314      0.039311         0.028883        0.002514   \n",
       "1       2.229350      0.069120         0.033010        0.006146   \n",
       "2       2.359791      0.050513         0.032195        0.002393   \n",
       "3       2.135914      0.036532         0.031720        0.001888   \n",
       "4       2.498220      0.064530         0.031295        0.004149   \n",
       "5       2.414456      0.049060         0.033966        0.003458   \n",
       "\n",
       "  param_learning_rate param_subsample  \\\n",
       "0                 0.2             0.3   \n",
       "1                 0.2             0.6   \n",
       "2                 0.2             0.9   \n",
       "3                 0.6             0.3   \n",
       "4                 0.6             0.6   \n",
       "5                 0.6             0.9   \n",
       "\n",
       "                                     params  split0_test_score  \\\n",
       "0  {'learning_rate': 0.2, 'subsample': 0.3}           0.688945   \n",
       "1  {'learning_rate': 0.2, 'subsample': 0.6}           0.696876   \n",
       "2  {'learning_rate': 0.2, 'subsample': 0.9}           0.678302   \n",
       "3  {'learning_rate': 0.6, 'subsample': 0.3}           0.670166   \n",
       "4  {'learning_rate': 0.6, 'subsample': 0.6}           0.698725   \n",
       "5  {'learning_rate': 0.6, 'subsample': 0.9}           0.680386   \n",
       "\n",
       "   split1_test_score  split2_test_score  mean_test_score  std_test_score  \\\n",
       "0           0.655745           0.657325         0.667338        0.015292   \n",
       "1           0.652522           0.679992         0.676463        0.018279   \n",
       "2           0.663224           0.689326         0.676951        0.010699   \n",
       "3           0.625979           0.628313         0.641486        0.020302   \n",
       "4           0.682589           0.643789         0.675034        0.023055   \n",
       "5           0.659286           0.655676         0.665116        0.010898   \n",
       "\n",
       "   rank_test_score  split0_train_score  split1_train_score  \\\n",
       "0                4            0.837386            0.855307   \n",
       "1                2            0.860365            0.873947   \n",
       "2                1            0.861514            0.885982   \n",
       "3                6            0.862907            0.867326   \n",
       "4                3            0.912834            0.918519   \n",
       "5                5            0.921461            0.931262   \n",
       "\n",
       "   split2_train_score  mean_train_score  std_train_score  \n",
       "0            0.848394          0.847029         0.007380  \n",
       "1            0.873031          0.869114         0.006198  \n",
       "2            0.879451          0.875649         0.010345  \n",
       "3            0.864057          0.864763         0.001872  \n",
       "4            0.915816          0.915723         0.002322  \n",
       "5            0.926317          0.926347         0.004001  "
      ]
     },
     "execution_count": 76,
     "metadata": {},
     "output_type": "execute_result"
    }
   ],
   "source": [
    "# cv results\n",
    "cv_results = pd.DataFrame(model_cv.cv_results_)\n",
    "cv_results\n"
   ]
  },
  {
   "cell_type": "code",
   "execution_count": 77,
   "id": "e2d9968c",
   "metadata": {},
   "outputs": [
    {
     "name": "stdout",
     "output_type": "stream",
     "text": [
      "Best roc auc score :  0.6769507934361338\n",
      "XGBClassifier(base_score=0.5, booster='gbtree', callbacks=None,\n",
      "              colsample_bylevel=1, colsample_bynode=1, colsample_bytree=1,\n",
      "              early_stopping_rounds=None, enable_categorical=False,\n",
      "              eval_metric=None, gamma=0, gpu_id=-1, grow_policy='depthwise',\n",
      "              importance_type=None, interaction_constraints='',\n",
      "              learning_rate=0.2, max_bin=256, max_cat_to_onehot=4,\n",
      "              max_delta_step=0, max_depth=2, max_leaves=0, min_child_weight=1,\n",
      "              missing=nan, monotone_constraints='()', n_estimators=200,\n",
      "              n_jobs=0, num_parallel_tree=1, predictor='auto', random_state=0,\n",
      "              reg_alpha=0, reg_lambda=1, ...)\n"
     ]
    }
   ],
   "source": [
    "# Printing the optimal score and hyperparameters\n",
    "print(\"Best roc auc score : \", model_cv.best_score_)\n",
    "print(model_cv.best_estimator_)"
   ]
  },
  {
   "cell_type": "code",
   "execution_count": 78,
   "id": "8435686c",
   "metadata": {},
   "outputs": [
    {
     "data": {
      "text/plain": [
       "{'learning_rate': 0.2, 'subsample': 0.9}"
      ]
     },
     "execution_count": 78,
     "metadata": {},
     "output_type": "execute_result"
    }
   ],
   "source": [
    "# Printing best params\n",
    "model_cv.best_params_"
   ]
  },
  {
   "cell_type": "code",
   "execution_count": 79,
   "id": "fe81bfb3",
   "metadata": {
    "scrolled": true
   },
   "outputs": [
    {
     "name": "stdout",
     "output_type": "stream",
     "text": [
      "[22:31:48] WARNING: C:/Users/Administrator/workspace/xgboost-win64_release_1.6.0/src/learner.cc:627: \n",
      "Parameters: { \"params\" } might not be used.\n",
      "\n",
      "  This could be a false alarm, with some parameters getting used by language bindings but\n",
      "  then being mistakenly passed down to XGBoost core, or some parameter actually being used\n",
      "  but getting flagged wrongly here. Please open an issue if you find any such cases.\n",
      "\n",
      "\n"
     ]
    },
    {
     "data": {
      "text/html": [
       "<style>#sk-container-id-5 {color: black;background-color: white;}#sk-container-id-5 pre{padding: 0;}#sk-container-id-5 div.sk-toggleable {background-color: white;}#sk-container-id-5 label.sk-toggleable__label {cursor: pointer;display: block;width: 100%;margin-bottom: 0;padding: 0.3em;box-sizing: border-box;text-align: center;}#sk-container-id-5 label.sk-toggleable__label-arrow:before {content: \"▸\";float: left;margin-right: 0.25em;color: #696969;}#sk-container-id-5 label.sk-toggleable__label-arrow:hover:before {color: black;}#sk-container-id-5 div.sk-estimator:hover label.sk-toggleable__label-arrow:before {color: black;}#sk-container-id-5 div.sk-toggleable__content {max-height: 0;max-width: 0;overflow: hidden;text-align: left;background-color: #f0f8ff;}#sk-container-id-5 div.sk-toggleable__content pre {margin: 0.2em;color: black;border-radius: 0.25em;background-color: #f0f8ff;}#sk-container-id-5 input.sk-toggleable__control:checked~div.sk-toggleable__content {max-height: 200px;max-width: 100%;overflow: auto;}#sk-container-id-5 input.sk-toggleable__control:checked~label.sk-toggleable__label-arrow:before {content: \"▾\";}#sk-container-id-5 div.sk-estimator input.sk-toggleable__control:checked~label.sk-toggleable__label {background-color: #d4ebff;}#sk-container-id-5 div.sk-label input.sk-toggleable__control:checked~label.sk-toggleable__label {background-color: #d4ebff;}#sk-container-id-5 input.sk-hidden--visually {border: 0;clip: rect(1px 1px 1px 1px);clip: rect(1px, 1px, 1px, 1px);height: 1px;margin: -1px;overflow: hidden;padding: 0;position: absolute;width: 1px;}#sk-container-id-5 div.sk-estimator {font-family: monospace;background-color: #f0f8ff;border: 1px dotted black;border-radius: 0.25em;box-sizing: border-box;margin-bottom: 0.5em;}#sk-container-id-5 div.sk-estimator:hover {background-color: #d4ebff;}#sk-container-id-5 div.sk-parallel-item::after {content: \"\";width: 100%;border-bottom: 1px solid gray;flex-grow: 1;}#sk-container-id-5 div.sk-label:hover label.sk-toggleable__label {background-color: #d4ebff;}#sk-container-id-5 div.sk-serial::before {content: \"\";position: absolute;border-left: 1px solid gray;box-sizing: border-box;top: 0;bottom: 0;left: 50%;z-index: 0;}#sk-container-id-5 div.sk-serial {display: flex;flex-direction: column;align-items: center;background-color: white;padding-right: 0.2em;padding-left: 0.2em;position: relative;}#sk-container-id-5 div.sk-item {position: relative;z-index: 1;}#sk-container-id-5 div.sk-parallel {display: flex;align-items: stretch;justify-content: center;background-color: white;position: relative;}#sk-container-id-5 div.sk-item::before, #sk-container-id-5 div.sk-parallel-item::before {content: \"\";position: absolute;border-left: 1px solid gray;box-sizing: border-box;top: 0;bottom: 0;left: 50%;z-index: -1;}#sk-container-id-5 div.sk-parallel-item {display: flex;flex-direction: column;z-index: 1;position: relative;background-color: white;}#sk-container-id-5 div.sk-parallel-item:first-child::after {align-self: flex-end;width: 50%;}#sk-container-id-5 div.sk-parallel-item:last-child::after {align-self: flex-start;width: 50%;}#sk-container-id-5 div.sk-parallel-item:only-child::after {width: 0;}#sk-container-id-5 div.sk-dashed-wrapped {border: 1px dashed gray;margin: 0 0.4em 0.5em 0.4em;box-sizing: border-box;padding-bottom: 0.4em;background-color: white;}#sk-container-id-5 div.sk-label label {font-family: monospace;font-weight: bold;display: inline-block;line-height: 1.2em;}#sk-container-id-5 div.sk-label-container {text-align: center;}#sk-container-id-5 div.sk-container {/* jupyter's `normalize.less` sets `[hidden] { display: none; }` but bootstrap.min.css set `[hidden] { display: none !important; }` so we also need the `!important` here to be able to override the default hidden behavior on the sphinx rendered scikit-learn.org. See: https://github.com/scikit-learn/scikit-learn/issues/21755 */display: inline-block !important;position: relative;}#sk-container-id-5 div.sk-text-repr-fallback {display: none;}</style><div id=\"sk-container-id-5\" class=\"sk-top-container\"><div class=\"sk-text-repr-fallback\"><pre>XGBClassifier(base_score=0.5, booster=&#x27;gbtree&#x27;, callbacks=None,\n",
       "              colsample_bylevel=1, colsample_bynode=1, colsample_bytree=1,\n",
       "              early_stopping_rounds=None, enable_categorical=False,\n",
       "              eval_metric=None, gamma=0, gpu_id=-1, grow_policy=&#x27;depthwise&#x27;,\n",
       "              importance_type=None, interaction_constraints=&#x27;&#x27;,\n",
       "              learning_rate=0.300000012, max_bin=256, max_cat_to_onehot=4,\n",
       "              max_delta_step=0, max_depth=6, max_leaves=0, min_child_weight=1,\n",
       "              missing=nan, monotone_constraints=&#x27;()&#x27;, n_estimators=100,\n",
       "              n_jobs=0, num_parallel_tree=1,\n",
       "              params={&#x27;learning_rate&#x27;: 0.6, &#x27;max_depth&#x27;: 2, &#x27;n_estimators&#x27;: 200,\n",
       "                      &#x27;objective&#x27;: &#x27;binary:logistic&#x27;, &#x27;subsample&#x27;: 0.9},\n",
       "              predictor=&#x27;auto&#x27;, random_state=0, reg_alpha=0, ...)</pre><b>In a Jupyter environment, please rerun this cell to show the HTML representation or trust the notebook. <br />On GitHub, the HTML representation is unable to render, please try loading this page with nbviewer.org.</b></div><div class=\"sk-container\" hidden><div class=\"sk-item\"><div class=\"sk-estimator sk-toggleable\"><input class=\"sk-toggleable__control sk-hidden--visually\" id=\"sk-estimator-id-9\" type=\"checkbox\" checked><label for=\"sk-estimator-id-9\" class=\"sk-toggleable__label sk-toggleable__label-arrow\">XGBClassifier</label><div class=\"sk-toggleable__content\"><pre>XGBClassifier(base_score=0.5, booster=&#x27;gbtree&#x27;, callbacks=None,\n",
       "              colsample_bylevel=1, colsample_bynode=1, colsample_bytree=1,\n",
       "              early_stopping_rounds=None, enable_categorical=False,\n",
       "              eval_metric=None, gamma=0, gpu_id=-1, grow_policy=&#x27;depthwise&#x27;,\n",
       "              importance_type=None, interaction_constraints=&#x27;&#x27;,\n",
       "              learning_rate=0.300000012, max_bin=256, max_cat_to_onehot=4,\n",
       "              max_delta_step=0, max_depth=6, max_leaves=0, min_child_weight=1,\n",
       "              missing=nan, monotone_constraints=&#x27;()&#x27;, n_estimators=100,\n",
       "              n_jobs=0, num_parallel_tree=1,\n",
       "              params={&#x27;learning_rate&#x27;: 0.6, &#x27;max_depth&#x27;: 2, &#x27;n_estimators&#x27;: 200,\n",
       "                      &#x27;objective&#x27;: &#x27;binary:logistic&#x27;, &#x27;subsample&#x27;: 0.9},\n",
       "              predictor=&#x27;auto&#x27;, random_state=0, reg_alpha=0, ...)</pre></div></div></div></div></div>"
      ],
      "text/plain": [
       "XGBClassifier(base_score=0.5, booster='gbtree', callbacks=None,\n",
       "              colsample_bylevel=1, colsample_bynode=1, colsample_bytree=1,\n",
       "              early_stopping_rounds=None, enable_categorical=False,\n",
       "              eval_metric=None, gamma=0, gpu_id=-1, grow_policy='depthwise',\n",
       "              importance_type=None, interaction_constraints='',\n",
       "              learning_rate=0.300000012, max_bin=256, max_cat_to_onehot=4,\n",
       "              max_delta_step=0, max_depth=6, max_leaves=0, min_child_weight=1,\n",
       "              missing=nan, monotone_constraints='()', n_estimators=100,\n",
       "              n_jobs=0, num_parallel_tree=1,\n",
       "              params={'learning_rate': 0.6, 'max_depth': 2, 'n_estimators': 200,\n",
       "                      'objective': 'binary:logistic', 'subsample': 0.9},\n",
       "              predictor='auto', random_state=0, reg_alpha=0, ...)"
      ]
     },
     "execution_count": 79,
     "metadata": {},
     "output_type": "execute_result"
    }
   ],
   "source": [
    "# Printing best params\n",
    "params = {'learning_rate': 0.6,\n",
    "          'max_depth': 2, \n",
    "          'n_estimators':200,\n",
    "          'subsample':0.9,\n",
    "          'objective':'binary:logistic'}\n",
    "\n",
    "# fit model on training data\n",
    "xgb_imb_model = XGBClassifier(params = params)\n",
    "xgb_imb_model.fit(X_train, y_train)"
   ]
  },
  {
   "cell_type": "code",
   "execution_count": 80,
   "id": "aff928d0",
   "metadata": {},
   "outputs": [
    {
     "name": "stdout",
     "output_type": "stream",
     "text": [
      "F1 Score: 41.39%\n",
      "Classification Report: \n",
      "               precision    recall  f1-score   support\n",
      "\n",
      "           0       0.99      1.00      1.00     57476\n",
      "           1       1.00      0.26      0.41       525\n",
      "\n",
      "    accuracy                           0.99     58001\n",
      "   macro avg       1.00      0.63      0.71     58001\n",
      "weighted avg       0.99      0.99      0.99     58001\n",
      "\n"
     ]
    }
   ],
   "source": [
    "# Predictions on the train set\n",
    "y_train_pred = xgb_imb_model.predict(X_train)\n",
    "\n",
    "display_scores(y_train, y_train_pred)"
   ]
  },
  {
   "cell_type": "code",
   "execution_count": 81,
   "id": "49eeb1f4",
   "metadata": {},
   "outputs": [
    {
     "data": {
      "image/png": "[encoded data removed]",
      "text/plain": [
       "<Figure size 360x360 with 1 Axes>"
      ]
     },
     "metadata": {
      "needs_background": "light"
     },
     "output_type": "display_data"
    }
   ],
   "source": [
    "# Predicted probability\n",
    "y_train_pred_proba_imb_xgb = xgb_imb_model.predict_proba(X_train)[:,1]\n",
    "\n",
    "# Plot the ROC curve\n",
    "draw_roc(y_train, y_train_pred_proba_imb_xgb)"
   ]
  },
  {
   "cell_type": "code",
   "execution_count": 82,
   "id": "bb467db5",
   "metadata": {},
   "outputs": [
    {
     "name": "stdout",
     "output_type": "stream",
     "text": [
      "F1 Score: 39.26%\n",
      "Classification Report: \n",
      "               precision    recall  f1-score   support\n",
      "\n",
      "           0       0.99      1.00      1.00     14370\n",
      "           1       1.00      0.24      0.39       131\n",
      "\n",
      "    accuracy                           0.99     14501\n",
      "   macro avg       1.00      0.62      0.69     14501\n",
      "weighted avg       0.99      0.99      0.99     14501\n",
      "\n"
     ]
    }
   ],
   "source": [
    "# Predictions on the test set\n",
    "y_test_pred = xgb_imb_model.predict(X_test)\n",
    "display_scores(y_test, y_test_pred)"
   ]
  },
  {
   "cell_type": "code",
   "execution_count": 93,
   "id": "382d140d",
   "metadata": {
    "scrolled": true
   },
   "outputs": [
    {
     "data": {
      "image/png": "[encoded data removed]",
      "text/plain": [
       "<Figure size 360x360 with 1 Axes>"
      ]
     },
     "metadata": {
      "needs_background": "light"
     },
     "output_type": "display_data"
    }
   ],
   "source": [
    "#### Predicted probability\n",
    "y_test_pred_proba = xgb_imb_model.predict_proba(X_test)[:,1]\n",
    "\n",
    "# Plot the ROC curve\n",
    "draw_roc(y_test, y_test_pred_proba)"
   ]
  },
  {
   "cell_type": "markdown",
   "id": "7e6265d0",
   "metadata": {},
   "source": [
    "## 4. Random Forest Classifier"
   ]
  },
  {
   "cell_type": "code",
   "execution_count": 94,
   "id": "d56705aa",
   "metadata": {
    "scrolled": true
   },
   "outputs": [
    {
     "name": "stdout",
     "output_type": "stream",
     "text": [
      "Fitting 3 folds for each of 8 candidates, totalling 24 fits\n"
     ]
    },
    {
     "data": {
      "text/html": [
       "<style>#sk-container-id-8 {color: black;background-color: white;}#sk-container-id-8 pre{padding: 0;}#sk-container-id-8 div.sk-toggleable {background-color: white;}#sk-container-id-8 label.sk-toggleable__label {cursor: pointer;display: block;width: 100%;margin-bottom: 0;padding: 0.3em;box-sizing: border-box;text-align: center;}#sk-container-id-8 label.sk-toggleable__label-arrow:before {content: \"▸\";float: left;margin-right: 0.25em;color: #696969;}#sk-container-id-8 label.sk-toggleable__label-arrow:hover:before {color: black;}#sk-container-id-8 div.sk-estimator:hover label.sk-toggleable__label-arrow:before {color: black;}#sk-container-id-8 div.sk-toggleable__content {max-height: 0;max-width: 0;overflow: hidden;text-align: left;background-color: #f0f8ff;}#sk-container-id-8 div.sk-toggleable__content pre {margin: 0.2em;color: black;border-radius: 0.25em;background-color: #f0f8ff;}#sk-container-id-8 input.sk-toggleable__control:checked~div.sk-toggleable__content {max-height: 200px;max-width: 100%;overflow: auto;}#sk-container-id-8 input.sk-toggleable__control:checked~label.sk-toggleable__label-arrow:before {content: \"▾\";}#sk-container-id-8 div.sk-estimator input.sk-toggleable__control:checked~label.sk-toggleable__label {background-color: #d4ebff;}#sk-container-id-8 div.sk-label input.sk-toggleable__control:checked~label.sk-toggleable__label {background-color: #d4ebff;}#sk-container-id-8 input.sk-hidden--visually {border: 0;clip: rect(1px 1px 1px 1px);clip: rect(1px, 1px, 1px, 1px);height: 1px;margin: -1px;overflow: hidden;padding: 0;position: absolute;width: 1px;}#sk-container-id-8 div.sk-estimator {font-family: monospace;background-color: #f0f8ff;border: 1px dotted black;border-radius: 0.25em;box-sizing: border-box;margin-bottom: 0.5em;}#sk-container-id-8 div.sk-estimator:hover {background-color: #d4ebff;}#sk-container-id-8 div.sk-parallel-item::after {content: \"\";width: 100%;border-bottom: 1px solid gray;flex-grow: 1;}#sk-container-id-8 div.sk-label:hover label.sk-toggleable__label {background-color: #d4ebff;}#sk-container-id-8 div.sk-serial::before {content: \"\";position: absolute;border-left: 1px solid gray;box-sizing: border-box;top: 0;bottom: 0;left: 50%;z-index: 0;}#sk-container-id-8 div.sk-serial {display: flex;flex-direction: column;align-items: center;background-color: white;padding-right: 0.2em;padding-left: 0.2em;position: relative;}#sk-container-id-8 div.sk-item {position: relative;z-index: 1;}#sk-container-id-8 div.sk-parallel {display: flex;align-items: stretch;justify-content: center;background-color: white;position: relative;}#sk-container-id-8 div.sk-item::before, #sk-container-id-8 div.sk-parallel-item::before {content: \"\";position: absolute;border-left: 1px solid gray;box-sizing: border-box;top: 0;bottom: 0;left: 50%;z-index: -1;}#sk-container-id-8 div.sk-parallel-item {display: flex;flex-direction: column;z-index: 1;position: relative;background-color: white;}#sk-container-id-8 div.sk-parallel-item:first-child::after {align-self: flex-end;width: 50%;}#sk-container-id-8 div.sk-parallel-item:last-child::after {align-self: flex-start;width: 50%;}#sk-container-id-8 div.sk-parallel-item:only-child::after {width: 0;}#sk-container-id-8 div.sk-dashed-wrapped {border: 1px dashed gray;margin: 0 0.4em 0.5em 0.4em;box-sizing: border-box;padding-bottom: 0.4em;background-color: white;}#sk-container-id-8 div.sk-label label {font-family: monospace;font-weight: bold;display: inline-block;line-height: 1.2em;}#sk-container-id-8 div.sk-label-container {text-align: center;}#sk-container-id-8 div.sk-container {/* jupyter's `normalize.less` sets `[hidden] { display: none; }` but bootstrap.min.css set `[hidden] { display: none !important; }` so we also need the `!important` here to be able to override the default hidden behavior on the sphinx rendered scikit-learn.org. See: https://github.com/scikit-learn/scikit-learn/issues/21755 */display: inline-block !important;position: relative;}#sk-container-id-8 div.sk-text-repr-fallback {display: none;}</style><div id=\"sk-container-id-8\" class=\"sk-top-container\"><div class=\"sk-text-repr-fallback\"><pre>GridSearchCV(cv=3, estimator=RandomForestClassifier(), n_jobs=-1,\n",
       "             param_grid={&#x27;max_depth&#x27;: range(5, 15, 5),\n",
       "                         &#x27;min_samples_leaf&#x27;: range(50, 150, 50),\n",
       "                         &#x27;min_samples_split&#x27;: range(50, 150, 50)},\n",
       "             scoring=&#x27;roc_auc&#x27;, verbose=1)</pre><b>In a Jupyter environment, please rerun this cell to show the HTML representation or trust the notebook. <br />On GitHub, the HTML representation is unable to render, please try loading this page with nbviewer.org.</b></div><div class=\"sk-container\" hidden><div class=\"sk-item sk-dashed-wrapped\"><div class=\"sk-label-container\"><div class=\"sk-label sk-toggleable\"><input class=\"sk-toggleable__control sk-hidden--visually\" id=\"sk-estimator-id-14\" type=\"checkbox\" ><label for=\"sk-estimator-id-14\" class=\"sk-toggleable__label sk-toggleable__label-arrow\">GridSearchCV</label><div class=\"sk-toggleable__content\"><pre>GridSearchCV(cv=3, estimator=RandomForestClassifier(), n_jobs=-1,\n",
       "             param_grid={&#x27;max_depth&#x27;: range(5, 15, 5),\n",
       "                         &#x27;min_samples_leaf&#x27;: range(50, 150, 50),\n",
       "                         &#x27;min_samples_split&#x27;: range(50, 150, 50)},\n",
       "             scoring=&#x27;roc_auc&#x27;, verbose=1)</pre></div></div></div><div class=\"sk-parallel\"><div class=\"sk-parallel-item\"><div class=\"sk-item\"><div class=\"sk-label-container\"><div class=\"sk-label sk-toggleable\"><input class=\"sk-toggleable__control sk-hidden--visually\" id=\"sk-estimator-id-15\" type=\"checkbox\" ><label for=\"sk-estimator-id-15\" class=\"sk-toggleable__label sk-toggleable__label-arrow\">estimator: RandomForestClassifier</label><div class=\"sk-toggleable__content\"><pre>RandomForestClassifier()</pre></div></div></div><div class=\"sk-serial\"><div class=\"sk-item\"><div class=\"sk-estimator sk-toggleable\"><input class=\"sk-toggleable__control sk-hidden--visually\" id=\"sk-estimator-id-16\" type=\"checkbox\" ><label for=\"sk-estimator-id-16\" class=\"sk-toggleable__label sk-toggleable__label-arrow\">RandomForestClassifier</label><div class=\"sk-toggleable__content\"><pre>RandomForestClassifier()</pre></div></div></div></div></div></div></div></div></div></div>"
      ],
      "text/plain": [
       "GridSearchCV(cv=3, estimator=RandomForestClassifier(), n_jobs=-1,\n",
       "             param_grid={'max_depth': range(5, 15, 5),\n",
       "                         'min_samples_leaf': range(50, 150, 50),\n",
       "                         'min_samples_split': range(50, 150, 50)},\n",
       "             scoring='roc_auc', verbose=1)"
      ]
     },
     "execution_count": 94,
     "metadata": {},
     "output_type": "execute_result"
    }
   ],
   "source": [
    "# Create the parameter grid \n",
    "param_grid = {\n",
    "    'max_depth': range(5, 15, 5),\n",
    "    'min_samples_leaf': range(50, 150, 50),\n",
    "    'min_samples_split': range(50, 150, 50),\n",
    "}\n",
    "\n",
    "\n",
    "# Instantiate the grid search model\n",
    "rf_model = RandomForestClassifier()\n",
    "\n",
    "grid_search = GridSearchCV(estimator = rf_model, \n",
    "                           param_grid = param_grid, \n",
    "                           scoring= 'roc_auc',\n",
    "                           cv = 3, \n",
    "                           n_jobs=-1,\n",
    "                           verbose = 1)\n",
    "\n",
    "# Fit the grid search to the data\n",
    "grid_search.fit(X_train, y_train)"
   ]
  },
  {
   "cell_type": "code",
   "execution_count": 95,
   "id": "d214b59c",
   "metadata": {},
   "outputs": [
    {
     "data": {
      "text/html": [
       "<div>\n",
       "<style scoped>\n",
       "    .dataframe tbody tr th:only-of-type {\n",
       "        vertical-align: middle;\n",
       "    }\n",
       "\n",
       "    .dataframe tbody tr th {\n",
       "        vertical-align: top;\n",
       "    }\n",
       "\n",
       "    .dataframe thead th {\n",
       "        text-align: right;\n",
       "    }\n",
       "</style>\n",
       "<table border=\"1\" class=\"dataframe\">\n",
       "  <thead>\n",
       "    <tr style=\"text-align: right;\">\n",
       "      <th></th>\n",
       "      <th>mean_fit_time</th>\n",
       "      <th>std_fit_time</th>\n",
       "      <th>mean_score_time</th>\n",
       "      <th>std_score_time</th>\n",
       "      <th>param_max_depth</th>\n",
       "      <th>param_min_samples_leaf</th>\n",
       "      <th>param_min_samples_split</th>\n",
       "      <th>params</th>\n",
       "      <th>split0_test_score</th>\n",
       "      <th>split1_test_score</th>\n",
       "      <th>split2_test_score</th>\n",
       "      <th>mean_test_score</th>\n",
       "      <th>std_test_score</th>\n",
       "      <th>rank_test_score</th>\n",
       "    </tr>\n",
       "  </thead>\n",
       "  <tbody>\n",
       "    <tr>\n",
       "      <th>0</th>\n",
       "      <td>4.003200</td>\n",
       "      <td>0.395188</td>\n",
       "      <td>0.340297</td>\n",
       "      <td>0.032876</td>\n",
       "      <td>5</td>\n",
       "      <td>50</td>\n",
       "      <td>50</td>\n",
       "      <td>{'max_depth': 5, 'min_samples_leaf': 50, 'min_...</td>\n",
       "      <td>0.706074</td>\n",
       "      <td>0.685003</td>\n",
       "      <td>0.704945</td>\n",
       "      <td>0.698674</td>\n",
       "      <td>0.009678</td>\n",
       "      <td>5</td>\n",
       "    </tr>\n",
       "    <tr>\n",
       "      <th>1</th>\n",
       "      <td>3.867385</td>\n",
       "      <td>0.111980</td>\n",
       "      <td>0.319925</td>\n",
       "      <td>0.013656</td>\n",
       "      <td>5</td>\n",
       "      <td>50</td>\n",
       "      <td>100</td>\n",
       "      <td>{'max_depth': 5, 'min_samples_leaf': 50, 'min_...</td>\n",
       "      <td>0.708374</td>\n",
       "      <td>0.680129</td>\n",
       "      <td>0.700244</td>\n",
       "      <td>0.696249</td>\n",
       "      <td>0.011872</td>\n",
       "      <td>7</td>\n",
       "    </tr>\n",
       "    <tr>\n",
       "      <th>2</th>\n",
       "      <td>3.848106</td>\n",
       "      <td>0.259024</td>\n",
       "      <td>0.280953</td>\n",
       "      <td>0.023010</td>\n",
       "      <td>5</td>\n",
       "      <td>100</td>\n",
       "      <td>50</td>\n",
       "      <td>{'max_depth': 5, 'min_samples_leaf': 100, 'min...</td>\n",
       "      <td>0.713129</td>\n",
       "      <td>0.689346</td>\n",
       "      <td>0.702766</td>\n",
       "      <td>0.701747</td>\n",
       "      <td>0.009736</td>\n",
       "      <td>1</td>\n",
       "    </tr>\n",
       "    <tr>\n",
       "      <th>3</th>\n",
       "      <td>3.351398</td>\n",
       "      <td>0.187573</td>\n",
       "      <td>0.262597</td>\n",
       "      <td>0.035522</td>\n",
       "      <td>5</td>\n",
       "      <td>100</td>\n",
       "      <td>100</td>\n",
       "      <td>{'max_depth': 5, 'min_samples_leaf': 100, 'min...</td>\n",
       "      <td>0.712012</td>\n",
       "      <td>0.680410</td>\n",
       "      <td>0.704116</td>\n",
       "      <td>0.698846</td>\n",
       "      <td>0.013429</td>\n",
       "      <td>4</td>\n",
       "    </tr>\n",
       "    <tr>\n",
       "      <th>4</th>\n",
       "      <td>5.052353</td>\n",
       "      <td>0.341119</td>\n",
       "      <td>0.411567</td>\n",
       "      <td>0.010481</td>\n",
       "      <td>10</td>\n",
       "      <td>50</td>\n",
       "      <td>50</td>\n",
       "      <td>{'max_depth': 10, 'min_samples_leaf': 50, 'min...</td>\n",
       "      <td>0.711319</td>\n",
       "      <td>0.690725</td>\n",
       "      <td>0.693898</td>\n",
       "      <td>0.698647</td>\n",
       "      <td>0.009053</td>\n",
       "      <td>6</td>\n",
       "    </tr>\n",
       "    <tr>\n",
       "      <th>5</th>\n",
       "      <td>5.471995</td>\n",
       "      <td>0.229733</td>\n",
       "      <td>0.470202</td>\n",
       "      <td>0.047548</td>\n",
       "      <td>10</td>\n",
       "      <td>50</td>\n",
       "      <td>100</td>\n",
       "      <td>{'max_depth': 10, 'min_samples_leaf': 50, 'min...</td>\n",
       "      <td>0.712096</td>\n",
       "      <td>0.690906</td>\n",
       "      <td>0.694592</td>\n",
       "      <td>0.699198</td>\n",
       "      <td>0.009244</td>\n",
       "      <td>2</td>\n",
       "    </tr>\n",
       "    <tr>\n",
       "      <th>6</th>\n",
       "      <td>5.391333</td>\n",
       "      <td>0.167766</td>\n",
       "      <td>0.404804</td>\n",
       "      <td>0.073727</td>\n",
       "      <td>10</td>\n",
       "      <td>100</td>\n",
       "      <td>50</td>\n",
       "      <td>{'max_depth': 10, 'min_samples_leaf': 100, 'mi...</td>\n",
       "      <td>0.711165</td>\n",
       "      <td>0.677602</td>\n",
       "      <td>0.692164</td>\n",
       "      <td>0.693644</td>\n",
       "      <td>0.013742</td>\n",
       "      <td>8</td>\n",
       "    </tr>\n",
       "    <tr>\n",
       "      <th>7</th>\n",
       "      <td>5.236240</td>\n",
       "      <td>0.101057</td>\n",
       "      <td>0.300418</td>\n",
       "      <td>0.074370</td>\n",
       "      <td>10</td>\n",
       "      <td>100</td>\n",
       "      <td>100</td>\n",
       "      <td>{'max_depth': 10, 'min_samples_leaf': 100, 'mi...</td>\n",
       "      <td>0.710672</td>\n",
       "      <td>0.687999</td>\n",
       "      <td>0.698371</td>\n",
       "      <td>0.699014</td>\n",
       "      <td>0.009268</td>\n",
       "      <td>3</td>\n",
       "    </tr>\n",
       "  </tbody>\n",
       "</table>\n",
       "</div>"
      ],
      "text/plain": [
       "   mean_fit_time  std_fit_time  mean_score_time  std_score_time  \\\n",
       "0       4.003200      0.395188         0.340297        0.032876   \n",
       "1       3.867385      0.111980         0.319925        0.013656   \n",
       "2       3.848106      0.259024         0.280953        0.023010   \n",
       "3       3.351398      0.187573         0.262597        0.035522   \n",
       "4       5.052353      0.341119         0.411567        0.010481   \n",
       "5       5.471995      0.229733         0.470202        0.047548   \n",
       "6       5.391333      0.167766         0.404804        0.073727   \n",
       "7       5.236240      0.101057         0.300418        0.074370   \n",
       "\n",
       "  param_max_depth param_min_samples_leaf param_min_samples_split  \\\n",
       "0               5                     50                      50   \n",
       "1               5                     50                     100   \n",
       "2               5                    100                      50   \n",
       "3               5                    100                     100   \n",
       "4              10                     50                      50   \n",
       "5              10                     50                     100   \n",
       "6              10                    100                      50   \n",
       "7              10                    100                     100   \n",
       "\n",
       "                                              params  split0_test_score  \\\n",
       "0  {'max_depth': 5, 'min_samples_leaf': 50, 'min_...           0.706074   \n",
       "1  {'max_depth': 5, 'min_samples_leaf': 50, 'min_...           0.708374   \n",
       "2  {'max_depth': 5, 'min_samples_leaf': 100, 'min...           0.713129   \n",
       "3  {'max_depth': 5, 'min_samples_leaf': 100, 'min...           0.712012   \n",
       "4  {'max_depth': 10, 'min_samples_leaf': 50, 'min...           0.711319   \n",
       "5  {'max_depth': 10, 'min_samples_leaf': 50, 'min...           0.712096   \n",
       "6  {'max_depth': 10, 'min_samples_leaf': 100, 'mi...           0.711165   \n",
       "7  {'max_depth': 10, 'min_samples_leaf': 100, 'mi...           0.710672   \n",
       "\n",
       "   split1_test_score  split2_test_score  mean_test_score  std_test_score  \\\n",
       "0           0.685003           0.704945         0.698674        0.009678   \n",
       "1           0.680129           0.700244         0.696249        0.011872   \n",
       "2           0.689346           0.702766         0.701747        0.009736   \n",
       "3           0.680410           0.704116         0.698846        0.013429   \n",
       "4           0.690725           0.693898         0.698647        0.009053   \n",
       "5           0.690906           0.694592         0.699198        0.009244   \n",
       "6           0.677602           0.692164         0.693644        0.013742   \n",
       "7           0.687999           0.698371         0.699014        0.009268   \n",
       "\n",
       "   rank_test_score  \n",
       "0                5  \n",
       "1                7  \n",
       "2                1  \n",
       "3                4  \n",
       "4                6  \n",
       "5                2  \n",
       "6                8  \n",
       "7                3  "
      ]
     },
     "execution_count": 95,
     "metadata": {},
     "output_type": "execute_result"
    }
   ],
   "source": [
    "# cv results\n",
    "cv_results = pd.DataFrame(grid_search.cv_results_)\n",
    "cv_results\n"
   ]
  },
  {
   "cell_type": "code",
   "execution_count": 96,
   "id": "288028de",
   "metadata": {},
   "outputs": [
    {
     "name": "stdout",
     "output_type": "stream",
     "text": [
      "Best roc auc score :  0.7017468834962917\n",
      "RandomForestClassifier(max_depth=5, min_samples_leaf=100, min_samples_split=50)\n"
     ]
    }
   ],
   "source": [
    "# Printing the optimal roc score and hyperparameters\n",
    "print(\"Best roc auc score : \", grid_search.best_score_)\n",
    "print(grid_search.best_estimator_)"
   ]
  },
  {
   "cell_type": "code",
   "execution_count": 97,
   "id": "d09ee394",
   "metadata": {},
   "outputs": [
    {
     "data": {
      "text/plain": [
       "{'max_depth': 5, 'min_samples_leaf': 100, 'min_samples_split': 50}"
      ]
     },
     "execution_count": 97,
     "metadata": {},
     "output_type": "execute_result"
    }
   ],
   "source": [
    "# Printing best params\n",
    "grid_search.best_params_"
   ]
  },
  {
   "cell_type": "code",
   "execution_count": 98,
   "id": "d1fb07ca",
   "metadata": {},
   "outputs": [
    {
     "data": {
      "text/html": [
       "<style>#sk-container-id-9 {color: black;background-color: white;}#sk-container-id-9 pre{padding: 0;}#sk-container-id-9 div.sk-toggleable {background-color: white;}#sk-container-id-9 label.sk-toggleable__label {cursor: pointer;display: block;width: 100%;margin-bottom: 0;padding: 0.3em;box-sizing: border-box;text-align: center;}#sk-container-id-9 label.sk-toggleable__label-arrow:before {content: \"▸\";float: left;margin-right: 0.25em;color: #696969;}#sk-container-id-9 label.sk-toggleable__label-arrow:hover:before {color: black;}#sk-container-id-9 div.sk-estimator:hover label.sk-toggleable__label-arrow:before {color: black;}#sk-container-id-9 div.sk-toggleable__content {max-height: 0;max-width: 0;overflow: hidden;text-align: left;background-color: #f0f8ff;}#sk-container-id-9 div.sk-toggleable__content pre {margin: 0.2em;color: black;border-radius: 0.25em;background-color: #f0f8ff;}#sk-container-id-9 input.sk-toggleable__control:checked~div.sk-toggleable__content {max-height: 200px;max-width: 100%;overflow: auto;}#sk-container-id-9 input.sk-toggleable__control:checked~label.sk-toggleable__label-arrow:before {content: \"▾\";}#sk-container-id-9 div.sk-estimator input.sk-toggleable__control:checked~label.sk-toggleable__label {background-color: #d4ebff;}#sk-container-id-9 div.sk-label input.sk-toggleable__control:checked~label.sk-toggleable__label {background-color: #d4ebff;}#sk-container-id-9 input.sk-hidden--visually {border: 0;clip: rect(1px 1px 1px 1px);clip: rect(1px, 1px, 1px, 1px);height: 1px;margin: -1px;overflow: hidden;padding: 0;position: absolute;width: 1px;}#sk-container-id-9 div.sk-estimator {font-family: monospace;background-color: #f0f8ff;border: 1px dotted black;border-radius: 0.25em;box-sizing: border-box;margin-bottom: 0.5em;}#sk-container-id-9 div.sk-estimator:hover {background-color: #d4ebff;}#sk-container-id-9 div.sk-parallel-item::after {content: \"\";width: 100%;border-bottom: 1px solid gray;flex-grow: 1;}#sk-container-id-9 div.sk-label:hover label.sk-toggleable__label {background-color: #d4ebff;}#sk-container-id-9 div.sk-serial::before {content: \"\";position: absolute;border-left: 1px solid gray;box-sizing: border-box;top: 0;bottom: 0;left: 50%;z-index: 0;}#sk-container-id-9 div.sk-serial {display: flex;flex-direction: column;align-items: center;background-color: white;padding-right: 0.2em;padding-left: 0.2em;position: relative;}#sk-container-id-9 div.sk-item {position: relative;z-index: 1;}#sk-container-id-9 div.sk-parallel {display: flex;align-items: stretch;justify-content: center;background-color: white;position: relative;}#sk-container-id-9 div.sk-item::before, #sk-container-id-9 div.sk-parallel-item::before {content: \"\";position: absolute;border-left: 1px solid gray;box-sizing: border-box;top: 0;bottom: 0;left: 50%;z-index: -1;}#sk-container-id-9 div.sk-parallel-item {display: flex;flex-direction: column;z-index: 1;position: relative;background-color: white;}#sk-container-id-9 div.sk-parallel-item:first-child::after {align-self: flex-end;width: 50%;}#sk-container-id-9 div.sk-parallel-item:last-child::after {align-self: flex-start;width: 50%;}#sk-container-id-9 div.sk-parallel-item:only-child::after {width: 0;}#sk-container-id-9 div.sk-dashed-wrapped {border: 1px dashed gray;margin: 0 0.4em 0.5em 0.4em;box-sizing: border-box;padding-bottom: 0.4em;background-color: white;}#sk-container-id-9 div.sk-label label {font-family: monospace;font-weight: bold;display: inline-block;line-height: 1.2em;}#sk-container-id-9 div.sk-label-container {text-align: center;}#sk-container-id-9 div.sk-container {/* jupyter's `normalize.less` sets `[hidden] { display: none; }` but bootstrap.min.css set `[hidden] { display: none !important; }` so we also need the `!important` here to be able to override the default hidden behavior on the sphinx rendered scikit-learn.org. See: https://github.com/scikit-learn/scikit-learn/issues/21755 */display: inline-block !important;position: relative;}#sk-container-id-9 div.sk-text-repr-fallback {display: none;}</style><div id=\"sk-container-id-9\" class=\"sk-top-container\"><div class=\"sk-text-repr-fallback\"><pre>RandomForestClassifier(max_depth=5, min_samples_leaf=50, min_samples_split=100,\n",
       "                       random_state=100)</pre><b>In a Jupyter environment, please rerun this cell to show the HTML representation or trust the notebook. <br />On GitHub, the HTML representation is unable to render, please try loading this page with nbviewer.org.</b></div><div class=\"sk-container\" hidden><div class=\"sk-item\"><div class=\"sk-estimator sk-toggleable\"><input class=\"sk-toggleable__control sk-hidden--visually\" id=\"sk-estimator-id-17\" type=\"checkbox\" checked><label for=\"sk-estimator-id-17\" class=\"sk-toggleable__label sk-toggleable__label-arrow\">RandomForestClassifier</label><div class=\"sk-toggleable__content\"><pre>RandomForestClassifier(max_depth=5, min_samples_leaf=50, min_samples_split=100,\n",
       "                       random_state=100)</pre></div></div></div></div></div>"
      ],
      "text/plain": [
       "RandomForestClassifier(max_depth=5, min_samples_leaf=50, min_samples_split=100,\n",
       "                       random_state=100)"
      ]
     },
     "execution_count": 98,
     "metadata": {},
     "output_type": "execute_result"
    }
   ],
   "source": [
    "# Model with optimal hyperparameters\n",
    "rf_imb_model = RandomForestClassifier(criterion = \"gini\", \n",
    "                                  random_state = 100,\n",
    "                                  max_depth=5, \n",
    "                                  min_samples_leaf=50,\n",
    "                                  min_samples_split=100)\n",
    "\n",
    "rf_imb_model.fit(X_train, y_train)"
   ]
  },
  {
   "cell_type": "code",
   "execution_count": 99,
   "id": "8a52021e",
   "metadata": {
    "scrolled": true
   },
   "outputs": [
    {
     "name": "stdout",
     "output_type": "stream",
     "text": [
      "F1 Score: 37.46%\n",
      "Classification Report: \n",
      "               precision    recall  f1-score   support\n",
      "\n",
      "           0       0.99      1.00      1.00     57476\n",
      "           1       1.00      0.23      0.37       525\n",
      "\n",
      "    accuracy                           0.99     58001\n",
      "   macro avg       1.00      0.62      0.69     58001\n",
      "weighted avg       0.99      0.99      0.99     58001\n",
      "\n"
     ]
    }
   ],
   "source": [
    "# Predictions on the train set\n",
    "\n",
    "y_train_pred = rf_imb_model.predict(X_train)\n",
    "display_scores(y_train, y_train_pred)"
   ]
  },
  {
   "cell_type": "code",
   "execution_count": 100,
   "id": "ba3a0a54",
   "metadata": {
    "scrolled": true
   },
   "outputs": [
    {
     "data": {
      "image/png": "[encoded data removed]",
      "text/plain": [
       "<Figure size 360x360 with 1 Axes>"
      ]
     },
     "metadata": {
      "needs_background": "light"
     },
     "output_type": "display_data"
    }
   ],
   "source": [
    "# Predicted probability\n",
    "y_train_pred_proba_rf = rf_imb_model.predict_proba(X_train)[:,1]\n",
    "\n",
    "# Plot the ROC curve\n",
    "draw_roc(y_train, y_train_pred_proba_rf)"
   ]
  },
  {
   "cell_type": "code",
   "execution_count": 101,
   "id": "e0724435",
   "metadata": {
    "scrolled": true
   },
   "outputs": [
    {
     "name": "stdout",
     "output_type": "stream",
     "text": [
      "F1 Score: 37.27%\n",
      "Classification Report: \n",
      "               precision    recall  f1-score   support\n",
      "\n",
      "           0       0.99      1.00      1.00     14370\n",
      "           1       1.00      0.23      0.37       131\n",
      "\n",
      "    accuracy                           0.99     14501\n",
      "   macro avg       1.00      0.61      0.68     14501\n",
      "weighted avg       0.99      0.99      0.99     14501\n",
      "\n"
     ]
    }
   ],
   "source": [
    "# Predictions on the test set\n",
    "y_test_pred = rf_imb_model.predict(X_test)\n",
    "display_scores(y_test, y_test_pred)"
   ]
  },
  {
   "cell_type": "code",
   "execution_count": 102,
   "id": "0f5981b2",
   "metadata": {
    "scrolled": true
   },
   "outputs": [
    {
     "data": {
      "image/png": "[encoded data removed]",
      "text/plain": [
       "<Figure size 360x360 with 1 Axes>"
      ]
     },
     "metadata": {
      "needs_background": "light"
     },
     "output_type": "display_data"
    }
   ],
   "source": [
    "# Predicted probability\n",
    "y_test_pred_proba = rf_imb_model.predict_proba(X_test)[:,1]\n",
    "# Plot the ROC curve\n",
    "draw_roc(y_test, y_test_pred_proba)"
   ]
  }
 ],
 "metadata": {
  "kernelspec": {
   "display_name": "Python 3 (ipykernel)",
   "language": "python",
   "name": "python3"
  },
  "language_info": {
   "codemirror_mode": {
    "name": "ipython",
    "version": 3
   },
   "file_extension": ".py",
   "mimetype": "text/x-python",
   "name": "python",
   "nbconvert_exporter": "python",
   "pygments_lexer": "ipython3",
   "version": "3.9.12"
  }
 },
 "nbformat": 4,
 "nbformat_minor": 5
}
