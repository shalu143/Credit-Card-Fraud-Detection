{
 "cells": [
  {
   "cell_type": "code",
   "execution_count": 1,
   "id": "6462f2c2",
   "metadata": {},
   "outputs": [],
   "source": [
    "# Importing Libraries\n",
    "import pandas as pd\n",
    "import numpy as np\n",
    "import matplotlib.pyplot as plt\n",
    "%matplotlib inline\n",
    "import seaborn as sns\n",
    "\n",
    "\n",
    "from sklearn.model_selection import train_test_split\n",
    "from sklearn import metrics\n",
    "from sklearn.preprocessing import StandardScaler\n",
    "from sklearn.preprocessing import PowerTransformer\n",
    "\n",
    "\n",
    "from sklearn.model_selection import KFold\n",
    "from sklearn.model_selection import GridSearchCV\n",
    "from sklearn.linear_model import LogisticRegression\n",
    "from sklearn.tree import DecisionTreeClassifier\n",
    "from xgboost import XGBClassifier\n",
    "\n",
    "from sklearn.metrics import roc_curve, roc_auc_score\n",
    "from sklearn.metrics import f1_score, classification_report\n",
    "from sklearn.metrics import accuracy_score, classification_report, confusion_matrix, make_scorer, precision_score, recall_score, f1_score, roc_auc_score, roc_curve, precision_recall_curve, average_precision_score, auc\n",
    "\n",
    "from sklearn.ensemble import RandomForestClassifier\n",
    "from sklearn.preprocessing import OneHotEncoder\n",
    "from sklearn.model_selection import StratifiedShuffleSplit\n",
    "\n",
    "\n",
    "#Neural Networks implementation\n",
    "import keras\n",
    "import tensorflow as tf\n",
    "from keras import backend as K\n",
    "from keras.models import Sequential\n",
    "from keras.layers import Dense, Dropout\n",
    " \n",
    "from keras.wrappers.scikit_learn import KerasClassifier\n",
    "from keras.constraints import maxnorm\n",
    "from keras.utils.vis_utils import plot_model\n",
    "\n",
    "from bayes_opt import BayesianOptimization\n",
    "from tensorflow.keras.optimizers import Adam, SGD, RMSprop, Adadelta, Adagrad, Adamax, Nadam, Ftrl\n",
    "from keras.layers import LeakyReLU\n",
    "LeakyReLU = LeakyReLU(alpha=0.1)\n",
    "from keras.callbacks import EarlyStopping, ModelCheckpoint\n",
    "from sklearn.model_selection import StratifiedKFold\n",
    "from sklearn.model_selection import cross_val_score\n",
    "from sklearn.metrics import make_scorer, accuracy_score\n",
    "# Make scorer accuracy\n",
    "score_acc = make_scorer(accuracy_score)\n",
    "from keras.layers import Dense, BatchNormalization, Dropout"
   ]
  },
  {
   "cell_type": "code",
   "execution_count": 2,
   "id": "2644f290",
   "metadata": {},
   "outputs": [],
   "source": [
    "df1 = pd.read_csv(r\"C:\\Users\\Acer\\Desktop\\HDFC_Internship\\DATA\\Fraud_Data_Final.csv\")"
   ]
  },
  {
   "cell_type": "code",
   "execution_count": 3,
   "id": "ce4b42f6",
   "metadata": {},
   "outputs": [
    {
     "data": {
      "text/plain": [
       "(73385, 9)"
      ]
     },
     "execution_count": 3,
     "metadata": {},
     "output_type": "execute_result"
    }
   ],
   "source": [
    "df1.shape"
   ]
  },
  {
   "cell_type": "code",
   "execution_count": 4,
   "id": "26db45ef",
   "metadata": {},
   "outputs": [
    {
     "data": {
      "text/plain": [
       "660465"
      ]
     },
     "execution_count": 4,
     "metadata": {},
     "output_type": "execute_result"
    }
   ],
   "source": [
    "df1.size"
   ]
  },
  {
   "cell_type": "code",
   "execution_count": 5,
   "id": "b3c609f5",
   "metadata": {},
   "outputs": [
    {
     "data": {
      "text/html": [
       "<div>\n",
       "<style scoped>\n",
       "    .dataframe tbody tr th:only-of-type {\n",
       "        vertical-align: middle;\n",
       "    }\n",
       "\n",
       "    .dataframe tbody tr th {\n",
       "        vertical-align: top;\n",
       "    }\n",
       "\n",
       "    .dataframe thead th {\n",
       "        text-align: right;\n",
       "    }\n",
       "</style>\n",
       "<table border=\"1\" class=\"dataframe\">\n",
       "  <thead>\n",
       "    <tr style=\"text-align: right;\">\n",
       "      <th></th>\n",
       "      <th>SERIAL NUMBER</th>\n",
       "      <th>TRANSACTION_ID</th>\n",
       "      <th>DATETIME</th>\n",
       "      <th>CUSTOMER_ID</th>\n",
       "      <th>TYPE of TRANSACTION</th>\n",
       "      <th>TRASCATION AMOUNT</th>\n",
       "      <th>TIME_SECONDS</th>\n",
       "      <th>DAYS_SINCE_FIRST_TRANSACTION</th>\n",
       "      <th>FRAUD</th>\n",
       "    </tr>\n",
       "  </thead>\n",
       "  <tbody>\n",
       "    <tr>\n",
       "      <th>0</th>\n",
       "      <td>0</td>\n",
       "      <td>1653444</td>\n",
       "      <td>2018-09-20 11:49:41</td>\n",
       "      <td>0</td>\n",
       "      <td>Hotels</td>\n",
       "      <td>88.11</td>\n",
       "      <td>14903381</td>\n",
       "      <td>172</td>\n",
       "      <td>0</td>\n",
       "    </tr>\n",
       "    <tr>\n",
       "      <th>1</th>\n",
       "      <td>1</td>\n",
       "      <td>1657926</td>\n",
       "      <td>2018-09-20 20:21:57</td>\n",
       "      <td>0</td>\n",
       "      <td>Grocery</td>\n",
       "      <td>78.25</td>\n",
       "      <td>14934117</td>\n",
       "      <td>172</td>\n",
       "      <td>0</td>\n",
       "    </tr>\n",
       "    <tr>\n",
       "      <th>2</th>\n",
       "      <td>2</td>\n",
       "      <td>1174679</td>\n",
       "      <td>2018-08-01 12:11:36</td>\n",
       "      <td>0</td>\n",
       "      <td>Airways</td>\n",
       "      <td>62.28</td>\n",
       "      <td>10584696</td>\n",
       "      <td>122</td>\n",
       "      <td>0</td>\n",
       "    </tr>\n",
       "    <tr>\n",
       "      <th>3</th>\n",
       "      <td>3</td>\n",
       "      <td>1175894</td>\n",
       "      <td>2018-08-01 13:58:40</td>\n",
       "      <td>0</td>\n",
       "      <td>Airways</td>\n",
       "      <td>80.16</td>\n",
       "      <td>10591120</td>\n",
       "      <td>122</td>\n",
       "      <td>0</td>\n",
       "    </tr>\n",
       "    <tr>\n",
       "      <th>4</th>\n",
       "      <td>4</td>\n",
       "      <td>758479</td>\n",
       "      <td>2018-06-19 4:18:11</td>\n",
       "      <td>0</td>\n",
       "      <td>Insulation</td>\n",
       "      <td>90.07</td>\n",
       "      <td>6841091</td>\n",
       "      <td>79</td>\n",
       "      <td>0</td>\n",
       "    </tr>\n",
       "  </tbody>\n",
       "</table>\n",
       "</div>"
      ],
      "text/plain": [
       "   SERIAL NUMBER  TRANSACTION_ID             DATETIME  CUSTOMER_ID  \\\n",
       "0              0         1653444  2018-09-20 11:49:41            0   \n",
       "1              1         1657926  2018-09-20 20:21:57            0   \n",
       "2              2         1174679  2018-08-01 12:11:36            0   \n",
       "3              3         1175894  2018-08-01 13:58:40            0   \n",
       "4              4          758479   2018-06-19 4:18:11            0   \n",
       "\n",
       "  TYPE of TRANSACTION  TRASCATION AMOUNT  TIME_SECONDS  \\\n",
       "0              Hotels              88.11      14903381   \n",
       "1             Grocery              78.25      14934117   \n",
       "2             Airways              62.28      10584696   \n",
       "3             Airways              80.16      10591120   \n",
       "4          Insulation              90.07       6841091   \n",
       "\n",
       "   DAYS_SINCE_FIRST_TRANSACTION  FRAUD  \n",
       "0                           172      0  \n",
       "1                           172      0  \n",
       "2                           122      0  \n",
       "3                           122      0  \n",
       "4                            79      0  "
      ]
     },
     "execution_count": 5,
     "metadata": {},
     "output_type": "execute_result"
    }
   ],
   "source": [
    "df1.head()"
   ]
  },
  {
   "cell_type": "code",
   "execution_count": 6,
   "id": "5850ba03",
   "metadata": {},
   "outputs": [
    {
     "data": {
      "text/html": [
       "<div>\n",
       "<style scoped>\n",
       "    .dataframe tbody tr th:only-of-type {\n",
       "        vertical-align: middle;\n",
       "    }\n",
       "\n",
       "    .dataframe tbody tr th {\n",
       "        vertical-align: top;\n",
       "    }\n",
       "\n",
       "    .dataframe thead th {\n",
       "        text-align: right;\n",
       "    }\n",
       "</style>\n",
       "<table border=\"1\" class=\"dataframe\">\n",
       "  <thead>\n",
       "    <tr style=\"text-align: right;\">\n",
       "      <th></th>\n",
       "      <th>SERIAL NUMBER</th>\n",
       "      <th>TRANSACTION_ID</th>\n",
       "      <th>DATETIME</th>\n",
       "      <th>CUSTOMER_ID</th>\n",
       "      <th>TYPE of TRANSACTION</th>\n",
       "      <th>TRASCATION AMOUNT</th>\n",
       "      <th>TIME_SECONDS</th>\n",
       "      <th>DAYS_SINCE_FIRST_TRANSACTION</th>\n",
       "      <th>FRAUD</th>\n",
       "    </tr>\n",
       "  </thead>\n",
       "  <tbody>\n",
       "    <tr>\n",
       "      <th>73380</th>\n",
       "      <td>38095</td>\n",
       "      <td>903947</td>\n",
       "      <td>2018-07-04 7:55:16</td>\n",
       "      <td>2015</td>\n",
       "      <td>Retail</td>\n",
       "      <td>63.03</td>\n",
       "      <td>8150116</td>\n",
       "      <td>94</td>\n",
       "      <td>0</td>\n",
       "    </tr>\n",
       "    <tr>\n",
       "      <th>73381</th>\n",
       "      <td>38096</td>\n",
       "      <td>243562</td>\n",
       "      <td>2018-04-26 10:24:24</td>\n",
       "      <td>2015</td>\n",
       "      <td>Retail</td>\n",
       "      <td>45.23</td>\n",
       "      <td>2197464</td>\n",
       "      <td>25</td>\n",
       "      <td>0</td>\n",
       "    </tr>\n",
       "    <tr>\n",
       "      <th>73382</th>\n",
       "      <td>38098</td>\n",
       "      <td>773468</td>\n",
       "      <td>2018-06-20 13:49:15</td>\n",
       "      <td>2015</td>\n",
       "      <td>Retail</td>\n",
       "      <td>31.59</td>\n",
       "      <td>6961755</td>\n",
       "      <td>80</td>\n",
       "      <td>0</td>\n",
       "    </tr>\n",
       "    <tr>\n",
       "      <th>73383</th>\n",
       "      <td>38100</td>\n",
       "      <td>1177522</td>\n",
       "      <td>2018-08-01 16:44:45</td>\n",
       "      <td>2016</td>\n",
       "      <td>Retail</td>\n",
       "      <td>27.61</td>\n",
       "      <td>10601085</td>\n",
       "      <td>122</td>\n",
       "      <td>0</td>\n",
       "    </tr>\n",
       "    <tr>\n",
       "      <th>73384</th>\n",
       "      <td>38101</td>\n",
       "      <td>948456</td>\n",
       "      <td>2018-07-08 17:53:44</td>\n",
       "      <td>2016</td>\n",
       "      <td>Retail</td>\n",
       "      <td>11.41</td>\n",
       "      <td>8531624</td>\n",
       "      <td>98</td>\n",
       "      <td>0</td>\n",
       "    </tr>\n",
       "  </tbody>\n",
       "</table>\n",
       "</div>"
      ],
      "text/plain": [
       "       SERIAL NUMBER  TRANSACTION_ID             DATETIME  CUSTOMER_ID  \\\n",
       "73380          38095          903947   2018-07-04 7:55:16         2015   \n",
       "73381          38096          243562  2018-04-26 10:24:24         2015   \n",
       "73382          38098          773468  2018-06-20 13:49:15         2015   \n",
       "73383          38100         1177522  2018-08-01 16:44:45         2016   \n",
       "73384          38101          948456  2018-07-08 17:53:44         2016   \n",
       "\n",
       "      TYPE of TRANSACTION  TRASCATION AMOUNT  TIME_SECONDS  \\\n",
       "73380              Retail              63.03       8150116   \n",
       "73381              Retail              45.23       2197464   \n",
       "73382              Retail              31.59       6961755   \n",
       "73383              Retail              27.61      10601085   \n",
       "73384              Retail              11.41       8531624   \n",
       "\n",
       "       DAYS_SINCE_FIRST_TRANSACTION  FRAUD  \n",
       "73380                            94      0  \n",
       "73381                            25      0  \n",
       "73382                            80      0  \n",
       "73383                           122      0  \n",
       "73384                            98      0  "
      ]
     },
     "execution_count": 6,
     "metadata": {},
     "output_type": "execute_result"
    }
   ],
   "source": [
    "df1.tail()"
   ]
  },
  {
   "cell_type": "code",
   "execution_count": 7,
   "id": "23f0dd8b",
   "metadata": {},
   "outputs": [
    {
     "data": {
      "text/html": [
       "<div>\n",
       "<style scoped>\n",
       "    .dataframe tbody tr th:only-of-type {\n",
       "        vertical-align: middle;\n",
       "    }\n",
       "\n",
       "    .dataframe tbody tr th {\n",
       "        vertical-align: top;\n",
       "    }\n",
       "\n",
       "    .dataframe thead th {\n",
       "        text-align: right;\n",
       "    }\n",
       "</style>\n",
       "<table border=\"1\" class=\"dataframe\">\n",
       "  <thead>\n",
       "    <tr style=\"text-align: right;\">\n",
       "      <th></th>\n",
       "      <th>SERIAL NUMBER</th>\n",
       "      <th>TRANSACTION_ID</th>\n",
       "      <th>DATETIME</th>\n",
       "      <th>CUSTOMER_ID</th>\n",
       "      <th>TYPE of TRANSACTION</th>\n",
       "      <th>TRASCATION AMOUNT</th>\n",
       "      <th>TIME_SECONDS</th>\n",
       "      <th>DAYS_SINCE_FIRST_TRANSACTION</th>\n",
       "      <th>FRAUD</th>\n",
       "    </tr>\n",
       "  </thead>\n",
       "  <tbody>\n",
       "    <tr>\n",
       "      <th>count</th>\n",
       "      <td>73385.000000</td>\n",
       "      <td>7.338500e+04</td>\n",
       "      <td>73385</td>\n",
       "      <td>73385.000000</td>\n",
       "      <td>73385</td>\n",
       "      <td>73385.000000</td>\n",
       "      <td>7.338500e+04</td>\n",
       "      <td>73385.000000</td>\n",
       "      <td>73385.000000</td>\n",
       "    </tr>\n",
       "    <tr>\n",
       "      <th>unique</th>\n",
       "      <td>NaN</td>\n",
       "      <td>NaN</td>\n",
       "      <td>70904</td>\n",
       "      <td>NaN</td>\n",
       "      <td>10</td>\n",
       "      <td>NaN</td>\n",
       "      <td>NaN</td>\n",
       "      <td>NaN</td>\n",
       "      <td>NaN</td>\n",
       "    </tr>\n",
       "    <tr>\n",
       "      <th>top</th>\n",
       "      <td>NaN</td>\n",
       "      <td>NaN</td>\n",
       "      <td>2018-04-05 13:03:35</td>\n",
       "      <td>NaN</td>\n",
       "      <td>Insulation</td>\n",
       "      <td>NaN</td>\n",
       "      <td>NaN</td>\n",
       "      <td>NaN</td>\n",
       "      <td>NaN</td>\n",
       "    </tr>\n",
       "    <tr>\n",
       "      <th>freq</th>\n",
       "      <td>NaN</td>\n",
       "      <td>NaN</td>\n",
       "      <td>4</td>\n",
       "      <td>NaN</td>\n",
       "      <td>9512</td>\n",
       "      <td>NaN</td>\n",
       "      <td>NaN</td>\n",
       "      <td>NaN</td>\n",
       "      <td>NaN</td>\n",
       "    </tr>\n",
       "    <tr>\n",
       "      <th>mean</th>\n",
       "      <td>41048.878204</td>\n",
       "      <td>8.233976e+05</td>\n",
       "      <td>NaN</td>\n",
       "      <td>2173.954514</td>\n",
       "      <td>NaN</td>\n",
       "      <td>55.177761</td>\n",
       "      <td>7.419868e+06</td>\n",
       "      <td>85.383307</td>\n",
       "      <td>0.008939</td>\n",
       "    </tr>\n",
       "    <tr>\n",
       "      <th>std</th>\n",
       "      <td>26492.483939</td>\n",
       "      <td>5.479239e+05</td>\n",
       "      <td>NaN</td>\n",
       "      <td>1409.347516</td>\n",
       "      <td>NaN</td>\n",
       "      <td>43.472514</td>\n",
       "      <td>4.939476e+06</td>\n",
       "      <td>57.169018</td>\n",
       "      <td>0.094124</td>\n",
       "    </tr>\n",
       "    <tr>\n",
       "      <th>min</th>\n",
       "      <td>0.000000</td>\n",
       "      <td>6.295000e+03</td>\n",
       "      <td>NaN</td>\n",
       "      <td>0.000000</td>\n",
       "      <td>NaN</td>\n",
       "      <td>0.000000</td>\n",
       "      <td>5.153000e+04</td>\n",
       "      <td>0.000000</td>\n",
       "      <td>0.000000</td>\n",
       "    </tr>\n",
       "    <tr>\n",
       "      <th>25%</th>\n",
       "      <td>18346.000000</td>\n",
       "      <td>4.632880e+05</td>\n",
       "      <td>NaN</td>\n",
       "      <td>967.000000</td>\n",
       "      <td>NaN</td>\n",
       "      <td>21.790000</td>\n",
       "      <td>4.177458e+06</td>\n",
       "      <td>48.000000</td>\n",
       "      <td>0.000000</td>\n",
       "    </tr>\n",
       "    <tr>\n",
       "      <th>50%</th>\n",
       "      <td>36692.000000</td>\n",
       "      <td>7.594650e+05</td>\n",
       "      <td>NaN</td>\n",
       "      <td>1941.000000</td>\n",
       "      <td>NaN</td>\n",
       "      <td>46.030000</td>\n",
       "      <td>6.850855e+06</td>\n",
       "      <td>79.000000</td>\n",
       "      <td>0.000000</td>\n",
       "    </tr>\n",
       "    <tr>\n",
       "      <th>75%</th>\n",
       "      <td>63533.000000</td>\n",
       "      <td>1.347494e+06</td>\n",
       "      <td>NaN</td>\n",
       "      <td>3334.000000</td>\n",
       "      <td>NaN</td>\n",
       "      <td>78.990000</td>\n",
       "      <td>1.214317e+07</td>\n",
       "      <td>140.000000</td>\n",
       "      <td>0.000000</td>\n",
       "    </tr>\n",
       "    <tr>\n",
       "      <th>max</th>\n",
       "      <td>93756.000000</td>\n",
       "      <td>1.754143e+06</td>\n",
       "      <td>NaN</td>\n",
       "      <td>4998.000000</td>\n",
       "      <td>NaN</td>\n",
       "      <td>1108.850000</td>\n",
       "      <td>1.581077e+07</td>\n",
       "      <td>182.000000</td>\n",
       "      <td>1.000000</td>\n",
       "    </tr>\n",
       "  </tbody>\n",
       "</table>\n",
       "</div>"
      ],
      "text/plain": [
       "        SERIAL NUMBER  TRANSACTION_ID             DATETIME   CUSTOMER_ID  \\\n",
       "count    73385.000000    7.338500e+04                73385  73385.000000   \n",
       "unique            NaN             NaN                70904           NaN   \n",
       "top               NaN             NaN  2018-04-05 13:03:35           NaN   \n",
       "freq              NaN             NaN                    4           NaN   \n",
       "mean     41048.878204    8.233976e+05                  NaN   2173.954514   \n",
       "std      26492.483939    5.479239e+05                  NaN   1409.347516   \n",
       "min          0.000000    6.295000e+03                  NaN      0.000000   \n",
       "25%      18346.000000    4.632880e+05                  NaN    967.000000   \n",
       "50%      36692.000000    7.594650e+05                  NaN   1941.000000   \n",
       "75%      63533.000000    1.347494e+06                  NaN   3334.000000   \n",
       "max      93756.000000    1.754143e+06                  NaN   4998.000000   \n",
       "\n",
       "       TYPE of TRANSACTION  TRASCATION AMOUNT  TIME_SECONDS  \\\n",
       "count                73385       73385.000000  7.338500e+04   \n",
       "unique                  10                NaN           NaN   \n",
       "top             Insulation                NaN           NaN   \n",
       "freq                  9512                NaN           NaN   \n",
       "mean                   NaN          55.177761  7.419868e+06   \n",
       "std                    NaN          43.472514  4.939476e+06   \n",
       "min                    NaN           0.000000  5.153000e+04   \n",
       "25%                    NaN          21.790000  4.177458e+06   \n",
       "50%                    NaN          46.030000  6.850855e+06   \n",
       "75%                    NaN          78.990000  1.214317e+07   \n",
       "max                    NaN        1108.850000  1.581077e+07   \n",
       "\n",
       "        DAYS_SINCE_FIRST_TRANSACTION         FRAUD  \n",
       "count                   73385.000000  73385.000000  \n",
       "unique                           NaN           NaN  \n",
       "top                              NaN           NaN  \n",
       "freq                             NaN           NaN  \n",
       "mean                       85.383307      0.008939  \n",
       "std                        57.169018      0.094124  \n",
       "min                         0.000000      0.000000  \n",
       "25%                        48.000000      0.000000  \n",
       "50%                        79.000000      0.000000  \n",
       "75%                       140.000000      0.000000  \n",
       "max                       182.000000      1.000000  "
      ]
     },
     "execution_count": 7,
     "metadata": {},
     "output_type": "execute_result"
    }
   ],
   "source": [
    "df1.describe(include='all')"
   ]
  },
  {
   "cell_type": "code",
   "execution_count": 8,
   "id": "3ba58fd1",
   "metadata": {},
   "outputs": [
    {
     "name": "stdout",
     "output_type": "stream",
     "text": [
      "<class 'pandas.core.frame.DataFrame'>\n",
      "RangeIndex: 73385 entries, 0 to 73384\n",
      "Data columns (total 9 columns):\n",
      " #   Column                        Non-Null Count  Dtype  \n",
      "---  ------                        --------------  -----  \n",
      " 0   SERIAL NUMBER                 73385 non-null  int64  \n",
      " 1   TRANSACTION_ID                73385 non-null  int64  \n",
      " 2   DATETIME                      73385 non-null  object \n",
      " 3   CUSTOMER_ID                   73385 non-null  int64  \n",
      " 4   TYPE of TRANSACTION           73385 non-null  object \n",
      " 5   TRASCATION AMOUNT             73385 non-null  float64\n",
      " 6   TIME_SECONDS                  73385 non-null  int64  \n",
      " 7   DAYS_SINCE_FIRST_TRANSACTION  73385 non-null  int64  \n",
      " 8   FRAUD                         73385 non-null  int64  \n",
      "dtypes: float64(1), int64(6), object(2)\n",
      "memory usage: 5.0+ MB\n"
     ]
    }
   ],
   "source": [
    "df1.info()"
   ]
  },
  {
   "cell_type": "code",
   "execution_count": 9,
   "id": "267b9e34",
   "metadata": {
    "scrolled": false
   },
   "outputs": [
    {
     "data": {
      "text/plain": [
       "SERIAL NUMBER                   0\n",
       "TRANSACTION_ID                  0\n",
       "DATETIME                        0\n",
       "CUSTOMER_ID                     0\n",
       "TYPE of TRANSACTION             0\n",
       "TRASCATION AMOUNT               0\n",
       "TIME_SECONDS                    0\n",
       "DAYS_SINCE_FIRST_TRANSACTION    0\n",
       "FRAUD                           0\n",
       "dtype: int64"
      ]
     },
     "execution_count": 9,
     "metadata": {},
     "output_type": "execute_result"
    }
   ],
   "source": [
    "df1.isnull().sum()"
   ]
  },
  {
   "cell_type": "code",
   "execution_count": 10,
   "id": "7c00590d",
   "metadata": {
    "scrolled": true
   },
   "outputs": [
    {
     "data": {
      "text/plain": [
       "int64      6\n",
       "object     2\n",
       "float64    1\n",
       "dtype: int64"
      ]
     },
     "execution_count": 10,
     "metadata": {},
     "output_type": "execute_result"
    }
   ],
   "source": [
    "df1.dtypes.value_counts()"
   ]
  },
  {
   "cell_type": "code",
   "execution_count": 11,
   "id": "674d9296",
   "metadata": {},
   "outputs": [],
   "source": [
    "df1 = df1.drop([\"SERIAL NUMBER\",\"TRANSACTION_ID\"], axis = 1)"
   ]
  },
  {
   "cell_type": "code",
   "execution_count": 12,
   "id": "568f9388",
   "metadata": {
    "scrolled": false
   },
   "outputs": [
    {
     "data": {
      "text/plain": [
       "0    0.991061\n",
       "1    0.008939\n",
       "Name: FRAUD, dtype: float64"
      ]
     },
     "execution_count": 12,
     "metadata": {},
     "output_type": "execute_result"
    }
   ],
   "source": [
    "df1['FRAUD'].value_counts(normalize=True)"
   ]
  },
  {
   "cell_type": "code",
   "execution_count": 13,
   "id": "7c46f3d7",
   "metadata": {
    "scrolled": true
   },
   "outputs": [
    {
     "data": {
      "text/plain": [
       "10"
      ]
     },
     "execution_count": 13,
     "metadata": {},
     "output_type": "execute_result"
    }
   ],
   "source": [
    "df1['TYPE of TRANSACTION'].value_counts().count()"
   ]
  },
  {
   "cell_type": "code",
   "execution_count": 14,
   "id": "e03f37b2",
   "metadata": {
    "scrolled": true
   },
   "outputs": [
    {
     "data": {
      "text/plain": [
       "Insulation     9512\n",
       "Food           9211\n",
       "Electronics    7931\n",
       "Clothing       7394\n",
       "Grocery        7115\n",
       "Retail         7000\n",
       "Footwear       6621\n",
       "Airways        6584\n",
       "Hotels         6086\n",
       "Rental Car     5931\n",
       "Name: TYPE of TRANSACTION, dtype: int64"
      ]
     },
     "execution_count": 14,
     "metadata": {},
     "output_type": "execute_result"
    }
   ],
   "source": [
    "df1['TYPE of TRANSACTION'].value_counts()"
   ]
  },
  {
   "cell_type": "code",
   "execution_count": 15,
   "id": "758c8092",
   "metadata": {
    "scrolled": true
   },
   "outputs": [
    {
     "data": {
      "text/plain": [
       "Food           107\n",
       "Insulation      91\n",
       "Electronics     77\n",
       "Retail          73\n",
       "Airways         66\n",
       "Hotels          65\n",
       "Grocery         63\n",
       "Footwear        51\n",
       "Rental Car      42\n",
       "Clothing        21\n",
       "Name: TYPE of TRANSACTION, dtype: int64"
      ]
     },
     "execution_count": 15,
     "metadata": {},
     "output_type": "execute_result"
    }
   ],
   "source": [
    "df1['TYPE of TRANSACTION'][df1[\"FRAUD\"] == 1].value_counts()"
   ]
  },
  {
   "cell_type": "code",
   "execution_count": 16,
   "id": "c0b6b9fb",
   "metadata": {},
   "outputs": [
    {
     "data": {
      "text/plain": [
       "Insulation     9421\n",
       "Food           9104\n",
       "Electronics    7854\n",
       "Clothing       7373\n",
       "Grocery        7052\n",
       "Retail         6927\n",
       "Footwear       6570\n",
       "Airways        6518\n",
       "Hotels         6021\n",
       "Rental Car     5889\n",
       "Name: TYPE of TRANSACTION, dtype: int64"
      ]
     },
     "execution_count": 16,
     "metadata": {},
     "output_type": "execute_result"
    }
   ],
   "source": [
    "df1['TYPE of TRANSACTION'][df1[\"FRAUD\"] == 0].value_counts()"
   ]
  },
  {
   "cell_type": "code",
   "execution_count": 17,
   "id": "f844625f",
   "metadata": {},
   "outputs": [
    {
     "data": {
      "text/plain": [
       "3456"
      ]
     },
     "execution_count": 17,
     "metadata": {},
     "output_type": "execute_result"
    }
   ],
   "source": [
    "df1['CUSTOMER_ID'].value_counts().count()"
   ]
  },
  {
   "cell_type": "code",
   "execution_count": 18,
   "id": "9cd0b09f",
   "metadata": {
    "scrolled": true
   },
   "outputs": [
    {
     "data": {
      "text/plain": [
       "1848    57\n",
       "571     57\n",
       "1157    57\n",
       "98      56\n",
       "1881    55\n",
       "        ..\n",
       "2288     1\n",
       "2145     1\n",
       "4917     1\n",
       "2023     1\n",
       "1896     1\n",
       "Name: CUSTOMER_ID, Length: 3456, dtype: int64"
      ]
     },
     "execution_count": 18,
     "metadata": {},
     "output_type": "execute_result"
    }
   ],
   "source": [
    "df1['CUSTOMER_ID'].value_counts()"
   ]
  },
  {
   "cell_type": "code",
   "execution_count": 19,
   "id": "dc584814",
   "metadata": {
    "scrolled": true
   },
   "outputs": [
    {
     "data": {
      "text/plain": [
       "1692    5\n",
       "613     5\n",
       "701     5\n",
       "1085    5\n",
       "1743    5\n",
       "       ..\n",
       "1719    1\n",
       "1708    1\n",
       "1706    1\n",
       "1693    1\n",
       "1992    1\n",
       "Name: CUSTOMER_ID, Length: 536, dtype: int64"
      ]
     },
     "execution_count": 19,
     "metadata": {},
     "output_type": "execute_result"
    }
   ],
   "source": [
    "df1['CUSTOMER_ID'][df1[\"FRAUD\"] == 1].value_counts()"
   ]
  },
  {
   "cell_type": "code",
   "execution_count": 20,
   "id": "b2126751",
   "metadata": {},
   "outputs": [
    {
     "data": {
      "text/plain": [
       "571     57\n",
       "1848    57\n",
       "1157    57\n",
       "98      56\n",
       "1881    55\n",
       "        ..\n",
       "2357     1\n",
       "2288     1\n",
       "2145     1\n",
       "4917     1\n",
       "1896     1\n",
       "Name: CUSTOMER_ID, Length: 3455, dtype: int64"
      ]
     },
     "execution_count": 20,
     "metadata": {},
     "output_type": "execute_result"
    }
   ],
   "source": [
    "df1['CUSTOMER_ID'][df1[\"FRAUD\"] == 0].value_counts()"
   ]
  },
  {
   "cell_type": "code",
   "execution_count": 21,
   "id": "ae10791d",
   "metadata": {
    "scrolled": false
   },
   "outputs": [
    {
     "data": {
      "text/plain": [
       "Food           0.163110\n",
       "Insulation     0.138720\n",
       "Electronics    0.117378\n",
       "Retail         0.111280\n",
       "Airways        0.100610\n",
       "Hotels         0.099085\n",
       "Grocery        0.096037\n",
       "Footwear       0.077744\n",
       "Rental Car     0.064024\n",
       "Clothing       0.032012\n",
       "Name: TYPE of TRANSACTION, dtype: float64"
      ]
     },
     "execution_count": 21,
     "metadata": {},
     "output_type": "execute_result"
    }
   ],
   "source": [
    "df1[\"TYPE of TRANSACTION\"][df1[\"FRAUD\"] == 1].value_counts(normalize=True)"
   ]
  },
  {
   "cell_type": "code",
   "execution_count": 22,
   "id": "98bba009",
   "metadata": {
    "scrolled": true
   },
   "outputs": [
    {
     "data": {
      "text/plain": [
       "Insulation     0.129536\n",
       "Food           0.125177\n",
       "Electronics    0.107990\n",
       "Clothing       0.101376\n",
       "Grocery        0.096963\n",
       "Retail         0.095244\n",
       "Footwear       0.090335\n",
       "Airways        0.089620\n",
       "Hotels         0.082787\n",
       "Rental Car     0.080972\n",
       "Name: TYPE of TRANSACTION, dtype: float64"
      ]
     },
     "execution_count": 22,
     "metadata": {},
     "output_type": "execute_result"
    }
   ],
   "source": [
    "df1[\"TYPE of TRANSACTION\"][df1[\"FRAUD\"] == 0].value_counts(normalize=True)"
   ]
  },
  {
   "cell_type": "code",
   "execution_count": 23,
   "id": "ddedeeec",
   "metadata": {},
   "outputs": [
    {
     "data": {
      "text/html": [
       "<div>\n",
       "<style scoped>\n",
       "    .dataframe tbody tr th:only-of-type {\n",
       "        vertical-align: middle;\n",
       "    }\n",
       "\n",
       "    .dataframe tbody tr th {\n",
       "        vertical-align: top;\n",
       "    }\n",
       "\n",
       "    .dataframe thead th {\n",
       "        text-align: right;\n",
       "    }\n",
       "</style>\n",
       "<table border=\"1\" class=\"dataframe\">\n",
       "  <thead>\n",
       "    <tr style=\"text-align: right;\">\n",
       "      <th></th>\n",
       "      <th>DATETIME</th>\n",
       "      <th>CUSTOMER_ID</th>\n",
       "      <th>TYPE of TRANSACTION</th>\n",
       "      <th>TRASCATION AMOUNT</th>\n",
       "      <th>TIME_SECONDS</th>\n",
       "      <th>DAYS_SINCE_FIRST_TRANSACTION</th>\n",
       "      <th>FRAUD</th>\n",
       "    </tr>\n",
       "  </thead>\n",
       "  <tbody>\n",
       "    <tr>\n",
       "      <th>0</th>\n",
       "      <td>2018-09-20 11:49:41</td>\n",
       "      <td>0</td>\n",
       "      <td>Hotels</td>\n",
       "      <td>88.11</td>\n",
       "      <td>14903381</td>\n",
       "      <td>172</td>\n",
       "      <td>0</td>\n",
       "    </tr>\n",
       "    <tr>\n",
       "      <th>1</th>\n",
       "      <td>2018-09-20 20:21:57</td>\n",
       "      <td>0</td>\n",
       "      <td>Grocery</td>\n",
       "      <td>78.25</td>\n",
       "      <td>14934117</td>\n",
       "      <td>172</td>\n",
       "      <td>0</td>\n",
       "    </tr>\n",
       "    <tr>\n",
       "      <th>2</th>\n",
       "      <td>2018-08-01 12:11:36</td>\n",
       "      <td>0</td>\n",
       "      <td>Airways</td>\n",
       "      <td>62.28</td>\n",
       "      <td>10584696</td>\n",
       "      <td>122</td>\n",
       "      <td>0</td>\n",
       "    </tr>\n",
       "    <tr>\n",
       "      <th>3</th>\n",
       "      <td>2018-08-01 13:58:40</td>\n",
       "      <td>0</td>\n",
       "      <td>Airways</td>\n",
       "      <td>80.16</td>\n",
       "      <td>10591120</td>\n",
       "      <td>122</td>\n",
       "      <td>0</td>\n",
       "    </tr>\n",
       "    <tr>\n",
       "      <th>4</th>\n",
       "      <td>2018-06-19 4:18:11</td>\n",
       "      <td>0</td>\n",
       "      <td>Insulation</td>\n",
       "      <td>90.07</td>\n",
       "      <td>6841091</td>\n",
       "      <td>79</td>\n",
       "      <td>0</td>\n",
       "    </tr>\n",
       "  </tbody>\n",
       "</table>\n",
       "</div>"
      ],
      "text/plain": [
       "              DATETIME  CUSTOMER_ID TYPE of TRANSACTION  TRASCATION AMOUNT  \\\n",
       "0  2018-09-20 11:49:41            0              Hotels              88.11   \n",
       "1  2018-09-20 20:21:57            0             Grocery              78.25   \n",
       "2  2018-08-01 12:11:36            0             Airways              62.28   \n",
       "3  2018-08-01 13:58:40            0             Airways              80.16   \n",
       "4   2018-06-19 4:18:11            0          Insulation              90.07   \n",
       "\n",
       "   TIME_SECONDS  DAYS_SINCE_FIRST_TRANSACTION  FRAUD  \n",
       "0      14903381                           172      0  \n",
       "1      14934117                           172      0  \n",
       "2      10584696                           122      0  \n",
       "3      10591120                           122      0  \n",
       "4       6841091                            79      0  "
      ]
     },
     "execution_count": 23,
     "metadata": {},
     "output_type": "execute_result"
    }
   ],
   "source": [
    "df1.head()"
   ]
  },
  {
   "cell_type": "code",
   "execution_count": 24,
   "id": "2d34d8e1",
   "metadata": {},
   "outputs": [
    {
     "data": {
      "text/plain": [
       "(99.11, 0.89)"
      ]
     },
     "execution_count": 24,
     "metadata": {},
     "output_type": "execute_result"
    }
   ],
   "source": [
    "classes=df1['FRAUD'].value_counts()\n",
    "normal_share=round(classes[0]/df1['FRAUD'].count()*100,2)\n",
    "fraud_share=round(classes[1]/df1['FRAUD'].count()*100, 2)\n",
    "normal_share, fraud_share"
   ]
  },
  {
   "cell_type": "code",
   "execution_count": 25,
   "id": "d477ea26",
   "metadata": {},
   "outputs": [
    {
     "data": {
      "text/plain": [
       "0    72729\n",
       "1      656\n",
       "Name: FRAUD, dtype: int64"
      ]
     },
     "execution_count": 25,
     "metadata": {},
     "output_type": "execute_result"
    }
   ],
   "source": [
    "classes"
   ]
  },
  {
   "cell_type": "code",
   "execution_count": 26,
   "id": "3ca740c5",
   "metadata": {
    "scrolled": true
   },
   "outputs": [
    {
     "data": {
      "image/png": "[encoded data removed]",
      "text/plain": [
       "<Figure size 720x360 with 2 Axes>"
      ]
     },
     "metadata": {
      "needs_background": "light"
     },
     "output_type": "display_data"
    }
   ],
   "source": [
    "# bar plot for the number and percentage of fraudulent vs non-fraudulent transcations\n",
    "plt.figure(figsize=(10,5))\n",
    "\n",
    "plt.subplot(1,2,1)\n",
    "sns.countplot(x = df1[\"FRAUD\"])\n",
    "plt.ylabel(\"Number of transaction\")\n",
    "plt.xlabel(\"Class\")\n",
    "plt.title(\"Credit Card Fraud Class - data unbalance\")\n",
    "\n",
    "plt.subplot(1,2,2)\n",
    "fraud_percentage = {'FRAUD':['Non-Fraudulent', 'Fraudulent'], 'Percentage':[normal_share, fraud_share]} \n",
    "df_fraud_percentage = pd.DataFrame(fraud_percentage) \n",
    "sns.barplot(x=df_fraud_percentage['FRAUD'], y=df_fraud_percentage['Percentage'])\n",
    "plt.title('Percentage of fraudulent vs non-fraudulent transcations')\n",
    "\n",
    "plt.show()"
   ]
  },
  {
   "cell_type": "code",
   "execution_count": 27,
   "id": "1fbda31f",
   "metadata": {},
   "outputs": [],
   "source": [
    "counts = df1['CUSTOMER_ID'][df1[\"FRAUD\"] == 0].value_counts()\n",
    "\n",
    "df= df1[    (df1['CUSTOMER_ID'].isin(counts[counts > 10].index)) | (df1[\"FRAUD\"] == 1)   ]\n",
    "\n",
    "# df = df1"
   ]
  },
  {
   "cell_type": "code",
   "execution_count": 28,
   "id": "a78f223a",
   "metadata": {},
   "outputs": [
    {
     "data": {
      "text/plain": [
       "(99.05, 0.95)"
      ]
     },
     "execution_count": 28,
     "metadata": {},
     "output_type": "execute_result"
    }
   ],
   "source": [
    "classes=df['FRAUD'].value_counts()\n",
    "normal_share=round(classes[0]/df['FRAUD'].count()*100,2)\n",
    "fraud_share=round(classes[1]/df['FRAUD'].count()*100, 2)\n",
    "normal_share, fraud_share"
   ]
  },
  {
   "cell_type": "code",
   "execution_count": 29,
   "id": "cdd224a9",
   "metadata": {
    "scrolled": true
   },
   "outputs": [
    {
     "data": {
      "text/plain": [
       "0    68302\n",
       "1      656\n",
       "Name: FRAUD, dtype: int64"
      ]
     },
     "execution_count": 29,
     "metadata": {},
     "output_type": "execute_result"
    }
   ],
   "source": [
    "df[\"FRAUD\"].value_counts()"
   ]
  },
  {
   "cell_type": "code",
   "execution_count": 30,
   "id": "f7d10bf8",
   "metadata": {},
   "outputs": [
    {
     "data": {
      "text/plain": [
       "0    72729\n",
       "1      656\n",
       "Name: FRAUD, dtype: int64"
      ]
     },
     "execution_count": 30,
     "metadata": {},
     "output_type": "execute_result"
    }
   ],
   "source": [
    "df1[\"FRAUD\"].value_counts()"
   ]
  },
  {
   "cell_type": "code",
   "execution_count": 31,
   "id": "d6a3ec72",
   "metadata": {
    "scrolled": false
   },
   "outputs": [],
   "source": [
    "# drop unnecessary columns\n",
    "# df = df.drop(\"SERIAL NUMBER\", axis = 1)\n",
    "df = df.drop(\"TIME_SECONDS\", axis = 1)"
   ]
  },
  {
   "cell_type": "code",
   "execution_count": 32,
   "id": "97052460",
   "metadata": {},
   "outputs": [
    {
     "data": {
      "image/png": "[encoded data removed]",
      "text/plain": [
       "<Figure size 432x288 with 1 Axes>"
      ]
     },
     "metadata": {
      "needs_background": "light"
     },
     "output_type": "display_data"
    },
    {
     "data": {
      "image/png": "[encoded data removed]",
      "text/plain": [
       "<Figure size 432x288 with 1 Axes>"
      ]
     },
     "metadata": {
      "needs_background": "light"
     },
     "output_type": "display_data"
    }
   ],
   "source": [
    "features = [ 'TRASCATION AMOUNT', 'DAYS_SINCE_FIRST_TRANSACTION']\n",
    "\n",
    "for f in features:\n",
    "    sns.scatterplot(x = df[f], y = df[\"FRAUD\"])\n",
    "    title = f + \" FRUAD scatter plot\"\n",
    "    plt.title(title)\n",
    "    plt.show()\n",
    "    "
   ]
  },
  {
   "cell_type": "code",
   "execution_count": 33,
   "id": "9de00ef8",
   "metadata": {
    "scrolled": true
   },
   "outputs": [
    {
     "data": {
      "image/png": "[encoded data removed]",
      "text/plain": [
       "<Figure size 864x288 with 2 Axes>"
      ]
     },
     "metadata": {
      "needs_background": "light"
     },
     "output_type": "display_data"
    },
    {
     "data": {
      "image/png": "[encoded data removed]",
      "text/plain": [
       "<Figure size 864x288 with 2 Axes>"
      ]
     },
     "metadata": {
      "needs_background": "light"
     },
     "output_type": "display_data"
    }
   ],
   "source": [
    "features = ['TRASCATION AMOUNT', 'DAYS_SINCE_FIRST_TRANSACTION']\n",
    "\n",
    "for f in features:\n",
    "    fig, (ax1, ax2) = plt.subplots(2, 1, sharex=True, figsize=(12,4))\n",
    "\n",
    "    ax1.hist(df[f][df[\"FRAUD\"] == 1], bins = 50)\n",
    "    ax1.set_title('Fraudulent')\n",
    "\n",
    "    ax2.hist(df[f][df[\"FRAUD\"] == 0], bins = 50)\n",
    "    ax2.set_title('Genuine')\n",
    "\n",
    "    plt.xlabel(f)\n",
    "    plt.ylabel('Number of Transactions')\n",
    "    plt.show()"
   ]
  },
  {
   "cell_type": "code",
   "execution_count": 34,
   "id": "ca321065",
   "metadata": {
    "scrolled": true
   },
   "outputs": [
    {
     "data": {
      "image/png": "[encoded data removed]",
      "text/plain": [
       "<Figure size 432x288 with 1 Axes>"
      ]
     },
     "metadata": {
      "needs_background": "light"
     },
     "output_type": "display_data"
    },
    {
     "data": {
      "image/png": "[encoded data removed]",
      "text/plain": [
       "<Figure size 432x288 with 1 Axes>"
      ]
     },
     "metadata": {
      "needs_background": "light"
     },
     "output_type": "display_data"
    }
   ],
   "source": [
    "#Boxplot for the features, in order to visualiza the outliers.\n",
    "\n",
    "features = ['TRASCATION AMOUNT', 'DAYS_SINCE_FIRST_TRANSACTION']\n",
    "for f in features:\n",
    "    sns.boxplot(x=df['FRAUD'], y=df[f])\n",
    "    plt.show()\n",
    "    "
   ]
  },
  {
   "cell_type": "code",
   "execution_count": 35,
   "id": "f7dd7869",
   "metadata": {
    "scrolled": true
   },
   "outputs": [
    {
     "data": {
      "text/plain": [
       "<Figure size 432x288 with 0 Axes>"
      ]
     },
     "metadata": {},
     "output_type": "display_data"
    },
    {
     "data": {
      "image/png": "[encoded data removed]",
      "text/plain": [
       "<Figure size 720x360 with 2 Axes>"
      ]
     },
     "metadata": {
      "needs_background": "light"
     },
     "output_type": "display_data"
    }
   ],
   "source": [
    "# Plotting all the variable in displot to visualise the distribution\n",
    "var = ['TRASCATION AMOUNT','DAYS_SINCE_FIRST_TRANSACTION']\n",
    "\n",
    "\n",
    "i = 0\n",
    "t0 = df.loc[df['FRAUD'] == 0]\n",
    "t1 = df.loc[df['FRAUD'] == 1]\n",
    "\n",
    "plt.figure()\n",
    "fig, ax = plt.subplots(1,2,figsize=(10,5))\n",
    "\n",
    "for feature in var:\n",
    "    i += 1\n",
    "    plt.subplot(1,2,i)\n",
    "    sns.kdeplot(t0[feature], bw_method=0.5,label=\"0\")\n",
    "    sns.kdeplot(t1[feature], bw_method=0.5,label=\"1\")\n",
    "    plt.xlabel(feature, fontsize=12)\n",
    "    locs, labels = plt.xticks()\n",
    "    plt.tick_params(axis='both', which='major', labelsize=12)\n",
    "plt.show();"
   ]
  },
  {
   "cell_type": "code",
   "execution_count": 36,
   "id": "5fc6ac5f",
   "metadata": {},
   "outputs": [
    {
     "data": {
      "text/html": [
       "<div>\n",
       "<style scoped>\n",
       "    .dataframe tbody tr th:only-of-type {\n",
       "        vertical-align: middle;\n",
       "    }\n",
       "\n",
       "    .dataframe tbody tr th {\n",
       "        vertical-align: top;\n",
       "    }\n",
       "\n",
       "    .dataframe thead th {\n",
       "        text-align: right;\n",
       "    }\n",
       "</style>\n",
       "<table border=\"1\" class=\"dataframe\">\n",
       "  <thead>\n",
       "    <tr style=\"text-align: right;\">\n",
       "      <th></th>\n",
       "      <th>DATETIME</th>\n",
       "      <th>CUSTOMER_ID</th>\n",
       "      <th>TRASCATION AMOUNT</th>\n",
       "      <th>DAYS_SINCE_FIRST_TRANSACTION</th>\n",
       "      <th>FRAUD</th>\n",
       "      <th>Airways</th>\n",
       "      <th>Clothing</th>\n",
       "      <th>Electronics</th>\n",
       "      <th>Food</th>\n",
       "      <th>Footwear</th>\n",
       "      <th>Grocery</th>\n",
       "      <th>Hotels</th>\n",
       "      <th>Insulation</th>\n",
       "      <th>Rental Car</th>\n",
       "      <th>Retail</th>\n",
       "    </tr>\n",
       "  </thead>\n",
       "  <tbody>\n",
       "    <tr>\n",
       "      <th>0</th>\n",
       "      <td>2018-09-20 11:49:41</td>\n",
       "      <td>0</td>\n",
       "      <td>88.11</td>\n",
       "      <td>172</td>\n",
       "      <td>0</td>\n",
       "      <td>0</td>\n",
       "      <td>0</td>\n",
       "      <td>0</td>\n",
       "      <td>0</td>\n",
       "      <td>0</td>\n",
       "      <td>0</td>\n",
       "      <td>1</td>\n",
       "      <td>0</td>\n",
       "      <td>0</td>\n",
       "      <td>0</td>\n",
       "    </tr>\n",
       "    <tr>\n",
       "      <th>1</th>\n",
       "      <td>2018-09-20 20:21:57</td>\n",
       "      <td>0</td>\n",
       "      <td>78.25</td>\n",
       "      <td>172</td>\n",
       "      <td>0</td>\n",
       "      <td>0</td>\n",
       "      <td>0</td>\n",
       "      <td>0</td>\n",
       "      <td>0</td>\n",
       "      <td>0</td>\n",
       "      <td>1</td>\n",
       "      <td>0</td>\n",
       "      <td>0</td>\n",
       "      <td>0</td>\n",
       "      <td>0</td>\n",
       "    </tr>\n",
       "    <tr>\n",
       "      <th>2</th>\n",
       "      <td>2018-08-01 12:11:36</td>\n",
       "      <td>0</td>\n",
       "      <td>62.28</td>\n",
       "      <td>122</td>\n",
       "      <td>0</td>\n",
       "      <td>1</td>\n",
       "      <td>0</td>\n",
       "      <td>0</td>\n",
       "      <td>0</td>\n",
       "      <td>0</td>\n",
       "      <td>0</td>\n",
       "      <td>0</td>\n",
       "      <td>0</td>\n",
       "      <td>0</td>\n",
       "      <td>0</td>\n",
       "    </tr>\n",
       "    <tr>\n",
       "      <th>3</th>\n",
       "      <td>2018-08-01 13:58:40</td>\n",
       "      <td>0</td>\n",
       "      <td>80.16</td>\n",
       "      <td>122</td>\n",
       "      <td>0</td>\n",
       "      <td>1</td>\n",
       "      <td>0</td>\n",
       "      <td>0</td>\n",
       "      <td>0</td>\n",
       "      <td>0</td>\n",
       "      <td>0</td>\n",
       "      <td>0</td>\n",
       "      <td>0</td>\n",
       "      <td>0</td>\n",
       "      <td>0</td>\n",
       "    </tr>\n",
       "    <tr>\n",
       "      <th>4</th>\n",
       "      <td>2018-06-19 4:18:11</td>\n",
       "      <td>0</td>\n",
       "      <td>90.07</td>\n",
       "      <td>79</td>\n",
       "      <td>0</td>\n",
       "      <td>0</td>\n",
       "      <td>0</td>\n",
       "      <td>0</td>\n",
       "      <td>0</td>\n",
       "      <td>0</td>\n",
       "      <td>0</td>\n",
       "      <td>0</td>\n",
       "      <td>1</td>\n",
       "      <td>0</td>\n",
       "      <td>0</td>\n",
       "    </tr>\n",
       "  </tbody>\n",
       "</table>\n",
       "</div>"
      ],
      "text/plain": [
       "              DATETIME  CUSTOMER_ID  TRASCATION AMOUNT  \\\n",
       "0  2018-09-20 11:49:41            0              88.11   \n",
       "1  2018-09-20 20:21:57            0              78.25   \n",
       "2  2018-08-01 12:11:36            0              62.28   \n",
       "3  2018-08-01 13:58:40            0              80.16   \n",
       "4   2018-06-19 4:18:11            0              90.07   \n",
       "\n",
       "   DAYS_SINCE_FIRST_TRANSACTION  FRAUD  Airways  Clothing  Electronics  Food  \\\n",
       "0                           172      0        0         0            0     0   \n",
       "1                           172      0        0         0            0     0   \n",
       "2                           122      0        1         0            0     0   \n",
       "3                           122      0        1         0            0     0   \n",
       "4                            79      0        0         0            0     0   \n",
       "\n",
       "   Footwear  Grocery  Hotels  Insulation  Rental Car  Retail  \n",
       "0         0        0       1           0           0       0  \n",
       "1         0        1       0           0           0       0  \n",
       "2         0        0       0           0           0       0  \n",
       "3         0        0       0           0           0       0  \n",
       "4         0        0       0           1           0       0  "
      ]
     },
     "execution_count": 36,
     "metadata": {},
     "output_type": "execute_result"
    }
   ],
   "source": [
    "# generate binary values using get_dummies\n",
    "# features = [\"TYPE of TRANSACTION\",\"quarter\",\"weekday_name\",\"month_name\"]\n",
    "df_dum = pd.get_dummies(df, columns=[\"TYPE of TRANSACTION\"],prefix='', prefix_sep='')\n",
    "\n",
    "df_dum.head()"
   ]
  },
  {
   "cell_type": "code",
   "execution_count": 37,
   "id": "c5af5014",
   "metadata": {
    "scrolled": true
   },
   "outputs": [
    {
     "data": {
      "text/html": [
       "<div>\n",
       "<style scoped>\n",
       "    .dataframe tbody tr th:only-of-type {\n",
       "        vertical-align: middle;\n",
       "    }\n",
       "\n",
       "    .dataframe tbody tr th {\n",
       "        vertical-align: top;\n",
       "    }\n",
       "\n",
       "    .dataframe thead th {\n",
       "        text-align: right;\n",
       "    }\n",
       "</style>\n",
       "<table border=\"1\" class=\"dataframe\">\n",
       "  <thead>\n",
       "    <tr style=\"text-align: right;\">\n",
       "      <th></th>\n",
       "      <th>DATETIME</th>\n",
       "      <th>CUSTOMER_ID</th>\n",
       "      <th>TYPE of TRANSACTION</th>\n",
       "      <th>TRASCATION AMOUNT</th>\n",
       "      <th>DAYS_SINCE_FIRST_TRANSACTION</th>\n",
       "      <th>FRAUD</th>\n",
       "    </tr>\n",
       "  </thead>\n",
       "  <tbody>\n",
       "    <tr>\n",
       "      <th>0</th>\n",
       "      <td>2018-09-20 11:49:41</td>\n",
       "      <td>0</td>\n",
       "      <td>Hotels</td>\n",
       "      <td>88.11</td>\n",
       "      <td>172</td>\n",
       "      <td>0</td>\n",
       "    </tr>\n",
       "    <tr>\n",
       "      <th>1</th>\n",
       "      <td>2018-09-20 20:21:57</td>\n",
       "      <td>0</td>\n",
       "      <td>Grocery</td>\n",
       "      <td>78.25</td>\n",
       "      <td>172</td>\n",
       "      <td>0</td>\n",
       "    </tr>\n",
       "    <tr>\n",
       "      <th>2</th>\n",
       "      <td>2018-08-01 12:11:36</td>\n",
       "      <td>0</td>\n",
       "      <td>Airways</td>\n",
       "      <td>62.28</td>\n",
       "      <td>122</td>\n",
       "      <td>0</td>\n",
       "    </tr>\n",
       "    <tr>\n",
       "      <th>3</th>\n",
       "      <td>2018-08-01 13:58:40</td>\n",
       "      <td>0</td>\n",
       "      <td>Airways</td>\n",
       "      <td>80.16</td>\n",
       "      <td>122</td>\n",
       "      <td>0</td>\n",
       "    </tr>\n",
       "    <tr>\n",
       "      <th>4</th>\n",
       "      <td>2018-06-19 4:18:11</td>\n",
       "      <td>0</td>\n",
       "      <td>Insulation</td>\n",
       "      <td>90.07</td>\n",
       "      <td>79</td>\n",
       "      <td>0</td>\n",
       "    </tr>\n",
       "  </tbody>\n",
       "</table>\n",
       "</div>"
      ],
      "text/plain": [
       "              DATETIME  CUSTOMER_ID TYPE of TRANSACTION  TRASCATION AMOUNT  \\\n",
       "0  2018-09-20 11:49:41            0              Hotels              88.11   \n",
       "1  2018-09-20 20:21:57            0             Grocery              78.25   \n",
       "2  2018-08-01 12:11:36            0             Airways              62.28   \n",
       "3  2018-08-01 13:58:40            0             Airways              80.16   \n",
       "4   2018-06-19 4:18:11            0          Insulation              90.07   \n",
       "\n",
       "   DAYS_SINCE_FIRST_TRANSACTION  FRAUD  \n",
       "0                           172      0  \n",
       "1                           172      0  \n",
       "2                           122      0  \n",
       "3                           122      0  \n",
       "4                            79      0  "
      ]
     },
     "execution_count": 37,
     "metadata": {},
     "output_type": "execute_result"
    }
   ],
   "source": [
    "df.head()"
   ]
  },
  {
   "cell_type": "code",
   "execution_count": 38,
   "id": "ec30c622",
   "metadata": {},
   "outputs": [
    {
     "data": {
      "text/plain": [
       "<AxesSubplot:>"
      ]
     },
     "execution_count": 38,
     "metadata": {},
     "output_type": "execute_result"
    },
    {
     "data": {
      "image/png": "[encoded data removed]",
      "text/plain": [
       "<Figure size 1152x360 with 2 Axes>"
      ]
     },
     "metadata": {
      "needs_background": "light"
     },
     "output_type": "display_data"
    }
   ],
   "source": [
    "mask = np.triu(np.ones_like(df.corr(), dtype=bool))\n",
    "plt.figure(figsize = (16,5))\n",
    "sns.heatmap(df.corr(),cmap='RdYlGn_r',annot=True, mask=mask)"
   ]
  },
  {
   "cell_type": "code",
   "execution_count": 39,
   "id": "089d76d1",
   "metadata": {
    "scrolled": true
   },
   "outputs": [
    {
     "data": {
      "image/png": "[encoded data removed]",
      "text/plain": [
       "<Figure size 864x288 with 2 Axes>"
      ]
     },
     "metadata": {
      "needs_background": "light"
     },
     "output_type": "display_data"
    }
   ],
   "source": [
    "# features = [\"TYPE of TRANSACTION\", \"month_name\",\"quarter\",\"time\",\"weekday_name\"]\n",
    "features = [\"TYPE of TRANSACTION\"]\n",
    "for f in features:\n",
    "    \n",
    "    fig, (ax1, ax2) = plt.subplots(2, 1, sharex=True, figsize=(12,4))\n",
    "    \n",
    "    Feature = df[f][df[\"FRAUD\"] == 1].value_counts(normalize=True).index\n",
    "    perc = 100*df[f][df[\"FRAUD\"] == 1].value_counts(normalize=True).values\n",
    "\n",
    "    ax1 = sns.barplot(data=pd.DataFrame({'Feature':Feature, 'Percent':perc}), x='Feature', y='Percent',ax=ax1)\n",
    "\n",
    "    Feature = df[f][df[\"FRAUD\"] == 0].value_counts(normalize=True).index\n",
    "    perc = 100*df[f][df[\"FRAUD\"] == 0].value_counts(normalize=True).values\n",
    "    \n",
    "    ax2 = sns.barplot(data=pd.DataFrame({'Feature':Feature, 'Percent':perc}), x='Feature', y='Percent',ax=ax2)\n",
    "    \n",
    "    \n",
    "    ax2.set(ylabel=None)\n",
    "    ax1.set(xlabel=None)\n",
    "    ax1.set(ylabel=None)\n",
    "    \n",
    "    plt.xlabel(f)\n",
    "    plt.ylabel(\"Percent\")\n",
    "    locs, labels = plt.xticks()\n",
    "    plt.setp(labels, rotation=45)\n",
    "    plt.show()"
   ]
  },
  {
   "cell_type": "markdown",
   "id": "9606c0be",
   "metadata": {},
   "source": [
    "vif to check multicollinearity"
   ]
  },
  {
   "cell_type": "code",
   "execution_count": 40,
   "id": "f2bdd776",
   "metadata": {},
   "outputs": [],
   "source": [
    "# load statmodels functions\n",
    "from statsmodels.stats.outliers_influence import variance_inflation_factor\n",
    "from statsmodels.tools.tools import add_constant\n",
    "\n",
    "# compute the vif for all given features \n",
    "def compute_vif(considered_features):\n",
    "    \n",
    "    X = df[considered_features]\n",
    "    # the calculation of variance inflation requires a constant\n",
    "    X = X.copy()\n",
    "    X[\"intercept\"] = 1\n",
    "\n",
    "    \n",
    "    # create dataframe to store vif values\n",
    "    vif = pd.DataFrame()\n",
    "    vif[\"Variable\"] = X.columns\n",
    "    vif[\"VIF\"] = [variance_inflation_factor(X.values, i) for i in range(X.shape[1])]\n",
    "    vif = vif[vif['Variable']!='intercept']\n",
    "    return vif"
   ]
  },
  {
   "cell_type": "code",
   "execution_count": 41,
   "id": "c4b3296f",
   "metadata": {
    "scrolled": true
   },
   "outputs": [
    {
     "data": {
      "text/html": [
       "<div>\n",
       "<style scoped>\n",
       "    .dataframe tbody tr th:only-of-type {\n",
       "        vertical-align: middle;\n",
       "    }\n",
       "\n",
       "    .dataframe tbody tr th {\n",
       "        vertical-align: top;\n",
       "    }\n",
       "\n",
       "    .dataframe thead th {\n",
       "        text-align: right;\n",
       "    }\n",
       "</style>\n",
       "<table border=\"1\" class=\"dataframe\">\n",
       "  <thead>\n",
       "    <tr style=\"text-align: right;\">\n",
       "      <th></th>\n",
       "      <th>Variable</th>\n",
       "      <th>VIF</th>\n",
       "    </tr>\n",
       "  </thead>\n",
       "  <tbody>\n",
       "    <tr>\n",
       "      <th>0</th>\n",
       "      <td>CUSTOMER_ID</td>\n",
       "      <td>1.001457</td>\n",
       "    </tr>\n",
       "    <tr>\n",
       "      <th>2</th>\n",
       "      <td>DAYS_SINCE_FIRST_TRANSACTION</td>\n",
       "      <td>1.001379</td>\n",
       "    </tr>\n",
       "    <tr>\n",
       "      <th>1</th>\n",
       "      <td>TRASCATION AMOUNT</td>\n",
       "      <td>1.000086</td>\n",
       "    </tr>\n",
       "  </tbody>\n",
       "</table>\n",
       "</div>"
      ],
      "text/plain": [
       "                       Variable       VIF\n",
       "0                   CUSTOMER_ID  1.001457\n",
       "2  DAYS_SINCE_FIRST_TRANSACTION  1.001379\n",
       "1             TRASCATION AMOUNT  1.000086"
      ]
     },
     "execution_count": 41,
     "metadata": {},
     "output_type": "execute_result"
    }
   ],
   "source": [
    "# # features to consider removing\n",
    "# considered_features = [\"TYPE of TRANSACTION\", \"month\", \"quarter\",\"dayofweek\",\"time\",\"weekday_name\"]\n",
    "considered_features = ['CUSTOMER_ID','TRASCATION AMOUNT','DAYS_SINCE_FIRST_TRANSACTION']\n",
    "\n",
    "\n",
    "# compute vif \n",
    "compute_vif(considered_features).sort_values('VIF', ascending=False)"
   ]
  },
  {
   "cell_type": "markdown",
   "id": "61545ac4",
   "metadata": {},
   "source": [
    "Splitting the data into test and train"
   ]
  },
  {
   "cell_type": "code",
   "execution_count": 42,
   "id": "2b3d50d9",
   "metadata": {},
   "outputs": [],
   "source": [
    "df = df_dum"
   ]
  },
  {
   "cell_type": "code",
   "execution_count": 302,
   "id": "3b7be3e2",
   "metadata": {},
   "outputs": [
    {
     "data": {
      "text/html": [
       "<div>\n",
       "<style scoped>\n",
       "    .dataframe tbody tr th:only-of-type {\n",
       "        vertical-align: middle;\n",
       "    }\n",
       "\n",
       "    .dataframe tbody tr th {\n",
       "        vertical-align: top;\n",
       "    }\n",
       "\n",
       "    .dataframe thead th {\n",
       "        text-align: right;\n",
       "    }\n",
       "</style>\n",
       "<table border=\"1\" class=\"dataframe\">\n",
       "  <thead>\n",
       "    <tr style=\"text-align: right;\">\n",
       "      <th></th>\n",
       "      <th>DATETIME</th>\n",
       "      <th>CUSTOMER_ID</th>\n",
       "      <th>TRASCATION AMOUNT</th>\n",
       "      <th>DAYS_SINCE_FIRST_TRANSACTION</th>\n",
       "      <th>FRAUD</th>\n",
       "      <th>Airways</th>\n",
       "      <th>Clothing</th>\n",
       "      <th>Electronics</th>\n",
       "      <th>Food</th>\n",
       "      <th>Footwear</th>\n",
       "      <th>Grocery</th>\n",
       "      <th>Hotels</th>\n",
       "      <th>Insulation</th>\n",
       "      <th>Rental Car</th>\n",
       "      <th>Retail</th>\n",
       "    </tr>\n",
       "  </thead>\n",
       "  <tbody>\n",
       "    <tr>\n",
       "      <th>0</th>\n",
       "      <td>2018-09-20 11:49:41</td>\n",
       "      <td>0</td>\n",
       "      <td>88.11</td>\n",
       "      <td>172</td>\n",
       "      <td>0</td>\n",
       "      <td>0</td>\n",
       "      <td>0</td>\n",
       "      <td>0</td>\n",
       "      <td>0</td>\n",
       "      <td>0</td>\n",
       "      <td>0</td>\n",
       "      <td>1</td>\n",
       "      <td>0</td>\n",
       "      <td>0</td>\n",
       "      <td>0</td>\n",
       "    </tr>\n",
       "    <tr>\n",
       "      <th>1</th>\n",
       "      <td>2018-09-20 20:21:57</td>\n",
       "      <td>0</td>\n",
       "      <td>78.25</td>\n",
       "      <td>172</td>\n",
       "      <td>0</td>\n",
       "      <td>0</td>\n",
       "      <td>0</td>\n",
       "      <td>0</td>\n",
       "      <td>0</td>\n",
       "      <td>0</td>\n",
       "      <td>1</td>\n",
       "      <td>0</td>\n",
       "      <td>0</td>\n",
       "      <td>0</td>\n",
       "      <td>0</td>\n",
       "    </tr>\n",
       "    <tr>\n",
       "      <th>2</th>\n",
       "      <td>2018-08-01 12:11:36</td>\n",
       "      <td>0</td>\n",
       "      <td>62.28</td>\n",
       "      <td>122</td>\n",
       "      <td>0</td>\n",
       "      <td>1</td>\n",
       "      <td>0</td>\n",
       "      <td>0</td>\n",
       "      <td>0</td>\n",
       "      <td>0</td>\n",
       "      <td>0</td>\n",
       "      <td>0</td>\n",
       "      <td>0</td>\n",
       "      <td>0</td>\n",
       "      <td>0</td>\n",
       "    </tr>\n",
       "    <tr>\n",
       "      <th>3</th>\n",
       "      <td>2018-08-01 13:58:40</td>\n",
       "      <td>0</td>\n",
       "      <td>80.16</td>\n",
       "      <td>122</td>\n",
       "      <td>0</td>\n",
       "      <td>1</td>\n",
       "      <td>0</td>\n",
       "      <td>0</td>\n",
       "      <td>0</td>\n",
       "      <td>0</td>\n",
       "      <td>0</td>\n",
       "      <td>0</td>\n",
       "      <td>0</td>\n",
       "      <td>0</td>\n",
       "      <td>0</td>\n",
       "    </tr>\n",
       "    <tr>\n",
       "      <th>4</th>\n",
       "      <td>2018-06-19 4:18:11</td>\n",
       "      <td>0</td>\n",
       "      <td>90.07</td>\n",
       "      <td>79</td>\n",
       "      <td>0</td>\n",
       "      <td>0</td>\n",
       "      <td>0</td>\n",
       "      <td>0</td>\n",
       "      <td>0</td>\n",
       "      <td>0</td>\n",
       "      <td>0</td>\n",
       "      <td>0</td>\n",
       "      <td>1</td>\n",
       "      <td>0</td>\n",
       "      <td>0</td>\n",
       "    </tr>\n",
       "  </tbody>\n",
       "</table>\n",
       "</div>"
      ],
      "text/plain": [
       "              DATETIME  CUSTOMER_ID  TRASCATION AMOUNT  \\\n",
       "0  2018-09-20 11:49:41            0              88.11   \n",
       "1  2018-09-20 20:21:57            0              78.25   \n",
       "2  2018-08-01 12:11:36            0              62.28   \n",
       "3  2018-08-01 13:58:40            0              80.16   \n",
       "4   2018-06-19 4:18:11            0              90.07   \n",
       "\n",
       "   DAYS_SINCE_FIRST_TRANSACTION  FRAUD  Airways  Clothing  Electronics  Food  \\\n",
       "0                           172      0        0         0            0     0   \n",
       "1                           172      0        0         0            0     0   \n",
       "2                           122      0        1         0            0     0   \n",
       "3                           122      0        1         0            0     0   \n",
       "4                            79      0        0         0            0     0   \n",
       "\n",
       "   Footwear  Grocery  Hotels  Insulation  Rental Car  Retail  \n",
       "0         0        0       1           0           0       0  \n",
       "1         0        1       0           0           0       0  \n",
       "2         0        0       0           0           0       0  \n",
       "3         0        0       0           0           0       0  \n",
       "4         0        0       0           1           0       0  "
      ]
     },
     "execution_count": 302,
     "metadata": {},
     "output_type": "execute_result"
    }
   ],
   "source": [
    "df.head()"
   ]
  },
  {
   "cell_type": "code",
   "execution_count": 256,
   "id": "97598533",
   "metadata": {},
   "outputs": [],
   "source": [
    "#drop date columns \n",
    "# df_dum = df_le.drop([\"DATETIME\",\"date\",\"weekday_name\"],axis=1)\n",
    "df_dum = df_dum.drop([\"DATETIME\"],axis=1)"
   ]
  },
  {
   "cell_type": "code",
   "execution_count": 45,
   "id": "3d0b2ec1",
   "metadata": {
    "scrolled": true
   },
   "outputs": [
    {
     "data": {
      "text/html": [
       "<div>\n",
       "<style scoped>\n",
       "    .dataframe tbody tr th:only-of-type {\n",
       "        vertical-align: middle;\n",
       "    }\n",
       "\n",
       "    .dataframe tbody tr th {\n",
       "        vertical-align: top;\n",
       "    }\n",
       "\n",
       "    .dataframe thead th {\n",
       "        text-align: right;\n",
       "    }\n",
       "</style>\n",
       "<table border=\"1\" class=\"dataframe\">\n",
       "  <thead>\n",
       "    <tr style=\"text-align: right;\">\n",
       "      <th></th>\n",
       "      <th>CUSTOMER_ID</th>\n",
       "      <th>TRASCATION AMOUNT</th>\n",
       "      <th>DAYS_SINCE_FIRST_TRANSACTION</th>\n",
       "      <th>FRAUD</th>\n",
       "      <th>Airways</th>\n",
       "      <th>Clothing</th>\n",
       "      <th>Electronics</th>\n",
       "      <th>Food</th>\n",
       "      <th>Footwear</th>\n",
       "      <th>Grocery</th>\n",
       "      <th>Hotels</th>\n",
       "      <th>Insulation</th>\n",
       "      <th>Rental Car</th>\n",
       "      <th>Retail</th>\n",
       "    </tr>\n",
       "  </thead>\n",
       "  <tbody>\n",
       "    <tr>\n",
       "      <th>0</th>\n",
       "      <td>0</td>\n",
       "      <td>88.11</td>\n",
       "      <td>172</td>\n",
       "      <td>0</td>\n",
       "      <td>0</td>\n",
       "      <td>0</td>\n",
       "      <td>0</td>\n",
       "      <td>0</td>\n",
       "      <td>0</td>\n",
       "      <td>0</td>\n",
       "      <td>1</td>\n",
       "      <td>0</td>\n",
       "      <td>0</td>\n",
       "      <td>0</td>\n",
       "    </tr>\n",
       "    <tr>\n",
       "      <th>1</th>\n",
       "      <td>0</td>\n",
       "      <td>78.25</td>\n",
       "      <td>172</td>\n",
       "      <td>0</td>\n",
       "      <td>0</td>\n",
       "      <td>0</td>\n",
       "      <td>0</td>\n",
       "      <td>0</td>\n",
       "      <td>0</td>\n",
       "      <td>1</td>\n",
       "      <td>0</td>\n",
       "      <td>0</td>\n",
       "      <td>0</td>\n",
       "      <td>0</td>\n",
       "    </tr>\n",
       "    <tr>\n",
       "      <th>2</th>\n",
       "      <td>0</td>\n",
       "      <td>62.28</td>\n",
       "      <td>122</td>\n",
       "      <td>0</td>\n",
       "      <td>1</td>\n",
       "      <td>0</td>\n",
       "      <td>0</td>\n",
       "      <td>0</td>\n",
       "      <td>0</td>\n",
       "      <td>0</td>\n",
       "      <td>0</td>\n",
       "      <td>0</td>\n",
       "      <td>0</td>\n",
       "      <td>0</td>\n",
       "    </tr>\n",
       "    <tr>\n",
       "      <th>3</th>\n",
       "      <td>0</td>\n",
       "      <td>80.16</td>\n",
       "      <td>122</td>\n",
       "      <td>0</td>\n",
       "      <td>1</td>\n",
       "      <td>0</td>\n",
       "      <td>0</td>\n",
       "      <td>0</td>\n",
       "      <td>0</td>\n",
       "      <td>0</td>\n",
       "      <td>0</td>\n",
       "      <td>0</td>\n",
       "      <td>0</td>\n",
       "      <td>0</td>\n",
       "    </tr>\n",
       "    <tr>\n",
       "      <th>4</th>\n",
       "      <td>0</td>\n",
       "      <td>90.07</td>\n",
       "      <td>79</td>\n",
       "      <td>0</td>\n",
       "      <td>0</td>\n",
       "      <td>0</td>\n",
       "      <td>0</td>\n",
       "      <td>0</td>\n",
       "      <td>0</td>\n",
       "      <td>0</td>\n",
       "      <td>0</td>\n",
       "      <td>1</td>\n",
       "      <td>0</td>\n",
       "      <td>0</td>\n",
       "    </tr>\n",
       "  </tbody>\n",
       "</table>\n",
       "</div>"
      ],
      "text/plain": [
       "   CUSTOMER_ID  TRASCATION AMOUNT  DAYS_SINCE_FIRST_TRANSACTION  FRAUD  \\\n",
       "0            0              88.11                           172      0   \n",
       "1            0              78.25                           172      0   \n",
       "2            0              62.28                           122      0   \n",
       "3            0              80.16                           122      0   \n",
       "4            0              90.07                            79      0   \n",
       "\n",
       "   Airways  Clothing  Electronics  Food  Footwear  Grocery  Hotels  \\\n",
       "0        0         0            0     0         0        0       1   \n",
       "1        0         0            0     0         0        1       0   \n",
       "2        1         0            0     0         0        0       0   \n",
       "3        1         0            0     0         0        0       0   \n",
       "4        0         0            0     0         0        0       0   \n",
       "\n",
       "   Insulation  Rental Car  Retail  \n",
       "0           0           0       0  \n",
       "1           0           0       0  \n",
       "2           0           0       0  \n",
       "3           0           0       0  \n",
       "4           1           0       0  "
      ]
     },
     "execution_count": 45,
     "metadata": {},
     "output_type": "execute_result"
    }
   ],
   "source": [
    "df_dum.head()"
   ]
  },
  {
   "cell_type": "code",
   "execution_count": 44,
   "id": "05296f83",
   "metadata": {},
   "outputs": [],
   "source": [
    "y= df_dum[\"FRAUD\"]\n",
    "X = df_dum.drop(\"FRAUD\", axis = 1)"
   ]
  },
  {
   "cell_type": "code",
   "execution_count": 45,
   "id": "d9fa08cd",
   "metadata": {},
   "outputs": [
    {
     "data": {
      "text/html": [
       "<div>\n",
       "<style scoped>\n",
       "    .dataframe tbody tr th:only-of-type {\n",
       "        vertical-align: middle;\n",
       "    }\n",
       "\n",
       "    .dataframe tbody tr th {\n",
       "        vertical-align: top;\n",
       "    }\n",
       "\n",
       "    .dataframe thead th {\n",
       "        text-align: right;\n",
       "    }\n",
       "</style>\n",
       "<table border=\"1\" class=\"dataframe\">\n",
       "  <thead>\n",
       "    <tr style=\"text-align: right;\">\n",
       "      <th></th>\n",
       "      <th>CUSTOMER_ID</th>\n",
       "      <th>TRASCATION AMOUNT</th>\n",
       "      <th>DAYS_SINCE_FIRST_TRANSACTION</th>\n",
       "      <th>Airways</th>\n",
       "      <th>Clothing</th>\n",
       "      <th>Electronics</th>\n",
       "      <th>Food</th>\n",
       "      <th>Footwear</th>\n",
       "      <th>Grocery</th>\n",
       "      <th>Hotels</th>\n",
       "      <th>Insulation</th>\n",
       "      <th>Rental Car</th>\n",
       "      <th>Retail</th>\n",
       "    </tr>\n",
       "  </thead>\n",
       "  <tbody>\n",
       "    <tr>\n",
       "      <th>0</th>\n",
       "      <td>0</td>\n",
       "      <td>88.11</td>\n",
       "      <td>172</td>\n",
       "      <td>0</td>\n",
       "      <td>0</td>\n",
       "      <td>0</td>\n",
       "      <td>0</td>\n",
       "      <td>0</td>\n",
       "      <td>0</td>\n",
       "      <td>1</td>\n",
       "      <td>0</td>\n",
       "      <td>0</td>\n",
       "      <td>0</td>\n",
       "    </tr>\n",
       "    <tr>\n",
       "      <th>1</th>\n",
       "      <td>0</td>\n",
       "      <td>78.25</td>\n",
       "      <td>172</td>\n",
       "      <td>0</td>\n",
       "      <td>0</td>\n",
       "      <td>0</td>\n",
       "      <td>0</td>\n",
       "      <td>0</td>\n",
       "      <td>1</td>\n",
       "      <td>0</td>\n",
       "      <td>0</td>\n",
       "      <td>0</td>\n",
       "      <td>0</td>\n",
       "    </tr>\n",
       "    <tr>\n",
       "      <th>2</th>\n",
       "      <td>0</td>\n",
       "      <td>62.28</td>\n",
       "      <td>122</td>\n",
       "      <td>1</td>\n",
       "      <td>0</td>\n",
       "      <td>0</td>\n",
       "      <td>0</td>\n",
       "      <td>0</td>\n",
       "      <td>0</td>\n",
       "      <td>0</td>\n",
       "      <td>0</td>\n",
       "      <td>0</td>\n",
       "      <td>0</td>\n",
       "    </tr>\n",
       "    <tr>\n",
       "      <th>3</th>\n",
       "      <td>0</td>\n",
       "      <td>80.16</td>\n",
       "      <td>122</td>\n",
       "      <td>1</td>\n",
       "      <td>0</td>\n",
       "      <td>0</td>\n",
       "      <td>0</td>\n",
       "      <td>0</td>\n",
       "      <td>0</td>\n",
       "      <td>0</td>\n",
       "      <td>0</td>\n",
       "      <td>0</td>\n",
       "      <td>0</td>\n",
       "    </tr>\n",
       "    <tr>\n",
       "      <th>4</th>\n",
       "      <td>0</td>\n",
       "      <td>90.07</td>\n",
       "      <td>79</td>\n",
       "      <td>0</td>\n",
       "      <td>0</td>\n",
       "      <td>0</td>\n",
       "      <td>0</td>\n",
       "      <td>0</td>\n",
       "      <td>0</td>\n",
       "      <td>0</td>\n",
       "      <td>1</td>\n",
       "      <td>0</td>\n",
       "      <td>0</td>\n",
       "    </tr>\n",
       "  </tbody>\n",
       "</table>\n",
       "</div>"
      ],
      "text/plain": [
       "   CUSTOMER_ID  TRASCATION AMOUNT  DAYS_SINCE_FIRST_TRANSACTION  Airways  \\\n",
       "0            0              88.11                           172        0   \n",
       "1            0              78.25                           172        0   \n",
       "2            0              62.28                           122        1   \n",
       "3            0              80.16                           122        1   \n",
       "4            0              90.07                            79        0   \n",
       "\n",
       "   Clothing  Electronics  Food  Footwear  Grocery  Hotels  Insulation  \\\n",
       "0         0            0     0         0        0       1           0   \n",
       "1         0            0     0         0        1       0           0   \n",
       "2         0            0     0         0        0       0           0   \n",
       "3         0            0     0         0        0       0           0   \n",
       "4         0            0     0         0        0       0           1   \n",
       "\n",
       "   Rental Car  Retail  \n",
       "0           0       0  \n",
       "1           0       0  \n",
       "2           0       0  \n",
       "3           0       0  \n",
       "4           0       0  "
      ]
     },
     "execution_count": 45,
     "metadata": {},
     "output_type": "execute_result"
    }
   ],
   "source": [
    "X.head()"
   ]
  },
  {
   "cell_type": "code",
   "execution_count": 46,
   "id": "5aa3b3ac",
   "metadata": {
    "scrolled": true
   },
   "outputs": [],
   "source": [
    "# from sklearn.preprocessing import MinMaxScaler\n",
    "# cols_to_norm = ['TRASCATION AMOUNT','DAYS_SINCE_FIRST_TRANSACTION']\n",
    "\n",
    "# scaler = MinMaxScaler()\n",
    "# X[cols_to_norm] = scaler.fit_transform(X[cols_to_norm])"
   ]
  },
  {
   "cell_type": "code",
   "execution_count": 47,
   "id": "4610d8ad",
   "metadata": {},
   "outputs": [],
   "source": [
    "# PCA or not\n",
    "X_scaled = X"
   ]
  },
  {
   "cell_type": "code",
   "execution_count": 48,
   "id": "9e0e2965",
   "metadata": {},
   "outputs": [],
   "source": [
    "X_scaled_df = pd.DataFrame(X_scaled, index=X.index, columns=X.columns)"
   ]
  },
  {
   "cell_type": "code",
   "execution_count": 49,
   "id": "6d80af5c",
   "metadata": {},
   "outputs": [
    {
     "data": {
      "text/html": [
       "<div>\n",
       "<style scoped>\n",
       "    .dataframe tbody tr th:only-of-type {\n",
       "        vertical-align: middle;\n",
       "    }\n",
       "\n",
       "    .dataframe tbody tr th {\n",
       "        vertical-align: top;\n",
       "    }\n",
       "\n",
       "    .dataframe thead th {\n",
       "        text-align: right;\n",
       "    }\n",
       "</style>\n",
       "<table border=\"1\" class=\"dataframe\">\n",
       "  <thead>\n",
       "    <tr style=\"text-align: right;\">\n",
       "      <th></th>\n",
       "      <th>CUSTOMER_ID</th>\n",
       "      <th>TRASCATION AMOUNT</th>\n",
       "      <th>DAYS_SINCE_FIRST_TRANSACTION</th>\n",
       "      <th>Airways</th>\n",
       "      <th>Clothing</th>\n",
       "      <th>Electronics</th>\n",
       "      <th>Food</th>\n",
       "      <th>Footwear</th>\n",
       "      <th>Grocery</th>\n",
       "      <th>Hotels</th>\n",
       "      <th>Insulation</th>\n",
       "      <th>Rental Car</th>\n",
       "      <th>Retail</th>\n",
       "    </tr>\n",
       "  </thead>\n",
       "  <tbody>\n",
       "    <tr>\n",
       "      <th>0</th>\n",
       "      <td>0</td>\n",
       "      <td>88.11</td>\n",
       "      <td>172</td>\n",
       "      <td>0</td>\n",
       "      <td>0</td>\n",
       "      <td>0</td>\n",
       "      <td>0</td>\n",
       "      <td>0</td>\n",
       "      <td>0</td>\n",
       "      <td>1</td>\n",
       "      <td>0</td>\n",
       "      <td>0</td>\n",
       "      <td>0</td>\n",
       "    </tr>\n",
       "    <tr>\n",
       "      <th>1</th>\n",
       "      <td>0</td>\n",
       "      <td>78.25</td>\n",
       "      <td>172</td>\n",
       "      <td>0</td>\n",
       "      <td>0</td>\n",
       "      <td>0</td>\n",
       "      <td>0</td>\n",
       "      <td>0</td>\n",
       "      <td>1</td>\n",
       "      <td>0</td>\n",
       "      <td>0</td>\n",
       "      <td>0</td>\n",
       "      <td>0</td>\n",
       "    </tr>\n",
       "    <tr>\n",
       "      <th>2</th>\n",
       "      <td>0</td>\n",
       "      <td>62.28</td>\n",
       "      <td>122</td>\n",
       "      <td>1</td>\n",
       "      <td>0</td>\n",
       "      <td>0</td>\n",
       "      <td>0</td>\n",
       "      <td>0</td>\n",
       "      <td>0</td>\n",
       "      <td>0</td>\n",
       "      <td>0</td>\n",
       "      <td>0</td>\n",
       "      <td>0</td>\n",
       "    </tr>\n",
       "    <tr>\n",
       "      <th>3</th>\n",
       "      <td>0</td>\n",
       "      <td>80.16</td>\n",
       "      <td>122</td>\n",
       "      <td>1</td>\n",
       "      <td>0</td>\n",
       "      <td>0</td>\n",
       "      <td>0</td>\n",
       "      <td>0</td>\n",
       "      <td>0</td>\n",
       "      <td>0</td>\n",
       "      <td>0</td>\n",
       "      <td>0</td>\n",
       "      <td>0</td>\n",
       "    </tr>\n",
       "    <tr>\n",
       "      <th>4</th>\n",
       "      <td>0</td>\n",
       "      <td>90.07</td>\n",
       "      <td>79</td>\n",
       "      <td>0</td>\n",
       "      <td>0</td>\n",
       "      <td>0</td>\n",
       "      <td>0</td>\n",
       "      <td>0</td>\n",
       "      <td>0</td>\n",
       "      <td>0</td>\n",
       "      <td>1</td>\n",
       "      <td>0</td>\n",
       "      <td>0</td>\n",
       "    </tr>\n",
       "  </tbody>\n",
       "</table>\n",
       "</div>"
      ],
      "text/plain": [
       "   CUSTOMER_ID  TRASCATION AMOUNT  DAYS_SINCE_FIRST_TRANSACTION  Airways  \\\n",
       "0            0              88.11                           172        0   \n",
       "1            0              78.25                           172        0   \n",
       "2            0              62.28                           122        1   \n",
       "3            0              80.16                           122        1   \n",
       "4            0              90.07                            79        0   \n",
       "\n",
       "   Clothing  Electronics  Food  Footwear  Grocery  Hotels  Insulation  \\\n",
       "0         0            0     0         0        0       1           0   \n",
       "1         0            0     0         0        1       0           0   \n",
       "2         0            0     0         0        0       0           0   \n",
       "3         0            0     0         0        0       0           0   \n",
       "4         0            0     0         0        0       0           1   \n",
       "\n",
       "   Rental Car  Retail  \n",
       "0           0       0  \n",
       "1           0       0  \n",
       "2           0       0  \n",
       "3           0       0  \n",
       "4           0       0  "
      ]
     },
     "execution_count": 49,
     "metadata": {},
     "output_type": "execute_result"
    }
   ],
   "source": [
    "X_scaled_df.head()"
   ]
  },
  {
   "cell_type": "code",
   "execution_count": 50,
   "id": "3954bf0b",
   "metadata": {},
   "outputs": [],
   "source": [
    "# Spltting the into 80:20 train test size\n",
    "X_train, X_test, y_train, y_test = train_test_split(X_scaled_df, y, test_size=0.2, random_state = 42, stratify=y)"
   ]
  },
  {
   "cell_type": "code",
   "execution_count": 51,
   "id": "71709828",
   "metadata": {
    "scrolled": true
   },
   "outputs": [
    {
     "data": {
      "text/plain": [
       "0    0.990483\n",
       "1    0.009517\n",
       "Name: FRAUD, dtype: float64"
      ]
     },
     "execution_count": 51,
     "metadata": {},
     "output_type": "execute_result"
    }
   ],
   "source": [
    "y_train.value_counts(normalize=True)"
   ]
  },
  {
   "cell_type": "code",
   "execution_count": 52,
   "id": "eaf359d7",
   "metadata": {},
   "outputs": [
    {
     "data": {
      "text/html": [
       "<div>\n",
       "<style scoped>\n",
       "    .dataframe tbody tr th:only-of-type {\n",
       "        vertical-align: middle;\n",
       "    }\n",
       "\n",
       "    .dataframe tbody tr th {\n",
       "        vertical-align: top;\n",
       "    }\n",
       "\n",
       "    .dataframe thead th {\n",
       "        text-align: right;\n",
       "    }\n",
       "</style>\n",
       "<table border=\"1\" class=\"dataframe\">\n",
       "  <thead>\n",
       "    <tr style=\"text-align: right;\">\n",
       "      <th></th>\n",
       "      <th>CUSTOMER_ID</th>\n",
       "      <th>TRASCATION AMOUNT</th>\n",
       "      <th>DAYS_SINCE_FIRST_TRANSACTION</th>\n",
       "      <th>Airways</th>\n",
       "      <th>Clothing</th>\n",
       "      <th>Electronics</th>\n",
       "      <th>Food</th>\n",
       "      <th>Footwear</th>\n",
       "      <th>Grocery</th>\n",
       "      <th>Hotels</th>\n",
       "      <th>Insulation</th>\n",
       "      <th>Rental Car</th>\n",
       "      <th>Retail</th>\n",
       "    </tr>\n",
       "  </thead>\n",
       "  <tbody>\n",
       "    <tr>\n",
       "      <th>5118</th>\n",
       "      <td>402</td>\n",
       "      <td>101.42</td>\n",
       "      <td>98</td>\n",
       "      <td>1</td>\n",
       "      <td>0</td>\n",
       "      <td>0</td>\n",
       "      <td>0</td>\n",
       "      <td>0</td>\n",
       "      <td>0</td>\n",
       "      <td>0</td>\n",
       "      <td>0</td>\n",
       "      <td>0</td>\n",
       "      <td>0</td>\n",
       "    </tr>\n",
       "    <tr>\n",
       "      <th>45438</th>\n",
       "      <td>3137</td>\n",
       "      <td>95.96</td>\n",
       "      <td>157</td>\n",
       "      <td>0</td>\n",
       "      <td>0</td>\n",
       "      <td>0</td>\n",
       "      <td>0</td>\n",
       "      <td>0</td>\n",
       "      <td>1</td>\n",
       "      <td>0</td>\n",
       "      <td>0</td>\n",
       "      <td>0</td>\n",
       "      <td>0</td>\n",
       "    </tr>\n",
       "    <tr>\n",
       "      <th>12783</th>\n",
       "      <td>826</td>\n",
       "      <td>39.81</td>\n",
       "      <td>4</td>\n",
       "      <td>0</td>\n",
       "      <td>1</td>\n",
       "      <td>0</td>\n",
       "      <td>0</td>\n",
       "      <td>0</td>\n",
       "      <td>0</td>\n",
       "      <td>0</td>\n",
       "      <td>0</td>\n",
       "      <td>0</td>\n",
       "      <td>0</td>\n",
       "    </tr>\n",
       "    <tr>\n",
       "      <th>58993</th>\n",
       "      <td>4266</td>\n",
       "      <td>25.10</td>\n",
       "      <td>9</td>\n",
       "      <td>0</td>\n",
       "      <td>0</td>\n",
       "      <td>0</td>\n",
       "      <td>0</td>\n",
       "      <td>1</td>\n",
       "      <td>0</td>\n",
       "      <td>0</td>\n",
       "      <td>0</td>\n",
       "      <td>0</td>\n",
       "      <td>0</td>\n",
       "    </tr>\n",
       "    <tr>\n",
       "      <th>47908</th>\n",
       "      <td>3324</td>\n",
       "      <td>70.88</td>\n",
       "      <td>108</td>\n",
       "      <td>0</td>\n",
       "      <td>0</td>\n",
       "      <td>1</td>\n",
       "      <td>0</td>\n",
       "      <td>0</td>\n",
       "      <td>0</td>\n",
       "      <td>0</td>\n",
       "      <td>0</td>\n",
       "      <td>0</td>\n",
       "      <td>0</td>\n",
       "    </tr>\n",
       "  </tbody>\n",
       "</table>\n",
       "</div>"
      ],
      "text/plain": [
       "       CUSTOMER_ID  TRASCATION AMOUNT  DAYS_SINCE_FIRST_TRANSACTION  Airways  \\\n",
       "5118           402             101.42                            98        1   \n",
       "45438         3137              95.96                           157        0   \n",
       "12783          826              39.81                             4        0   \n",
       "58993         4266              25.10                             9        0   \n",
       "47908         3324              70.88                           108        0   \n",
       "\n",
       "       Clothing  Electronics  Food  Footwear  Grocery  Hotels  Insulation  \\\n",
       "5118          0            0     0         0        0       0           0   \n",
       "45438         0            0     0         0        1       0           0   \n",
       "12783         1            0     0         0        0       0           0   \n",
       "58993         0            0     0         1        0       0           0   \n",
       "47908         0            1     0         0        0       0           0   \n",
       "\n",
       "       Rental Car  Retail  \n",
       "5118            0       0  \n",
       "45438           0       0  \n",
       "12783           0       0  \n",
       "58993           0       0  \n",
       "47908           0       0  "
      ]
     },
     "execution_count": 52,
     "metadata": {},
     "output_type": "execute_result"
    }
   ],
   "source": [
    "X_train.head()"
   ]
  },
  {
   "cell_type": "markdown",
   "id": "ad79123d",
   "metadata": {},
   "source": [
    "# Model Building with Imbalance data"
   ]
  },
  {
   "cell_type": "code",
   "execution_count": 88,
   "id": "2ae48107",
   "metadata": {},
   "outputs": [],
   "source": [
    "# Creating function to display ROC-AUC score, f1 score and classification report\n",
    "def display_scores(y_test, y_pred):\n",
    "    '''\n",
    "    Display ROC-AUC score, f1 score and classification report of a model.\n",
    "    '''\n",
    "    print(f\"F1 Score: {round(f1_score(y_test, y_pred)*100,2)}%\") \n",
    "    print(f\"Classification Report: \\n {classification_report(y_test, y_pred)}\")"
   ]
  },
  {
   "cell_type": "code",
   "execution_count": 89,
   "id": "2cbc87ba",
   "metadata": {},
   "outputs": [],
   "source": [
    "# ROC Curve function(receiver operating characteristic curve)\n",
    "def draw_roc( actual, probs ):\n",
    "    fpr, tpr, thresholds = metrics.roc_curve( actual, probs,\n",
    "                                              drop_intermediate = False )\n",
    "    auc_score = metrics.roc_auc_score( actual, probs )\n",
    "    plt.figure(figsize=(5, 5))\n",
    "    plt.plot( fpr, tpr, label='ROC curve (area = %0.2f)' % auc_score )\n",
    "    plt.plot([0, 1], [0, 1], 'k--')\n",
    "    plt.xlim([0.0, 1.0])\n",
    "    plt.ylim([0.0, 1.05])\n",
    "    plt.xlabel('False Positive Rate or [1 - True Negative Rate]')\n",
    "    plt.ylabel('True Positive Rate')\n",
    "    plt.title('Receiver operating characteristic example')\n",
    "    plt.legend(loc=\"lower right\")\n",
    "    plt.show()\n",
    "\n",
    "    return None"
   ]
  },
  {
   "cell_type": "markdown",
   "id": "bdc59f2f",
   "metadata": {},
   "source": [
    "## 1.Logistic Regression"
   ]
  },
  {
   "cell_type": "code",
   "execution_count": 55,
   "id": "389a3d85",
   "metadata": {},
   "outputs": [
    {
     "name": "stdout",
     "output_type": "stream",
     "text": [
      "Fitting 5 folds for each of 6 candidates, totalling 30 fits\n",
      "Best ROC AUC score:  0.6928205019535153\n",
      "Best hyperparameters:  {'C': 0.1}\n"
     ]
    }
   ],
   "source": [
    "# Logistic Regression parameters for K-fold cross vaidation\n",
    "params = {\"C\": [0.01, 0.1, 1, 10, 100, 1000]} # larger C - more prone to overfit\n",
    "folds = KFold(n_splits=5, shuffle=True, random_state=4)\n",
    "\n",
    "\n",
    "#perform cross validation\n",
    "model_cv = GridSearchCV(estimator = LogisticRegression(max_iter=1000),\n",
    "                        param_grid = params, \n",
    "                        scoring= 'roc_auc', \n",
    "                        cv = folds, \n",
    "                        n_jobs=-1,\n",
    "                        verbose = 1,\n",
    "                        return_train_score=True) \n",
    "#perform hyperparameter tuning\n",
    "model_cv.fit(X_train, y_train)\n",
    "#print the evaluation result by choosing a evaluation metric\n",
    "print('Best ROC AUC score: ', model_cv.best_score_)\n",
    "#print the optimum value of hyperparameters\n",
    "print('Best hyperparameters: ', model_cv.best_params_)"
   ]
  },
  {
   "cell_type": "code",
   "execution_count": 56,
   "id": "5708a386",
   "metadata": {
    "scrolled": true
   },
   "outputs": [
    {
     "data": {
      "text/html": [
       "<div>\n",
       "<style scoped>\n",
       "    .dataframe tbody tr th:only-of-type {\n",
       "        vertical-align: middle;\n",
       "    }\n",
       "\n",
       "    .dataframe tbody tr th {\n",
       "        vertical-align: top;\n",
       "    }\n",
       "\n",
       "    .dataframe thead th {\n",
       "        text-align: right;\n",
       "    }\n",
       "</style>\n",
       "<table border=\"1\" class=\"dataframe\">\n",
       "  <thead>\n",
       "    <tr style=\"text-align: right;\">\n",
       "      <th></th>\n",
       "      <th>mean_fit_time</th>\n",
       "      <th>std_fit_time</th>\n",
       "      <th>mean_score_time</th>\n",
       "      <th>std_score_time</th>\n",
       "      <th>param_C</th>\n",
       "      <th>params</th>\n",
       "      <th>split0_test_score</th>\n",
       "      <th>split1_test_score</th>\n",
       "      <th>split2_test_score</th>\n",
       "      <th>split3_test_score</th>\n",
       "      <th>...</th>\n",
       "      <th>mean_test_score</th>\n",
       "      <th>std_test_score</th>\n",
       "      <th>rank_test_score</th>\n",
       "      <th>split0_train_score</th>\n",
       "      <th>split1_train_score</th>\n",
       "      <th>split2_train_score</th>\n",
       "      <th>split3_train_score</th>\n",
       "      <th>split4_train_score</th>\n",
       "      <th>mean_train_score</th>\n",
       "      <th>std_train_score</th>\n",
       "    </tr>\n",
       "  </thead>\n",
       "  <tbody>\n",
       "    <tr>\n",
       "      <th>0</th>\n",
       "      <td>1.110528</td>\n",
       "      <td>0.125058</td>\n",
       "      <td>0.017653</td>\n",
       "      <td>0.002099</td>\n",
       "      <td>0.01</td>\n",
       "      <td>{'C': 0.01}</td>\n",
       "      <td>0.685435</td>\n",
       "      <td>0.676002</td>\n",
       "      <td>0.691434</td>\n",
       "      <td>0.709376</td>\n",
       "      <td>...</td>\n",
       "      <td>0.686814</td>\n",
       "      <td>0.013221</td>\n",
       "      <td>6</td>\n",
       "      <td>0.692053</td>\n",
       "      <td>0.691259</td>\n",
       "      <td>0.686056</td>\n",
       "      <td>0.683163</td>\n",
       "      <td>0.692343</td>\n",
       "      <td>0.688975</td>\n",
       "      <td>0.003697</td>\n",
       "    </tr>\n",
       "    <tr>\n",
       "      <th>1</th>\n",
       "      <td>1.263373</td>\n",
       "      <td>0.168099</td>\n",
       "      <td>0.015777</td>\n",
       "      <td>0.003917</td>\n",
       "      <td>0.1</td>\n",
       "      <td>{'C': 0.1}</td>\n",
       "      <td>0.688118</td>\n",
       "      <td>0.679534</td>\n",
       "      <td>0.703030</td>\n",
       "      <td>0.712335</td>\n",
       "      <td>...</td>\n",
       "      <td>0.692821</td>\n",
       "      <td>0.012817</td>\n",
       "      <td>1</td>\n",
       "      <td>0.704946</td>\n",
       "      <td>0.703138</td>\n",
       "      <td>0.695082</td>\n",
       "      <td>0.693398</td>\n",
       "      <td>0.701910</td>\n",
       "      <td>0.699695</td>\n",
       "      <td>0.004588</td>\n",
       "    </tr>\n",
       "    <tr>\n",
       "      <th>2</th>\n",
       "      <td>1.015447</td>\n",
       "      <td>0.341223</td>\n",
       "      <td>0.014251</td>\n",
       "      <td>0.004338</td>\n",
       "      <td>1</td>\n",
       "      <td>{'C': 1}</td>\n",
       "      <td>0.686331</td>\n",
       "      <td>0.680008</td>\n",
       "      <td>0.710203</td>\n",
       "      <td>0.698345</td>\n",
       "      <td>...</td>\n",
       "      <td>0.691049</td>\n",
       "      <td>0.011650</td>\n",
       "      <td>5</td>\n",
       "      <td>0.700104</td>\n",
       "      <td>0.706866</td>\n",
       "      <td>0.698270</td>\n",
       "      <td>0.671671</td>\n",
       "      <td>0.705804</td>\n",
       "      <td>0.696543</td>\n",
       "      <td>0.012858</td>\n",
       "    </tr>\n",
       "    <tr>\n",
       "      <th>3</th>\n",
       "      <td>0.925082</td>\n",
       "      <td>0.304628</td>\n",
       "      <td>0.019834</td>\n",
       "      <td>0.008921</td>\n",
       "      <td>10</td>\n",
       "      <td>{'C': 10}</td>\n",
       "      <td>0.686246</td>\n",
       "      <td>0.682043</td>\n",
       "      <td>0.711040</td>\n",
       "      <td>0.698679</td>\n",
       "      <td>...</td>\n",
       "      <td>0.691565</td>\n",
       "      <td>0.011720</td>\n",
       "      <td>3</td>\n",
       "      <td>0.700123</td>\n",
       "      <td>0.697788</td>\n",
       "      <td>0.698424</td>\n",
       "      <td>0.671841</td>\n",
       "      <td>0.706046</td>\n",
       "      <td>0.694844</td>\n",
       "      <td>0.011866</td>\n",
       "    </tr>\n",
       "    <tr>\n",
       "      <th>4</th>\n",
       "      <td>0.961644</td>\n",
       "      <td>0.309646</td>\n",
       "      <td>0.012349</td>\n",
       "      <td>0.003290</td>\n",
       "      <td>100</td>\n",
       "      <td>{'C': 100}</td>\n",
       "      <td>0.686265</td>\n",
       "      <td>0.682007</td>\n",
       "      <td>0.712236</td>\n",
       "      <td>0.698689</td>\n",
       "      <td>...</td>\n",
       "      <td>0.692660</td>\n",
       "      <td>0.011377</td>\n",
       "      <td>2</td>\n",
       "      <td>0.700123</td>\n",
       "      <td>0.697798</td>\n",
       "      <td>0.689971</td>\n",
       "      <td>0.671853</td>\n",
       "      <td>0.704272</td>\n",
       "      <td>0.692803</td>\n",
       "      <td>0.011463</td>\n",
       "    </tr>\n",
       "    <tr>\n",
       "      <th>5</th>\n",
       "      <td>0.770012</td>\n",
       "      <td>0.177817</td>\n",
       "      <td>0.007220</td>\n",
       "      <td>0.004705</td>\n",
       "      <td>1000</td>\n",
       "      <td>{'C': 1000}</td>\n",
       "      <td>0.686268</td>\n",
       "      <td>0.679625</td>\n",
       "      <td>0.711093</td>\n",
       "      <td>0.698690</td>\n",
       "      <td>...</td>\n",
       "      <td>0.691087</td>\n",
       "      <td>0.012173</td>\n",
       "      <td>4</td>\n",
       "      <td>0.700120</td>\n",
       "      <td>0.706999</td>\n",
       "      <td>0.698524</td>\n",
       "      <td>0.671854</td>\n",
       "      <td>0.706084</td>\n",
       "      <td>0.696716</td>\n",
       "      <td>0.012857</td>\n",
       "    </tr>\n",
       "  </tbody>\n",
       "</table>\n",
       "<p>6 rows × 21 columns</p>\n",
       "</div>"
      ],
      "text/plain": [
       "   mean_fit_time  std_fit_time  mean_score_time  std_score_time param_C  \\\n",
       "0       1.110528      0.125058         0.017653        0.002099    0.01   \n",
       "1       1.263373      0.168099         0.015777        0.003917     0.1   \n",
       "2       1.015447      0.341223         0.014251        0.004338       1   \n",
       "3       0.925082      0.304628         0.019834        0.008921      10   \n",
       "4       0.961644      0.309646         0.012349        0.003290     100   \n",
       "5       0.770012      0.177817         0.007220        0.004705    1000   \n",
       "\n",
       "        params  split0_test_score  split1_test_score  split2_test_score  \\\n",
       "0  {'C': 0.01}           0.685435           0.676002           0.691434   \n",
       "1   {'C': 0.1}           0.688118           0.679534           0.703030   \n",
       "2     {'C': 1}           0.686331           0.680008           0.710203   \n",
       "3    {'C': 10}           0.686246           0.682043           0.711040   \n",
       "4   {'C': 100}           0.686265           0.682007           0.712236   \n",
       "5  {'C': 1000}           0.686268           0.679625           0.711093   \n",
       "\n",
       "   split3_test_score  ...  mean_test_score  std_test_score  rank_test_score  \\\n",
       "0           0.709376  ...         0.686814        0.013221                6   \n",
       "1           0.712335  ...         0.692821        0.012817                1   \n",
       "2           0.698345  ...         0.691049        0.011650                5   \n",
       "3           0.698679  ...         0.691565        0.011720                3   \n",
       "4           0.698689  ...         0.692660        0.011377                2   \n",
       "5           0.698690  ...         0.691087        0.012173                4   \n",
       "\n",
       "   split0_train_score  split1_train_score  split2_train_score  \\\n",
       "0            0.692053            0.691259            0.686056   \n",
       "1            0.704946            0.703138            0.695082   \n",
       "2            0.700104            0.706866            0.698270   \n",
       "3            0.700123            0.697788            0.698424   \n",
       "4            0.700123            0.697798            0.689971   \n",
       "5            0.700120            0.706999            0.698524   \n",
       "\n",
       "   split3_train_score  split4_train_score  mean_train_score  std_train_score  \n",
       "0            0.683163            0.692343          0.688975         0.003697  \n",
       "1            0.693398            0.701910          0.699695         0.004588  \n",
       "2            0.671671            0.705804          0.696543         0.012858  \n",
       "3            0.671841            0.706046          0.694844         0.011866  \n",
       "4            0.671853            0.704272          0.692803         0.011463  \n",
       "5            0.671854            0.706084          0.696716         0.012857  \n",
       "\n",
       "[6 rows x 21 columns]"
      ]
     },
     "execution_count": 56,
     "metadata": {},
     "output_type": "execute_result"
    }
   ],
   "source": [
    "# cross validation results\n",
    "cv_results = pd.DataFrame(model_cv.cv_results_)\n",
    "cv_results"
   ]
  },
  {
   "cell_type": "code",
   "execution_count": 57,
   "id": "75521c4d",
   "metadata": {
    "scrolled": true
   },
   "outputs": [
    {
     "data": {
      "image/png": "[encoded data removed]",
      "text/plain": [
       "<Figure size 576x432 with 1 Axes>"
      ]
     },
     "metadata": {
      "needs_background": "light"
     },
     "output_type": "display_data"
    }
   ],
   "source": [
    "# plot of C versus train and validation scores\n",
    "\n",
    "plt.figure(figsize=(8, 6))\n",
    "plt.plot(cv_results['param_C'], cv_results['mean_test_score'])\n",
    "plt.plot(cv_results['param_C'], cv_results['mean_train_score'])\n",
    "plt.xlabel('C')\n",
    "plt.ylabel('sensitivity')\n",
    "plt.legend(['test result', 'train result'], loc='upper left')\n",
    "plt.xscale('log')"
   ]
  },
  {
   "cell_type": "code",
   "execution_count": 58,
   "id": "fc0a0b0d",
   "metadata": {
    "scrolled": true
   },
   "outputs": [
    {
     "data": {
      "text/plain": [
       "{'C': 0.1}"
      ]
     },
     "execution_count": 58,
     "metadata": {},
     "output_type": "execute_result"
    }
   ],
   "source": [
    "model_cv.best_params_"
   ]
  },
  {
   "cell_type": "code",
   "execution_count": 59,
   "id": "5deec244",
   "metadata": {},
   "outputs": [
    {
     "data": {
      "text/html": [
       "<style>#sk-container-id-1 {color: black;background-color: white;}#sk-container-id-1 pre{padding: 0;}#sk-container-id-1 div.sk-toggleable {background-color: white;}#sk-container-id-1 label.sk-toggleable__label {cursor: pointer;display: block;width: 100%;margin-bottom: 0;padding: 0.3em;box-sizing: border-box;text-align: center;}#sk-container-id-1 label.sk-toggleable__label-arrow:before {content: \"▸\";float: left;margin-right: 0.25em;color: #696969;}#sk-container-id-1 label.sk-toggleable__label-arrow:hover:before {color: black;}#sk-container-id-1 div.sk-estimator:hover label.sk-toggleable__label-arrow:before {color: black;}#sk-container-id-1 div.sk-toggleable__content {max-height: 0;max-width: 0;overflow: hidden;text-align: left;background-color: #f0f8ff;}#sk-container-id-1 div.sk-toggleable__content pre {margin: 0.2em;color: black;border-radius: 0.25em;background-color: #f0f8ff;}#sk-container-id-1 input.sk-toggleable__control:checked~div.sk-toggleable__content {max-height: 200px;max-width: 100%;overflow: auto;}#sk-container-id-1 input.sk-toggleable__control:checked~label.sk-toggleable__label-arrow:before {content: \"▾\";}#sk-container-id-1 div.sk-estimator input.sk-toggleable__control:checked~label.sk-toggleable__label {background-color: #d4ebff;}#sk-container-id-1 div.sk-label input.sk-toggleable__control:checked~label.sk-toggleable__label {background-color: #d4ebff;}#sk-container-id-1 input.sk-hidden--visually {border: 0;clip: rect(1px 1px 1px 1px);clip: rect(1px, 1px, 1px, 1px);height: 1px;margin: -1px;overflow: hidden;padding: 0;position: absolute;width: 1px;}#sk-container-id-1 div.sk-estimator {font-family: monospace;background-color: #f0f8ff;border: 1px dotted black;border-radius: 0.25em;box-sizing: border-box;margin-bottom: 0.5em;}#sk-container-id-1 div.sk-estimator:hover {background-color: #d4ebff;}#sk-container-id-1 div.sk-parallel-item::after {content: \"\";width: 100%;border-bottom: 1px solid gray;flex-grow: 1;}#sk-container-id-1 div.sk-label:hover label.sk-toggleable__label {background-color: #d4ebff;}#sk-container-id-1 div.sk-serial::before {content: \"\";position: absolute;border-left: 1px solid gray;box-sizing: border-box;top: 0;bottom: 0;left: 50%;z-index: 0;}#sk-container-id-1 div.sk-serial {display: flex;flex-direction: column;align-items: center;background-color: white;padding-right: 0.2em;padding-left: 0.2em;position: relative;}#sk-container-id-1 div.sk-item {position: relative;z-index: 1;}#sk-container-id-1 div.sk-parallel {display: flex;align-items: stretch;justify-content: center;background-color: white;position: relative;}#sk-container-id-1 div.sk-item::before, #sk-container-id-1 div.sk-parallel-item::before {content: \"\";position: absolute;border-left: 1px solid gray;box-sizing: border-box;top: 0;bottom: 0;left: 50%;z-index: -1;}#sk-container-id-1 div.sk-parallel-item {display: flex;flex-direction: column;z-index: 1;position: relative;background-color: white;}#sk-container-id-1 div.sk-parallel-item:first-child::after {align-self: flex-end;width: 50%;}#sk-container-id-1 div.sk-parallel-item:last-child::after {align-self: flex-start;width: 50%;}#sk-container-id-1 div.sk-parallel-item:only-child::after {width: 0;}#sk-container-id-1 div.sk-dashed-wrapped {border: 1px dashed gray;margin: 0 0.4em 0.5em 0.4em;box-sizing: border-box;padding-bottom: 0.4em;background-color: white;}#sk-container-id-1 div.sk-label label {font-family: monospace;font-weight: bold;display: inline-block;line-height: 1.2em;}#sk-container-id-1 div.sk-label-container {text-align: center;}#sk-container-id-1 div.sk-container {/* jupyter's `normalize.less` sets `[hidden] { display: none; }` but bootstrap.min.css set `[hidden] { display: none !important; }` so we also need the `!important` here to be able to override the default hidden behavior on the sphinx rendered scikit-learn.org. See: https://github.com/scikit-learn/scikit-learn/issues/21755 */display: inline-block !important;position: relative;}#sk-container-id-1 div.sk-text-repr-fallback {display: none;}</style><div id=\"sk-container-id-1\" class=\"sk-top-container\"><div class=\"sk-text-repr-fallback\"><pre>LogisticRegression(C=1000, max_iter=1000)</pre><b>In a Jupyter environment, please rerun this cell to show the HTML representation or trust the notebook. <br />On GitHub, the HTML representation is unable to render, please try loading this page with nbviewer.org.</b></div><div class=\"sk-container\" hidden><div class=\"sk-item\"><div class=\"sk-estimator sk-toggleable\"><input class=\"sk-toggleable__control sk-hidden--visually\" id=\"sk-estimator-id-1\" type=\"checkbox\" checked><label for=\"sk-estimator-id-1\" class=\"sk-toggleable__label sk-toggleable__label-arrow\">LogisticRegression</label><div class=\"sk-toggleable__content\"><pre>LogisticRegression(C=1000, max_iter=1000)</pre></div></div></div></div></div>"
      ],
      "text/plain": [
       "LogisticRegression(C=1000, max_iter=1000)"
      ]
     },
     "execution_count": 59,
     "metadata": {},
     "output_type": "execute_result"
    }
   ],
   "source": [
    "# Instantiating the model\n",
    "log_reg_imb_model = LogisticRegression(C=1000,max_iter=1000)\n",
    "\n",
    "# Fitting the model with train data\n",
    "log_reg_imb_model.fit(X_train, y_train)"
   ]
  },
  {
   "cell_type": "code",
   "execution_count": 60,
   "id": "0653a21d",
   "metadata": {},
   "outputs": [],
   "source": [
    "# Predictions on the train set\n",
    "y_train_pred = log_reg_imb_model.predict(X_train)"
   ]
  },
  {
   "cell_type": "code",
   "execution_count": 61,
   "id": "c14d5eca",
   "metadata": {
    "scrolled": true
   },
   "outputs": [
    {
     "name": "stdout",
     "output_type": "stream",
     "text": [
      "F1 Score: 17.39%\n",
      "Classification Report: \n",
      "               precision    recall  f1-score   support\n",
      "\n",
      "           0       0.99      1.00      1.00     54641\n",
      "           1       1.00      0.10      0.17       525\n",
      "\n",
      "    accuracy                           0.99     55166\n",
      "   macro avg       1.00      0.55      0.58     55166\n",
      "weighted avg       0.99      0.99      0.99     55166\n",
      "\n"
     ]
    }
   ],
   "source": [
    "\n",
    "# Printing scores\n",
    "display_scores(y_train, y_train_pred)"
   ]
  },
  {
   "cell_type": "code",
   "execution_count": 62,
   "id": "c150f25b",
   "metadata": {},
   "outputs": [],
   "source": [
    "# Predicted probability\n",
    "y_train_pred_proba = log_reg_imb_model.predict_proba(X_train)[:,1]"
   ]
  },
  {
   "cell_type": "code",
   "execution_count": 63,
   "id": "cb9e4943",
   "metadata": {
    "scrolled": true
   },
   "outputs": [
    {
     "data": {
      "image/png": "[encoded data removed]",
      "text/plain": [
       "<Figure size 360x360 with 1 Axes>"
      ]
     },
     "metadata": {
      "needs_background": "light"
     },
     "output_type": "display_data"
    }
   ],
   "source": [
    "# Plot the ROC curve\n",
    "draw_roc(y_train, y_train_pred_proba)"
   ]
  },
  {
   "cell_type": "code",
   "execution_count": 64,
   "id": "837d66da",
   "metadata": {
    "scrolled": false
   },
   "outputs": [
    {
     "name": "stdout",
     "output_type": "stream",
     "text": [
      "F1 Score: 27.63%\n",
      "Classification Report: \n",
      "               precision    recall  f1-score   support\n",
      "\n",
      "           0       0.99      1.00      1.00     13661\n",
      "           1       1.00      0.16      0.28       131\n",
      "\n",
      "    accuracy                           0.99     13792\n",
      "   macro avg       1.00      0.58      0.64     13792\n",
      "weighted avg       0.99      0.99      0.99     13792\n",
      "\n"
     ]
    }
   ],
   "source": [
    "# Making prediction on the test set\n",
    "y_test_pred = log_reg_imb_model.predict(X_test)\n",
    "display_scores(y_test, y_test_pred)"
   ]
  },
  {
   "cell_type": "code",
   "execution_count": 65,
   "id": "0c535b46",
   "metadata": {},
   "outputs": [],
   "source": [
    "# Predicted probability\n",
    "y_test_pred_proba = log_reg_imb_model.predict_proba(X_test)[:,1]"
   ]
  },
  {
   "cell_type": "code",
   "execution_count": 66,
   "id": "4fb655fb",
   "metadata": {
    "scrolled": true
   },
   "outputs": [
    {
     "data": {
      "image/png": "[encoded data removed]",
      "text/plain": [
       "<Figure size 360x360 with 1 Axes>"
      ]
     },
     "metadata": {
      "needs_background": "light"
     },
     "output_type": "display_data"
    }
   ],
   "source": [
    "# Plot the ROC curve\n",
    "draw_roc(y_test, y_test_pred_proba)"
   ]
  },
  {
   "cell_type": "markdown",
   "id": "bed00450",
   "metadata": {},
   "source": [
    "## 2. Decision Tree"
   ]
  },
  {
   "cell_type": "code",
   "execution_count": 67,
   "id": "8cc0563e",
   "metadata": {},
   "outputs": [
    {
     "name": "stdout",
     "output_type": "stream",
     "text": [
      "Fitting 3 folds for each of 8 candidates, totalling 24 fits\n"
     ]
    },
    {
     "data": {
      "text/html": [
       "<style>#sk-container-id-2 {color: black;background-color: white;}#sk-container-id-2 pre{padding: 0;}#sk-container-id-2 div.sk-toggleable {background-color: white;}#sk-container-id-2 label.sk-toggleable__label {cursor: pointer;display: block;width: 100%;margin-bottom: 0;padding: 0.3em;box-sizing: border-box;text-align: center;}#sk-container-id-2 label.sk-toggleable__label-arrow:before {content: \"▸\";float: left;margin-right: 0.25em;color: #696969;}#sk-container-id-2 label.sk-toggleable__label-arrow:hover:before {color: black;}#sk-container-id-2 div.sk-estimator:hover label.sk-toggleable__label-arrow:before {color: black;}#sk-container-id-2 div.sk-toggleable__content {max-height: 0;max-width: 0;overflow: hidden;text-align: left;background-color: #f0f8ff;}#sk-container-id-2 div.sk-toggleable__content pre {margin: 0.2em;color: black;border-radius: 0.25em;background-color: #f0f8ff;}#sk-container-id-2 input.sk-toggleable__control:checked~div.sk-toggleable__content {max-height: 200px;max-width: 100%;overflow: auto;}#sk-container-id-2 input.sk-toggleable__control:checked~label.sk-toggleable__label-arrow:before {content: \"▾\";}#sk-container-id-2 div.sk-estimator input.sk-toggleable__control:checked~label.sk-toggleable__label {background-color: #d4ebff;}#sk-container-id-2 div.sk-label input.sk-toggleable__control:checked~label.sk-toggleable__label {background-color: #d4ebff;}#sk-container-id-2 input.sk-hidden--visually {border: 0;clip: rect(1px 1px 1px 1px);clip: rect(1px, 1px, 1px, 1px);height: 1px;margin: -1px;overflow: hidden;padding: 0;position: absolute;width: 1px;}#sk-container-id-2 div.sk-estimator {font-family: monospace;background-color: #f0f8ff;border: 1px dotted black;border-radius: 0.25em;box-sizing: border-box;margin-bottom: 0.5em;}#sk-container-id-2 div.sk-estimator:hover {background-color: #d4ebff;}#sk-container-id-2 div.sk-parallel-item::after {content: \"\";width: 100%;border-bottom: 1px solid gray;flex-grow: 1;}#sk-container-id-2 div.sk-label:hover label.sk-toggleable__label {background-color: #d4ebff;}#sk-container-id-2 div.sk-serial::before {content: \"\";position: absolute;border-left: 1px solid gray;box-sizing: border-box;top: 0;bottom: 0;left: 50%;z-index: 0;}#sk-container-id-2 div.sk-serial {display: flex;flex-direction: column;align-items: center;background-color: white;padding-right: 0.2em;padding-left: 0.2em;position: relative;}#sk-container-id-2 div.sk-item {position: relative;z-index: 1;}#sk-container-id-2 div.sk-parallel {display: flex;align-items: stretch;justify-content: center;background-color: white;position: relative;}#sk-container-id-2 div.sk-item::before, #sk-container-id-2 div.sk-parallel-item::before {content: \"\";position: absolute;border-left: 1px solid gray;box-sizing: border-box;top: 0;bottom: 0;left: 50%;z-index: -1;}#sk-container-id-2 div.sk-parallel-item {display: flex;flex-direction: column;z-index: 1;position: relative;background-color: white;}#sk-container-id-2 div.sk-parallel-item:first-child::after {align-self: flex-end;width: 50%;}#sk-container-id-2 div.sk-parallel-item:last-child::after {align-self: flex-start;width: 50%;}#sk-container-id-2 div.sk-parallel-item:only-child::after {width: 0;}#sk-container-id-2 div.sk-dashed-wrapped {border: 1px dashed gray;margin: 0 0.4em 0.5em 0.4em;box-sizing: border-box;padding-bottom: 0.4em;background-color: white;}#sk-container-id-2 div.sk-label label {font-family: monospace;font-weight: bold;display: inline-block;line-height: 1.2em;}#sk-container-id-2 div.sk-label-container {text-align: center;}#sk-container-id-2 div.sk-container {/* jupyter's `normalize.less` sets `[hidden] { display: none; }` but bootstrap.min.css set `[hidden] { display: none !important; }` so we also need the `!important` here to be able to override the default hidden behavior on the sphinx rendered scikit-learn.org. See: https://github.com/scikit-learn/scikit-learn/issues/21755 */display: inline-block !important;position: relative;}#sk-container-id-2 div.sk-text-repr-fallback {display: none;}</style><div id=\"sk-container-id-2\" class=\"sk-top-container\"><div class=\"sk-text-repr-fallback\"><pre>GridSearchCV(cv=3, estimator=DecisionTreeClassifier(), n_jobs=-1,\n",
       "             param_grid={&#x27;max_depth&#x27;: range(5, 15, 5),\n",
       "                         &#x27;min_samples_leaf&#x27;: range(50, 150, 50),\n",
       "                         &#x27;min_samples_split&#x27;: range(50, 150, 50)},\n",
       "             scoring=&#x27;roc_auc&#x27;, verbose=1)</pre><b>In a Jupyter environment, please rerun this cell to show the HTML representation or trust the notebook. <br />On GitHub, the HTML representation is unable to render, please try loading this page with nbviewer.org.</b></div><div class=\"sk-container\" hidden><div class=\"sk-item sk-dashed-wrapped\"><div class=\"sk-label-container\"><div class=\"sk-label sk-toggleable\"><input class=\"sk-toggleable__control sk-hidden--visually\" id=\"sk-estimator-id-2\" type=\"checkbox\" ><label for=\"sk-estimator-id-2\" class=\"sk-toggleable__label sk-toggleable__label-arrow\">GridSearchCV</label><div class=\"sk-toggleable__content\"><pre>GridSearchCV(cv=3, estimator=DecisionTreeClassifier(), n_jobs=-1,\n",
       "             param_grid={&#x27;max_depth&#x27;: range(5, 15, 5),\n",
       "                         &#x27;min_samples_leaf&#x27;: range(50, 150, 50),\n",
       "                         &#x27;min_samples_split&#x27;: range(50, 150, 50)},\n",
       "             scoring=&#x27;roc_auc&#x27;, verbose=1)</pre></div></div></div><div class=\"sk-parallel\"><div class=\"sk-parallel-item\"><div class=\"sk-item\"><div class=\"sk-label-container\"><div class=\"sk-label sk-toggleable\"><input class=\"sk-toggleable__control sk-hidden--visually\" id=\"sk-estimator-id-3\" type=\"checkbox\" ><label for=\"sk-estimator-id-3\" class=\"sk-toggleable__label sk-toggleable__label-arrow\">estimator: DecisionTreeClassifier</label><div class=\"sk-toggleable__content\"><pre>DecisionTreeClassifier()</pre></div></div></div><div class=\"sk-serial\"><div class=\"sk-item\"><div class=\"sk-estimator sk-toggleable\"><input class=\"sk-toggleable__control sk-hidden--visually\" id=\"sk-estimator-id-4\" type=\"checkbox\" ><label for=\"sk-estimator-id-4\" class=\"sk-toggleable__label sk-toggleable__label-arrow\">DecisionTreeClassifier</label><div class=\"sk-toggleable__content\"><pre>DecisionTreeClassifier()</pre></div></div></div></div></div></div></div></div></div></div>"
      ],
      "text/plain": [
       "GridSearchCV(cv=3, estimator=DecisionTreeClassifier(), n_jobs=-1,\n",
       "             param_grid={'max_depth': range(5, 15, 5),\n",
       "                         'min_samples_leaf': range(50, 150, 50),\n",
       "                         'min_samples_split': range(50, 150, 50)},\n",
       "             scoring='roc_auc', verbose=1)"
      ]
     },
     "execution_count": 67,
     "metadata": {},
     "output_type": "execute_result"
    }
   ],
   "source": [
    "# Create the parameter grid \n",
    "param_grid = {\n",
    "    'max_depth': range(5, 15, 5),\n",
    "    'min_samples_leaf': range(50, 150, 50),\n",
    "    'min_samples_split': range(50, 150, 50),\n",
    "}\n",
    "\n",
    "\n",
    "# Instantiate the grid search model\n",
    "dtree = DecisionTreeClassifier()\n",
    "\n",
    "grid_search = GridSearchCV(estimator = dtree, \n",
    "                           param_grid = param_grid, \n",
    "                           scoring= 'roc_auc',\n",
    "                           cv = 3, \n",
    "                           n_jobs=-1,\n",
    "                           verbose = 1)\n",
    "\n",
    "# Fit the grid search to the data\n",
    "grid_search.fit(X_train,y_train)"
   ]
  },
  {
   "cell_type": "code",
   "execution_count": 68,
   "id": "3597db4c",
   "metadata": {},
   "outputs": [
    {
     "data": {
      "text/html": [
       "<div>\n",
       "<style scoped>\n",
       "    .dataframe tbody tr th:only-of-type {\n",
       "        vertical-align: middle;\n",
       "    }\n",
       "\n",
       "    .dataframe tbody tr th {\n",
       "        vertical-align: top;\n",
       "    }\n",
       "\n",
       "    .dataframe thead th {\n",
       "        text-align: right;\n",
       "    }\n",
       "</style>\n",
       "<table border=\"1\" class=\"dataframe\">\n",
       "  <thead>\n",
       "    <tr style=\"text-align: right;\">\n",
       "      <th></th>\n",
       "      <th>mean_fit_time</th>\n",
       "      <th>std_fit_time</th>\n",
       "      <th>mean_score_time</th>\n",
       "      <th>std_score_time</th>\n",
       "      <th>param_max_depth</th>\n",
       "      <th>param_min_samples_leaf</th>\n",
       "      <th>param_min_samples_split</th>\n",
       "      <th>params</th>\n",
       "      <th>split0_test_score</th>\n",
       "      <th>split1_test_score</th>\n",
       "      <th>split2_test_score</th>\n",
       "      <th>mean_test_score</th>\n",
       "      <th>std_test_score</th>\n",
       "      <th>rank_test_score</th>\n",
       "    </tr>\n",
       "  </thead>\n",
       "  <tbody>\n",
       "    <tr>\n",
       "      <th>0</th>\n",
       "      <td>0.149044</td>\n",
       "      <td>0.004656</td>\n",
       "      <td>0.010856</td>\n",
       "      <td>0.002506</td>\n",
       "      <td>5</td>\n",
       "      <td>50</td>\n",
       "      <td>50</td>\n",
       "      <td>{'max_depth': 5, 'min_samples_leaf': 50, 'min_...</td>\n",
       "      <td>0.679781</td>\n",
       "      <td>0.663359</td>\n",
       "      <td>0.685477</td>\n",
       "      <td>0.676206</td>\n",
       "      <td>0.009377</td>\n",
       "      <td>3</td>\n",
       "    </tr>\n",
       "    <tr>\n",
       "      <th>1</th>\n",
       "      <td>0.119296</td>\n",
       "      <td>0.018215</td>\n",
       "      <td>0.020243</td>\n",
       "      <td>0.008871</td>\n",
       "      <td>5</td>\n",
       "      <td>50</td>\n",
       "      <td>100</td>\n",
       "      <td>{'max_depth': 5, 'min_samples_leaf': 50, 'min_...</td>\n",
       "      <td>0.679781</td>\n",
       "      <td>0.663359</td>\n",
       "      <td>0.685477</td>\n",
       "      <td>0.676206</td>\n",
       "      <td>0.009377</td>\n",
       "      <td>3</td>\n",
       "    </tr>\n",
       "    <tr>\n",
       "      <th>2</th>\n",
       "      <td>0.139878</td>\n",
       "      <td>0.020229</td>\n",
       "      <td>0.022972</td>\n",
       "      <td>0.005323</td>\n",
       "      <td>5</td>\n",
       "      <td>100</td>\n",
       "      <td>50</td>\n",
       "      <td>{'max_depth': 5, 'min_samples_leaf': 100, 'min...</td>\n",
       "      <td>0.685060</td>\n",
       "      <td>0.673723</td>\n",
       "      <td>0.682964</td>\n",
       "      <td>0.680582</td>\n",
       "      <td>0.004925</td>\n",
       "      <td>1</td>\n",
       "    </tr>\n",
       "    <tr>\n",
       "      <th>3</th>\n",
       "      <td>0.123081</td>\n",
       "      <td>0.001940</td>\n",
       "      <td>0.015202</td>\n",
       "      <td>0.000559</td>\n",
       "      <td>5</td>\n",
       "      <td>100</td>\n",
       "      <td>100</td>\n",
       "      <td>{'max_depth': 5, 'min_samples_leaf': 100, 'min...</td>\n",
       "      <td>0.685060</td>\n",
       "      <td>0.673723</td>\n",
       "      <td>0.682964</td>\n",
       "      <td>0.680582</td>\n",
       "      <td>0.004925</td>\n",
       "      <td>1</td>\n",
       "    </tr>\n",
       "    <tr>\n",
       "      <th>4</th>\n",
       "      <td>0.183806</td>\n",
       "      <td>0.007047</td>\n",
       "      <td>0.011429</td>\n",
       "      <td>0.000946</td>\n",
       "      <td>10</td>\n",
       "      <td>50</td>\n",
       "      <td>50</td>\n",
       "      <td>{'max_depth': 10, 'min_samples_leaf': 50, 'min...</td>\n",
       "      <td>0.657829</td>\n",
       "      <td>0.636160</td>\n",
       "      <td>0.686499</td>\n",
       "      <td>0.660163</td>\n",
       "      <td>0.020617</td>\n",
       "      <td>5</td>\n",
       "    </tr>\n",
       "    <tr>\n",
       "      <th>5</th>\n",
       "      <td>0.190491</td>\n",
       "      <td>0.011013</td>\n",
       "      <td>0.021416</td>\n",
       "      <td>0.005826</td>\n",
       "      <td>10</td>\n",
       "      <td>50</td>\n",
       "      <td>100</td>\n",
       "      <td>{'max_depth': 10, 'min_samples_leaf': 50, 'min...</td>\n",
       "      <td>0.657823</td>\n",
       "      <td>0.636160</td>\n",
       "      <td>0.686395</td>\n",
       "      <td>0.660126</td>\n",
       "      <td>0.020573</td>\n",
       "      <td>6</td>\n",
       "    </tr>\n",
       "    <tr>\n",
       "      <th>6</th>\n",
       "      <td>0.179781</td>\n",
       "      <td>0.016370</td>\n",
       "      <td>0.014438</td>\n",
       "      <td>0.001620</td>\n",
       "      <td>10</td>\n",
       "      <td>100</td>\n",
       "      <td>50</td>\n",
       "      <td>{'max_depth': 10, 'min_samples_leaf': 100, 'mi...</td>\n",
       "      <td>0.654472</td>\n",
       "      <td>0.636753</td>\n",
       "      <td>0.658479</td>\n",
       "      <td>0.649901</td>\n",
       "      <td>0.009440</td>\n",
       "      <td>8</td>\n",
       "    </tr>\n",
       "    <tr>\n",
       "      <th>7</th>\n",
       "      <td>0.170833</td>\n",
       "      <td>0.008677</td>\n",
       "      <td>0.007632</td>\n",
       "      <td>0.003636</td>\n",
       "      <td>10</td>\n",
       "      <td>100</td>\n",
       "      <td>100</td>\n",
       "      <td>{'max_depth': 10, 'min_samples_leaf': 100, 'mi...</td>\n",
       "      <td>0.654476</td>\n",
       "      <td>0.637198</td>\n",
       "      <td>0.658479</td>\n",
       "      <td>0.650051</td>\n",
       "      <td>0.009234</td>\n",
       "      <td>7</td>\n",
       "    </tr>\n",
       "  </tbody>\n",
       "</table>\n",
       "</div>"
      ],
      "text/plain": [
       "   mean_fit_time  std_fit_time  mean_score_time  std_score_time  \\\n",
       "0       0.149044      0.004656         0.010856        0.002506   \n",
       "1       0.119296      0.018215         0.020243        0.008871   \n",
       "2       0.139878      0.020229         0.022972        0.005323   \n",
       "3       0.123081      0.001940         0.015202        0.000559   \n",
       "4       0.183806      0.007047         0.011429        0.000946   \n",
       "5       0.190491      0.011013         0.021416        0.005826   \n",
       "6       0.179781      0.016370         0.014438        0.001620   \n",
       "7       0.170833      0.008677         0.007632        0.003636   \n",
       "\n",
       "  param_max_depth param_min_samples_leaf param_min_samples_split  \\\n",
       "0               5                     50                      50   \n",
       "1               5                     50                     100   \n",
       "2               5                    100                      50   \n",
       "3               5                    100                     100   \n",
       "4              10                     50                      50   \n",
       "5              10                     50                     100   \n",
       "6              10                    100                      50   \n",
       "7              10                    100                     100   \n",
       "\n",
       "                                              params  split0_test_score  \\\n",
       "0  {'max_depth': 5, 'min_samples_leaf': 50, 'min_...           0.679781   \n",
       "1  {'max_depth': 5, 'min_samples_leaf': 50, 'min_...           0.679781   \n",
       "2  {'max_depth': 5, 'min_samples_leaf': 100, 'min...           0.685060   \n",
       "3  {'max_depth': 5, 'min_samples_leaf': 100, 'min...           0.685060   \n",
       "4  {'max_depth': 10, 'min_samples_leaf': 50, 'min...           0.657829   \n",
       "5  {'max_depth': 10, 'min_samples_leaf': 50, 'min...           0.657823   \n",
       "6  {'max_depth': 10, 'min_samples_leaf': 100, 'mi...           0.654472   \n",
       "7  {'max_depth': 10, 'min_samples_leaf': 100, 'mi...           0.654476   \n",
       "\n",
       "   split1_test_score  split2_test_score  mean_test_score  std_test_score  \\\n",
       "0           0.663359           0.685477         0.676206        0.009377   \n",
       "1           0.663359           0.685477         0.676206        0.009377   \n",
       "2           0.673723           0.682964         0.680582        0.004925   \n",
       "3           0.673723           0.682964         0.680582        0.004925   \n",
       "4           0.636160           0.686499         0.660163        0.020617   \n",
       "5           0.636160           0.686395         0.660126        0.020573   \n",
       "6           0.636753           0.658479         0.649901        0.009440   \n",
       "7           0.637198           0.658479         0.650051        0.009234   \n",
       "\n",
       "   rank_test_score  \n",
       "0                3  \n",
       "1                3  \n",
       "2                1  \n",
       "3                1  \n",
       "4                5  \n",
       "5                6  \n",
       "6                8  \n",
       "7                7  "
      ]
     },
     "execution_count": 68,
     "metadata": {},
     "output_type": "execute_result"
    }
   ],
   "source": [
    "# cv results\n",
    "cv_results = pd.DataFrame(grid_search.cv_results_)\n",
    "cv_results"
   ]
  },
  {
   "cell_type": "code",
   "execution_count": 69,
   "id": "5d265789",
   "metadata": {},
   "outputs": [
    {
     "name": "stdout",
     "output_type": "stream",
     "text": [
      "Best roc auc score :  0.6805824424725927\n",
      "DecisionTreeClassifier(max_depth=5, min_samples_leaf=100, min_samples_split=50)\n"
     ]
    }
   ],
   "source": [
    "# Printing the optimal score and hyperparameters\n",
    "print(\"Best roc auc score : \", grid_search.best_score_)\n",
    "print(grid_search.best_estimator_)"
   ]
  },
  {
   "cell_type": "code",
   "execution_count": 70,
   "id": "d0f14bac",
   "metadata": {},
   "outputs": [
    {
     "data": {
      "text/html": [
       "<style>#sk-container-id-3 {color: black;background-color: white;}#sk-container-id-3 pre{padding: 0;}#sk-container-id-3 div.sk-toggleable {background-color: white;}#sk-container-id-3 label.sk-toggleable__label {cursor: pointer;display: block;width: 100%;margin-bottom: 0;padding: 0.3em;box-sizing: border-box;text-align: center;}#sk-container-id-3 label.sk-toggleable__label-arrow:before {content: \"▸\";float: left;margin-right: 0.25em;color: #696969;}#sk-container-id-3 label.sk-toggleable__label-arrow:hover:before {color: black;}#sk-container-id-3 div.sk-estimator:hover label.sk-toggleable__label-arrow:before {color: black;}#sk-container-id-3 div.sk-toggleable__content {max-height: 0;max-width: 0;overflow: hidden;text-align: left;background-color: #f0f8ff;}#sk-container-id-3 div.sk-toggleable__content pre {margin: 0.2em;color: black;border-radius: 0.25em;background-color: #f0f8ff;}#sk-container-id-3 input.sk-toggleable__control:checked~div.sk-toggleable__content {max-height: 200px;max-width: 100%;overflow: auto;}#sk-container-id-3 input.sk-toggleable__control:checked~label.sk-toggleable__label-arrow:before {content: \"▾\";}#sk-container-id-3 div.sk-estimator input.sk-toggleable__control:checked~label.sk-toggleable__label {background-color: #d4ebff;}#sk-container-id-3 div.sk-label input.sk-toggleable__control:checked~label.sk-toggleable__label {background-color: #d4ebff;}#sk-container-id-3 input.sk-hidden--visually {border: 0;clip: rect(1px 1px 1px 1px);clip: rect(1px, 1px, 1px, 1px);height: 1px;margin: -1px;overflow: hidden;padding: 0;position: absolute;width: 1px;}#sk-container-id-3 div.sk-estimator {font-family: monospace;background-color: #f0f8ff;border: 1px dotted black;border-radius: 0.25em;box-sizing: border-box;margin-bottom: 0.5em;}#sk-container-id-3 div.sk-estimator:hover {background-color: #d4ebff;}#sk-container-id-3 div.sk-parallel-item::after {content: \"\";width: 100%;border-bottom: 1px solid gray;flex-grow: 1;}#sk-container-id-3 div.sk-label:hover label.sk-toggleable__label {background-color: #d4ebff;}#sk-container-id-3 div.sk-serial::before {content: \"\";position: absolute;border-left: 1px solid gray;box-sizing: border-box;top: 0;bottom: 0;left: 50%;z-index: 0;}#sk-container-id-3 div.sk-serial {display: flex;flex-direction: column;align-items: center;background-color: white;padding-right: 0.2em;padding-left: 0.2em;position: relative;}#sk-container-id-3 div.sk-item {position: relative;z-index: 1;}#sk-container-id-3 div.sk-parallel {display: flex;align-items: stretch;justify-content: center;background-color: white;position: relative;}#sk-container-id-3 div.sk-item::before, #sk-container-id-3 div.sk-parallel-item::before {content: \"\";position: absolute;border-left: 1px solid gray;box-sizing: border-box;top: 0;bottom: 0;left: 50%;z-index: -1;}#sk-container-id-3 div.sk-parallel-item {display: flex;flex-direction: column;z-index: 1;position: relative;background-color: white;}#sk-container-id-3 div.sk-parallel-item:first-child::after {align-self: flex-end;width: 50%;}#sk-container-id-3 div.sk-parallel-item:last-child::after {align-self: flex-start;width: 50%;}#sk-container-id-3 div.sk-parallel-item:only-child::after {width: 0;}#sk-container-id-3 div.sk-dashed-wrapped {border: 1px dashed gray;margin: 0 0.4em 0.5em 0.4em;box-sizing: border-box;padding-bottom: 0.4em;background-color: white;}#sk-container-id-3 div.sk-label label {font-family: monospace;font-weight: bold;display: inline-block;line-height: 1.2em;}#sk-container-id-3 div.sk-label-container {text-align: center;}#sk-container-id-3 div.sk-container {/* jupyter's `normalize.less` sets `[hidden] { display: none; }` but bootstrap.min.css set `[hidden] { display: none !important; }` so we also need the `!important` here to be able to override the default hidden behavior on the sphinx rendered scikit-learn.org. See: https://github.com/scikit-learn/scikit-learn/issues/21755 */display: inline-block !important;position: relative;}#sk-container-id-3 div.sk-text-repr-fallback {display: none;}</style><div id=\"sk-container-id-3\" class=\"sk-top-container\"><div class=\"sk-text-repr-fallback\"><pre>DecisionTreeClassifier(max_depth=5, min_samples_leaf=100, min_samples_split=50,\n",
       "                       random_state=100)</pre><b>In a Jupyter environment, please rerun this cell to show the HTML representation or trust the notebook. <br />On GitHub, the HTML representation is unable to render, please try loading this page with nbviewer.org.</b></div><div class=\"sk-container\" hidden><div class=\"sk-item\"><div class=\"sk-estimator sk-toggleable\"><input class=\"sk-toggleable__control sk-hidden--visually\" id=\"sk-estimator-id-5\" type=\"checkbox\" checked><label for=\"sk-estimator-id-5\" class=\"sk-toggleable__label sk-toggleable__label-arrow\">DecisionTreeClassifier</label><div class=\"sk-toggleable__content\"><pre>DecisionTreeClassifier(max_depth=5, min_samples_leaf=100, min_samples_split=50,\n",
       "                       random_state=100)</pre></div></div></div></div></div>"
      ],
      "text/plain": [
       "DecisionTreeClassifier(max_depth=5, min_samples_leaf=100, min_samples_split=50,\n",
       "                       random_state=100)"
      ]
     },
     "execution_count": 70,
     "metadata": {},
     "output_type": "execute_result"
    }
   ],
   "source": [
    "\n",
    "# Model with optimal hyperparameters\n",
    "dt_imb_model = DecisionTreeClassifier(criterion = \"gini\", \n",
    "                                  random_state = 100,\n",
    "                                  max_depth=5, \n",
    "                                  min_samples_leaf=100,\n",
    "                                  min_samples_split=50)\n",
    "dt_imb_model.fit(X_train, y_train)"
   ]
  },
  {
   "cell_type": "code",
   "execution_count": 71,
   "id": "6f2c0378",
   "metadata": {},
   "outputs": [
    {
     "name": "stdout",
     "output_type": "stream",
     "text": [
      "F1 Score: 38.71%\n",
      "Classification Report: \n",
      "               precision    recall  f1-score   support\n",
      "\n",
      "           0       0.99      1.00      1.00     54641\n",
      "           1       1.00      0.24      0.39       525\n",
      "\n",
      "    accuracy                           0.99     55166\n",
      "   macro avg       1.00      0.62      0.69     55166\n",
      "weighted avg       0.99      0.99      0.99     55166\n",
      "\n"
     ]
    }
   ],
   "source": [
    "y_train_pred = dt_imb_model.predict(X_train)\n",
    "display_scores(y_train, y_train_pred)"
   ]
  },
  {
   "cell_type": "code",
   "execution_count": 72,
   "id": "b0a4335c",
   "metadata": {},
   "outputs": [
    {
     "data": {
      "image/png": "[encoded data removed]",
      "text/plain": [
       "<Figure size 360x360 with 1 Axes>"
      ]
     },
     "metadata": {
      "needs_background": "light"
     },
     "output_type": "display_data"
    }
   ],
   "source": [
    "# Predicted probability\n",
    "y_train_pred_proba = dt_imb_model.predict_proba(X_train)[:,1]\n",
    "\n",
    "# Plot the ROC curve\n",
    "draw_roc(y_train, y_train_pred_proba)"
   ]
  },
  {
   "cell_type": "code",
   "execution_count": 73,
   "id": "bc51e9cf",
   "metadata": {},
   "outputs": [
    {
     "name": "stdout",
     "output_type": "stream",
     "text": [
      "F1 Score: 38.27%\n",
      "Classification Report: \n",
      "               precision    recall  f1-score   support\n",
      "\n",
      "           0       0.99      1.00      1.00     13661\n",
      "           1       1.00      0.24      0.38       131\n",
      "\n",
      "    accuracy                           0.99     13792\n",
      "   macro avg       1.00      0.62      0.69     13792\n",
      "weighted avg       0.99      0.99      0.99     13792\n",
      "\n"
     ]
    }
   ],
   "source": [
    "y_test_pred = dt_imb_model.predict(X_test)\n",
    "display_scores(y_test, y_test_pred)\n"
   ]
  },
  {
   "cell_type": "code",
   "execution_count": 74,
   "id": "ebe53451",
   "metadata": {
    "scrolled": true
   },
   "outputs": [
    {
     "data": {
      "image/png": "[encoded data removed]",
      "text/plain": [
       "<Figure size 360x360 with 1 Axes>"
      ]
     },
     "metadata": {
      "needs_background": "light"
     },
     "output_type": "display_data"
    }
   ],
   "source": [
    "# Predicted probability\n",
    "y_test_pred_proba = dt_imb_model.predict_proba(X_test)[:,1]\n",
    "\n",
    "# Plot the ROC curve\n",
    "draw_roc(y_test, y_test_pred_proba)"
   ]
  },
  {
   "cell_type": "markdown",
   "id": "e456805e",
   "metadata": {},
   "source": [
    "## 3. XGBoost"
   ]
  },
  {
   "cell_type": "code",
   "execution_count": 75,
   "id": "88a34120",
   "metadata": {},
   "outputs": [
    {
     "name": "stdout",
     "output_type": "stream",
     "text": [
      "Fitting 3 folds for each of 6 candidates, totalling 18 fits\n"
     ]
    },
    {
     "data": {
      "text/html": [
       "<style>#sk-container-id-4 {color: black;background-color: white;}#sk-container-id-4 pre{padding: 0;}#sk-container-id-4 div.sk-toggleable {background-color: white;}#sk-container-id-4 label.sk-toggleable__label {cursor: pointer;display: block;width: 100%;margin-bottom: 0;padding: 0.3em;box-sizing: border-box;text-align: center;}#sk-container-id-4 label.sk-toggleable__label-arrow:before {content: \"▸\";float: left;margin-right: 0.25em;color: #696969;}#sk-container-id-4 label.sk-toggleable__label-arrow:hover:before {color: black;}#sk-container-id-4 div.sk-estimator:hover label.sk-toggleable__label-arrow:before {color: black;}#sk-container-id-4 div.sk-toggleable__content {max-height: 0;max-width: 0;overflow: hidden;text-align: left;background-color: #f0f8ff;}#sk-container-id-4 div.sk-toggleable__content pre {margin: 0.2em;color: black;border-radius: 0.25em;background-color: #f0f8ff;}#sk-container-id-4 input.sk-toggleable__control:checked~div.sk-toggleable__content {max-height: 200px;max-width: 100%;overflow: auto;}#sk-container-id-4 input.sk-toggleable__control:checked~label.sk-toggleable__label-arrow:before {content: \"▾\";}#sk-container-id-4 div.sk-estimator input.sk-toggleable__control:checked~label.sk-toggleable__label {background-color: #d4ebff;}#sk-container-id-4 div.sk-label input.sk-toggleable__control:checked~label.sk-toggleable__label {background-color: #d4ebff;}#sk-container-id-4 input.sk-hidden--visually {border: 0;clip: rect(1px 1px 1px 1px);clip: rect(1px, 1px, 1px, 1px);height: 1px;margin: -1px;overflow: hidden;padding: 0;position: absolute;width: 1px;}#sk-container-id-4 div.sk-estimator {font-family: monospace;background-color: #f0f8ff;border: 1px dotted black;border-radius: 0.25em;box-sizing: border-box;margin-bottom: 0.5em;}#sk-container-id-4 div.sk-estimator:hover {background-color: #d4ebff;}#sk-container-id-4 div.sk-parallel-item::after {content: \"\";width: 100%;border-bottom: 1px solid gray;flex-grow: 1;}#sk-container-id-4 div.sk-label:hover label.sk-toggleable__label {background-color: #d4ebff;}#sk-container-id-4 div.sk-serial::before {content: \"\";position: absolute;border-left: 1px solid gray;box-sizing: border-box;top: 0;bottom: 0;left: 50%;z-index: 0;}#sk-container-id-4 div.sk-serial {display: flex;flex-direction: column;align-items: center;background-color: white;padding-right: 0.2em;padding-left: 0.2em;position: relative;}#sk-container-id-4 div.sk-item {position: relative;z-index: 1;}#sk-container-id-4 div.sk-parallel {display: flex;align-items: stretch;justify-content: center;background-color: white;position: relative;}#sk-container-id-4 div.sk-item::before, #sk-container-id-4 div.sk-parallel-item::before {content: \"\";position: absolute;border-left: 1px solid gray;box-sizing: border-box;top: 0;bottom: 0;left: 50%;z-index: -1;}#sk-container-id-4 div.sk-parallel-item {display: flex;flex-direction: column;z-index: 1;position: relative;background-color: white;}#sk-container-id-4 div.sk-parallel-item:first-child::after {align-self: flex-end;width: 50%;}#sk-container-id-4 div.sk-parallel-item:last-child::after {align-self: flex-start;width: 50%;}#sk-container-id-4 div.sk-parallel-item:only-child::after {width: 0;}#sk-container-id-4 div.sk-dashed-wrapped {border: 1px dashed gray;margin: 0 0.4em 0.5em 0.4em;box-sizing: border-box;padding-bottom: 0.4em;background-color: white;}#sk-container-id-4 div.sk-label label {font-family: monospace;font-weight: bold;display: inline-block;line-height: 1.2em;}#sk-container-id-4 div.sk-label-container {text-align: center;}#sk-container-id-4 div.sk-container {/* jupyter's `normalize.less` sets `[hidden] { display: none; }` but bootstrap.min.css set `[hidden] { display: none !important; }` so we also need the `!important` here to be able to override the default hidden behavior on the sphinx rendered scikit-learn.org. See: https://github.com/scikit-learn/scikit-learn/issues/21755 */display: inline-block !important;position: relative;}#sk-container-id-4 div.sk-text-repr-fallback {display: none;}</style><div id=\"sk-container-id-4\" class=\"sk-top-container\"><div class=\"sk-text-repr-fallback\"><pre>GridSearchCV(cv=3,\n",
       "             estimator=XGBClassifier(base_score=None, booster=None,\n",
       "                                     callbacks=None, colsample_bylevel=None,\n",
       "                                     colsample_bynode=None,\n",
       "                                     colsample_bytree=None,\n",
       "                                     early_stopping_rounds=None,\n",
       "                                     enable_categorical=False, eval_metric=None,\n",
       "                                     gamma=None, gpu_id=None, grow_policy=None,\n",
       "                                     importance_type=None,\n",
       "                                     interaction_constraints=None,\n",
       "                                     learning_rate=None, max_bin=None,\n",
       "                                     max_ca...one,\n",
       "                                     max_delta_step=None, max_depth=2,\n",
       "                                     max_leaves=None, min_child_weight=None,\n",
       "                                     missing=nan, monotone_constraints=None,\n",
       "                                     n_estimators=200, n_jobs=None,\n",
       "                                     num_parallel_tree=None, predictor=None,\n",
       "                                     random_state=None, reg_alpha=None,\n",
       "                                     reg_lambda=None, ...),\n",
       "             param_grid={&#x27;learning_rate&#x27;: [0.2, 0.6],\n",
       "                         &#x27;subsample&#x27;: [0.3, 0.6, 0.9]},\n",
       "             return_train_score=True, scoring=&#x27;roc_auc&#x27;, verbose=1)</pre><b>In a Jupyter environment, please rerun this cell to show the HTML representation or trust the notebook. <br />On GitHub, the HTML representation is unable to render, please try loading this page with nbviewer.org.</b></div><div class=\"sk-container\" hidden><div class=\"sk-item sk-dashed-wrapped\"><div class=\"sk-label-container\"><div class=\"sk-label sk-toggleable\"><input class=\"sk-toggleable__control sk-hidden--visually\" id=\"sk-estimator-id-6\" type=\"checkbox\" ><label for=\"sk-estimator-id-6\" class=\"sk-toggleable__label sk-toggleable__label-arrow\">GridSearchCV</label><div class=\"sk-toggleable__content\"><pre>GridSearchCV(cv=3,\n",
       "             estimator=XGBClassifier(base_score=None, booster=None,\n",
       "                                     callbacks=None, colsample_bylevel=None,\n",
       "                                     colsample_bynode=None,\n",
       "                                     colsample_bytree=None,\n",
       "                                     early_stopping_rounds=None,\n",
       "                                     enable_categorical=False, eval_metric=None,\n",
       "                                     gamma=None, gpu_id=None, grow_policy=None,\n",
       "                                     importance_type=None,\n",
       "                                     interaction_constraints=None,\n",
       "                                     learning_rate=None, max_bin=None,\n",
       "                                     max_ca...one,\n",
       "                                     max_delta_step=None, max_depth=2,\n",
       "                                     max_leaves=None, min_child_weight=None,\n",
       "                                     missing=nan, monotone_constraints=None,\n",
       "                                     n_estimators=200, n_jobs=None,\n",
       "                                     num_parallel_tree=None, predictor=None,\n",
       "                                     random_state=None, reg_alpha=None,\n",
       "                                     reg_lambda=None, ...),\n",
       "             param_grid={&#x27;learning_rate&#x27;: [0.2, 0.6],\n",
       "                         &#x27;subsample&#x27;: [0.3, 0.6, 0.9]},\n",
       "             return_train_score=True, scoring=&#x27;roc_auc&#x27;, verbose=1)</pre></div></div></div><div class=\"sk-parallel\"><div class=\"sk-parallel-item\"><div class=\"sk-item\"><div class=\"sk-label-container\"><div class=\"sk-label sk-toggleable\"><input class=\"sk-toggleable__control sk-hidden--visually\" id=\"sk-estimator-id-7\" type=\"checkbox\" ><label for=\"sk-estimator-id-7\" class=\"sk-toggleable__label sk-toggleable__label-arrow\">estimator: XGBClassifier</label><div class=\"sk-toggleable__content\"><pre>XGBClassifier(base_score=None, booster=None, callbacks=None,\n",
       "              colsample_bylevel=None, colsample_bynode=None,\n",
       "              colsample_bytree=None, early_stopping_rounds=None,\n",
       "              enable_categorical=False, eval_metric=None, gamma=None,\n",
       "              gpu_id=None, grow_policy=None, importance_type=None,\n",
       "              interaction_constraints=None, learning_rate=None, max_bin=None,\n",
       "              max_cat_to_onehot=None, max_delta_step=None, max_depth=2,\n",
       "              max_leaves=None, min_child_weight=None, missing=nan,\n",
       "              monotone_constraints=None, n_estimators=200, n_jobs=None,\n",
       "              num_parallel_tree=None, predictor=None, random_state=None,\n",
       "              reg_alpha=None, reg_lambda=None, ...)</pre></div></div></div><div class=\"sk-serial\"><div class=\"sk-item\"><div class=\"sk-estimator sk-toggleable\"><input class=\"sk-toggleable__control sk-hidden--visually\" id=\"sk-estimator-id-8\" type=\"checkbox\" ><label for=\"sk-estimator-id-8\" class=\"sk-toggleable__label sk-toggleable__label-arrow\">XGBClassifier</label><div class=\"sk-toggleable__content\"><pre>XGBClassifier(base_score=None, booster=None, callbacks=None,\n",
       "              colsample_bylevel=None, colsample_bynode=None,\n",
       "              colsample_bytree=None, early_stopping_rounds=None,\n",
       "              enable_categorical=False, eval_metric=None, gamma=None,\n",
       "              gpu_id=None, grow_policy=None, importance_type=None,\n",
       "              interaction_constraints=None, learning_rate=None, max_bin=None,\n",
       "              max_cat_to_onehot=None, max_delta_step=None, max_depth=2,\n",
       "              max_leaves=None, min_child_weight=None, missing=nan,\n",
       "              monotone_constraints=None, n_estimators=200, n_jobs=None,\n",
       "              num_parallel_tree=None, predictor=None, random_state=None,\n",
       "              reg_alpha=None, reg_lambda=None, ...)</pre></div></div></div></div></div></div></div></div></div></div>"
      ],
      "text/plain": [
       "GridSearchCV(cv=3,\n",
       "             estimator=XGBClassifier(base_score=None, booster=None,\n",
       "                                     callbacks=None, colsample_bylevel=None,\n",
       "                                     colsample_bynode=None,\n",
       "                                     colsample_bytree=None,\n",
       "                                     early_stopping_rounds=None,\n",
       "                                     enable_categorical=False, eval_metric=None,\n",
       "                                     gamma=None, gpu_id=None, grow_policy=None,\n",
       "                                     importance_type=None,\n",
       "                                     interaction_constraints=None,\n",
       "                                     learning_rate=None, max_bin=None,\n",
       "                                     max_ca...one,\n",
       "                                     max_delta_step=None, max_depth=2,\n",
       "                                     max_leaves=None, min_child_weight=None,\n",
       "                                     missing=nan, monotone_constraints=None,\n",
       "                                     n_estimators=200, n_jobs=None,\n",
       "                                     num_parallel_tree=None, predictor=None,\n",
       "                                     random_state=None, reg_alpha=None,\n",
       "                                     reg_lambda=None, ...),\n",
       "             param_grid={'learning_rate': [0.2, 0.6],\n",
       "                         'subsample': [0.3, 0.6, 0.9]},\n",
       "             return_train_score=True, scoring='roc_auc', verbose=1)"
      ]
     },
     "execution_count": 75,
     "metadata": {},
     "output_type": "execute_result"
    }
   ],
   "source": [
    "# creating a KFold object \n",
    "folds = 3\n",
    "\n",
    "# specify range of hyperparameters\n",
    "param_grid = {'learning_rate': [0.2, 0.6], \n",
    "             'subsample': [0.3, 0.6, 0.9]}          \n",
    "\n",
    "\n",
    "# specify model\n",
    "xgb_model = XGBClassifier(max_depth=2, n_estimators=200)\n",
    "\n",
    "# set up GridSearchCV()\n",
    "model_cv = GridSearchCV(estimator = xgb_model, \n",
    "                        param_grid = param_grid, \n",
    "                        scoring= 'roc_auc', \n",
    "                        cv = folds, \n",
    "                        verbose = 1,\n",
    "                        return_train_score=True)      \n",
    "\n",
    "# fit the model\n",
    "model_cv.fit(X_train, y_train)"
   ]
  },
  {
   "cell_type": "code",
   "execution_count": 76,
   "id": "26569c38",
   "metadata": {},
   "outputs": [
    {
     "data": {
      "text/html": [
       "<div>\n",
       "<style scoped>\n",
       "    .dataframe tbody tr th:only-of-type {\n",
       "        vertical-align: middle;\n",
       "    }\n",
       "\n",
       "    .dataframe tbody tr th {\n",
       "        vertical-align: top;\n",
       "    }\n",
       "\n",
       "    .dataframe thead th {\n",
       "        text-align: right;\n",
       "    }\n",
       "</style>\n",
       "<table border=\"1\" class=\"dataframe\">\n",
       "  <thead>\n",
       "    <tr style=\"text-align: right;\">\n",
       "      <th></th>\n",
       "      <th>mean_fit_time</th>\n",
       "      <th>std_fit_time</th>\n",
       "      <th>mean_score_time</th>\n",
       "      <th>std_score_time</th>\n",
       "      <th>param_learning_rate</th>\n",
       "      <th>param_subsample</th>\n",
       "      <th>params</th>\n",
       "      <th>split0_test_score</th>\n",
       "      <th>split1_test_score</th>\n",
       "      <th>split2_test_score</th>\n",
       "      <th>mean_test_score</th>\n",
       "      <th>std_test_score</th>\n",
       "      <th>rank_test_score</th>\n",
       "      <th>split0_train_score</th>\n",
       "      <th>split1_train_score</th>\n",
       "      <th>split2_train_score</th>\n",
       "      <th>mean_train_score</th>\n",
       "      <th>std_train_score</th>\n",
       "    </tr>\n",
       "  </thead>\n",
       "  <tbody>\n",
       "    <tr>\n",
       "      <th>0</th>\n",
       "      <td>1.599656</td>\n",
       "      <td>0.070394</td>\n",
       "      <td>0.024421</td>\n",
       "      <td>0.003424</td>\n",
       "      <td>0.2</td>\n",
       "      <td>0.3</td>\n",
       "      <td>{'learning_rate': 0.2, 'subsample': 0.3}</td>\n",
       "      <td>0.689964</td>\n",
       "      <td>0.660129</td>\n",
       "      <td>0.682200</td>\n",
       "      <td>0.677431</td>\n",
       "      <td>0.012638</td>\n",
       "      <td>5</td>\n",
       "      <td>0.859916</td>\n",
       "      <td>0.848158</td>\n",
       "      <td>0.852102</td>\n",
       "      <td>0.853392</td>\n",
       "      <td>0.004886</td>\n",
       "    </tr>\n",
       "    <tr>\n",
       "      <th>1</th>\n",
       "      <td>2.303373</td>\n",
       "      <td>0.287437</td>\n",
       "      <td>0.033784</td>\n",
       "      <td>0.001832</td>\n",
       "      <td>0.2</td>\n",
       "      <td>0.6</td>\n",
       "      <td>{'learning_rate': 0.2, 'subsample': 0.6}</td>\n",
       "      <td>0.676940</td>\n",
       "      <td>0.664023</td>\n",
       "      <td>0.692815</td>\n",
       "      <td>0.677926</td>\n",
       "      <td>0.011775</td>\n",
       "      <td>4</td>\n",
       "      <td>0.867343</td>\n",
       "      <td>0.867903</td>\n",
       "      <td>0.869932</td>\n",
       "      <td>0.868393</td>\n",
       "      <td>0.001112</td>\n",
       "    </tr>\n",
       "    <tr>\n",
       "      <th>2</th>\n",
       "      <td>2.345543</td>\n",
       "      <td>0.098685</td>\n",
       "      <td>0.032282</td>\n",
       "      <td>0.002251</td>\n",
       "      <td>0.2</td>\n",
       "      <td>0.9</td>\n",
       "      <td>{'learning_rate': 0.2, 'subsample': 0.9}</td>\n",
       "      <td>0.688988</td>\n",
       "      <td>0.669872</td>\n",
       "      <td>0.705832</td>\n",
       "      <td>0.688231</td>\n",
       "      <td>0.014691</td>\n",
       "      <td>3</td>\n",
       "      <td>0.871225</td>\n",
       "      <td>0.874043</td>\n",
       "      <td>0.874045</td>\n",
       "      <td>0.873104</td>\n",
       "      <td>0.001329</td>\n",
       "    </tr>\n",
       "    <tr>\n",
       "      <th>3</th>\n",
       "      <td>2.094444</td>\n",
       "      <td>0.020319</td>\n",
       "      <td>0.031766</td>\n",
       "      <td>0.003404</td>\n",
       "      <td>0.6</td>\n",
       "      <td>0.3</td>\n",
       "      <td>{'learning_rate': 0.6, 'subsample': 0.3}</td>\n",
       "      <td>0.683941</td>\n",
       "      <td>0.638065</td>\n",
       "      <td>0.675176</td>\n",
       "      <td>0.665727</td>\n",
       "      <td>0.019885</td>\n",
       "      <td>6</td>\n",
       "      <td>0.874380</td>\n",
       "      <td>0.867049</td>\n",
       "      <td>0.884594</td>\n",
       "      <td>0.875341</td>\n",
       "      <td>0.007195</td>\n",
       "    </tr>\n",
       "    <tr>\n",
       "      <th>4</th>\n",
       "      <td>2.464541</td>\n",
       "      <td>0.201919</td>\n",
       "      <td>0.034563</td>\n",
       "      <td>0.001100</td>\n",
       "      <td>0.6</td>\n",
       "      <td>0.6</td>\n",
       "      <td>{'learning_rate': 0.6, 'subsample': 0.6}</td>\n",
       "      <td>0.677224</td>\n",
       "      <td>0.688351</td>\n",
       "      <td>0.705754</td>\n",
       "      <td>0.690443</td>\n",
       "      <td>0.011741</td>\n",
       "      <td>1</td>\n",
       "      <td>0.914870</td>\n",
       "      <td>0.914371</td>\n",
       "      <td>0.912442</td>\n",
       "      <td>0.913894</td>\n",
       "      <td>0.001047</td>\n",
       "    </tr>\n",
       "    <tr>\n",
       "      <th>5</th>\n",
       "      <td>2.548018</td>\n",
       "      <td>0.124276</td>\n",
       "      <td>0.033756</td>\n",
       "      <td>0.004829</td>\n",
       "      <td>0.6</td>\n",
       "      <td>0.9</td>\n",
       "      <td>{'learning_rate': 0.6, 'subsample': 0.9}</td>\n",
       "      <td>0.674862</td>\n",
       "      <td>0.685784</td>\n",
       "      <td>0.707735</td>\n",
       "      <td>0.689461</td>\n",
       "      <td>0.013670</td>\n",
       "      <td>2</td>\n",
       "      <td>0.926856</td>\n",
       "      <td>0.925648</td>\n",
       "      <td>0.927866</td>\n",
       "      <td>0.926790</td>\n",
       "      <td>0.000907</td>\n",
       "    </tr>\n",
       "  </tbody>\n",
       "</table>\n",
       "</div>"
      ],
      "text/plain": [
       "   mean_fit_time  std_fit_time  mean_score_time  std_score_time  \\\n",
       "0       1.599656      0.070394         0.024421        0.003424   \n",
       "1       2.303373      0.287437         0.033784        0.001832   \n",
       "2       2.345543      0.098685         0.032282        0.002251   \n",
       "3       2.094444      0.020319         0.031766        0.003404   \n",
       "4       2.464541      0.201919         0.034563        0.001100   \n",
       "5       2.548018      0.124276         0.033756        0.004829   \n",
       "\n",
       "  param_learning_rate param_subsample  \\\n",
       "0                 0.2             0.3   \n",
       "1                 0.2             0.6   \n",
       "2                 0.2             0.9   \n",
       "3                 0.6             0.3   \n",
       "4                 0.6             0.6   \n",
       "5                 0.6             0.9   \n",
       "\n",
       "                                     params  split0_test_score  \\\n",
       "0  {'learning_rate': 0.2, 'subsample': 0.3}           0.689964   \n",
       "1  {'learning_rate': 0.2, 'subsample': 0.6}           0.676940   \n",
       "2  {'learning_rate': 0.2, 'subsample': 0.9}           0.688988   \n",
       "3  {'learning_rate': 0.6, 'subsample': 0.3}           0.683941   \n",
       "4  {'learning_rate': 0.6, 'subsample': 0.6}           0.677224   \n",
       "5  {'learning_rate': 0.6, 'subsample': 0.9}           0.674862   \n",
       "\n",
       "   split1_test_score  split2_test_score  mean_test_score  std_test_score  \\\n",
       "0           0.660129           0.682200         0.677431        0.012638   \n",
       "1           0.664023           0.692815         0.677926        0.011775   \n",
       "2           0.669872           0.705832         0.688231        0.014691   \n",
       "3           0.638065           0.675176         0.665727        0.019885   \n",
       "4           0.688351           0.705754         0.690443        0.011741   \n",
       "5           0.685784           0.707735         0.689461        0.013670   \n",
       "\n",
       "   rank_test_score  split0_train_score  split1_train_score  \\\n",
       "0                5            0.859916            0.848158   \n",
       "1                4            0.867343            0.867903   \n",
       "2                3            0.871225            0.874043   \n",
       "3                6            0.874380            0.867049   \n",
       "4                1            0.914870            0.914371   \n",
       "5                2            0.926856            0.925648   \n",
       "\n",
       "   split2_train_score  mean_train_score  std_train_score  \n",
       "0            0.852102          0.853392         0.004886  \n",
       "1            0.869932          0.868393         0.001112  \n",
       "2            0.874045          0.873104         0.001329  \n",
       "3            0.884594          0.875341         0.007195  \n",
       "4            0.912442          0.913894         0.001047  \n",
       "5            0.927866          0.926790         0.000907  "
      ]
     },
     "execution_count": 76,
     "metadata": {},
     "output_type": "execute_result"
    }
   ],
   "source": [
    "# cv results\n",
    "cv_results = pd.DataFrame(model_cv.cv_results_)\n",
    "cv_results\n"
   ]
  },
  {
   "cell_type": "code",
   "execution_count": 77,
   "id": "e2d9968c",
   "metadata": {},
   "outputs": [
    {
     "name": "stdout",
     "output_type": "stream",
     "text": [
      "Best roc auc score :  0.6904429880759381\n",
      "XGBClassifier(base_score=0.5, booster='gbtree', callbacks=None,\n",
      "              colsample_bylevel=1, colsample_bynode=1, colsample_bytree=1,\n",
      "              early_stopping_rounds=None, enable_categorical=False,\n",
      "              eval_metric=None, gamma=0, gpu_id=-1, grow_policy='depthwise',\n",
      "              importance_type=None, interaction_constraints='',\n",
      "              learning_rate=0.6, max_bin=256, max_cat_to_onehot=4,\n",
      "              max_delta_step=0, max_depth=2, max_leaves=0, min_child_weight=1,\n",
      "              missing=nan, monotone_constraints='()', n_estimators=200,\n",
      "              n_jobs=0, num_parallel_tree=1, predictor='auto', random_state=0,\n",
      "              reg_alpha=0, reg_lambda=1, ...)\n"
     ]
    }
   ],
   "source": [
    "# Printing the optimal score and hyperparameters\n",
    "print(\"Best roc auc score : \", model_cv.best_score_)\n",
    "print(model_cv.best_estimator_)"
   ]
  },
  {
   "cell_type": "code",
   "execution_count": 78,
   "id": "8435686c",
   "metadata": {},
   "outputs": [
    {
     "data": {
      "text/plain": [
       "{'learning_rate': 0.6, 'subsample': 0.6}"
      ]
     },
     "execution_count": 78,
     "metadata": {},
     "output_type": "execute_result"
    }
   ],
   "source": [
    "# Printing best params\n",
    "model_cv.best_params_"
   ]
  },
  {
   "cell_type": "code",
   "execution_count": 79,
   "id": "fe81bfb3",
   "metadata": {
    "scrolled": true
   },
   "outputs": [
    {
     "name": "stdout",
     "output_type": "stream",
     "text": [
      "[11:31:06] WARNING: C:/Users/Administrator/workspace/xgboost-win64_release_1.6.0/src/learner.cc:627: \n",
      "Parameters: { \"params\" } might not be used.\n",
      "\n",
      "  This could be a false alarm, with some parameters getting used by language bindings but\n",
      "  then being mistakenly passed down to XGBoost core, or some parameter actually being used\n",
      "  but getting flagged wrongly here. Please open an issue if you find any such cases.\n",
      "\n",
      "\n"
     ]
    },
    {
     "data": {
      "text/html": [
       "<style>#sk-container-id-5 {color: black;background-color: white;}#sk-container-id-5 pre{padding: 0;}#sk-container-id-5 div.sk-toggleable {background-color: white;}#sk-container-id-5 label.sk-toggleable__label {cursor: pointer;display: block;width: 100%;margin-bottom: 0;padding: 0.3em;box-sizing: border-box;text-align: center;}#sk-container-id-5 label.sk-toggleable__label-arrow:before {content: \"▸\";float: left;margin-right: 0.25em;color: #696969;}#sk-container-id-5 label.sk-toggleable__label-arrow:hover:before {color: black;}#sk-container-id-5 div.sk-estimator:hover label.sk-toggleable__label-arrow:before {color: black;}#sk-container-id-5 div.sk-toggleable__content {max-height: 0;max-width: 0;overflow: hidden;text-align: left;background-color: #f0f8ff;}#sk-container-id-5 div.sk-toggleable__content pre {margin: 0.2em;color: black;border-radius: 0.25em;background-color: #f0f8ff;}#sk-container-id-5 input.sk-toggleable__control:checked~div.sk-toggleable__content {max-height: 200px;max-width: 100%;overflow: auto;}#sk-container-id-5 input.sk-toggleable__control:checked~label.sk-toggleable__label-arrow:before {content: \"▾\";}#sk-container-id-5 div.sk-estimator input.sk-toggleable__control:checked~label.sk-toggleable__label {background-color: #d4ebff;}#sk-container-id-5 div.sk-label input.sk-toggleable__control:checked~label.sk-toggleable__label {background-color: #d4ebff;}#sk-container-id-5 input.sk-hidden--visually {border: 0;clip: rect(1px 1px 1px 1px);clip: rect(1px, 1px, 1px, 1px);height: 1px;margin: -1px;overflow: hidden;padding: 0;position: absolute;width: 1px;}#sk-container-id-5 div.sk-estimator {font-family: monospace;background-color: #f0f8ff;border: 1px dotted black;border-radius: 0.25em;box-sizing: border-box;margin-bottom: 0.5em;}#sk-container-id-5 div.sk-estimator:hover {background-color: #d4ebff;}#sk-container-id-5 div.sk-parallel-item::after {content: \"\";width: 100%;border-bottom: 1px solid gray;flex-grow: 1;}#sk-container-id-5 div.sk-label:hover label.sk-toggleable__label {background-color: #d4ebff;}#sk-container-id-5 div.sk-serial::before {content: \"\";position: absolute;border-left: 1px solid gray;box-sizing: border-box;top: 0;bottom: 0;left: 50%;z-index: 0;}#sk-container-id-5 div.sk-serial {display: flex;flex-direction: column;align-items: center;background-color: white;padding-right: 0.2em;padding-left: 0.2em;position: relative;}#sk-container-id-5 div.sk-item {position: relative;z-index: 1;}#sk-container-id-5 div.sk-parallel {display: flex;align-items: stretch;justify-content: center;background-color: white;position: relative;}#sk-container-id-5 div.sk-item::before, #sk-container-id-5 div.sk-parallel-item::before {content: \"\";position: absolute;border-left: 1px solid gray;box-sizing: border-box;top: 0;bottom: 0;left: 50%;z-index: -1;}#sk-container-id-5 div.sk-parallel-item {display: flex;flex-direction: column;z-index: 1;position: relative;background-color: white;}#sk-container-id-5 div.sk-parallel-item:first-child::after {align-self: flex-end;width: 50%;}#sk-container-id-5 div.sk-parallel-item:last-child::after {align-self: flex-start;width: 50%;}#sk-container-id-5 div.sk-parallel-item:only-child::after {width: 0;}#sk-container-id-5 div.sk-dashed-wrapped {border: 1px dashed gray;margin: 0 0.4em 0.5em 0.4em;box-sizing: border-box;padding-bottom: 0.4em;background-color: white;}#sk-container-id-5 div.sk-label label {font-family: monospace;font-weight: bold;display: inline-block;line-height: 1.2em;}#sk-container-id-5 div.sk-label-container {text-align: center;}#sk-container-id-5 div.sk-container {/* jupyter's `normalize.less` sets `[hidden] { display: none; }` but bootstrap.min.css set `[hidden] { display: none !important; }` so we also need the `!important` here to be able to override the default hidden behavior on the sphinx rendered scikit-learn.org. See: https://github.com/scikit-learn/scikit-learn/issues/21755 */display: inline-block !important;position: relative;}#sk-container-id-5 div.sk-text-repr-fallback {display: none;}</style><div id=\"sk-container-id-5\" class=\"sk-top-container\"><div class=\"sk-text-repr-fallback\"><pre>XGBClassifier(base_score=0.5, booster=&#x27;gbtree&#x27;, callbacks=None,\n",
       "              colsample_bylevel=1, colsample_bynode=1, colsample_bytree=1,\n",
       "              early_stopping_rounds=None, enable_categorical=False,\n",
       "              eval_metric=None, gamma=0, gpu_id=-1, grow_policy=&#x27;depthwise&#x27;,\n",
       "              importance_type=None, interaction_constraints=&#x27;&#x27;,\n",
       "              learning_rate=0.300000012, max_bin=256, max_cat_to_onehot=4,\n",
       "              max_delta_step=0, max_depth=6, max_leaves=0, min_child_weight=1,\n",
       "              missing=nan, monotone_constraints=&#x27;()&#x27;, n_estimators=100,\n",
       "              n_jobs=0, num_parallel_tree=1,\n",
       "              params={&#x27;learning_rate&#x27;: 0.2, &#x27;max_depth&#x27;: 2, &#x27;n_estimators&#x27;: 200,\n",
       "                      &#x27;objective&#x27;: &#x27;binary:logistic&#x27;, &#x27;subsample&#x27;: 0.6},\n",
       "              predictor=&#x27;auto&#x27;, random_state=0, reg_alpha=0, ...)</pre><b>In a Jupyter environment, please rerun this cell to show the HTML representation or trust the notebook. <br />On GitHub, the HTML representation is unable to render, please try loading this page with nbviewer.org.</b></div><div class=\"sk-container\" hidden><div class=\"sk-item\"><div class=\"sk-estimator sk-toggleable\"><input class=\"sk-toggleable__control sk-hidden--visually\" id=\"sk-estimator-id-9\" type=\"checkbox\" checked><label for=\"sk-estimator-id-9\" class=\"sk-toggleable__label sk-toggleable__label-arrow\">XGBClassifier</label><div class=\"sk-toggleable__content\"><pre>XGBClassifier(base_score=0.5, booster=&#x27;gbtree&#x27;, callbacks=None,\n",
       "              colsample_bylevel=1, colsample_bynode=1, colsample_bytree=1,\n",
       "              early_stopping_rounds=None, enable_categorical=False,\n",
       "              eval_metric=None, gamma=0, gpu_id=-1, grow_policy=&#x27;depthwise&#x27;,\n",
       "              importance_type=None, interaction_constraints=&#x27;&#x27;,\n",
       "              learning_rate=0.300000012, max_bin=256, max_cat_to_onehot=4,\n",
       "              max_delta_step=0, max_depth=6, max_leaves=0, min_child_weight=1,\n",
       "              missing=nan, monotone_constraints=&#x27;()&#x27;, n_estimators=100,\n",
       "              n_jobs=0, num_parallel_tree=1,\n",
       "              params={&#x27;learning_rate&#x27;: 0.2, &#x27;max_depth&#x27;: 2, &#x27;n_estimators&#x27;: 200,\n",
       "                      &#x27;objective&#x27;: &#x27;binary:logistic&#x27;, &#x27;subsample&#x27;: 0.6},\n",
       "              predictor=&#x27;auto&#x27;, random_state=0, reg_alpha=0, ...)</pre></div></div></div></div></div>"
      ],
      "text/plain": [
       "XGBClassifier(base_score=0.5, booster='gbtree', callbacks=None,\n",
       "              colsample_bylevel=1, colsample_bynode=1, colsample_bytree=1,\n",
       "              early_stopping_rounds=None, enable_categorical=False,\n",
       "              eval_metric=None, gamma=0, gpu_id=-1, grow_policy='depthwise',\n",
       "              importance_type=None, interaction_constraints='',\n",
       "              learning_rate=0.300000012, max_bin=256, max_cat_to_onehot=4,\n",
       "              max_delta_step=0, max_depth=6, max_leaves=0, min_child_weight=1,\n",
       "              missing=nan, monotone_constraints='()', n_estimators=100,\n",
       "              n_jobs=0, num_parallel_tree=1,\n",
       "              params={'learning_rate': 0.2, 'max_depth': 2, 'n_estimators': 200,\n",
       "                      'objective': 'binary:logistic', 'subsample': 0.6},\n",
       "              predictor='auto', random_state=0, reg_alpha=0, ...)"
      ]
     },
     "execution_count": 79,
     "metadata": {},
     "output_type": "execute_result"
    }
   ],
   "source": [
    "# Printing best params\n",
    "params = {'learning_rate': 0.2,\n",
    "          'max_depth': 2, \n",
    "          'n_estimators':200,\n",
    "          'subsample':0.6,\n",
    "          'objective':'binary:logistic'}\n",
    "\n",
    "# fit model on training data\n",
    "xgb_imb_model = XGBClassifier(params = params)\n",
    "xgb_imb_model.fit(X_train, y_train)"
   ]
  },
  {
   "cell_type": "code",
   "execution_count": 80,
   "id": "aff928d0",
   "metadata": {},
   "outputs": [
    {
     "name": "stdout",
     "output_type": "stream",
     "text": [
      "F1 Score: 42.58%\n",
      "Classification Report: \n",
      "               precision    recall  f1-score   support\n",
      "\n",
      "           0       0.99      1.00      1.00     54641\n",
      "           1       1.00      0.27      0.43       525\n",
      "\n",
      "    accuracy                           0.99     55166\n",
      "   macro avg       1.00      0.64      0.71     55166\n",
      "weighted avg       0.99      0.99      0.99     55166\n",
      "\n"
     ]
    }
   ],
   "source": [
    "# Predictions on the train set\n",
    "y_train_pred = xgb_imb_model.predict(X_train)\n",
    "\n",
    "display_scores(y_train, y_train_pred)"
   ]
  },
  {
   "cell_type": "code",
   "execution_count": 81,
   "id": "49eeb1f4",
   "metadata": {},
   "outputs": [
    {
     "data": {
      "image/png": "[encoded data removed]",
      "text/plain": [
       "<Figure size 360x360 with 1 Axes>"
      ]
     },
     "metadata": {
      "needs_background": "light"
     },
     "output_type": "display_data"
    }
   ],
   "source": [
    "# Predicted probability\n",
    "y_train_pred_proba_imb_xgb = xgb_imb_model.predict_proba(X_train)[:,1]\n",
    "\n",
    "# Plot the ROC curve\n",
    "draw_roc(y_train, y_train_pred_proba_imb_xgb)"
   ]
  },
  {
   "cell_type": "code",
   "execution_count": 82,
   "id": "bb467db5",
   "metadata": {},
   "outputs": [
    {
     "name": "stdout",
     "output_type": "stream",
     "text": [
      "F1 Score: 38.04%\n",
      "Classification Report: \n",
      "               precision    recall  f1-score   support\n",
      "\n",
      "           0       0.99      1.00      1.00     13661\n",
      "           1       0.97      0.24      0.38       131\n",
      "\n",
      "    accuracy                           0.99     13792\n",
      "   macro avg       0.98      0.62      0.69     13792\n",
      "weighted avg       0.99      0.99      0.99     13792\n",
      "\n"
     ]
    }
   ],
   "source": [
    "# Predictions on the test set\n",
    "y_test_pred = xgb_imb_model.predict(X_test)\n",
    "display_scores(y_test, y_test_pred)"
   ]
  },
  {
   "cell_type": "code",
   "execution_count": 83,
   "id": "382d140d",
   "metadata": {
    "scrolled": false
   },
   "outputs": [
    {
     "data": {
      "image/png": "[encoded data removed]",
      "text/plain": [
       "<Figure size 360x360 with 1 Axes>"
      ]
     },
     "metadata": {
      "needs_background": "light"
     },
     "output_type": "display_data"
    }
   ],
   "source": [
    "#### Predicted probability\n",
    "y_test_pred_proba = xgb_imb_model.predict_proba(X_test)[:,1]\n",
    "\n",
    "# Plot the ROC curve\n",
    "draw_roc(y_test, y_test_pred_proba)"
   ]
  },
  {
   "cell_type": "markdown",
   "id": "7e6265d0",
   "metadata": {},
   "source": [
    "## 4. Random Forest Classifier"
   ]
  },
  {
   "cell_type": "code",
   "execution_count": 84,
   "id": "d56705aa",
   "metadata": {
    "scrolled": true
   },
   "outputs": [
    {
     "name": "stdout",
     "output_type": "stream",
     "text": [
      "Fitting 3 folds for each of 8 candidates, totalling 24 fits\n"
     ]
    },
    {
     "data": {
      "text/html": [
       "<style>#sk-container-id-6 {color: black;background-color: white;}#sk-container-id-6 pre{padding: 0;}#sk-container-id-6 div.sk-toggleable {background-color: white;}#sk-container-id-6 label.sk-toggleable__label {cursor: pointer;display: block;width: 100%;margin-bottom: 0;padding: 0.3em;box-sizing: border-box;text-align: center;}#sk-container-id-6 label.sk-toggleable__label-arrow:before {content: \"▸\";float: left;margin-right: 0.25em;color: #696969;}#sk-container-id-6 label.sk-toggleable__label-arrow:hover:before {color: black;}#sk-container-id-6 div.sk-estimator:hover label.sk-toggleable__label-arrow:before {color: black;}#sk-container-id-6 div.sk-toggleable__content {max-height: 0;max-width: 0;overflow: hidden;text-align: left;background-color: #f0f8ff;}#sk-container-id-6 div.sk-toggleable__content pre {margin: 0.2em;color: black;border-radius: 0.25em;background-color: #f0f8ff;}#sk-container-id-6 input.sk-toggleable__control:checked~div.sk-toggleable__content {max-height: 200px;max-width: 100%;overflow: auto;}#sk-container-id-6 input.sk-toggleable__control:checked~label.sk-toggleable__label-arrow:before {content: \"▾\";}#sk-container-id-6 div.sk-estimator input.sk-toggleable__control:checked~label.sk-toggleable__label {background-color: #d4ebff;}#sk-container-id-6 div.sk-label input.sk-toggleable__control:checked~label.sk-toggleable__label {background-color: #d4ebff;}#sk-container-id-6 input.sk-hidden--visually {border: 0;clip: rect(1px 1px 1px 1px);clip: rect(1px, 1px, 1px, 1px);height: 1px;margin: -1px;overflow: hidden;padding: 0;position: absolute;width: 1px;}#sk-container-id-6 div.sk-estimator {font-family: monospace;background-color: #f0f8ff;border: 1px dotted black;border-radius: 0.25em;box-sizing: border-box;margin-bottom: 0.5em;}#sk-container-id-6 div.sk-estimator:hover {background-color: #d4ebff;}#sk-container-id-6 div.sk-parallel-item::after {content: \"\";width: 100%;border-bottom: 1px solid gray;flex-grow: 1;}#sk-container-id-6 div.sk-label:hover label.sk-toggleable__label {background-color: #d4ebff;}#sk-container-id-6 div.sk-serial::before {content: \"\";position: absolute;border-left: 1px solid gray;box-sizing: border-box;top: 0;bottom: 0;left: 50%;z-index: 0;}#sk-container-id-6 div.sk-serial {display: flex;flex-direction: column;align-items: center;background-color: white;padding-right: 0.2em;padding-left: 0.2em;position: relative;}#sk-container-id-6 div.sk-item {position: relative;z-index: 1;}#sk-container-id-6 div.sk-parallel {display: flex;align-items: stretch;justify-content: center;background-color: white;position: relative;}#sk-container-id-6 div.sk-item::before, #sk-container-id-6 div.sk-parallel-item::before {content: \"\";position: absolute;border-left: 1px solid gray;box-sizing: border-box;top: 0;bottom: 0;left: 50%;z-index: -1;}#sk-container-id-6 div.sk-parallel-item {display: flex;flex-direction: column;z-index: 1;position: relative;background-color: white;}#sk-container-id-6 div.sk-parallel-item:first-child::after {align-self: flex-end;width: 50%;}#sk-container-id-6 div.sk-parallel-item:last-child::after {align-self: flex-start;width: 50%;}#sk-container-id-6 div.sk-parallel-item:only-child::after {width: 0;}#sk-container-id-6 div.sk-dashed-wrapped {border: 1px dashed gray;margin: 0 0.4em 0.5em 0.4em;box-sizing: border-box;padding-bottom: 0.4em;background-color: white;}#sk-container-id-6 div.sk-label label {font-family: monospace;font-weight: bold;display: inline-block;line-height: 1.2em;}#sk-container-id-6 div.sk-label-container {text-align: center;}#sk-container-id-6 div.sk-container {/* jupyter's `normalize.less` sets `[hidden] { display: none; }` but bootstrap.min.css set `[hidden] { display: none !important; }` so we also need the `!important` here to be able to override the default hidden behavior on the sphinx rendered scikit-learn.org. See: https://github.com/scikit-learn/scikit-learn/issues/21755 */display: inline-block !important;position: relative;}#sk-container-id-6 div.sk-text-repr-fallback {display: none;}</style><div id=\"sk-container-id-6\" class=\"sk-top-container\"><div class=\"sk-text-repr-fallback\"><pre>GridSearchCV(cv=3, estimator=RandomForestClassifier(), n_jobs=-1,\n",
       "             param_grid={&#x27;max_depth&#x27;: range(5, 15, 5),\n",
       "                         &#x27;min_samples_leaf&#x27;: range(50, 150, 50),\n",
       "                         &#x27;min_samples_split&#x27;: range(50, 150, 50)},\n",
       "             scoring=&#x27;roc_auc&#x27;, verbose=1)</pre><b>In a Jupyter environment, please rerun this cell to show the HTML representation or trust the notebook. <br />On GitHub, the HTML representation is unable to render, please try loading this page with nbviewer.org.</b></div><div class=\"sk-container\" hidden><div class=\"sk-item sk-dashed-wrapped\"><div class=\"sk-label-container\"><div class=\"sk-label sk-toggleable\"><input class=\"sk-toggleable__control sk-hidden--visually\" id=\"sk-estimator-id-10\" type=\"checkbox\" ><label for=\"sk-estimator-id-10\" class=\"sk-toggleable__label sk-toggleable__label-arrow\">GridSearchCV</label><div class=\"sk-toggleable__content\"><pre>GridSearchCV(cv=3, estimator=RandomForestClassifier(), n_jobs=-1,\n",
       "             param_grid={&#x27;max_depth&#x27;: range(5, 15, 5),\n",
       "                         &#x27;min_samples_leaf&#x27;: range(50, 150, 50),\n",
       "                         &#x27;min_samples_split&#x27;: range(50, 150, 50)},\n",
       "             scoring=&#x27;roc_auc&#x27;, verbose=1)</pre></div></div></div><div class=\"sk-parallel\"><div class=\"sk-parallel-item\"><div class=\"sk-item\"><div class=\"sk-label-container\"><div class=\"sk-label sk-toggleable\"><input class=\"sk-toggleable__control sk-hidden--visually\" id=\"sk-estimator-id-11\" type=\"checkbox\" ><label for=\"sk-estimator-id-11\" class=\"sk-toggleable__label sk-toggleable__label-arrow\">estimator: RandomForestClassifier</label><div class=\"sk-toggleable__content\"><pre>RandomForestClassifier()</pre></div></div></div><div class=\"sk-serial\"><div class=\"sk-item\"><div class=\"sk-estimator sk-toggleable\"><input class=\"sk-toggleable__control sk-hidden--visually\" id=\"sk-estimator-id-12\" type=\"checkbox\" ><label for=\"sk-estimator-id-12\" class=\"sk-toggleable__label sk-toggleable__label-arrow\">RandomForestClassifier</label><div class=\"sk-toggleable__content\"><pre>RandomForestClassifier()</pre></div></div></div></div></div></div></div></div></div></div>"
      ],
      "text/plain": [
       "GridSearchCV(cv=3, estimator=RandomForestClassifier(), n_jobs=-1,\n",
       "             param_grid={'max_depth': range(5, 15, 5),\n",
       "                         'min_samples_leaf': range(50, 150, 50),\n",
       "                         'min_samples_split': range(50, 150, 50)},\n",
       "             scoring='roc_auc', verbose=1)"
      ]
     },
     "execution_count": 84,
     "metadata": {},
     "output_type": "execute_result"
    }
   ],
   "source": [
    "# Create the parameter grid \n",
    "param_grid = {\n",
    "    'max_depth': range(5, 15, 5),\n",
    "    'min_samples_leaf': range(50, 150, 50),\n",
    "    'min_samples_split': range(50, 150, 50),\n",
    "}\n",
    "\n",
    "\n",
    "# Instantiate the grid search model\n",
    "rf_model = RandomForestClassifier()\n",
    "\n",
    "grid_search = GridSearchCV(estimator = rf_model, \n",
    "                           param_grid = param_grid, \n",
    "                           scoring= 'roc_auc',\n",
    "                           cv = 3, \n",
    "                           n_jobs=-1,\n",
    "                           verbose = 1)\n",
    "\n",
    "# Fit the grid search to the data\n",
    "grid_search.fit(X_train, y_train)"
   ]
  },
  {
   "cell_type": "code",
   "execution_count": 85,
   "id": "d214b59c",
   "metadata": {},
   "outputs": [
    {
     "data": {
      "text/html": [
       "<div>\n",
       "<style scoped>\n",
       "    .dataframe tbody tr th:only-of-type {\n",
       "        vertical-align: middle;\n",
       "    }\n",
       "\n",
       "    .dataframe tbody tr th {\n",
       "        vertical-align: top;\n",
       "    }\n",
       "\n",
       "    .dataframe thead th {\n",
       "        text-align: right;\n",
       "    }\n",
       "</style>\n",
       "<table border=\"1\" class=\"dataframe\">\n",
       "  <thead>\n",
       "    <tr style=\"text-align: right;\">\n",
       "      <th></th>\n",
       "      <th>mean_fit_time</th>\n",
       "      <th>std_fit_time</th>\n",
       "      <th>mean_score_time</th>\n",
       "      <th>std_score_time</th>\n",
       "      <th>param_max_depth</th>\n",
       "      <th>param_min_samples_leaf</th>\n",
       "      <th>param_min_samples_split</th>\n",
       "      <th>params</th>\n",
       "      <th>split0_test_score</th>\n",
       "      <th>split1_test_score</th>\n",
       "      <th>split2_test_score</th>\n",
       "      <th>mean_test_score</th>\n",
       "      <th>std_test_score</th>\n",
       "      <th>rank_test_score</th>\n",
       "    </tr>\n",
       "  </thead>\n",
       "  <tbody>\n",
       "    <tr>\n",
       "      <th>0</th>\n",
       "      <td>3.248884</td>\n",
       "      <td>0.127425</td>\n",
       "      <td>0.265204</td>\n",
       "      <td>0.013887</td>\n",
       "      <td>5</td>\n",
       "      <td>50</td>\n",
       "      <td>50</td>\n",
       "      <td>{'max_depth': 5, 'min_samples_leaf': 50, 'min_...</td>\n",
       "      <td>0.691053</td>\n",
       "      <td>0.690161</td>\n",
       "      <td>0.717278</td>\n",
       "      <td>0.699497</td>\n",
       "      <td>0.012578</td>\n",
       "      <td>2</td>\n",
       "    </tr>\n",
       "    <tr>\n",
       "      <th>1</th>\n",
       "      <td>3.238498</td>\n",
       "      <td>0.214999</td>\n",
       "      <td>0.270646</td>\n",
       "      <td>0.015538</td>\n",
       "      <td>5</td>\n",
       "      <td>50</td>\n",
       "      <td>100</td>\n",
       "      <td>{'max_depth': 5, 'min_samples_leaf': 50, 'min_...</td>\n",
       "      <td>0.683751</td>\n",
       "      <td>0.689737</td>\n",
       "      <td>0.726616</td>\n",
       "      <td>0.700035</td>\n",
       "      <td>0.018954</td>\n",
       "      <td>1</td>\n",
       "    </tr>\n",
       "    <tr>\n",
       "      <th>2</th>\n",
       "      <td>3.297300</td>\n",
       "      <td>0.185750</td>\n",
       "      <td>0.270495</td>\n",
       "      <td>0.015564</td>\n",
       "      <td>5</td>\n",
       "      <td>100</td>\n",
       "      <td>50</td>\n",
       "      <td>{'max_depth': 5, 'min_samples_leaf': 100, 'min...</td>\n",
       "      <td>0.679670</td>\n",
       "      <td>0.692025</td>\n",
       "      <td>0.715949</td>\n",
       "      <td>0.695881</td>\n",
       "      <td>0.015060</td>\n",
       "      <td>5</td>\n",
       "    </tr>\n",
       "    <tr>\n",
       "      <th>3</th>\n",
       "      <td>3.210643</td>\n",
       "      <td>0.037834</td>\n",
       "      <td>0.273682</td>\n",
       "      <td>0.006132</td>\n",
       "      <td>5</td>\n",
       "      <td>100</td>\n",
       "      <td>100</td>\n",
       "      <td>{'max_depth': 5, 'min_samples_leaf': 100, 'min...</td>\n",
       "      <td>0.690687</td>\n",
       "      <td>0.689404</td>\n",
       "      <td>0.712231</td>\n",
       "      <td>0.697441</td>\n",
       "      <td>0.010471</td>\n",
       "      <td>4</td>\n",
       "    </tr>\n",
       "    <tr>\n",
       "      <th>4</th>\n",
       "      <td>5.105251</td>\n",
       "      <td>0.324845</td>\n",
       "      <td>0.378234</td>\n",
       "      <td>0.012111</td>\n",
       "      <td>10</td>\n",
       "      <td>50</td>\n",
       "      <td>50</td>\n",
       "      <td>{'max_depth': 10, 'min_samples_leaf': 50, 'min...</td>\n",
       "      <td>0.679012</td>\n",
       "      <td>0.679560</td>\n",
       "      <td>0.717829</td>\n",
       "      <td>0.692134</td>\n",
       "      <td>0.018170</td>\n",
       "      <td>8</td>\n",
       "    </tr>\n",
       "    <tr>\n",
       "      <th>5</th>\n",
       "      <td>4.936542</td>\n",
       "      <td>0.123190</td>\n",
       "      <td>0.366347</td>\n",
       "      <td>0.023578</td>\n",
       "      <td>10</td>\n",
       "      <td>50</td>\n",
       "      <td>100</td>\n",
       "      <td>{'max_depth': 10, 'min_samples_leaf': 50, 'min...</td>\n",
       "      <td>0.679309</td>\n",
       "      <td>0.693478</td>\n",
       "      <td>0.723670</td>\n",
       "      <td>0.698819</td>\n",
       "      <td>0.018500</td>\n",
       "      <td>3</td>\n",
       "    </tr>\n",
       "    <tr>\n",
       "      <th>6</th>\n",
       "      <td>4.769132</td>\n",
       "      <td>0.237873</td>\n",
       "      <td>0.344684</td>\n",
       "      <td>0.014803</td>\n",
       "      <td>10</td>\n",
       "      <td>100</td>\n",
       "      <td>50</td>\n",
       "      <td>{'max_depth': 10, 'min_samples_leaf': 100, 'mi...</td>\n",
       "      <td>0.682737</td>\n",
       "      <td>0.687679</td>\n",
       "      <td>0.712206</td>\n",
       "      <td>0.694207</td>\n",
       "      <td>0.012886</td>\n",
       "      <td>7</td>\n",
       "    </tr>\n",
       "    <tr>\n",
       "      <th>7</th>\n",
       "      <td>4.365513</td>\n",
       "      <td>0.109838</td>\n",
       "      <td>0.264880</td>\n",
       "      <td>0.015322</td>\n",
       "      <td>10</td>\n",
       "      <td>100</td>\n",
       "      <td>100</td>\n",
       "      <td>{'max_depth': 10, 'min_samples_leaf': 100, 'mi...</td>\n",
       "      <td>0.686887</td>\n",
       "      <td>0.683535</td>\n",
       "      <td>0.713990</td>\n",
       "      <td>0.694804</td>\n",
       "      <td>0.013636</td>\n",
       "      <td>6</td>\n",
       "    </tr>\n",
       "  </tbody>\n",
       "</table>\n",
       "</div>"
      ],
      "text/plain": [
       "   mean_fit_time  std_fit_time  mean_score_time  std_score_time  \\\n",
       "0       3.248884      0.127425         0.265204        0.013887   \n",
       "1       3.238498      0.214999         0.270646        0.015538   \n",
       "2       3.297300      0.185750         0.270495        0.015564   \n",
       "3       3.210643      0.037834         0.273682        0.006132   \n",
       "4       5.105251      0.324845         0.378234        0.012111   \n",
       "5       4.936542      0.123190         0.366347        0.023578   \n",
       "6       4.769132      0.237873         0.344684        0.014803   \n",
       "7       4.365513      0.109838         0.264880        0.015322   \n",
       "\n",
       "  param_max_depth param_min_samples_leaf param_min_samples_split  \\\n",
       "0               5                     50                      50   \n",
       "1               5                     50                     100   \n",
       "2               5                    100                      50   \n",
       "3               5                    100                     100   \n",
       "4              10                     50                      50   \n",
       "5              10                     50                     100   \n",
       "6              10                    100                      50   \n",
       "7              10                    100                     100   \n",
       "\n",
       "                                              params  split0_test_score  \\\n",
       "0  {'max_depth': 5, 'min_samples_leaf': 50, 'min_...           0.691053   \n",
       "1  {'max_depth': 5, 'min_samples_leaf': 50, 'min_...           0.683751   \n",
       "2  {'max_depth': 5, 'min_samples_leaf': 100, 'min...           0.679670   \n",
       "3  {'max_depth': 5, 'min_samples_leaf': 100, 'min...           0.690687   \n",
       "4  {'max_depth': 10, 'min_samples_leaf': 50, 'min...           0.679012   \n",
       "5  {'max_depth': 10, 'min_samples_leaf': 50, 'min...           0.679309   \n",
       "6  {'max_depth': 10, 'min_samples_leaf': 100, 'mi...           0.682737   \n",
       "7  {'max_depth': 10, 'min_samples_leaf': 100, 'mi...           0.686887   \n",
       "\n",
       "   split1_test_score  split2_test_score  mean_test_score  std_test_score  \\\n",
       "0           0.690161           0.717278         0.699497        0.012578   \n",
       "1           0.689737           0.726616         0.700035        0.018954   \n",
       "2           0.692025           0.715949         0.695881        0.015060   \n",
       "3           0.689404           0.712231         0.697441        0.010471   \n",
       "4           0.679560           0.717829         0.692134        0.018170   \n",
       "5           0.693478           0.723670         0.698819        0.018500   \n",
       "6           0.687679           0.712206         0.694207        0.012886   \n",
       "7           0.683535           0.713990         0.694804        0.013636   \n",
       "\n",
       "   rank_test_score  \n",
       "0                2  \n",
       "1                1  \n",
       "2                5  \n",
       "3                4  \n",
       "4                8  \n",
       "5                3  \n",
       "6                7  \n",
       "7                6  "
      ]
     },
     "execution_count": 85,
     "metadata": {},
     "output_type": "execute_result"
    }
   ],
   "source": [
    "# cv results\n",
    "cv_results = pd.DataFrame(grid_search.cv_results_)\n",
    "cv_results\n"
   ]
  },
  {
   "cell_type": "code",
   "execution_count": 86,
   "id": "288028de",
   "metadata": {},
   "outputs": [
    {
     "name": "stdout",
     "output_type": "stream",
     "text": [
      "Best roc auc score :  0.7000348928719697\n",
      "RandomForestClassifier(max_depth=5, min_samples_leaf=50, min_samples_split=100)\n"
     ]
    }
   ],
   "source": [
    "# Printing the optimal roc score and hyperparameters\n",
    "print(\"Best roc auc score : \", grid_search.best_score_)\n",
    "print(grid_search.best_estimator_)"
   ]
  },
  {
   "cell_type": "code",
   "execution_count": 87,
   "id": "d09ee394",
   "metadata": {},
   "outputs": [
    {
     "data": {
      "text/plain": [
       "{'max_depth': 5, 'min_samples_leaf': 50, 'min_samples_split': 100}"
      ]
     },
     "execution_count": 87,
     "metadata": {},
     "output_type": "execute_result"
    }
   ],
   "source": [
    "# Printing best params\n",
    "grid_search.best_params_"
   ]
  },
  {
   "cell_type": "code",
   "execution_count": 88,
   "id": "d1fb07ca",
   "metadata": {},
   "outputs": [
    {
     "data": {
      "text/html": [
       "<style>#sk-container-id-7 {color: black;background-color: white;}#sk-container-id-7 pre{padding: 0;}#sk-container-id-7 div.sk-toggleable {background-color: white;}#sk-container-id-7 label.sk-toggleable__label {cursor: pointer;display: block;width: 100%;margin-bottom: 0;padding: 0.3em;box-sizing: border-box;text-align: center;}#sk-container-id-7 label.sk-toggleable__label-arrow:before {content: \"▸\";float: left;margin-right: 0.25em;color: #696969;}#sk-container-id-7 label.sk-toggleable__label-arrow:hover:before {color: black;}#sk-container-id-7 div.sk-estimator:hover label.sk-toggleable__label-arrow:before {color: black;}#sk-container-id-7 div.sk-toggleable__content {max-height: 0;max-width: 0;overflow: hidden;text-align: left;background-color: #f0f8ff;}#sk-container-id-7 div.sk-toggleable__content pre {margin: 0.2em;color: black;border-radius: 0.25em;background-color: #f0f8ff;}#sk-container-id-7 input.sk-toggleable__control:checked~div.sk-toggleable__content {max-height: 200px;max-width: 100%;overflow: auto;}#sk-container-id-7 input.sk-toggleable__control:checked~label.sk-toggleable__label-arrow:before {content: \"▾\";}#sk-container-id-7 div.sk-estimator input.sk-toggleable__control:checked~label.sk-toggleable__label {background-color: #d4ebff;}#sk-container-id-7 div.sk-label input.sk-toggleable__control:checked~label.sk-toggleable__label {background-color: #d4ebff;}#sk-container-id-7 input.sk-hidden--visually {border: 0;clip: rect(1px 1px 1px 1px);clip: rect(1px, 1px, 1px, 1px);height: 1px;margin: -1px;overflow: hidden;padding: 0;position: absolute;width: 1px;}#sk-container-id-7 div.sk-estimator {font-family: monospace;background-color: #f0f8ff;border: 1px dotted black;border-radius: 0.25em;box-sizing: border-box;margin-bottom: 0.5em;}#sk-container-id-7 div.sk-estimator:hover {background-color: #d4ebff;}#sk-container-id-7 div.sk-parallel-item::after {content: \"\";width: 100%;border-bottom: 1px solid gray;flex-grow: 1;}#sk-container-id-7 div.sk-label:hover label.sk-toggleable__label {background-color: #d4ebff;}#sk-container-id-7 div.sk-serial::before {content: \"\";position: absolute;border-left: 1px solid gray;box-sizing: border-box;top: 0;bottom: 0;left: 50%;z-index: 0;}#sk-container-id-7 div.sk-serial {display: flex;flex-direction: column;align-items: center;background-color: white;padding-right: 0.2em;padding-left: 0.2em;position: relative;}#sk-container-id-7 div.sk-item {position: relative;z-index: 1;}#sk-container-id-7 div.sk-parallel {display: flex;align-items: stretch;justify-content: center;background-color: white;position: relative;}#sk-container-id-7 div.sk-item::before, #sk-container-id-7 div.sk-parallel-item::before {content: \"\";position: absolute;border-left: 1px solid gray;box-sizing: border-box;top: 0;bottom: 0;left: 50%;z-index: -1;}#sk-container-id-7 div.sk-parallel-item {display: flex;flex-direction: column;z-index: 1;position: relative;background-color: white;}#sk-container-id-7 div.sk-parallel-item:first-child::after {align-self: flex-end;width: 50%;}#sk-container-id-7 div.sk-parallel-item:last-child::after {align-self: flex-start;width: 50%;}#sk-container-id-7 div.sk-parallel-item:only-child::after {width: 0;}#sk-container-id-7 div.sk-dashed-wrapped {border: 1px dashed gray;margin: 0 0.4em 0.5em 0.4em;box-sizing: border-box;padding-bottom: 0.4em;background-color: white;}#sk-container-id-7 div.sk-label label {font-family: monospace;font-weight: bold;display: inline-block;line-height: 1.2em;}#sk-container-id-7 div.sk-label-container {text-align: center;}#sk-container-id-7 div.sk-container {/* jupyter's `normalize.less` sets `[hidden] { display: none; }` but bootstrap.min.css set `[hidden] { display: none !important; }` so we also need the `!important` here to be able to override the default hidden behavior on the sphinx rendered scikit-learn.org. See: https://github.com/scikit-learn/scikit-learn/issues/21755 */display: inline-block !important;position: relative;}#sk-container-id-7 div.sk-text-repr-fallback {display: none;}</style><div id=\"sk-container-id-7\" class=\"sk-top-container\"><div class=\"sk-text-repr-fallback\"><pre>RandomForestClassifier(max_depth=5, min_samples_leaf=50, min_samples_split=100,\n",
       "                       random_state=100)</pre><b>In a Jupyter environment, please rerun this cell to show the HTML representation or trust the notebook. <br />On GitHub, the HTML representation is unable to render, please try loading this page with nbviewer.org.</b></div><div class=\"sk-container\" hidden><div class=\"sk-item\"><div class=\"sk-estimator sk-toggleable\"><input class=\"sk-toggleable__control sk-hidden--visually\" id=\"sk-estimator-id-13\" type=\"checkbox\" checked><label for=\"sk-estimator-id-13\" class=\"sk-toggleable__label sk-toggleable__label-arrow\">RandomForestClassifier</label><div class=\"sk-toggleable__content\"><pre>RandomForestClassifier(max_depth=5, min_samples_leaf=50, min_samples_split=100,\n",
       "                       random_state=100)</pre></div></div></div></div></div>"
      ],
      "text/plain": [
       "RandomForestClassifier(max_depth=5, min_samples_leaf=50, min_samples_split=100,\n",
       "                       random_state=100)"
      ]
     },
     "execution_count": 88,
     "metadata": {},
     "output_type": "execute_result"
    }
   ],
   "source": [
    "# Model with optimal hyperparameters\n",
    "rf_imb_model = RandomForestClassifier(criterion = \"gini\", \n",
    "                                  random_state = 100,\n",
    "                                  max_depth=5, \n",
    "                                  min_samples_leaf=50,\n",
    "                                  min_samples_split=100)\n",
    "\n",
    "rf_imb_model.fit(X_train, y_train)"
   ]
  },
  {
   "cell_type": "code",
   "execution_count": 89,
   "id": "8a52021e",
   "metadata": {
    "scrolled": true
   },
   "outputs": [
    {
     "name": "stdout",
     "output_type": "stream",
     "text": [
      "F1 Score: 37.21%\n",
      "Classification Report: \n",
      "               precision    recall  f1-score   support\n",
      "\n",
      "           0       0.99      1.00      1.00     54641\n",
      "           1       1.00      0.23      0.37       525\n",
      "\n",
      "    accuracy                           0.99     55166\n",
      "   macro avg       1.00      0.61      0.68     55166\n",
      "weighted avg       0.99      0.99      0.99     55166\n",
      "\n"
     ]
    }
   ],
   "source": [
    "# Predictions on the train set\n",
    "\n",
    "y_train_pred = rf_imb_model.predict(X_train)\n",
    "display_scores(y_train, y_train_pred)"
   ]
  },
  {
   "cell_type": "code",
   "execution_count": 90,
   "id": "ba3a0a54",
   "metadata": {
    "scrolled": true
   },
   "outputs": [
    {
     "data": {
      "image/png": "[encoded data removed]",
      "text/plain": [
       "<Figure size 360x360 with 1 Axes>"
      ]
     },
     "metadata": {
      "needs_background": "light"
     },
     "output_type": "display_data"
    }
   ],
   "source": [
    "# Predicted probability\n",
    "y_train_pred_proba_rf = rf_imb_model.predict_proba(X_train)[:,1]\n",
    "\n",
    "# Plot the ROC curve\n",
    "\n",
    "draw_roc(y_train, y_train_pred_proba_rf)"
   ]
  },
  {
   "cell_type": "code",
   "execution_count": 91,
   "id": "e0724435",
   "metadata": {
    "scrolled": true
   },
   "outputs": [
    {
     "name": "stdout",
     "output_type": "stream",
     "text": [
      "F1 Score: 38.27%\n",
      "Classification Report: \n",
      "               precision    recall  f1-score   support\n",
      "\n",
      "           0       0.99      1.00      1.00     13661\n",
      "           1       1.00      0.24      0.38       131\n",
      "\n",
      "    accuracy                           0.99     13792\n",
      "   macro avg       1.00      0.62      0.69     13792\n",
      "weighted avg       0.99      0.99      0.99     13792\n",
      "\n"
     ]
    }
   ],
   "source": [
    "# Predictions on the test set\n",
    "y_test_pred = rf_imb_model.predict(X_test)\n",
    "display_scores(y_test, y_test_pred)"
   ]
  },
  {
   "cell_type": "code",
   "execution_count": 92,
   "id": "0f5981b2",
   "metadata": {
    "scrolled": false
   },
   "outputs": [
    {
     "data": {
      "image/png": "[encoded data removed]",
      "text/plain": [
       "<Figure size 360x360 with 1 Axes>"
      ]
     },
     "metadata": {
      "needs_background": "light"
     },
     "output_type": "display_data"
    }
   ],
   "source": [
    "# Predicted probability\n",
    "y_test_pred_proba = rf_imb_model.predict_proba(X_test)[:,1]\n",
    "# Plot the ROC curve\n",
    "draw_roc(y_test, y_test_pred_proba)"
   ]
  },
  {
   "cell_type": "markdown",
   "id": "1615397a",
   "metadata": {},
   "source": [
    "# ANN"
   ]
  },
  {
   "cell_type": "code",
   "execution_count": 183,
   "id": "1b73ecf4",
   "metadata": {},
   "outputs": [],
   "source": [
    "#function for confusion matrix\n",
    "def conf_matrix(label,predicted_values):\n",
    "    Predictions_CM = confusion_matrix(label, predicted_values, labels = [0, 1])\n",
    "    class_feat=df['FRAUD'].copy()\n",
    "    class_feat= class_feat.unique()\n",
    "    fig, ax = plt.subplots(figsize=(5,5))\n",
    "    sns.heatmap(Predictions_CM, annot=True, fmt='d', xticklabels=class_feat, yticklabels=class_feat)\n",
    "    plt.ylabel('Actual Class')\n",
    "    plt.xlabel('Predicted Class')\n",
    "    plt.show()"
   ]
  },
  {
   "cell_type": "code",
   "execution_count": 95,
   "id": "2a3b23b1",
   "metadata": {},
   "outputs": [],
   "source": [
    "from sklearn.metrics import accuracy_score, confusion_matrix, classification_report, f1_score\n",
    "\n",
    "def print_score(label, prediction, train=True):\n",
    "    if train:\n",
    "        clf_report = pd.DataFrame(classification_report(label, prediction, output_dict=True))\n",
    "        print(\"Train Result:\\n================================================\")\n",
    "        print(f\"Accuracy Score: {accuracy_score(label, prediction) * 100:.2f}%\")\n",
    "        print(\"_______________________________________________\")\n",
    "        print(f\"Classification Report:\\n{clf_report}\")\n",
    "        print(\"_______________________________________________\")\n",
    "        print(f\"Confusion Matrix: \\n {conf_matrix(y_train, prediction)}\\n\")\n",
    "        \n",
    "    elif train==False:\n",
    "        clf_report = pd.DataFrame(classification_report(label, prediction, output_dict=True))\n",
    "        print(\"Test Result:\\n================================================\")        \n",
    "        print(f\"Accuracy Score: {accuracy_score(label, prediction) * 100:.2f}%\")\n",
    "        print(\"_______________________________________________\")\n",
    "        print(f\"Classification Report:\\n{clf_report}\")\n",
    "        print(\"_______________________________________________\")\n",
    "        print(f\"Confusion Matrix: \\n {conf_matrix(label, prediction)}\\n\") "
   ]
  },
  {
   "cell_type": "code",
   "execution_count": 43,
   "id": "3344673e",
   "metadata": {},
   "outputs": [
    {
     "data": {
      "text/html": [
       "<div>\n",
       "<style scoped>\n",
       "    .dataframe tbody tr th:only-of-type {\n",
       "        vertical-align: middle;\n",
       "    }\n",
       "\n",
       "    .dataframe tbody tr th {\n",
       "        vertical-align: top;\n",
       "    }\n",
       "\n",
       "    .dataframe thead th {\n",
       "        text-align: right;\n",
       "    }\n",
       "</style>\n",
       "<table border=\"1\" class=\"dataframe\">\n",
       "  <thead>\n",
       "    <tr style=\"text-align: right;\">\n",
       "      <th></th>\n",
       "      <th>DATETIME</th>\n",
       "      <th>CUSTOMER_ID</th>\n",
       "      <th>TRASCATION AMOUNT</th>\n",
       "      <th>DAYS_SINCE_FIRST_TRANSACTION</th>\n",
       "      <th>FRAUD</th>\n",
       "      <th>Airways</th>\n",
       "      <th>Clothing</th>\n",
       "      <th>Electronics</th>\n",
       "      <th>Food</th>\n",
       "      <th>Footwear</th>\n",
       "      <th>Grocery</th>\n",
       "      <th>Hotels</th>\n",
       "      <th>Insulation</th>\n",
       "      <th>Rental Car</th>\n",
       "      <th>Retail</th>\n",
       "    </tr>\n",
       "  </thead>\n",
       "  <tbody>\n",
       "    <tr>\n",
       "      <th>0</th>\n",
       "      <td>2018-09-20 11:49:41</td>\n",
       "      <td>0</td>\n",
       "      <td>88.11</td>\n",
       "      <td>172</td>\n",
       "      <td>0</td>\n",
       "      <td>0</td>\n",
       "      <td>0</td>\n",
       "      <td>0</td>\n",
       "      <td>0</td>\n",
       "      <td>0</td>\n",
       "      <td>0</td>\n",
       "      <td>1</td>\n",
       "      <td>0</td>\n",
       "      <td>0</td>\n",
       "      <td>0</td>\n",
       "    </tr>\n",
       "    <tr>\n",
       "      <th>1</th>\n",
       "      <td>2018-09-20 20:21:57</td>\n",
       "      <td>0</td>\n",
       "      <td>78.25</td>\n",
       "      <td>172</td>\n",
       "      <td>0</td>\n",
       "      <td>0</td>\n",
       "      <td>0</td>\n",
       "      <td>0</td>\n",
       "      <td>0</td>\n",
       "      <td>0</td>\n",
       "      <td>1</td>\n",
       "      <td>0</td>\n",
       "      <td>0</td>\n",
       "      <td>0</td>\n",
       "      <td>0</td>\n",
       "    </tr>\n",
       "    <tr>\n",
       "      <th>2</th>\n",
       "      <td>2018-08-01 12:11:36</td>\n",
       "      <td>0</td>\n",
       "      <td>62.28</td>\n",
       "      <td>122</td>\n",
       "      <td>0</td>\n",
       "      <td>1</td>\n",
       "      <td>0</td>\n",
       "      <td>0</td>\n",
       "      <td>0</td>\n",
       "      <td>0</td>\n",
       "      <td>0</td>\n",
       "      <td>0</td>\n",
       "      <td>0</td>\n",
       "      <td>0</td>\n",
       "      <td>0</td>\n",
       "    </tr>\n",
       "    <tr>\n",
       "      <th>3</th>\n",
       "      <td>2018-08-01 13:58:40</td>\n",
       "      <td>0</td>\n",
       "      <td>80.16</td>\n",
       "      <td>122</td>\n",
       "      <td>0</td>\n",
       "      <td>1</td>\n",
       "      <td>0</td>\n",
       "      <td>0</td>\n",
       "      <td>0</td>\n",
       "      <td>0</td>\n",
       "      <td>0</td>\n",
       "      <td>0</td>\n",
       "      <td>0</td>\n",
       "      <td>0</td>\n",
       "      <td>0</td>\n",
       "    </tr>\n",
       "    <tr>\n",
       "      <th>4</th>\n",
       "      <td>2018-06-19 4:18:11</td>\n",
       "      <td>0</td>\n",
       "      <td>90.07</td>\n",
       "      <td>79</td>\n",
       "      <td>0</td>\n",
       "      <td>0</td>\n",
       "      <td>0</td>\n",
       "      <td>0</td>\n",
       "      <td>0</td>\n",
       "      <td>0</td>\n",
       "      <td>0</td>\n",
       "      <td>0</td>\n",
       "      <td>1</td>\n",
       "      <td>0</td>\n",
       "      <td>0</td>\n",
       "    </tr>\n",
       "  </tbody>\n",
       "</table>\n",
       "</div>"
      ],
      "text/plain": [
       "              DATETIME  CUSTOMER_ID  TRASCATION AMOUNT  \\\n",
       "0  2018-09-20 11:49:41            0              88.11   \n",
       "1  2018-09-20 20:21:57            0              78.25   \n",
       "2  2018-08-01 12:11:36            0              62.28   \n",
       "3  2018-08-01 13:58:40            0              80.16   \n",
       "4   2018-06-19 4:18:11            0              90.07   \n",
       "\n",
       "   DAYS_SINCE_FIRST_TRANSACTION  FRAUD  Airways  Clothing  Electronics  Food  \\\n",
       "0                           172      0        0         0            0     0   \n",
       "1                           172      0        0         0            0     0   \n",
       "2                           122      0        1         0            0     0   \n",
       "3                           122      0        1         0            0     0   \n",
       "4                            79      0        0         0            0     0   \n",
       "\n",
       "   Footwear  Grocery  Hotels  Insulation  Rental Car  Retail  \n",
       "0         0        0       1           0           0       0  \n",
       "1         0        1       0           0           0       0  \n",
       "2         0        0       0           0           0       0  \n",
       "3         0        0       0           0           0       0  \n",
       "4         0        0       0           1           0       0  "
      ]
     },
     "execution_count": 43,
     "metadata": {},
     "output_type": "execute_result"
    }
   ],
   "source": [
    "df_dum.head()"
   ]
  },
  {
   "cell_type": "code",
   "execution_count": 740,
   "id": "cb8ddfde",
   "metadata": {
    "scrolled": false
   },
   "outputs": [
    {
     "data": {
      "text/plain": [
       "15"
      ]
     },
     "execution_count": 740,
     "metadata": {},
     "output_type": "execute_result"
    }
   ],
   "source": [
    "X.shape[1]"
   ]
  },
  {
   "cell_type": "code",
   "execution_count": 728,
   "id": "ae29780e",
   "metadata": {},
   "outputs": [],
   "source": [
    "df['DATETIME']= pd.to_datetime(df['DATETIME'])"
   ]
  },
  {
   "cell_type": "code",
   "execution_count": 729,
   "id": "4c09a458",
   "metadata": {},
   "outputs": [],
   "source": [
    "df['date'] = df['DATETIME'].dt.date"
   ]
  },
  {
   "cell_type": "code",
   "execution_count": 200,
   "id": "a5de393a",
   "metadata": {},
   "outputs": [],
   "source": [
    "df_nn = (\n",
    "                df\n",
    "                .assign(hour = df['DATETIME'].dt.hour)\n",
    "                .assign(day = df['DATETIME'].dt.day)\n",
    "                .assign(month = df['DATETIME'].dt.month)\n",
    "                .assign(day_of_week = df['DATETIME'].dt.dayofweek)\n",
    "                .assign(week_of_year = df['DATETIME'].dt.isocalendar().week)\n",
    "                .assign(date = df['DATETIME'].dt.date)\n",
    "              )"
   ]
  },
  {
   "cell_type": "code",
   "execution_count": 201,
   "id": "5cc9a119",
   "metadata": {},
   "outputs": [],
   "source": [
    "def onehot_encode_pd(df, cols):\n",
    "    for col in cols:\n",
    "        dummies = pd.get_dummies(df[col], prefix=col)\n",
    "        df = pd.concat([df, dummies], axis=1).drop(columns=col)\n",
    "    \n",
    "    return df\n",
    "\n",
    "df_nn = onehot_encode_pd(df_nn, ['month','day_of_week'])\n"
   ]
  },
  {
   "cell_type": "code",
   "execution_count": 204,
   "id": "786acd56",
   "metadata": {
    "scrolled": true
   },
   "outputs": [
    {
     "data": {
      "text/plain": [
       "Index(['DATETIME', 'CUSTOMER_ID', 'TRASCATION AMOUNT',\n",
       "       'DAYS_SINCE_FIRST_TRANSACTION', 'FRAUD', 'Airways', 'Clothing',\n",
       "       'Electronics', 'Food', 'Footwear', 'Grocery', 'Hotels', 'Insulation',\n",
       "       'Rental Car', 'Retail', 'date', 'hour', 'day', 'week_of_year',\n",
       "       'month_4', 'month_5', 'month_6', 'month_7', 'month_8', 'month_9',\n",
       "       'day_of_week_0', 'day_of_week_1', 'day_of_week_2', 'day_of_week_3',\n",
       "       'day_of_week_4', 'day_of_week_5', 'day_of_week_6'],\n",
       "      dtype='object')"
      ]
     },
     "execution_count": 204,
     "metadata": {},
     "output_type": "execute_result"
    }
   ],
   "source": [
    "df_nn.columns"
   ]
  },
  {
   "cell_type": "code",
   "execution_count": 212,
   "id": "ffa5449a",
   "metadata": {},
   "outputs": [],
   "source": [
    "df_nn = df_nn.drop(\"DATETIME\",axis=1)"
   ]
  },
  {
   "cell_type": "markdown",
   "id": "61eadc1a",
   "metadata": {},
   "source": [
    "# Analytics Vidhya\n"
   ]
  },
  {
   "cell_type": "code",
   "execution_count": 213,
   "id": "e23d7008",
   "metadata": {
    "scrolled": true
   },
   "outputs": [
    {
     "name": "stdout",
     "output_type": "stream",
     "text": [
      "Fraudulant transaction weight: 0.009503832608245288\n",
      "Non-Fraudulant transaction weight: 0.9904961673917547\n"
     ]
    }
   ],
   "source": [
    "scalar = StandardScaler()\n",
    "\n",
    "X = df_nn.drop('FRAUD', axis=1)\n",
    "y = df_nn.FRAUD\n",
    "\n",
    "X_train_v, X_test, y_train_v, y_test = train_test_split(X, y, \n",
    "                                                    test_size=0.3, random_state=42, stratify=y)\n",
    "X_train, X_validate, y_train, y_validate = train_test_split(X_train_v, y_train_v, \n",
    "                                                            test_size=0.2, random_state=42, stratify=y_train_v)\n",
    "\n",
    "X_train[['TRASCATION AMOUNT', 'DAYS_SINCE_FIRST_TRANSACTION','CUSTOMER_ID']]= scalar.fit_transform(X_train[['TRASCATION AMOUNT', 'DAYS_SINCE_FIRST_TRANSACTION','CUSTOMER_ID']])\n",
    "X_validate[['TRASCATION AMOUNT', 'DAYS_SINCE_FIRST_TRANSACTION','CUSTOMER_ID']] = scalar.fit_transform(X_validate[['TRASCATION AMOUNT', 'DAYS_SINCE_FIRST_TRANSACTION','CUSTOMER_ID']])\n",
    "X_test[['TRASCATION AMOUNT', 'DAYS_SINCE_FIRST_TRANSACTION','CUSTOMER_ID']] = scalar.fit_transform(X_test[['TRASCATION AMOUNT', 'DAYS_SINCE_FIRST_TRANSACTION','CUSTOMER_ID']])\n",
    "\n",
    "\n",
    "w_p = y_train.value_counts()[0] / len(y_train)\n",
    "w_n = y_train.value_counts()[1] / len(y_train)\n",
    "\n",
    "print(f\"Fraudulant transaction weight: {w_n}\")\n",
    "print(f\"Non-Fraudulant transaction weight: {w_p}\")"
   ]
  },
  {
   "cell_type": "code",
   "execution_count": 214,
   "id": "f369724a",
   "metadata": {},
   "outputs": [
    {
     "data": {
      "text/html": [
       "<div>\n",
       "<style scoped>\n",
       "    .dataframe tbody tr th:only-of-type {\n",
       "        vertical-align: middle;\n",
       "    }\n",
       "\n",
       "    .dataframe tbody tr th {\n",
       "        vertical-align: top;\n",
       "    }\n",
       "\n",
       "    .dataframe thead th {\n",
       "        text-align: right;\n",
       "    }\n",
       "</style>\n",
       "<table border=\"1\" class=\"dataframe\">\n",
       "  <thead>\n",
       "    <tr style=\"text-align: right;\">\n",
       "      <th></th>\n",
       "      <th>CUSTOMER_ID</th>\n",
       "      <th>TRASCATION AMOUNT</th>\n",
       "      <th>DAYS_SINCE_FIRST_TRANSACTION</th>\n",
       "      <th>Airways</th>\n",
       "      <th>Clothing</th>\n",
       "      <th>Electronics</th>\n",
       "      <th>Food</th>\n",
       "      <th>Footwear</th>\n",
       "      <th>Grocery</th>\n",
       "      <th>Hotels</th>\n",
       "      <th>...</th>\n",
       "      <th>month_7</th>\n",
       "      <th>month_8</th>\n",
       "      <th>month_9</th>\n",
       "      <th>day_of_week_0</th>\n",
       "      <th>day_of_week_1</th>\n",
       "      <th>day_of_week_2</th>\n",
       "      <th>day_of_week_3</th>\n",
       "      <th>day_of_week_4</th>\n",
       "      <th>day_of_week_5</th>\n",
       "      <th>day_of_week_6</th>\n",
       "    </tr>\n",
       "  </thead>\n",
       "  <tbody>\n",
       "    <tr>\n",
       "      <th>29597</th>\n",
       "      <td>-0.167102</td>\n",
       "      <td>-0.580477</td>\n",
       "      <td>-0.655139</td>\n",
       "      <td>0</td>\n",
       "      <td>0</td>\n",
       "      <td>0</td>\n",
       "      <td>0</td>\n",
       "      <td>0</td>\n",
       "      <td>0</td>\n",
       "      <td>1</td>\n",
       "      <td>...</td>\n",
       "      <td>0</td>\n",
       "      <td>0</td>\n",
       "      <td>0</td>\n",
       "      <td>0</td>\n",
       "      <td>0</td>\n",
       "      <td>0</td>\n",
       "      <td>0</td>\n",
       "      <td>0</td>\n",
       "      <td>1</td>\n",
       "      <td>0</td>\n",
       "    </tr>\n",
       "    <tr>\n",
       "      <th>3540</th>\n",
       "      <td>-1.309910</td>\n",
       "      <td>-1.165720</td>\n",
       "      <td>-1.219101</td>\n",
       "      <td>0</td>\n",
       "      <td>0</td>\n",
       "      <td>0</td>\n",
       "      <td>0</td>\n",
       "      <td>0</td>\n",
       "      <td>0</td>\n",
       "      <td>0</td>\n",
       "      <td>...</td>\n",
       "      <td>0</td>\n",
       "      <td>0</td>\n",
       "      <td>0</td>\n",
       "      <td>0</td>\n",
       "      <td>1</td>\n",
       "      <td>0</td>\n",
       "      <td>0</td>\n",
       "      <td>0</td>\n",
       "      <td>0</td>\n",
       "      <td>0</td>\n",
       "    </tr>\n",
       "    <tr>\n",
       "      <th>67188</th>\n",
       "      <td>-1.422904</td>\n",
       "      <td>1.384731</td>\n",
       "      <td>0.226053</td>\n",
       "      <td>0</td>\n",
       "      <td>0</td>\n",
       "      <td>0</td>\n",
       "      <td>0</td>\n",
       "      <td>0</td>\n",
       "      <td>0</td>\n",
       "      <td>0</td>\n",
       "      <td>...</td>\n",
       "      <td>1</td>\n",
       "      <td>0</td>\n",
       "      <td>0</td>\n",
       "      <td>0</td>\n",
       "      <td>0</td>\n",
       "      <td>0</td>\n",
       "      <td>0</td>\n",
       "      <td>0</td>\n",
       "      <td>0</td>\n",
       "      <td>1</td>\n",
       "    </tr>\n",
       "    <tr>\n",
       "      <th>23409</th>\n",
       "      <td>-0.445295</td>\n",
       "      <td>0.030634</td>\n",
       "      <td>-0.426029</td>\n",
       "      <td>0</td>\n",
       "      <td>0</td>\n",
       "      <td>0</td>\n",
       "      <td>0</td>\n",
       "      <td>0</td>\n",
       "      <td>0</td>\n",
       "      <td>0</td>\n",
       "      <td>...</td>\n",
       "      <td>0</td>\n",
       "      <td>0</td>\n",
       "      <td>0</td>\n",
       "      <td>0</td>\n",
       "      <td>0</td>\n",
       "      <td>0</td>\n",
       "      <td>0</td>\n",
       "      <td>1</td>\n",
       "      <td>0</td>\n",
       "      <td>0</td>\n",
       "    </tr>\n",
       "    <tr>\n",
       "      <th>38849</th>\n",
       "      <td>0.352812</td>\n",
       "      <td>0.167129</td>\n",
       "      <td>-0.426029</td>\n",
       "      <td>0</td>\n",
       "      <td>0</td>\n",
       "      <td>0</td>\n",
       "      <td>0</td>\n",
       "      <td>0</td>\n",
       "      <td>0</td>\n",
       "      <td>0</td>\n",
       "      <td>...</td>\n",
       "      <td>0</td>\n",
       "      <td>0</td>\n",
       "      <td>0</td>\n",
       "      <td>0</td>\n",
       "      <td>0</td>\n",
       "      <td>0</td>\n",
       "      <td>0</td>\n",
       "      <td>1</td>\n",
       "      <td>0</td>\n",
       "      <td>0</td>\n",
       "    </tr>\n",
       "  </tbody>\n",
       "</table>\n",
       "<p>5 rows × 30 columns</p>\n",
       "</div>"
      ],
      "text/plain": [
       "       CUSTOMER_ID  TRASCATION AMOUNT  DAYS_SINCE_FIRST_TRANSACTION  Airways  \\\n",
       "29597    -0.167102          -0.580477                     -0.655139        0   \n",
       "3540     -1.309910          -1.165720                     -1.219101        0   \n",
       "67188    -1.422904           1.384731                      0.226053        0   \n",
       "23409    -0.445295           0.030634                     -0.426029        0   \n",
       "38849     0.352812           0.167129                     -0.426029        0   \n",
       "\n",
       "       Clothing  Electronics  Food  Footwear  Grocery  Hotels  ...  month_7  \\\n",
       "29597         0            0     0         0        0       1  ...        0   \n",
       "3540          0            0     0         0        0       0  ...        0   \n",
       "67188         0            0     0         0        0       0  ...        1   \n",
       "23409         0            0     0         0        0       0  ...        0   \n",
       "38849         0            0     0         0        0       0  ...        0   \n",
       "\n",
       "       month_8  month_9 day_of_week_0  day_of_week_1  day_of_week_2  \\\n",
       "29597        0        0             0              0              0   \n",
       "3540         0        0             0              1              0   \n",
       "67188        0        0             0              0              0   \n",
       "23409        0        0             0              0              0   \n",
       "38849        0        0             0              0              0   \n",
       "\n",
       "       day_of_week_3  day_of_week_4  day_of_week_5  day_of_week_6  \n",
       "29597              0              0              1              0  \n",
       "3540               0              0              0              0  \n",
       "67188              0              0              0              1  \n",
       "23409              0              1              0              0  \n",
       "38849              0              1              0              0  \n",
       "\n",
       "[5 rows x 30 columns]"
      ]
     },
     "execution_count": 214,
     "metadata": {},
     "output_type": "execute_result"
    }
   ],
   "source": [
    "X_train.head()"
   ]
  },
  {
   "cell_type": "code",
   "execution_count": 78,
   "id": "2496ff4a",
   "metadata": {},
   "outputs": [],
   "source": [
    "input_dim = X_train.shape[1]\n",
    "# Create function\n",
    "def nn_cl_bo2(neurons, activation, optimizer, learning_rate, batch_size, epochs,\n",
    "              layers1, layers2, normalization, dropout, dropout_rate):\n",
    "    optimizerL = ['SGD', 'Adam', 'RMSprop', 'Adadelta', 'Adagrad', 'Adamax', 'Nadam', 'Ftrl','SGD']\n",
    "    optimizerD= {'Adam':Adam(learning_rate=learning_rate), 'SGD':SGD(learning_rate=learning_rate),\n",
    "                 'RMSprop':RMSprop(learning_rate=learning_rate), 'Adadelta':Adadelta(learning_rate=learning_rate),\n",
    "                 'Adagrad':Adagrad(learning_rate=learning_rate), 'Adamax':Adamax(learning_rate=learning_rate),\n",
    "                 'Nadam':Nadam(learning_rate=learning_rate), 'Ftrl':Ftrl(learning_rate=learning_rate)}\n",
    "    activationL = ['relu', 'sigmoid', 'softplus', 'softsign', 'tanh', 'selu',\n",
    "                   'elu', 'exponential', LeakyReLU,'relu']\n",
    "    neurons = round(neurons)\n",
    "    activation = activationL[round(activation)]\n",
    "    optimizer = optimizerD[optimizerL[round(optimizer)]]\n",
    "    batch_size = round(batch_size)\n",
    "    epochs = round(epochs)\n",
    "    layers1 = round(layers1)\n",
    "    layers2 = round(layers2)\n",
    "    def nn_cl_fun():\n",
    "        nn = Sequential()\n",
    "        nn.add(Dense(neurons, input_dim=input_dim, activation=activation))\n",
    "        if normalization > 0.5:\n",
    "            nn.add(BatchNormalization())\n",
    "        for i in range(layers1):\n",
    "            nn.add(Dense(neurons, activation=activation))\n",
    "        if dropout > 0.5:\n",
    "            nn.add(Dropout(dropout_rate, seed=123))\n",
    "        for i in range(layers2):\n",
    "            nn.add(Dense(neurons, activation=activation))\n",
    "        nn.add(Dense(1, activation='sigmoid'))\n",
    "        nn.compile(loss='binary_crossentropy', optimizer=optimizer, metrics=['accuracy'])\n",
    "        return nn\n",
    "    es = EarlyStopping(monitor='accuracy', mode='max', verbose=0, patience=20)\n",
    "    nn = KerasClassifier(build_fn=nn_cl_fun, epochs=epochs, batch_size=batch_size, verbose=0)\n",
    "    kfold = StratifiedKFold(n_splits=5, shuffle=True, random_state=123)\n",
    "    score = cross_val_score(nn, X_train, y_train, scoring=score_acc, cv=kfold, fit_params={'callbacks':[es]}).mean()\n",
    "    return score"
   ]
  },
  {
   "cell_type": "code",
   "execution_count": 79,
   "id": "bcae9dc2",
   "metadata": {},
   "outputs": [
    {
     "name": "stdout",
     "output_type": "stream",
     "text": [
      "|   iter    |  target   | activa... | batch_... |  dropout  | dropou... |  epochs   |  layers1  |  layers2  | learni... |  neurons  | normal... | optimizer |\n",
      "-------------------------------------------------------------------------------------------------------------------------------------------------------------\n",
      "| \u001b[0m 1       \u001b[0m | \u001b[0m 0.9926  \u001b[0m | \u001b[0m 5.51    \u001b[0m | \u001b[0m 335.3   \u001b[0m | \u001b[0m 0.4361  \u001b[0m | \u001b[0m 0.2308  \u001b[0m | \u001b[0m 43.63   \u001b[0m | \u001b[0m 1.298   \u001b[0m | \u001b[0m 1.045   \u001b[0m | \u001b[0m 0.426   \u001b[0m | \u001b[0m 31.48   \u001b[0m | \u001b[0m 0.3377  \u001b[0m | \u001b[0m 6.935   \u001b[0m |\n",
      "| \u001b[0m 2       \u001b[0m | \u001b[0m 0.9907  \u001b[0m | \u001b[0m 2.14    \u001b[0m | \u001b[0m 265.0   \u001b[0m | \u001b[0m 0.6696  \u001b[0m | \u001b[0m 0.1864  \u001b[0m | \u001b[0m 41.94   \u001b[0m | \u001b[0m 1.932   \u001b[0m | \u001b[0m 1.237   \u001b[0m | \u001b[0m 0.08322 \u001b[0m | \u001b[0m 91.07   \u001b[0m | \u001b[0m 0.794   \u001b[0m | \u001b[0m 5.884   \u001b[0m |\n",
      "| \u001b[0m 3       \u001b[0m | \u001b[0m 0.9905  \u001b[0m | \u001b[0m 7.337   \u001b[0m | \u001b[0m 992.8   \u001b[0m | \u001b[0m 0.5773  \u001b[0m | \u001b[0m 0.2441  \u001b[0m | \u001b[0m 53.71   \u001b[0m | \u001b[0m 1.055   \u001b[0m | \u001b[0m 1.908   \u001b[0m | \u001b[0m 0.1143  \u001b[0m | \u001b[0m 83.55   \u001b[0m | \u001b[0m 0.6977  \u001b[0m | \u001b[0m 3.957   \u001b[0m |\n",
      "| \u001b[0m 4       \u001b[0m | \u001b[0m 0.9905  \u001b[0m | \u001b[0m 2.468   \u001b[0m | \u001b[0m 998.8   \u001b[0m | \u001b[0m 0.138   \u001b[0m | \u001b[0m 0.1846  \u001b[0m | \u001b[0m 58.8    \u001b[0m | \u001b[0m 1.81    \u001b[0m | \u001b[0m 2.456   \u001b[0m | \u001b[0m 0.3296  \u001b[0m | \u001b[0m 46.05   \u001b[0m | \u001b[0m 0.319   \u001b[0m | \u001b[0m 6.631   \u001b[0m |\n",
      "| \u001b[0m 5       \u001b[0m | \u001b[0m 0.9918  \u001b[0m | \u001b[0m 8.268   \u001b[0m | \u001b[0m 851.1   \u001b[0m | \u001b[0m 0.03408 \u001b[0m | \u001b[0m 0.283   \u001b[0m | \u001b[0m 96.04   \u001b[0m | \u001b[0m 2.613   \u001b[0m | \u001b[0m 1.963   \u001b[0m | \u001b[0m 0.9671  \u001b[0m | \u001b[0m 47.53   \u001b[0m | \u001b[0m 0.3188  \u001b[0m | \u001b[0m 0.1151  \u001b[0m |\n",
      "| \u001b[0m 6       \u001b[0m | \u001b[0m 0.9922  \u001b[0m | \u001b[0m 0.3436  \u001b[0m | \u001b[0m 242.5   \u001b[0m | \u001b[0m 0.128   \u001b[0m | \u001b[0m 0.01001 \u001b[0m | \u001b[0m 38.11   \u001b[0m | \u001b[0m 2.088   \u001b[0m | \u001b[0m 1.357   \u001b[0m | \u001b[0m 0.1876  \u001b[0m | \u001b[0m 23.47   \u001b[0m | \u001b[0m 0.683   \u001b[0m | \u001b[0m 3.283   \u001b[0m |\n",
      "| \u001b[0m 7       \u001b[0m | \u001b[0m 0.9905  \u001b[0m | \u001b[0m 6.914   \u001b[0m | \u001b[0m 735.1   \u001b[0m | \u001b[0m 0.4413  \u001b[0m | \u001b[0m 0.1786  \u001b[0m | \u001b[0m 56.93   \u001b[0m | \u001b[0m 2.927   \u001b[0m | \u001b[0m 1.296   \u001b[0m | \u001b[0m 0.9077  \u001b[0m | \u001b[0m 54.81   \u001b[0m | \u001b[0m 0.5925  \u001b[0m | \u001b[0m 4.793   \u001b[0m |\n",
      "| \u001b[0m 8       \u001b[0m | \u001b[0m 0.9923  \u001b[0m | \u001b[0m 1.597   \u001b[0m | \u001b[0m 891.7   \u001b[0m | \u001b[0m 0.4821  \u001b[0m | \u001b[0m 0.0208  \u001b[0m | \u001b[0m 49.18   \u001b[0m | \u001b[0m 1.723   \u001b[0m | \u001b[0m 1.944   \u001b[0m | \u001b[0m 0.1877  \u001b[0m | \u001b[0m 25.78   \u001b[0m | \u001b[0m 0.9491  \u001b[0m | \u001b[0m 4.59    \u001b[0m |\n",
      "| \u001b[0m 9       \u001b[0m | \u001b[0m 0.9905  \u001b[0m | \u001b[0m 1.215   \u001b[0m | \u001b[0m 942.2   \u001b[0m | \u001b[0m 0.8418  \u001b[0m | \u001b[0m 0.01583 \u001b[0m | \u001b[0m 36.29   \u001b[0m | \u001b[0m 2.745   \u001b[0m | \u001b[0m 2.348   \u001b[0m | \u001b[0m 0.3043  \u001b[0m | \u001b[0m 76.1    \u001b[0m | \u001b[0m 0.6183  \u001b[0m | \u001b[0m 1.473   \u001b[0m |\n",
      "| \u001b[0m 10      \u001b[0m | \u001b[0m 0.9905  \u001b[0m | \u001b[0m 7.219   \u001b[0m | \u001b[0m 247.3   \u001b[0m | \u001b[0m 0.3082  \u001b[0m | \u001b[0m 0.06221 \u001b[0m | \u001b[0m 97.78   \u001b[0m | \u001b[0m 2.819   \u001b[0m | \u001b[0m 2.353   \u001b[0m | \u001b[0m 0.124   \u001b[0m | \u001b[0m 96.22   \u001b[0m | \u001b[0m 0.09171 \u001b[0m | \u001b[0m 4.409   \u001b[0m |\n",
      "| \u001b[0m 11      \u001b[0m | \u001b[0m 0.9924  \u001b[0m | \u001b[0m 8.126   \u001b[0m | \u001b[0m 471.8   \u001b[0m | \u001b[0m 0.6528  \u001b[0m | \u001b[0m 0.2775  \u001b[0m | \u001b[0m 49.92   \u001b[0m | \u001b[0m 2.543   \u001b[0m | \u001b[0m 2.792   \u001b[0m | \u001b[0m 0.624   \u001b[0m | \u001b[0m 23.6    \u001b[0m | \u001b[0m 0.3749  \u001b[0m | \u001b[0m 4.451   \u001b[0m |\n",
      "| \u001b[0m 12      \u001b[0m | \u001b[0m 0.9925  \u001b[0m | \u001b[0m 4.132   \u001b[0m | \u001b[0m 625.8   \u001b[0m | \u001b[0m 0.3523  \u001b[0m | \u001b[0m 0.198   \u001b[0m | \u001b[0m 58.12   \u001b[0m | \u001b[0m 1.909   \u001b[0m | \u001b[0m 1.25    \u001b[0m | \u001b[0m 0.4183  \u001b[0m | \u001b[0m 34.58   \u001b[0m | \u001b[0m 0.3467  \u001b[0m | \u001b[0m 6.821   \u001b[0m |\n",
      "| \u001b[0m 13      \u001b[0m | \u001b[0m 0.9911  \u001b[0m | \u001b[0m 1.94    \u001b[0m | \u001b[0m 746.3   \u001b[0m | \u001b[0m 0.03181 \u001b[0m | \u001b[0m 0.2506  \u001b[0m | \u001b[0m 76.13   \u001b[0m | \u001b[0m 2.932   \u001b[0m | \u001b[0m 2.184   \u001b[0m | \u001b[0m 0.2252  \u001b[0m | \u001b[0m 74.73   \u001b[0m | \u001b[0m 0.03087 \u001b[0m | \u001b[0m 2.931   \u001b[0m |\n",
      "| \u001b[0m 14      \u001b[0m | \u001b[0m 0.991   \u001b[0m | \u001b[0m 2.531   \u001b[0m | \u001b[0m 285.0   \u001b[0m | \u001b[0m 0.4263  \u001b[0m | \u001b[0m 0.2522  \u001b[0m | \u001b[0m 28.83   \u001b[0m | \u001b[0m 2.973   \u001b[0m | \u001b[0m 1.467   \u001b[0m | \u001b[0m 0.7242  \u001b[0m | \u001b[0m 69.48   \u001b[0m | \u001b[0m 0.07776 \u001b[0m | \u001b[0m 4.881   \u001b[0m |\n",
      "| \u001b[0m 15      \u001b[0m | \u001b[0m 0.9924  \u001b[0m | \u001b[0m 2.388   \u001b[0m | \u001b[0m 921.5   \u001b[0m | \u001b[0m 0.8183  \u001b[0m | \u001b[0m 0.1198  \u001b[0m | \u001b[0m 85.62   \u001b[0m | \u001b[0m 1.396   \u001b[0m | \u001b[0m 2.045   \u001b[0m | \u001b[0m 0.4184  \u001b[0m | \u001b[0m 93.33   \u001b[0m | \u001b[0m 0.8254  \u001b[0m | \u001b[0m 3.507   \u001b[0m |\n",
      "| \u001b[0m 16      \u001b[0m | \u001b[0m 0.9905  \u001b[0m | \u001b[0m 1.051   \u001b[0m | \u001b[0m 209.3   \u001b[0m | \u001b[0m 0.9132  \u001b[0m | \u001b[0m 0.1537  \u001b[0m | \u001b[0m 87.45   \u001b[0m | \u001b[0m 1.19    \u001b[0m | \u001b[0m 2.607   \u001b[0m | \u001b[0m 0.07161 \u001b[0m | \u001b[0m 67.19   \u001b[0m | \u001b[0m 0.9688  \u001b[0m | \u001b[0m 2.782   \u001b[0m |\n",
      "| \u001b[0m 17      \u001b[0m | \u001b[0m 0.9905  \u001b[0m | \u001b[0m 5.936   \u001b[0m | \u001b[0m 371.9   \u001b[0m | \u001b[0m 0.8899  \u001b[0m | \u001b[0m 0.296   \u001b[0m | \u001b[0m 79.09   \u001b[0m | \u001b[0m 2.283   \u001b[0m | \u001b[0m 1.504   \u001b[0m | \u001b[0m 0.4811  \u001b[0m | \u001b[0m 34.13   \u001b[0m | \u001b[0m 0.8683  \u001b[0m | \u001b[0m 1.868   \u001b[0m |\n",
      "| \u001b[0m 18      \u001b[0m | \u001b[0m 0.9905  \u001b[0m | \u001b[0m 8.757   \u001b[0m | \u001b[0m 370.8   \u001b[0m | \u001b[0m 0.2978  \u001b[0m | \u001b[0m 0.221   \u001b[0m | \u001b[0m 21.03   \u001b[0m | \u001b[0m 1.06    \u001b[0m | \u001b[0m 2.468   \u001b[0m | \u001b[0m 0.5033  \u001b[0m | \u001b[0m 29.63   \u001b[0m | \u001b[0m 0.00893 \u001b[0m | \u001b[0m 5.955   \u001b[0m |\n",
      "| \u001b[0m 19      \u001b[0m | \u001b[0m 0.9926  \u001b[0m | \u001b[0m 4.828   \u001b[0m | \u001b[0m 778.8   \u001b[0m | \u001b[0m 0.6616  \u001b[0m | \u001b[0m 0.2516  \u001b[0m | \u001b[0m 51.06   \u001b[0m | \u001b[0m 1.852   \u001b[0m | \u001b[0m 2.656   \u001b[0m | \u001b[0m 0.4743  \u001b[0m | \u001b[0m 83.8    \u001b[0m | \u001b[0m 0.01418 \u001b[0m | \u001b[0m 2.777   \u001b[0m |\n",
      "| \u001b[0m 20      \u001b[0m | \u001b[0m 0.9905  \u001b[0m | \u001b[0m 1.155   \u001b[0m | \u001b[0m 294.5   \u001b[0m | \u001b[0m 0.206   \u001b[0m | \u001b[0m 0.2243  \u001b[0m | \u001b[0m 94.41   \u001b[0m | \u001b[0m 1.761   \u001b[0m | \u001b[0m 1.921   \u001b[0m | \u001b[0m 0.8746  \u001b[0m | \u001b[0m 83.31   \u001b[0m | \u001b[0m 0.02497 \u001b[0m | \u001b[0m 6.111   \u001b[0m |\n",
      "| \u001b[0m 21      \u001b[0m | \u001b[0m 0.8086  \u001b[0m | \u001b[0m 5.441   \u001b[0m | \u001b[0m 613.2   \u001b[0m | \u001b[0m 0.5893  \u001b[0m | \u001b[0m 0.2399  \u001b[0m | \u001b[0m 33.86   \u001b[0m | \u001b[0m 1.374   \u001b[0m | \u001b[0m 1.516   \u001b[0m | \u001b[0m 0.06056 \u001b[0m | \u001b[0m 59.74   \u001b[0m | \u001b[0m 0.3518  \u001b[0m | \u001b[0m 6.419   \u001b[0m |\n",
      "| \u001b[0m 22      \u001b[0m | \u001b[0m 0.9926  \u001b[0m | \u001b[0m 4.289   \u001b[0m | \u001b[0m 283.6   \u001b[0m | \u001b[0m 0.1525  \u001b[0m | \u001b[0m 0.08206 \u001b[0m | \u001b[0m 82.52   \u001b[0m | \u001b[0m 1.786   \u001b[0m | \u001b[0m 2.598   \u001b[0m | \u001b[0m 0.4387  \u001b[0m | \u001b[0m 17.34   \u001b[0m | \u001b[0m 0.01064 \u001b[0m | \u001b[0m 3.016   \u001b[0m |\n",
      "| \u001b[0m 23      \u001b[0m | \u001b[0m 0.9915  \u001b[0m | \u001b[0m 5.966   \u001b[0m | \u001b[0m 612.2   \u001b[0m | \u001b[0m 0.5801  \u001b[0m | \u001b[0m 0.1479  \u001b[0m | \u001b[0m 79.24   \u001b[0m | \u001b[0m 2.579   \u001b[0m | \u001b[0m 2.562   \u001b[0m | \u001b[0m 0.1363  \u001b[0m | \u001b[0m 94.61   \u001b[0m | \u001b[0m 0.8777  \u001b[0m | \u001b[0m 4.897   \u001b[0m |\n",
      "| \u001b[0m 24      \u001b[0m | \u001b[0m 0.9923  \u001b[0m | \u001b[0m 8.432   \u001b[0m | \u001b[0m 739.0   \u001b[0m | \u001b[0m 0.5944  \u001b[0m | \u001b[0m 0.1035  \u001b[0m | \u001b[0m 26.69   \u001b[0m | \u001b[0m 2.159   \u001b[0m | \u001b[0m 1.035   \u001b[0m | \u001b[0m 0.5569  \u001b[0m | \u001b[0m 66.93   \u001b[0m | \u001b[0m 0.6784  \u001b[0m | \u001b[0m 1.194   \u001b[0m |\n",
      "| \u001b[0m 25      \u001b[0m | \u001b[0m 0.9906  \u001b[0m | \u001b[0m 5.194   \u001b[0m | \u001b[0m 364.8   \u001b[0m | \u001b[0m 0.2515  \u001b[0m | \u001b[0m 0.2908  \u001b[0m | \u001b[0m 91.73   \u001b[0m | \u001b[0m 1.246   \u001b[0m | \u001b[0m 2.762   \u001b[0m | \u001b[0m 0.9485  \u001b[0m | \u001b[0m 51.39   \u001b[0m | \u001b[0m 0.413   \u001b[0m | \u001b[0m 4.04    \u001b[0m |\n",
      "| \u001b[0m 26      \u001b[0m | \u001b[0m 0.9905  \u001b[0m | \u001b[0m 1.788   \u001b[0m | \u001b[0m 762.5   \u001b[0m | \u001b[0m 0.1437  \u001b[0m | \u001b[0m 0.1613  \u001b[0m | \u001b[0m 55.68   \u001b[0m | \u001b[0m 1.782   \u001b[0m | \u001b[0m 1.308   \u001b[0m | \u001b[0m 0.6098  \u001b[0m | \u001b[0m 73.37   \u001b[0m | \u001b[0m 0.8661  \u001b[0m | \u001b[0m 1.826   \u001b[0m |\n",
      "| \u001b[0m 27      \u001b[0m | \u001b[0m 0.9925  \u001b[0m | \u001b[0m 6.366   \u001b[0m | \u001b[0m 780.2   \u001b[0m | \u001b[0m 0.6271  \u001b[0m | \u001b[0m 0.1646  \u001b[0m | \u001b[0m 53.26   \u001b[0m | \u001b[0m 1.954   \u001b[0m | \u001b[0m 2.228   \u001b[0m | \u001b[0m 0.6962  \u001b[0m | \u001b[0m 81.66   \u001b[0m | \u001b[0m 0.1557  \u001b[0m | \u001b[0m 2.563   \u001b[0m |\n",
      "| \u001b[0m 28      \u001b[0m | \u001b[0m 0.9912  \u001b[0m | \u001b[0m 8.243   \u001b[0m | \u001b[0m 629.9   \u001b[0m | \u001b[0m 0.901   \u001b[0m | \u001b[0m 0.0302  \u001b[0m | \u001b[0m 79.25   \u001b[0m | \u001b[0m 2.316   \u001b[0m | \u001b[0m 2.636   \u001b[0m | \u001b[0m 0.2003  \u001b[0m | \u001b[0m 15.29   \u001b[0m | \u001b[0m 0.2403  \u001b[0m | \u001b[0m 2.779   \u001b[0m |\n",
      "| \u001b[0m 29      \u001b[0m | \u001b[0m 0.9905  \u001b[0m | \u001b[0m 0.0     \u001b[0m | \u001b[0m 661.2   \u001b[0m | \u001b[0m 0.0     \u001b[0m | \u001b[0m 0.3     \u001b[0m | \u001b[0m 66.74   \u001b[0m | \u001b[0m 2.444   \u001b[0m | \u001b[0m 1.0     \u001b[0m | \u001b[0m 0.3353  \u001b[0m | \u001b[0m 28.57   \u001b[0m | \u001b[0m 0.0     \u001b[0m | \u001b[0m 7.0     \u001b[0m |\n",
      "=============================================================================================================================================================\n"
     ]
    }
   ],
   "source": [
    "params_nn2 ={\n",
    "    'neurons': (10, 100),\n",
    "    'activation':(0, 9),\n",
    "    'optimizer':(0,7),\n",
    "    'learning_rate':(0.01, 1),\n",
    "    'batch_size':(200, 1000),\n",
    "    'epochs':(20, 100),\n",
    "    'layers1':(1,3),\n",
    "    'layers2':(1,3),\n",
    "    'normalization':(0,1),\n",
    "    'dropout':(0,1),\n",
    "    'dropout_rate':(0,0.3)\n",
    "}\n",
    "# Run Bayesian Optimization\n",
    "nn_bo = BayesianOptimization(nn_cl_bo2, params_nn2, random_state=111)\n",
    "nn_bo.maximize(init_points=25, n_iter=4)"
   ]
  },
  {
   "cell_type": "code",
   "execution_count": 81,
   "id": "e6a5b8a6",
   "metadata": {},
   "outputs": [
    {
     "data": {
      "text/plain": [
       "{'activation': 'elu',\n",
       " 'batch_size': 335,\n",
       " 'dropout': 0.4360590193711702,\n",
       " 'dropout_rate': 0.23077874175693686,\n",
       " 'epochs': 44,\n",
       " 'layers1': 1,\n",
       " 'layers2': 1,\n",
       " 'learning_rate': 0.42602224734191213,\n",
       " 'neurons': 31,\n",
       " 'normalization': 0.33765619188879237,\n",
       " 'optimizer': <keras.optimizer_v2.ftrl.Ftrl at 0x1f365b5dbe0>}"
      ]
     },
     "execution_count": 81,
     "metadata": {},
     "output_type": "execute_result"
    }
   ],
   "source": [
    "params_nn_ = nn_bo.max['params']\n",
    "learning_rate = params_nn_['learning_rate']\n",
    "activationL = ['relu', 'sigmoid', 'softplus', 'softsign', 'tanh', 'selu',\n",
    "               'elu', 'exponential', LeakyReLU,'relu']\n",
    "params_nn_['activation'] = activationL[round(params_nn_['activation'])]\n",
    "params_nn_['batch_size'] = round(params_nn_['batch_size'])\n",
    "params_nn_['epochs'] = round(params_nn_['epochs'])\n",
    "params_nn_['layers1'] = round(params_nn_['layers1'])\n",
    "params_nn_['layers2'] = round(params_nn_['layers2'])\n",
    "params_nn_['neurons'] = round(params_nn_['neurons'])\n",
    "optimizerL = ['Adam', 'SGD', 'RMSprop', 'Adadelta', 'Adagrad', 'Adamax', 'Nadam', 'Ftrl','Adam']\n",
    "optimizerD= {'Adam':Adam(learning_rate=learning_rate), 'SGD':SGD(learning_rate=learning_rate),\n",
    "             'RMSprop':RMSprop(learning_rate=learning_rate), 'Adadelta':Adadelta(learning_rate=learning_rate),\n",
    "             'Adagrad':Adagrad(learning_rate=learning_rate), 'Adamax':Adamax(learning_rate=learning_rate),\n",
    "             'Nadam':Nadam(learning_rate=learning_rate), 'Ftrl':Ftrl(learning_rate=learning_rate)}\n",
    "params_nn_['optimizer'] = optimizerD[optimizerL[round(params_nn_['optimizer'])]]\n",
    "params_nn_"
   ]
  },
  {
   "cell_type": "code",
   "execution_count": 84,
   "id": "ae59b316",
   "metadata": {},
   "outputs": [
    {
     "name": "stdout",
     "output_type": "stream",
     "text": [
      "Epoch 1/44\n",
      "116/116 [==============================] - 1s 3ms/step - loss: 0.0642 - accuracy: 0.9864 - val_loss: 0.0461 - val_accuracy: 0.9913\n",
      "Epoch 2/44\n",
      "116/116 [==============================] - 0s 1ms/step - loss: 0.0447 - accuracy: 0.9916 - val_loss: 0.0459 - val_accuracy: 0.9917\n",
      "Epoch 3/44\n",
      "116/116 [==============================] - 0s 2ms/step - loss: 0.0444 - accuracy: 0.9916 - val_loss: 0.0454 - val_accuracy: 0.9916\n",
      "Epoch 4/44\n",
      "116/116 [==============================] - 0s 2ms/step - loss: 0.0441 - accuracy: 0.9918 - val_loss: 0.0456 - val_accuracy: 0.9917\n",
      "Epoch 5/44\n",
      "116/116 [==============================] - 0s 2ms/step - loss: 0.0439 - accuracy: 0.9919 - val_loss: 0.0449 - val_accuracy: 0.9917\n",
      "Epoch 6/44\n",
      "116/116 [==============================] - 0s 2ms/step - loss: 0.0437 - accuracy: 0.9919 - val_loss: 0.0448 - val_accuracy: 0.9921\n",
      "Epoch 7/44\n",
      "116/116 [==============================] - 0s 2ms/step - loss: 0.0434 - accuracy: 0.9921 - val_loss: 0.0444 - val_accuracy: 0.9917\n",
      "Epoch 8/44\n",
      "116/116 [==============================] - 0s 1ms/step - loss: 0.0433 - accuracy: 0.9920 - val_loss: 0.0446 - val_accuracy: 0.9924\n",
      "Epoch 9/44\n",
      "116/116 [==============================] - 0s 2ms/step - loss: 0.0431 - accuracy: 0.9922 - val_loss: 0.0449 - val_accuracy: 0.9925\n",
      "Epoch 10/44\n",
      "116/116 [==============================] - 0s 2ms/step - loss: 0.0429 - accuracy: 0.9923 - val_loss: 0.0459 - val_accuracy: 0.9925\n",
      "Epoch 11/44\n",
      "116/116 [==============================] - 0s 2ms/step - loss: 0.0427 - accuracy: 0.9923 - val_loss: 0.0437 - val_accuracy: 0.9925\n",
      "Epoch 12/44\n",
      "116/116 [==============================] - 0s 2ms/step - loss: 0.0426 - accuracy: 0.9923 - val_loss: 0.0434 - val_accuracy: 0.9923\n",
      "Epoch 13/44\n",
      "116/116 [==============================] - 0s 2ms/step - loss: 0.0424 - accuracy: 0.9924 - val_loss: 0.0436 - val_accuracy: 0.9924\n",
      "Epoch 14/44\n",
      "116/116 [==============================] - 0s 2ms/step - loss: 0.0424 - accuracy: 0.9925 - val_loss: 0.0441 - val_accuracy: 0.9926\n",
      "Epoch 15/44\n",
      "116/116 [==============================] - 0s 2ms/step - loss: 0.0422 - accuracy: 0.9924 - val_loss: 0.0466 - val_accuracy: 0.9910\n",
      "Epoch 16/44\n",
      "116/116 [==============================] - 0s 2ms/step - loss: 0.0423 - accuracy: 0.9924 - val_loss: 0.0431 - val_accuracy: 0.9925\n",
      "Epoch 17/44\n",
      "116/116 [==============================] - 0s 2ms/step - loss: 0.0421 - accuracy: 0.9925 - val_loss: 0.0434 - val_accuracy: 0.9925\n",
      "Epoch 18/44\n",
      "116/116 [==============================] - 0s 2ms/step - loss: 0.0421 - accuracy: 0.9927 - val_loss: 0.0443 - val_accuracy: 0.9922\n",
      "Epoch 19/44\n",
      "116/116 [==============================] - 0s 1ms/step - loss: 0.0419 - accuracy: 0.9926 - val_loss: 0.0428 - val_accuracy: 0.9925\n",
      "Epoch 20/44\n",
      "116/116 [==============================] - 0s 2ms/step - loss: 0.0419 - accuracy: 0.9926 - val_loss: 0.0430 - val_accuracy: 0.9924\n",
      "Epoch 21/44\n",
      "116/116 [==============================] - 0s 2ms/step - loss: 0.0420 - accuracy: 0.9925 - val_loss: 0.0430 - val_accuracy: 0.9925\n",
      "Epoch 22/44\n",
      "116/116 [==============================] - 0s 2ms/step - loss: 0.0419 - accuracy: 0.9925 - val_loss: 0.0428 - val_accuracy: 0.9927\n",
      "Epoch 23/44\n",
      "116/116 [==============================] - 0s 2ms/step - loss: 0.0419 - accuracy: 0.9926 - val_loss: 0.0433 - val_accuracy: 0.9921\n",
      "Epoch 24/44\n",
      "116/116 [==============================] - 0s 2ms/step - loss: 0.0420 - accuracy: 0.9925 - val_loss: 0.0426 - val_accuracy: 0.9926\n",
      "Epoch 25/44\n",
      "116/116 [==============================] - 0s 2ms/step - loss: 0.0418 - accuracy: 0.9926 - val_loss: 0.0427 - val_accuracy: 0.9925\n",
      "Epoch 26/44\n",
      "116/116 [==============================] - 0s 2ms/step - loss: 0.0418 - accuracy: 0.9927 - val_loss: 0.0426 - val_accuracy: 0.9926\n",
      "Epoch 27/44\n",
      "116/116 [==============================] - 0s 2ms/step - loss: 0.0418 - accuracy: 0.9927 - val_loss: 0.0425 - val_accuracy: 0.9926\n",
      "Epoch 28/44\n",
      "116/116 [==============================] - 0s 1ms/step - loss: 0.0418 - accuracy: 0.9926 - val_loss: 0.0438 - val_accuracy: 0.9921\n",
      "Epoch 29/44\n",
      "116/116 [==============================] - 0s 1ms/step - loss: 0.0418 - accuracy: 0.9926 - val_loss: 0.0447 - val_accuracy: 0.9912\n",
      "Epoch 30/44\n",
      "116/116 [==============================] - 0s 2ms/step - loss: 0.0418 - accuracy: 0.9927 - val_loss: 0.0428 - val_accuracy: 0.9927\n",
      "Epoch 31/44\n",
      "116/116 [==============================] - 0s 2ms/step - loss: 0.0418 - accuracy: 0.9926 - val_loss: 0.0425 - val_accuracy: 0.9926\n",
      "Epoch 32/44\n",
      "116/116 [==============================] - 0s 1ms/step - loss: 0.0417 - accuracy: 0.9926 - val_loss: 0.0426 - val_accuracy: 0.9926\n",
      "Epoch 33/44\n",
      "116/116 [==============================] - 0s 2ms/step - loss: 0.0418 - accuracy: 0.9926 - val_loss: 0.0424 - val_accuracy: 0.9925\n",
      "Epoch 34/44\n",
      "116/116 [==============================] - 0s 1ms/step - loss: 0.0418 - accuracy: 0.9926 - val_loss: 0.0425 - val_accuracy: 0.9925\n",
      "Epoch 35/44\n",
      "116/116 [==============================] - 0s 2ms/step - loss: 0.0417 - accuracy: 0.9926 - val_loss: 0.0424 - val_accuracy: 0.9927\n",
      "Epoch 36/44\n",
      "116/116 [==============================] - 0s 2ms/step - loss: 0.0417 - accuracy: 0.9926 - val_loss: 0.0427 - val_accuracy: 0.9926\n",
      "Epoch 37/44\n",
      "116/116 [==============================] - 0s 1ms/step - loss: 0.0417 - accuracy: 0.9927 - val_loss: 0.0427 - val_accuracy: 0.9924\n",
      "Epoch 38/44\n",
      "116/116 [==============================] - 0s 2ms/step - loss: 0.0417 - accuracy: 0.9926 - val_loss: 0.0424 - val_accuracy: 0.9927\n",
      "Epoch 39/44\n",
      "116/116 [==============================] - 0s 2ms/step - loss: 0.0416 - accuracy: 0.9927 - val_loss: 0.0424 - val_accuracy: 0.9926\n",
      "Epoch 40/44\n",
      "116/116 [==============================] - 0s 2ms/step - loss: 0.0416 - accuracy: 0.9927 - val_loss: 0.0424 - val_accuracy: 0.9927\n",
      "Epoch 41/44\n",
      "116/116 [==============================] - 0s 2ms/step - loss: 0.0417 - accuracy: 0.9926 - val_loss: 0.0422 - val_accuracy: 0.9926\n",
      "Epoch 42/44\n",
      "116/116 [==============================] - 0s 2ms/step - loss: 0.0417 - accuracy: 0.9927 - val_loss: 0.0427 - val_accuracy: 0.9925\n",
      "Epoch 43/44\n",
      "116/116 [==============================] - 0s 2ms/step - loss: 0.0416 - accuracy: 0.9927 - val_loss: 0.0425 - val_accuracy: 0.9926\n",
      "Epoch 44/44\n",
      "116/116 [==============================] - 0s 2ms/step - loss: 0.0415 - accuracy: 0.9928 - val_loss: 0.0424 - val_accuracy: 0.9926\n"
     ]
    }
   ],
   "source": [
    "# Fitting Neural Network\n",
    "def nn_cl_fun():\n",
    "    nn = Sequential()\n",
    "    nn.add(Dense(params_nn_['neurons'], input_dim=input_dim, activation=params_nn_['activation']))\n",
    "    if params_nn_['normalization'] > 0.5:\n",
    "        nn.add(BatchNormalization())\n",
    "    for i in range(params_nn_['layers1']):\n",
    "        nn.add(Dense(params_nn_['neurons'], activation=params_nn_['activation']))\n",
    "    if params_nn_['dropout'] > 0.5:\n",
    "        nn.add(Dropout(params_nn_['dropout_rate'], seed=123))\n",
    "    for i in range(params_nn_['layers2']):\n",
    "        nn.add(Dense(params_nn_['neurons'], activation=params_nn_['activation']))\n",
    "    nn.add(Dense(1, activation='sigmoid'))\n",
    "    nn.compile(loss='binary_crossentropy', optimizer=params_nn_['optimizer'],metrics=['accuracy'])\n",
    "    return nn\n",
    "\n",
    "es = EarlyStopping(monitor='accuracy', mode='max', verbose=0, patience=20)\n",
    "nn = KerasClassifier(build_fn=nn_cl_fun, epochs=params_nn_['epochs'], batch_size=params_nn_['batch_size'],\n",
    "                         verbose=0)\n",
    "r = nn.fit(X_train, y_train, validation_data=(X_validate, y_validate), verbose=1)\n"
   ]
  },
  {
   "cell_type": "code",
   "execution_count": 85,
   "id": "52be6f19",
   "metadata": {
    "scrolled": true
   },
   "outputs": [
    {
     "data": {
      "text/plain": [
       "<matplotlib.legend.Legend at 0x1f369f93cd0>"
      ]
     },
     "execution_count": 85,
     "metadata": {},
     "output_type": "execute_result"
    },
    {
     "data": {
      "image/png": "[encoded data removed]",
      "text/plain": [
       "<Figure size 720x720 with 2 Axes>"
      ]
     },
     "metadata": {
      "needs_background": "light"
     },
     "output_type": "display_data"
    }
   ],
   "source": [
    "plt.figure(figsize=(10, 10))\n",
    "\n",
    "plt.subplot(2, 1, 1)\n",
    "plt.plot(r.history['loss'], label='Loss')\n",
    "plt.plot(r.history['val_loss'], label='val_Loss')\n",
    "plt.title('Loss Function evolution during training')\n",
    "plt.legend()\n",
    "\n",
    "plt.subplot(2, 1, 2)\n",
    "\n",
    "plt.plot(r.history['accuracy'], label='accuracy')\n",
    "plt.plot(r.history['val_accuracy'], label='val_accuracy')\n",
    "plt.title('Recall evolution during training')\n",
    "plt.legend()"
   ]
  },
  {
   "cell_type": "code",
   "execution_count": 86,
   "id": "2ee26d2e",
   "metadata": {
    "scrolled": true
   },
   "outputs": [
    {
     "name": "stdout",
     "output_type": "stream",
     "text": [
      "Train Result:\n",
      "================================================\n",
      "Accuracy Score: 99.28%\n",
      "_______________________________________________\n",
      "Classification Report:\n",
      "                      0           1  accuracy     macro avg  weighted avg\n",
      "precision      0.992938    0.950000  0.992827      0.971469      0.992530\n",
      "recall         0.999869    0.258856  0.992827      0.629362      0.992827\n",
      "f1-score       0.996392    0.406852  0.992827      0.701622      0.990789\n",
      "support    38249.000000  367.000000  0.992827  38616.000000  38616.000000\n",
      "_______________________________________________\n"
     ]
    },
    {
     "data": {
      "image/png": "[encoded data removed]",
      "text/plain": [
       "<Figure size 360x360 with 2 Axes>"
      ]
     },
     "metadata": {
      "needs_background": "light"
     },
     "output_type": "display_data"
    },
    {
     "name": "stdout",
     "output_type": "stream",
     "text": [
      "Confusion Matrix: \n",
      " None\n",
      "\n",
      "Test Result:\n",
      "================================================\n",
      "Accuracy Score: 99.24%\n",
      "_______________________________________________\n",
      "Classification Report:\n",
      "                      0           1  accuracy     macro avg  weighted avg\n",
      "precision      0.992396    0.975610  0.992363      0.984003      0.992236\n",
      "recall         0.999951    0.203046  0.992363      0.601498      0.992363\n",
      "f1-score       0.996159    0.336134  0.992363      0.666147      0.989874\n",
      "support    20491.000000  197.000000  0.992363  20688.000000  20688.000000\n",
      "_______________________________________________\n"
     ]
    },
    {
     "data": {
      "image/png": "[encoded data removed]",
      "text/plain": [
       "<Figure size 360x360 with 2 Axes>"
      ]
     },
     "metadata": {
      "needs_background": "light"
     },
     "output_type": "display_data"
    },
    {
     "name": "stdout",
     "output_type": "stream",
     "text": [
      "Confusion Matrix: \n",
      " None\n",
      "\n"
     ]
    }
   ],
   "source": [
    "y_train_pred = nn.predict(X_train)\n",
    "y_test_pred = nn.predict(X_test)\n",
    "\n",
    "print_score(y_train, y_train_pred.round(), train=True)\n",
    "print_score(y_test, y_test_pred.round(), train=False)"
   ]
  },
  {
   "cell_type": "code",
   "execution_count": 709,
   "id": "0a77463c",
   "metadata": {
    "scrolled": false
   },
   "outputs": [
    {
     "name": "stdout",
     "output_type": "stream",
     "text": [
      "Model: \"sequential_2110\"\n",
      "_________________________________________________________________\n",
      "Layer (type)                 Output Shape              Param #   \n",
      "=================================================================\n",
      "dense_7249 (Dense)           (None, 89)                1246      \n",
      "_________________________________________________________________\n",
      "dense_7250 (Dense)           (None, 89)                8010      \n",
      "_________________________________________________________________\n",
      "dense_7251 (Dense)           (None, 89)                8010      \n",
      "_________________________________________________________________\n",
      "dense_7252 (Dense)           (None, 89)                8010      \n",
      "_________________________________________________________________\n",
      "dense_7253 (Dense)           (None, 1)                 90        \n",
      "=================================================================\n",
      "Total params: 25,366\n",
      "Trainable params: 25,366\n",
      "Non-trainable params: 0\n",
      "_________________________________________________________________\n"
     ]
    }
   ],
   "source": [
    "nn.build_fn().summary()"
   ]
  },
  {
   "cell_type": "code",
   "execution_count": 90,
   "id": "2896efd8",
   "metadata": {},
   "outputs": [
    {
     "name": "stdout",
     "output_type": "stream",
     "text": [
      "F1 Score: 40.69%\n",
      "Classification Report: \n",
      "               precision    recall  f1-score   support\n",
      "\n",
      "           0       0.99      1.00      1.00     38249\n",
      "           1       0.95      0.26      0.41       367\n",
      "\n",
      "    accuracy                           0.99     38616\n",
      "   macro avg       0.97      0.63      0.70     38616\n",
      "weighted avg       0.99      0.99      0.99     38616\n",
      "\n"
     ]
    }
   ],
   "source": [
    "# Predictions on the train set\n",
    "\n",
    "y_train_pred = nn.predict(X_train)\n",
    "display_scores(y_train, y_train_pred)"
   ]
  },
  {
   "cell_type": "code",
   "execution_count": 91,
   "id": "15eba155",
   "metadata": {},
   "outputs": [
    {
     "data": {
      "image/png": "[encoded data removed]",
      "text/plain": [
       "<Figure size 360x360 with 1 Axes>"
      ]
     },
     "metadata": {
      "needs_background": "light"
     },
     "output_type": "display_data"
    }
   ],
   "source": [
    "# Predicted probability\n",
    "y_train_pred_proba_rf = nn.predict_proba(X_train)[:,1]\n",
    "\n",
    "# Plot the ROC curve\n",
    "\n",
    "draw_roc(y_train, y_train_pred_proba_rf)"
   ]
  },
  {
   "cell_type": "code",
   "execution_count": 92,
   "id": "ee884f5b",
   "metadata": {},
   "outputs": [
    {
     "name": "stdout",
     "output_type": "stream",
     "text": [
      "F1 Score: 33.61%\n",
      "Classification Report: \n",
      "               precision    recall  f1-score   support\n",
      "\n",
      "           0       0.99      1.00      1.00     20491\n",
      "           1       0.98      0.20      0.34       197\n",
      "\n",
      "    accuracy                           0.99     20688\n",
      "   macro avg       0.98      0.60      0.67     20688\n",
      "weighted avg       0.99      0.99      0.99     20688\n",
      "\n"
     ]
    }
   ],
   "source": [
    "# Predictions on the test set\n",
    "y_test_pred = nn.predict(X_test)\n",
    "display_scores(y_test, y_test_pred)"
   ]
  },
  {
   "cell_type": "code",
   "execution_count": 93,
   "id": "903260b9",
   "metadata": {
    "scrolled": true
   },
   "outputs": [
    {
     "data": {
      "image/png": "[encoded data removed]",
      "text/plain": [
       "<Figure size 360x360 with 1 Axes>"
      ]
     },
     "metadata": {
      "needs_background": "light"
     },
     "output_type": "display_data"
    }
   ],
   "source": [
    "# Predicted probability\n",
    "y_test_pred_proba = nn.predict_proba(X_test)[:,1]\n",
    "# Plot the ROC curve\n",
    "draw_roc(y_test, y_test_pred_proba)"
   ]
  },
  {
   "cell_type": "markdown",
   "id": "cefb9c4f",
   "metadata": {},
   "source": [
    "# LSTM RNN IN PYTHON - AV"
   ]
  },
  {
   "cell_type": "code",
   "execution_count": 362,
   "id": "f42fa7c2",
   "metadata": {},
   "outputs": [],
   "source": [
    "# Import Keras\n",
    "from keras.models import Sequential\n",
    "from keras.layers import Dense, LSTM, BatchNormalization\n",
    "from tensorflow.keras.optimizers import Adam\n",
    "from keras.callbacks import ReduceLROnPlateau, EarlyStopping\n",
    "from keras.regularizers import l2\n",
    "from time import time"
   ]
  },
  {
   "cell_type": "code",
   "execution_count": 363,
   "id": "eb4bb997",
   "metadata": {},
   "outputs": [
    {
     "data": {
      "text/html": [
       "<div>\n",
       "<style scoped>\n",
       "    .dataframe tbody tr th:only-of-type {\n",
       "        vertical-align: middle;\n",
       "    }\n",
       "\n",
       "    .dataframe tbody tr th {\n",
       "        vertical-align: top;\n",
       "    }\n",
       "\n",
       "    .dataframe thead th {\n",
       "        text-align: right;\n",
       "    }\n",
       "</style>\n",
       "<table border=\"1\" class=\"dataframe\">\n",
       "  <thead>\n",
       "    <tr style=\"text-align: right;\">\n",
       "      <th></th>\n",
       "      <th>DATETIME</th>\n",
       "      <th>CUSTOMER_ID</th>\n",
       "      <th>TRASCATION AMOUNT</th>\n",
       "      <th>DAYS_SINCE_FIRST_TRANSACTION</th>\n",
       "      <th>FRAUD</th>\n",
       "      <th>Airways</th>\n",
       "      <th>Clothing</th>\n",
       "      <th>Electronics</th>\n",
       "      <th>Food</th>\n",
       "      <th>Footwear</th>\n",
       "      <th>Grocery</th>\n",
       "      <th>Hotels</th>\n",
       "      <th>Insulation</th>\n",
       "      <th>Rental Car</th>\n",
       "      <th>Retail</th>\n",
       "      <th>date</th>\n",
       "    </tr>\n",
       "  </thead>\n",
       "  <tbody>\n",
       "    <tr>\n",
       "      <th>0</th>\n",
       "      <td>2018-09-20 11:49:41</td>\n",
       "      <td>0</td>\n",
       "      <td>88.11</td>\n",
       "      <td>172</td>\n",
       "      <td>0</td>\n",
       "      <td>0</td>\n",
       "      <td>0</td>\n",
       "      <td>0</td>\n",
       "      <td>0</td>\n",
       "      <td>0</td>\n",
       "      <td>0</td>\n",
       "      <td>1</td>\n",
       "      <td>0</td>\n",
       "      <td>0</td>\n",
       "      <td>0</td>\n",
       "      <td>2018-09-20</td>\n",
       "    </tr>\n",
       "    <tr>\n",
       "      <th>1</th>\n",
       "      <td>2018-09-20 20:21:57</td>\n",
       "      <td>0</td>\n",
       "      <td>78.25</td>\n",
       "      <td>172</td>\n",
       "      <td>0</td>\n",
       "      <td>0</td>\n",
       "      <td>0</td>\n",
       "      <td>0</td>\n",
       "      <td>0</td>\n",
       "      <td>0</td>\n",
       "      <td>1</td>\n",
       "      <td>0</td>\n",
       "      <td>0</td>\n",
       "      <td>0</td>\n",
       "      <td>0</td>\n",
       "      <td>2018-09-20</td>\n",
       "    </tr>\n",
       "    <tr>\n",
       "      <th>2</th>\n",
       "      <td>2018-08-01 12:11:36</td>\n",
       "      <td>0</td>\n",
       "      <td>62.28</td>\n",
       "      <td>122</td>\n",
       "      <td>0</td>\n",
       "      <td>1</td>\n",
       "      <td>0</td>\n",
       "      <td>0</td>\n",
       "      <td>0</td>\n",
       "      <td>0</td>\n",
       "      <td>0</td>\n",
       "      <td>0</td>\n",
       "      <td>0</td>\n",
       "      <td>0</td>\n",
       "      <td>0</td>\n",
       "      <td>2018-08-01</td>\n",
       "    </tr>\n",
       "    <tr>\n",
       "      <th>3</th>\n",
       "      <td>2018-08-01 13:58:40</td>\n",
       "      <td>0</td>\n",
       "      <td>80.16</td>\n",
       "      <td>122</td>\n",
       "      <td>0</td>\n",
       "      <td>1</td>\n",
       "      <td>0</td>\n",
       "      <td>0</td>\n",
       "      <td>0</td>\n",
       "      <td>0</td>\n",
       "      <td>0</td>\n",
       "      <td>0</td>\n",
       "      <td>0</td>\n",
       "      <td>0</td>\n",
       "      <td>0</td>\n",
       "      <td>2018-08-01</td>\n",
       "    </tr>\n",
       "    <tr>\n",
       "      <th>4</th>\n",
       "      <td>2018-06-19 04:18:11</td>\n",
       "      <td>0</td>\n",
       "      <td>90.07</td>\n",
       "      <td>79</td>\n",
       "      <td>0</td>\n",
       "      <td>0</td>\n",
       "      <td>0</td>\n",
       "      <td>0</td>\n",
       "      <td>0</td>\n",
       "      <td>0</td>\n",
       "      <td>0</td>\n",
       "      <td>0</td>\n",
       "      <td>1</td>\n",
       "      <td>0</td>\n",
       "      <td>0</td>\n",
       "      <td>2018-06-19</td>\n",
       "    </tr>\n",
       "  </tbody>\n",
       "</table>\n",
       "</div>"
      ],
      "text/plain": [
       "             DATETIME  CUSTOMER_ID  TRASCATION AMOUNT  \\\n",
       "0 2018-09-20 11:49:41            0              88.11   \n",
       "1 2018-09-20 20:21:57            0              78.25   \n",
       "2 2018-08-01 12:11:36            0              62.28   \n",
       "3 2018-08-01 13:58:40            0              80.16   \n",
       "4 2018-06-19 04:18:11            0              90.07   \n",
       "\n",
       "   DAYS_SINCE_FIRST_TRANSACTION  FRAUD  Airways  Clothing  Electronics  Food  \\\n",
       "0                           172      0        0         0            0     0   \n",
       "1                           172      0        0         0            0     0   \n",
       "2                           122      0        1         0            0     0   \n",
       "3                           122      0        1         0            0     0   \n",
       "4                            79      0        0         0            0     0   \n",
       "\n",
       "   Footwear  Grocery  Hotels  Insulation  Rental Car  Retail        date  \n",
       "0         0        0       1           0           0       0  2018-09-20  \n",
       "1         0        1       0           0           0       0  2018-09-20  \n",
       "2         0        0       0           0           0       0  2018-08-01  \n",
       "3         0        0       0           0           0       0  2018-08-01  \n",
       "4         0        0       0           1           0       0  2018-06-19  "
      ]
     },
     "execution_count": 363,
     "metadata": {},
     "output_type": "execute_result"
    }
   ],
   "source": [
    "df.head()"
   ]
  },
  {
   "cell_type": "code",
   "execution_count": 364,
   "id": "3ac5ac69",
   "metadata": {},
   "outputs": [],
   "source": [
    "df['DATETIME']= pd.to_datetime(df['DATETIME'])"
   ]
  },
  {
   "cell_type": "code",
   "execution_count": 366,
   "id": "52ef2e44",
   "metadata": {},
   "outputs": [],
   "source": [
    "df['date'] = df['DATETIME'].dt.date"
   ]
  },
  {
   "cell_type": "code",
   "execution_count": null,
   "id": "21815f77",
   "metadata": {},
   "outputs": [],
   "source": []
  },
  {
   "cell_type": "code",
   "execution_count": 367,
   "id": "81ae7296",
   "metadata": {},
   "outputs": [],
   "source": [
    "df_nn = (\n",
    "                df\n",
    "#                 .assign(hour = df['DATETIME'].dt.hour)\n",
    "#                 .assign(day = df['DATETIME'].dt.day)\n",
    "#                 .assign(month = df['DATETIME'].dt.month)\n",
    "#                 .assign(day_of_week = df['DATETIME'].dt.dayofweek)\n",
    "#                 .assign(week_of_year = df['DATETIME'].dt.isocalendar().week)\n",
    "                .assign(date = df['DATETIME'].dt.date)\n",
    "              )"
   ]
  },
  {
   "cell_type": "code",
   "execution_count": 368,
   "id": "340dbd40",
   "metadata": {},
   "outputs": [],
   "source": [
    "# def onehot_encode_pd(df, cols):\n",
    "#     for col in cols:\n",
    "#         dummies = pd.get_dummies(df[col], prefix=col)\n",
    "#         df = pd.concat([df, dummies], axis=1).drop(columns=col)\n",
    "    \n",
    "#     return df\n",
    "\n",
    "# df_nn = onehot_encode_pd(df_nn, ['month','day_of_week'])\n"
   ]
  },
  {
   "cell_type": "code",
   "execution_count": 369,
   "id": "62aa440b",
   "metadata": {},
   "outputs": [
    {
     "data": {
      "text/html": [
       "<div>\n",
       "<style scoped>\n",
       "    .dataframe tbody tr th:only-of-type {\n",
       "        vertical-align: middle;\n",
       "    }\n",
       "\n",
       "    .dataframe tbody tr th {\n",
       "        vertical-align: top;\n",
       "    }\n",
       "\n",
       "    .dataframe thead th {\n",
       "        text-align: right;\n",
       "    }\n",
       "</style>\n",
       "<table border=\"1\" class=\"dataframe\">\n",
       "  <thead>\n",
       "    <tr style=\"text-align: right;\">\n",
       "      <th></th>\n",
       "      <th>DATETIME</th>\n",
       "      <th>CUSTOMER_ID</th>\n",
       "      <th>TRASCATION AMOUNT</th>\n",
       "      <th>DAYS_SINCE_FIRST_TRANSACTION</th>\n",
       "      <th>FRAUD</th>\n",
       "      <th>Airways</th>\n",
       "      <th>Clothing</th>\n",
       "      <th>Electronics</th>\n",
       "      <th>Food</th>\n",
       "      <th>Footwear</th>\n",
       "      <th>Grocery</th>\n",
       "      <th>Hotels</th>\n",
       "      <th>Insulation</th>\n",
       "      <th>Rental Car</th>\n",
       "      <th>Retail</th>\n",
       "      <th>date</th>\n",
       "    </tr>\n",
       "  </thead>\n",
       "  <tbody>\n",
       "    <tr>\n",
       "      <th>0</th>\n",
       "      <td>2018-09-20 11:49:41</td>\n",
       "      <td>0</td>\n",
       "      <td>88.11</td>\n",
       "      <td>172</td>\n",
       "      <td>0</td>\n",
       "      <td>0</td>\n",
       "      <td>0</td>\n",
       "      <td>0</td>\n",
       "      <td>0</td>\n",
       "      <td>0</td>\n",
       "      <td>0</td>\n",
       "      <td>1</td>\n",
       "      <td>0</td>\n",
       "      <td>0</td>\n",
       "      <td>0</td>\n",
       "      <td>2018-09-20</td>\n",
       "    </tr>\n",
       "    <tr>\n",
       "      <th>1</th>\n",
       "      <td>2018-09-20 20:21:57</td>\n",
       "      <td>0</td>\n",
       "      <td>78.25</td>\n",
       "      <td>172</td>\n",
       "      <td>0</td>\n",
       "      <td>0</td>\n",
       "      <td>0</td>\n",
       "      <td>0</td>\n",
       "      <td>0</td>\n",
       "      <td>0</td>\n",
       "      <td>1</td>\n",
       "      <td>0</td>\n",
       "      <td>0</td>\n",
       "      <td>0</td>\n",
       "      <td>0</td>\n",
       "      <td>2018-09-20</td>\n",
       "    </tr>\n",
       "    <tr>\n",
       "      <th>2</th>\n",
       "      <td>2018-08-01 12:11:36</td>\n",
       "      <td>0</td>\n",
       "      <td>62.28</td>\n",
       "      <td>122</td>\n",
       "      <td>0</td>\n",
       "      <td>1</td>\n",
       "      <td>0</td>\n",
       "      <td>0</td>\n",
       "      <td>0</td>\n",
       "      <td>0</td>\n",
       "      <td>0</td>\n",
       "      <td>0</td>\n",
       "      <td>0</td>\n",
       "      <td>0</td>\n",
       "      <td>0</td>\n",
       "      <td>2018-08-01</td>\n",
       "    </tr>\n",
       "    <tr>\n",
       "      <th>3</th>\n",
       "      <td>2018-08-01 13:58:40</td>\n",
       "      <td>0</td>\n",
       "      <td>80.16</td>\n",
       "      <td>122</td>\n",
       "      <td>0</td>\n",
       "      <td>1</td>\n",
       "      <td>0</td>\n",
       "      <td>0</td>\n",
       "      <td>0</td>\n",
       "      <td>0</td>\n",
       "      <td>0</td>\n",
       "      <td>0</td>\n",
       "      <td>0</td>\n",
       "      <td>0</td>\n",
       "      <td>0</td>\n",
       "      <td>2018-08-01</td>\n",
       "    </tr>\n",
       "    <tr>\n",
       "      <th>4</th>\n",
       "      <td>2018-06-19 04:18:11</td>\n",
       "      <td>0</td>\n",
       "      <td>90.07</td>\n",
       "      <td>79</td>\n",
       "      <td>0</td>\n",
       "      <td>0</td>\n",
       "      <td>0</td>\n",
       "      <td>0</td>\n",
       "      <td>0</td>\n",
       "      <td>0</td>\n",
       "      <td>0</td>\n",
       "      <td>0</td>\n",
       "      <td>1</td>\n",
       "      <td>0</td>\n",
       "      <td>0</td>\n",
       "      <td>2018-06-19</td>\n",
       "    </tr>\n",
       "  </tbody>\n",
       "</table>\n",
       "</div>"
      ],
      "text/plain": [
       "             DATETIME  CUSTOMER_ID  TRASCATION AMOUNT  \\\n",
       "0 2018-09-20 11:49:41            0              88.11   \n",
       "1 2018-09-20 20:21:57            0              78.25   \n",
       "2 2018-08-01 12:11:36            0              62.28   \n",
       "3 2018-08-01 13:58:40            0              80.16   \n",
       "4 2018-06-19 04:18:11            0              90.07   \n",
       "\n",
       "   DAYS_SINCE_FIRST_TRANSACTION  FRAUD  Airways  Clothing  Electronics  Food  \\\n",
       "0                           172      0        0         0            0     0   \n",
       "1                           172      0        0         0            0     0   \n",
       "2                           122      0        1         0            0     0   \n",
       "3                           122      0        1         0            0     0   \n",
       "4                            79      0        0         0            0     0   \n",
       "\n",
       "   Footwear  Grocery  Hotels  Insulation  Rental Car  Retail        date  \n",
       "0         0        0       1           0           0       0  2018-09-20  \n",
       "1         0        1       0           0           0       0  2018-09-20  \n",
       "2         0        0       0           0           0       0  2018-08-01  \n",
       "3         0        0       0           0           0       0  2018-08-01  \n",
       "4         0        0       0           1           0       0  2018-06-19  "
      ]
     },
     "execution_count": 369,
     "metadata": {},
     "output_type": "execute_result"
    }
   ],
   "source": [
    "df_nn.head()"
   ]
  },
  {
   "cell_type": "code",
   "execution_count": 370,
   "id": "e032998f",
   "metadata": {},
   "outputs": [],
   "source": [
    "df_nn = df_nn.set_index('date')"
   ]
  },
  {
   "cell_type": "code",
   "execution_count": 371,
   "id": "97c65d83",
   "metadata": {},
   "outputs": [],
   "source": [
    "df_nn = df_nn.drop(\"DATETIME\",axis=1)"
   ]
  },
  {
   "cell_type": "code",
   "execution_count": 372,
   "id": "d2ec0adf",
   "metadata": {},
   "outputs": [],
   "source": [
    "T = 45\n",
    "LR = 0.0001\n",
    "EPOCH = 20\n",
    "BATCH = 512"
   ]
  },
  {
   "cell_type": "code",
   "execution_count": 373,
   "id": "fd553e77",
   "metadata": {},
   "outputs": [
    {
     "data": {
      "text/html": [
       "<div>\n",
       "<style scoped>\n",
       "    .dataframe tbody tr th:only-of-type {\n",
       "        vertical-align: middle;\n",
       "    }\n",
       "\n",
       "    .dataframe tbody tr th {\n",
       "        vertical-align: top;\n",
       "    }\n",
       "\n",
       "    .dataframe thead th {\n",
       "        text-align: right;\n",
       "    }\n",
       "</style>\n",
       "<table border=\"1\" class=\"dataframe\">\n",
       "  <thead>\n",
       "    <tr style=\"text-align: right;\">\n",
       "      <th></th>\n",
       "      <th>CUSTOMER_ID</th>\n",
       "      <th>TRASCATION AMOUNT</th>\n",
       "      <th>DAYS_SINCE_FIRST_TRANSACTION</th>\n",
       "      <th>FRAUD</th>\n",
       "      <th>Airways</th>\n",
       "      <th>Clothing</th>\n",
       "      <th>Electronics</th>\n",
       "      <th>Food</th>\n",
       "      <th>Footwear</th>\n",
       "      <th>Grocery</th>\n",
       "      <th>Hotels</th>\n",
       "      <th>Insulation</th>\n",
       "      <th>Rental Car</th>\n",
       "      <th>Retail</th>\n",
       "    </tr>\n",
       "    <tr>\n",
       "      <th>date</th>\n",
       "      <th></th>\n",
       "      <th></th>\n",
       "      <th></th>\n",
       "      <th></th>\n",
       "      <th></th>\n",
       "      <th></th>\n",
       "      <th></th>\n",
       "      <th></th>\n",
       "      <th></th>\n",
       "      <th></th>\n",
       "      <th></th>\n",
       "      <th></th>\n",
       "      <th></th>\n",
       "      <th></th>\n",
       "    </tr>\n",
       "  </thead>\n",
       "  <tbody>\n",
       "    <tr>\n",
       "      <th>2018-09-20</th>\n",
       "      <td>0</td>\n",
       "      <td>88.11</td>\n",
       "      <td>172</td>\n",
       "      <td>0</td>\n",
       "      <td>0</td>\n",
       "      <td>0</td>\n",
       "      <td>0</td>\n",
       "      <td>0</td>\n",
       "      <td>0</td>\n",
       "      <td>0</td>\n",
       "      <td>1</td>\n",
       "      <td>0</td>\n",
       "      <td>0</td>\n",
       "      <td>0</td>\n",
       "    </tr>\n",
       "    <tr>\n",
       "      <th>2018-09-20</th>\n",
       "      <td>0</td>\n",
       "      <td>78.25</td>\n",
       "      <td>172</td>\n",
       "      <td>0</td>\n",
       "      <td>0</td>\n",
       "      <td>0</td>\n",
       "      <td>0</td>\n",
       "      <td>0</td>\n",
       "      <td>0</td>\n",
       "      <td>1</td>\n",
       "      <td>0</td>\n",
       "      <td>0</td>\n",
       "      <td>0</td>\n",
       "      <td>0</td>\n",
       "    </tr>\n",
       "    <tr>\n",
       "      <th>2018-08-01</th>\n",
       "      <td>0</td>\n",
       "      <td>62.28</td>\n",
       "      <td>122</td>\n",
       "      <td>0</td>\n",
       "      <td>1</td>\n",
       "      <td>0</td>\n",
       "      <td>0</td>\n",
       "      <td>0</td>\n",
       "      <td>0</td>\n",
       "      <td>0</td>\n",
       "      <td>0</td>\n",
       "      <td>0</td>\n",
       "      <td>0</td>\n",
       "      <td>0</td>\n",
       "    </tr>\n",
       "    <tr>\n",
       "      <th>2018-08-01</th>\n",
       "      <td>0</td>\n",
       "      <td>80.16</td>\n",
       "      <td>122</td>\n",
       "      <td>0</td>\n",
       "      <td>1</td>\n",
       "      <td>0</td>\n",
       "      <td>0</td>\n",
       "      <td>0</td>\n",
       "      <td>0</td>\n",
       "      <td>0</td>\n",
       "      <td>0</td>\n",
       "      <td>0</td>\n",
       "      <td>0</td>\n",
       "      <td>0</td>\n",
       "    </tr>\n",
       "    <tr>\n",
       "      <th>2018-06-19</th>\n",
       "      <td>0</td>\n",
       "      <td>90.07</td>\n",
       "      <td>79</td>\n",
       "      <td>0</td>\n",
       "      <td>0</td>\n",
       "      <td>0</td>\n",
       "      <td>0</td>\n",
       "      <td>0</td>\n",
       "      <td>0</td>\n",
       "      <td>0</td>\n",
       "      <td>0</td>\n",
       "      <td>1</td>\n",
       "      <td>0</td>\n",
       "      <td>0</td>\n",
       "    </tr>\n",
       "  </tbody>\n",
       "</table>\n",
       "</div>"
      ],
      "text/plain": [
       "            CUSTOMER_ID  TRASCATION AMOUNT  DAYS_SINCE_FIRST_TRANSACTION  \\\n",
       "date                                                                       \n",
       "2018-09-20            0              88.11                           172   \n",
       "2018-09-20            0              78.25                           172   \n",
       "2018-08-01            0              62.28                           122   \n",
       "2018-08-01            0              80.16                           122   \n",
       "2018-06-19            0              90.07                            79   \n",
       "\n",
       "            FRAUD  Airways  Clothing  Electronics  Food  Footwear  Grocery  \\\n",
       "date                                                                         \n",
       "2018-09-20      0        0         0            0     0         0        0   \n",
       "2018-09-20      0        0         0            0     0         0        1   \n",
       "2018-08-01      0        1         0            0     0         0        0   \n",
       "2018-08-01      0        1         0            0     0         0        0   \n",
       "2018-06-19      0        0         0            0     0         0        0   \n",
       "\n",
       "            Hotels  Insulation  Rental Car  Retail  \n",
       "date                                                \n",
       "2018-09-20       1           0           0       0  \n",
       "2018-09-20       0           0           0       0  \n",
       "2018-08-01       0           0           0       0  \n",
       "2018-08-01       0           0           0       0  \n",
       "2018-06-19       0           1           0       0  "
      ]
     },
     "execution_count": 373,
     "metadata": {},
     "output_type": "execute_result"
    }
   ],
   "source": [
    "df_nn.head()"
   ]
  },
  {
   "cell_type": "code",
   "execution_count": 374,
   "id": "7c2eae09",
   "metadata": {},
   "outputs": [
    {
     "data": {
      "text/plain": [
       "((38616, 13), (38616,), (20732, 13), (20688,), (9698, 13), (9654,))"
      ]
     },
     "execution_count": 374,
     "metadata": {},
     "output_type": "execute_result"
    }
   ],
   "source": [
    "X = df_nn.drop('FRAUD', axis=1).sort_index()\n",
    "y = df_nn.FRAUD.sort_index()\n",
    "\n",
    "train_features_v, test_features, train_labels_v, test_labels = train_test_split(X, y, \n",
    "                                                    test_size=0.3, random_state=42, stratify=y)\n",
    "train_features, val_features, train_labels, val_labels = train_test_split(train_features_v, train_labels_v, \n",
    "                                                            test_size=0.2, random_state=42, stratify=train_labels_v)\n",
    "\n",
    "\n",
    "\n",
    "prepend_features = train_features.iloc[-(T-1):]\n",
    "test_features = pd.concat([prepend_features, test_features], axis=0)\n",
    "\n",
    "prepend_features = val_features.iloc[-(T-1):]\n",
    "val_features = pd.concat([prepend_features, val_features], axis=0)\n",
    "\n",
    "train_features.shape, train_labels.shape, test_features.shape, test_labels.shape, val_features.shape, val_labels.shape"
   ]
  },
  {
   "cell_type": "code",
   "execution_count": 375,
   "id": "b57603fe",
   "metadata": {},
   "outputs": [
    {
     "data": {
      "text/plain": [
       "((38616, 13), (20732, 13), (9698, 13))"
      ]
     },
     "execution_count": 375,
     "metadata": {},
     "output_type": "execute_result"
    }
   ],
   "source": [
    "# Rescale the features\n",
    "from sklearn.preprocessing import StandardScaler  # MinMaxScaler\n",
    "\n",
    "scaler = StandardScaler()  # MinMaxScaler(feature_range=(-1,1))\n",
    "scaled_train_features = pd.DataFrame(scaler.fit_transform(train_features.values),\n",
    "                                     index=train_features.index,\n",
    "                                     columns=train_features.columns)\n",
    "# The Scaler is fit on the training set and then applied to the test set\n",
    "scaled_test_features = pd.DataFrame(scaler.transform(test_features.values),\n",
    "                                    index=test_features.index,\n",
    "                                    columns=test_features.columns)\n",
    "\n",
    "# The Scaler is fit on the training set and then applied to the test set\n",
    "scaled_val_features = pd.DataFrame(scaler.transform(val_features.values),\n",
    "                                    index=val_features.index,\n",
    "                                    columns=val_features.columns)\n",
    "\n",
    "scaled_train_features.shape, scaled_test_features.shape , scaled_val_features.shape"
   ]
  },
  {
   "cell_type": "code",
   "execution_count": null,
   "id": "7337cadc",
   "metadata": {},
   "outputs": [],
   "source": []
  },
  {
   "cell_type": "code",
   "execution_count": 376,
   "id": "3fa55e0c",
   "metadata": {},
   "outputs": [
    {
     "name": "stdout",
     "output_type": "stream",
     "text": [
      "Train data dimensions: (38572, 45, 13), (38572, 1)\n",
      "Test data dimensions: (20688, 45, 13), (20688, 1)\n",
      "Validation data dimensions: (9654, 45, 13), (9654, 1)\n"
     ]
    }
   ],
   "source": [
    "# Create sequences of T timesteps\n",
    "X_train, y_train = [], []\n",
    "for i in range(train_labels.shape[0] - (T-1)):\n",
    "    X_train.append(scaled_train_features.iloc[i:i+T].values)\n",
    "    y_train.append(train_labels.iloc[i + (T-1)])\n",
    "X_train, y_train = np.array(X_train), np.array(y_train).reshape(-1,1)\n",
    "print(f'Train data dimensions: {X_train.shape}, {y_train.shape}')\n",
    "\n",
    "X_test, y_test = [], []\n",
    "for i in range(test_labels.shape[0]):\n",
    "    X_test.append(scaled_test_features.iloc[i:i+T].values)\n",
    "    y_test.append(test_labels.iloc[i])\n",
    "X_test, y_test = np.array(X_test), np.array(y_test).reshape(-1,1)\n",
    "\n",
    "print(f'Test data dimensions: {X_test.shape}, {y_test.shape}')\n",
    "\n",
    "\n",
    "X_val, y_val = [], []\n",
    "for i in range(val_labels.shape[0]):\n",
    "    X_val.append(scaled_val_features.iloc[i:i+T].values)\n",
    "    y_val.append(val_labels.iloc[i])\n",
    "X_val, y_val = np.array(X_val), np.array(y_val).reshape(-1,1)  \n",
    "\n",
    "print(f'Validation data dimensions: {X_val.shape}, {y_val.shape}')"
   ]
  },
  {
   "cell_type": "code",
   "execution_count": 390,
   "id": "40dce780",
   "metadata": {
    "scrolled": true
   },
   "outputs": [
    {
     "name": "stdout",
     "output_type": "stream",
     "text": [
      "Model: \"sequential_29\"\n",
      "_________________________________________________________________\n",
      "Layer (type)                 Output Shape              Param #   \n",
      "=================================================================\n",
      "lstm_38 (LSTM)               (None, 64)                19968     \n",
      "_________________________________________________________________\n",
      "dense_42 (Dense)             (None, 64)                4160      \n",
      "_________________________________________________________________\n",
      "dense_43 (Dense)             (None, 1)                 65        \n",
      "=================================================================\n",
      "Total params: 24,193\n",
      "Trainable params: 24,193\n",
      "Non-trainable params: 0\n",
      "_________________________________________________________________\n"
     ]
    }
   ],
   "source": [
    "T = 45\n",
    "model4 = Sequential()\n",
    "model4.add(LSTM(units =64, input_shape = (T, X_train.shape[2])))\n",
    "model4.add(Dense(units=64, activation='tanh')) \n",
    "model4.add(Dense(units=1, activation='sigmoid')) \n",
    "\n",
    "model4.summary()"
   ]
  },
  {
   "cell_type": "code",
   "execution_count": 391,
   "id": "0f5842a3",
   "metadata": {},
   "outputs": [],
   "source": [
    "model4.compile(loss='binary_crossentropy',\n",
    "              metrics=['accuracy'],\n",
    "              optimizer=Adam(learning_rate=LR))"
   ]
  },
  {
   "cell_type": "code",
   "execution_count": 392,
   "id": "09f876f2",
   "metadata": {},
   "outputs": [],
   "source": [
    "# Define a learning rate decay method:\n",
    "lr_decay = ReduceLROnPlateau(monitor='loss', \n",
    "                             patience=1, verbose=0, \n",
    "                             factor=0.5, min_lr=1e-8)\n",
    "# Define Early Stopping:\n",
    "early_stop = EarlyStopping(monitor='val_accuracy', min_delta=0, \n",
    "                           patience=30, verbose=1, mode='auto',\n",
    "                           baseline=0, restore_best_weights=True)"
   ]
  },
  {
   "cell_type": "code",
   "execution_count": 399,
   "id": "f97e6e6f",
   "metadata": {
    "scrolled": true
   },
   "outputs": [
    {
     "name": "stdout",
     "output_type": "stream",
     "text": [
      "Epoch 1/20\n",
      "76/76 [==============================] - 13s 167ms/step - loss: 0.0509 - accuracy: 0.9905 - val_loss: 0.0509 - val_accuracy: 0.9905\n",
      "Epoch 2/20\n",
      "76/76 [==============================] - 17s 221ms/step - loss: 0.0505 - accuracy: 0.9905 - val_loss: 0.0505 - val_accuracy: 0.9905\n",
      "Epoch 3/20\n",
      "76/76 [==============================] - 16s 207ms/step - loss: 0.0501 - accuracy: 0.9905 - val_loss: 0.0501 - val_accuracy: 0.9905: 0.0501 - accuracy:  - ETA: 0s - loss: 0.0499 - accuracy: \n",
      "Epoch 4/20\n",
      "76/76 [==============================] - 18s 239ms/step - loss: 0.0497 - accuracy: 0.9905 - val_loss: 0.0497 - val_accuracy: 0.9905\n",
      "Epoch 5/20\n",
      "76/76 [==============================] - 19s 248ms/step - loss: 0.0492 - accuracy: 0.9905 - val_loss: 0.0493 - val_accuracy: 0.9905\n",
      "Epoch 6/20\n",
      "76/76 [==============================] - 17s 228ms/step - loss: 0.0488 - accuracy: 0.9905 - val_loss: 0.0488 - val_accuracy: 0.9905\n",
      "Epoch 7/20\n",
      "76/76 [==============================] - 18s 241ms/step - loss: 0.0484 - accuracy: 0.9905 - val_loss: 0.0484 - val_accuracy: 0.9906\n",
      "Epoch 8/20\n",
      "76/76 [==============================] - 18s 238ms/step - loss: 0.0479 - accuracy: 0.9906 - val_loss: 0.0480 - val_accuracy: 0.9907\n",
      "Epoch 9/20\n",
      "76/76 [==============================] - 18s 231ms/step - loss: 0.0474 - accuracy: 0.9906 - val_loss: 0.0476 - val_accuracy: 0.9908\n",
      "Epoch 10/20\n",
      "76/76 [==============================] - 18s 234ms/step - loss: 0.0470 - accuracy: 0.9909 - val_loss: 0.0472 - val_accuracy: 0.9910\n",
      "Epoch 11/20\n",
      "76/76 [==============================] - 19s 253ms/step - loss: 0.0466 - accuracy: 0.9910 - val_loss: 0.0470 - val_accuracy: 0.9910\n",
      "Epoch 12/20\n",
      "76/76 [==============================] - 17s 225ms/step - loss: 0.0463 - accuracy: 0.9911 - val_loss: 0.0466 - val_accuracy: 0.9911\n",
      "Epoch 13/20\n",
      "76/76 [==============================] - 18s 236ms/step - loss: 0.0460 - accuracy: 0.9912 - val_loss: 0.0464 - val_accuracy: 0.9913\n",
      "Epoch 14/20\n",
      "76/76 [==============================] - 18s 238ms/step - loss: 0.0457 - accuracy: 0.9913 - val_loss: 0.0462 - val_accuracy: 0.9913\n",
      "Epoch 15/20\n",
      "76/76 [==============================] - 17s 231ms/step - loss: 0.0455 - accuracy: 0.9914 - val_loss: 0.0460 - val_accuracy: 0.9913\n",
      "Epoch 16/20\n",
      "76/76 [==============================] - 19s 251ms/step - loss: 0.0453 - accuracy: 0.9915 - val_loss: 0.0458 - val_accuracy: 0.9913\n",
      "Epoch 17/20\n",
      "76/76 [==============================] - 20s 266ms/step - loss: 0.0451 - accuracy: 0.9916 - val_loss: 0.0457 - val_accuracy: 0.9913\n",
      "Epoch 18/20\n",
      "76/76 [==============================] - 20s 260ms/step - loss: 0.0449 - accuracy: 0.9917 - val_loss: 0.0456 - val_accuracy: 0.9913\n",
      "Epoch 19/20\n",
      "76/76 [==============================] - 20s 262ms/step - loss: 0.0448 - accuracy: 0.9917 - val_loss: 0.0455 - val_accuracy: 0.9913\n",
      "Epoch 20/20\n",
      "76/76 [==============================] - 17s 221ms/step - loss: 0.0447 - accuracy: 0.9917 - val_loss: 0.0454 - val_accuracy: 0.9913\n",
      "-----------------------------------------------------------------\n",
      "Training was completed in 356.51 secs\n",
      "-----------------------------------------------------------------\n"
     ]
    }
   ],
   "source": [
    "# Train the model. \n",
    "# The dataset is small for NN - let's use test_data for validation\n",
    "start = time()\n",
    "history4 = model4.fit(X_train, y_train,\n",
    "                    epochs=EPOCH,\n",
    "                    batch_size=BATCH,\n",
    "                    validation_split=0.0,\n",
    "                    validation_data=(X_val, y_val),\n",
    "                    shuffle=True,verbose=1,\n",
    "                    callbacks=[lr_decay, early_stop])\n",
    "\n",
    "print('-'*65)\n",
    "print(f'Training was completed in {time() - start:.2f} secs')\n",
    "print('-'*65)"
   ]
  },
  {
   "cell_type": "code",
   "execution_count": 400,
   "id": "65b2959e",
   "metadata": {},
   "outputs": [
    {
     "name": "stdout",
     "output_type": "stream",
     "text": [
      "-----------------------------------------------------------------\n",
      "train accuracy = 99.173%\n",
      "test accuracy = 99.1299%\n"
     ]
    }
   ],
   "source": [
    "# Evaluate the model:\n",
    "train_loss, train_acc = model4.evaluate(X_train, y_train,\n",
    "                                       batch_size=512, verbose=0)\n",
    "test_loss, test_acc = model4.evaluate(X_test, y_test,\n",
    "                                     batch_size=512, verbose=0)\n",
    "print('-'*65)\n",
    "print(f'train accuracy = {round(train_acc * 100, 4)}%')\n",
    "print(f'test accuracy = {round(test_acc * 100, 4)}%')\n"
   ]
  },
  {
   "cell_type": "code",
   "execution_count": 401,
   "id": "5ea3f780",
   "metadata": {},
   "outputs": [
    {
     "data": {
      "image/png": "[encoded data removed]",
      "text/plain": [
       "<Figure size 1296x432 with 2 Axes>"
      ]
     },
     "metadata": {
      "needs_background": "light"
     },
     "output_type": "display_data"
    }
   ],
   "source": [
    "# Plot the loss and accuracy curves over epochs:\n",
    "fig, axs = plt.subplots(nrows=1, ncols=2, figsize=(18,6))\n",
    "axs[0].plot(history4.history['loss'], color='b', label='Training loss')\n",
    "axs[0].plot(history4.history['val_loss'], color='r', label='Validation loss')\n",
    "axs[0].set_title(\"Loss curves\")\n",
    "axs[0].legend(loc='best', shadow=True)\n",
    "axs[1].plot(history4.history['accuracy'], color='b', label='Training accuracy')\n",
    "axs[1].plot(history4.history['val_accuracy'], color='r', label='Validation accuracy')\n",
    "axs[1].set_title(\"Accuracy curves\")\n",
    "axs[1].legend(loc='best', shadow=True)\n",
    "plt.show()"
   ]
  },
  {
   "cell_type": "code",
   "execution_count": 402,
   "id": "583a4446",
   "metadata": {},
   "outputs": [
    {
     "name": "stdout",
     "output_type": "stream",
     "text": [
      "41/41 [==============================] - 2s 54ms/step\n"
     ]
    }
   ],
   "source": [
    "y_test_pred = model4.predict(X_test, batch_size=512, verbose=1)\n",
    "\n",
    "y_test_pred = y_test_pred.round()"
   ]
  },
  {
   "cell_type": "code",
   "execution_count": 403,
   "id": "13ae05b1",
   "metadata": {},
   "outputs": [
    {
     "data": {
      "text/plain": [
       "(20688, 1)"
      ]
     },
     "execution_count": 403,
     "metadata": {},
     "output_type": "execute_result"
    }
   ],
   "source": [
    "np.shape(y_test_pred)"
   ]
  },
  {
   "cell_type": "code",
   "execution_count": 404,
   "id": "c2cbc507",
   "metadata": {},
   "outputs": [
    {
     "name": "stdout",
     "output_type": "stream",
     "text": [
      "Test Result:\n",
      "================================================\n",
      "Accuracy Score: 99.13%\n",
      "_______________________________________________\n",
      "Classification Report:\n",
      "                      0           1  accuracy     macro avg  weighted avg\n",
      "precision      0.991292    1.000000  0.991299      0.995646      0.991375\n",
      "recall         1.000000    0.086294  0.991299      0.543147      0.991299\n",
      "f1-score       0.995627    0.158879  0.991299      0.577253      0.987659\n",
      "support    20491.000000  197.000000  0.991299  20688.000000  20688.000000\n",
      "_______________________________________________\n"
     ]
    },
    {
     "data": {
      "image/png": "[encoded data removed]",
      "text/plain": [
       "<Figure size 360x360 with 2 Axes>"
      ]
     },
     "metadata": {
      "needs_background": "light"
     },
     "output_type": "display_data"
    },
    {
     "name": "stdout",
     "output_type": "stream",
     "text": [
      "Confusion Matrix: \n",
      " None\n",
      "\n"
     ]
    }
   ],
   "source": [
    "print_score(y_test, y_test_pred, train=False)"
   ]
  },
  {
   "cell_type": "code",
   "execution_count": 377,
   "id": "14fe3744",
   "metadata": {},
   "outputs": [
    {
     "name": "stdout",
     "output_type": "stream",
     "text": [
      "Tensorflow/Keras: 2.6.0\n"
     ]
    }
   ],
   "source": [
    "\n",
    "from tensorflow import keras\n",
    "print('Tensorflow/Keras: %s' % keras.__version__)\n",
    "from keras.models import Sequential \n",
    "from keras import Input \n",
    "from keras.layers import Dense, SimpleRNN "
   ]
  },
  {
   "cell_type": "code",
   "execution_count": 378,
   "id": "e25db97b",
   "metadata": {},
   "outputs": [],
   "source": [
    "T = 45\n",
    "\n",
    "model6 = Sequential()\n",
    "# model6.add(Input(shape=(time_step,X_train.shape[2]), name='Input-Layer'))\n",
    "model6.add(SimpleRNN(units=64, activation='tanh', input_shape = (T, X_train.shape[2]))) \n",
    "model6.add(Dense(units=64, activation='tanh')) \n",
    "model6.add(Dense(units=1, activation='sigmoid')) \n"
   ]
  },
  {
   "cell_type": "code",
   "execution_count": 379,
   "id": "629a2cf2",
   "metadata": {
    "scrolled": true
   },
   "outputs": [
    {
     "name": "stdout",
     "output_type": "stream",
     "text": [
      "Model: \"sequential_25\"\n",
      "_________________________________________________________________\n",
      "Layer (type)                 Output Shape              Param #   \n",
      "=================================================================\n",
      "simple_rnn_3 (SimpleRNN)     (None, 64)                4992      \n",
      "_________________________________________________________________\n",
      "dense_35 (Dense)             (None, 64)                4160      \n",
      "_________________________________________________________________\n",
      "dense_36 (Dense)             (None, 1)                 65        \n",
      "=================================================================\n",
      "Total params: 9,217\n",
      "Trainable params: 9,217\n",
      "Non-trainable params: 0\n",
      "_________________________________________________________________\n"
     ]
    }
   ],
   "source": [
    "model6.compile(loss='binary_crossentropy',\n",
    "              metrics=['accuracy'],\n",
    "              optimizer=Adam(learning_rate=LR))\n",
    "model6.summary()"
   ]
  },
  {
   "cell_type": "code",
   "execution_count": 380,
   "id": "1ff4d6a8",
   "metadata": {},
   "outputs": [],
   "source": [
    "# Define a learning rate decay method:\n",
    "lr_decay = ReduceLROnPlateau(monitor='loss', \n",
    "                             patience=1, verbose=0, \n",
    "                             factor=0.5, min_lr=1e-8)\n",
    "# Define Early Stopping:\n",
    "early_stop = EarlyStopping(monitor='val_accuracy', min_delta=0, \n",
    "                           patience=30, verbose=1, mode='auto',\n",
    "                           baseline=0, restore_best_weights=True)"
   ]
  },
  {
   "cell_type": "code",
   "execution_count": 381,
   "id": "aaeecccb",
   "metadata": {
    "scrolled": false
   },
   "outputs": [
    {
     "name": "stdout",
     "output_type": "stream",
     "text": [
      "Epoch 1/20\n",
      "76/76 [==============================] - 9s 94ms/step - loss: 0.6805 - accuracy: 0.5950 - val_loss: 0.6112 - val_accuracy: 0.7050\n",
      "Epoch 2/20\n",
      "76/76 [==============================] - 10s 125ms/step - loss: 0.4462 - accuracy: 0.8667 - val_loss: 0.0839 - val_accuracy: 0.9905\n",
      "Epoch 3/20\n",
      "76/76 [==============================] - 8s 106ms/step - loss: 0.0547 - accuracy: 0.9904 - val_loss: 0.0511 - val_accuracy: 0.9905\n",
      "Epoch 4/20\n",
      "76/76 [==============================] - 9s 114ms/step - loss: 0.0503 - accuracy: 0.9905 - val_loss: 0.0502 - val_accuracy: 0.9905\n",
      "Epoch 5/20\n",
      "76/76 [==============================] - 10s 127ms/step - loss: 0.0495 - accuracy: 0.9905 - val_loss: 0.0496 - val_accuracy: 0.9905\n",
      "Epoch 6/20\n",
      "76/76 [==============================] - 7s 95ms/step - loss: 0.0489 - accuracy: 0.9906 - val_loss: 0.0490 - val_accuracy: 0.9906\n",
      "Epoch 7/20\n",
      "76/76 [==============================] - 11s 144ms/step - loss: 0.0483 - accuracy: 0.9907 - val_loss: 0.0485 - val_accuracy: 0.9906\n",
      "Epoch 8/20\n",
      "76/76 [==============================] - 4s 49ms/step - loss: 0.0477 - accuracy: 0.9908 - val_loss: 0.0481 - val_accuracy: 0.9910\n",
      "Epoch 9/20\n",
      "76/76 [==============================] - 3s 39ms/step - loss: 0.0473 - accuracy: 0.9909 - val_loss: 0.0477 - val_accuracy: 0.9912\n",
      "Epoch 10/20\n",
      "76/76 [==============================] - 3s 39ms/step - loss: 0.0468 - accuracy: 0.9910 - val_loss: 0.0473 - val_accuracy: 0.9912\n",
      "Epoch 11/20\n",
      "76/76 [==============================] - 3s 39ms/step - loss: 0.0464 - accuracy: 0.9910 - val_loss: 0.0470 - val_accuracy: 0.9913\n",
      "Epoch 12/20\n",
      "76/76 [==============================] - 3s 39ms/step - loss: 0.0461 - accuracy: 0.9912 - val_loss: 0.0468 - val_accuracy: 0.9913\n",
      "Epoch 13/20\n",
      "76/76 [==============================] - 3s 39ms/step - loss: 0.0458 - accuracy: 0.9913 - val_loss: 0.0466 - val_accuracy: 0.9913\n",
      "Epoch 14/20\n",
      "76/76 [==============================] - 3s 40ms/step - loss: 0.0456 - accuracy: 0.9915 - val_loss: 0.0464 - val_accuracy: 0.9913\n",
      "Epoch 15/20\n",
      "76/76 [==============================] - 3s 42ms/step - loss: 0.0453 - accuracy: 0.9916 - val_loss: 0.0463 - val_accuracy: 0.9913\n",
      "Epoch 16/20\n",
      "76/76 [==============================] - 4s 47ms/step - loss: 0.0451 - accuracy: 0.9917 - val_loss: 0.0462 - val_accuracy: 0.9913\n",
      "Epoch 17/20\n",
      "76/76 [==============================] - 4s 49ms/step - loss: 0.0449 - accuracy: 0.9918 - val_loss: 0.0460 - val_accuracy: 0.9913\n",
      "Epoch 18/20\n",
      "76/76 [==============================] - 4s 50ms/step - loss: 0.0448 - accuracy: 0.9918 - val_loss: 0.0459 - val_accuracy: 0.9913\n",
      "Epoch 19/20\n",
      "76/76 [==============================] - 4s 49ms/step - loss: 0.0446 - accuracy: 0.9918 - val_loss: 0.0459 - val_accuracy: 0.9914\n",
      "Epoch 20/20\n",
      "76/76 [==============================] - 4s 49ms/step - loss: 0.0445 - accuracy: 0.9918 - val_loss: 0.0458 - val_accuracy: 0.9914\n",
      "-----------------------------------------------------------------\n",
      "Training was completed in 106.91 secs\n",
      "-----------------------------------------------------------------\n"
     ]
    }
   ],
   "source": [
    "# Train the model. \n",
    "\n",
    "start = time()\n",
    "history6 = model6.fit(X_train, y_train,\n",
    "                    epochs=20,\n",
    "                    batch_size=512,\n",
    "                    validation_split=0.0,\n",
    "                    validation_data=(X_val, y_val),\n",
    "                    shuffle=True,verbose=1,\n",
    "                    callbacks=[lr_decay, early_stop])\n",
    "\n",
    "print('-'*65)\n",
    "print(f'Training was completed in {time() - start:.2f} secs')\n",
    "print('-'*65)"
   ]
  },
  {
   "cell_type": "code",
   "execution_count": 382,
   "id": "82c9b935",
   "metadata": {
    "scrolled": true
   },
   "outputs": [
    {
     "name": "stdout",
     "output_type": "stream",
     "text": [
      "-----------------------------------------------------------------\n",
      "train accuracy = 99.1782%\n",
      "test accuracy = 99.1058%\n"
     ]
    }
   ],
   "source": [
    "# Evaluate the model:\n",
    "train_loss, train_acc = model6.evaluate(X_train, y_train,\n",
    "                                       batch_size=512, verbose=0)\n",
    "test_loss, test_acc = model6.evaluate(X_test, y_test,\n",
    "                                     batch_size=512, verbose=0)\n",
    "print('-'*65)\n",
    "print(f'train accuracy = {round(train_acc * 100, 4)}%')\n",
    "print(f'test accuracy = {round(test_acc * 100, 4)}%')\n"
   ]
  },
  {
   "cell_type": "code",
   "execution_count": 383,
   "id": "e8d44048",
   "metadata": {},
   "outputs": [
    {
     "data": {
      "image/png": "[encoded data removed]",
      "text/plain": [
       "<Figure size 1296x432 with 2 Axes>"
      ]
     },
     "metadata": {
      "needs_background": "light"
     },
     "output_type": "display_data"
    }
   ],
   "source": [
    "# Plot the loss and accuracy curves over epochs:\n",
    "fig, axs = plt.subplots(nrows=1, ncols=2, figsize=(18,6))\n",
    "axs[0].plot(history4.history['loss'], color='b', label='Training loss')\n",
    "axs[0].plot(history4.history['val_loss'], color='r', label='Validation loss')\n",
    "axs[0].set_title(\"Loss curves\")\n",
    "axs[0].legend(loc='best', shadow=True)\n",
    "axs[1].plot(history4.history['accuracy'], color='b', label='Training accuracy')\n",
    "axs[1].plot(history4.history['val_accuracy'], color='r', label='Validation accuracy')\n",
    "axs[1].set_title(\"Accuracy curves\")\n",
    "axs[1].legend(loc='best', shadow=True)\n",
    "plt.show()"
   ]
  },
  {
   "cell_type": "code",
   "execution_count": 384,
   "id": "727227e7",
   "metadata": {},
   "outputs": [
    {
     "name": "stdout",
     "output_type": "stream",
     "text": [
      "41/41 [==============================] - 1s 16ms/step\n"
     ]
    }
   ],
   "source": [
    "y_test_pred = model6.predict(X_test, batch_size=512, verbose=1)\n",
    "\n",
    "y_test_pred = y_test_pred.round()\n",
    "\n"
   ]
  },
  {
   "cell_type": "code",
   "execution_count": 385,
   "id": "739d18af",
   "metadata": {},
   "outputs": [
    {
     "data": {
      "text/plain": [
       "(20688, 1)"
      ]
     },
     "execution_count": 385,
     "metadata": {},
     "output_type": "execute_result"
    }
   ],
   "source": [
    "np.shape(y_test_pred)"
   ]
  },
  {
   "cell_type": "code",
   "execution_count": 386,
   "id": "5926fdf5",
   "metadata": {},
   "outputs": [
    {
     "name": "stdout",
     "output_type": "stream",
     "text": [
      "Test Result:\n",
      "================================================\n",
      "Accuracy Score: 99.11%\n",
      "_______________________________________________\n",
      "Classification Report:\n",
      "                      0           1  accuracy     macro avg  weighted avg\n",
      "precision      0.991290    0.772727  0.991058      0.882009      0.989209\n",
      "recall         0.999756    0.086294  0.991058      0.543025      0.991058\n",
      "f1-score       0.995505    0.155251  0.991058      0.575378      0.987504\n",
      "support    20491.000000  197.000000  0.991058  20688.000000  20688.000000\n",
      "_______________________________________________\n"
     ]
    },
    {
     "data": {
      "image/png": "[encoded data removed]",
      "text/plain": [
       "<Figure size 360x360 with 2 Axes>"
      ]
     },
     "metadata": {
      "needs_background": "light"
     },
     "output_type": "display_data"
    },
    {
     "name": "stdout",
     "output_type": "stream",
     "text": [
      "Confusion Matrix: \n",
      " None\n",
      "\n"
     ]
    }
   ],
   "source": [
    "print_score(y_test, y_test_pred.round(), train=False)"
   ]
  }
 ],
 "metadata": {
  "kernelspec": {
   "display_name": "Python 3 (ipykernel)",
   "language": "python",
   "name": "python3"
  },
  "language_info": {
   "codemirror_mode": {
    "name": "ipython",
    "version": 3
   },
   "file_extension": ".py",
   "mimetype": "text/x-python",
   "name": "python",
   "nbconvert_exporter": "python",
   "pygments_lexer": "ipython3",
   "version": "3.9.12"
  }
 },
 "nbformat": 4,
 "nbformat_minor": 5
}
